{
 "cells": [
  {
   "cell_type": "markdown",
   "id": "b3e31a5d",
   "metadata": {},
   "source": [
    "### Breast analysis of publicly available data from here:\n",
    "https://www.ncbi.nlm.nih.gov/geo/query/acc.cgi?acc=GSE191127 <br>\n",
    "https://www.nature.com/articles/s41523-022-00428-8"
   ]
  },
  {
   "cell_type": "code",
   "execution_count": 1,
   "id": "198a1fe2",
   "metadata": {
    "vscode": {
     "languageId": "r"
    }
   },
   "outputs": [],
   "source": [
    "#where the raw data is stored   \n",
    "fold0 = \"../../breast/tables/\""
   ]
  },
  {
   "cell_type": "code",
   "execution_count": null,
   "id": "eb1aaf3f",
   "metadata": {
    "vscode": {
     "languageId": "r"
    }
   },
   "outputs": [
    {
     "name": "stderr",
     "output_type": "stream",
     "text": [
      "Caricamento del pacchetto richiesto: grid\n",
      "\n",
      "========================================\n",
      "ComplexHeatmap version 2.20.0\n",
      "Bioconductor page: http://bioconductor.org/packages/ComplexHeatmap/\n",
      "Github page: https://github.com/jokergoo/ComplexHeatmap\n",
      "Documentation: http://jokergoo.github.io/ComplexHeatmap-reference\n",
      "\n",
      "If you use it in published research, please cite either one:\n",
      "- Gu, Z. Complex Heatmap Visualization. iMeta 2022.\n",
      "- Gu, Z. Complex heatmaps reveal patterns and correlations in multidimensional \n",
      "    genomic data. Bioinformatics 2016.\n",
      "\n",
      "\n",
      "The new InteractiveComplexHeatmap package can directly export static \n",
      "complex heatmaps into an interactive Shiny app with zero effort. Have a try!\n",
      "\n",
      "This message can be suppressed by:\n",
      "  suppressPackageStartupMessages(library(ComplexHeatmap))\n",
      "========================================\n",
      "\n",
      "\n",
      "Warning message:\n",
      "\"il pacchetto 'calibrate' è stato creato con R versione 4.4.3\"\n",
      "Caricamento del pacchetto richiesto: MASS\n",
      "\n",
      "\n",
      "Caricamento pacchetto: 'genefilter'\n",
      "\n",
      "\n",
      "Il seguente oggetto è mascherato da 'package:MASS':\n",
      "\n",
      "    area\n",
      "\n",
      "\n",
      "Il seguente oggetto è mascherato da 'package:ComplexHeatmap':\n",
      "\n",
      "    dist2\n",
      "\n",
      "\n",
      "\n",
      "Caricamento pacchetto: 'BiocGenerics'\n",
      "\n",
      "\n",
      "I seguenti oggetti sono mascherati da 'package:stats':\n",
      "\n",
      "    IQR, mad, sd, var, xtabs\n",
      "\n",
      "\n",
      "I seguenti oggetti sono mascherati da 'package:base':\n",
      "\n",
      "    anyDuplicated, aperm, append, as.data.frame, basename, cbind,\n",
      "    colnames, dirname, do.call, duplicated, eval, evalq, Filter, Find,\n",
      "    get, grep, grepl, intersect, is.unsorted, lapply, Map, mapply,\n",
      "    match, mget, order, paste, pmax, pmax.int, pmin, pmin.int,\n",
      "    Position, rank, rbind, Reduce, rownames, sapply, setdiff, table,\n",
      "    tapply, union, unique, unsplit, which.max, which.min\n",
      "\n",
      "\n",
      "Caricamento del pacchetto richiesto: S4Vectors\n",
      "\n",
      "\n",
      "Caricamento pacchetto: 'S4Vectors'\n",
      "\n",
      "\n",
      "Il seguente oggetto è mascherato da 'package:utils':\n",
      "\n",
      "    findMatches\n",
      "\n",
      "\n",
      "I seguenti oggetti sono mascherati da 'package:base':\n",
      "\n",
      "    expand.grid, I, unname\n",
      "\n",
      "\n",
      "\n",
      "Caricamento pacchetto: 'IRanges'\n",
      "\n",
      "\n",
      "Il seguente oggetto è mascherato da 'package:grDevices':\n",
      "\n",
      "    windows\n",
      "\n",
      "\n",
      "Caricamento del pacchetto richiesto: GenomicRanges\n",
      "\n",
      "Caricamento del pacchetto richiesto: GenomeInfoDb\n",
      "\n",
      "Caricamento del pacchetto richiesto: SummarizedExperiment\n",
      "\n",
      "Caricamento del pacchetto richiesto: MatrixGenerics\n",
      "\n",
      "Caricamento del pacchetto richiesto: matrixStats\n",
      "\n",
      "\n",
      "Caricamento pacchetto: 'matrixStats'\n",
      "\n",
      "\n",
      "I seguenti oggetti sono mascherati da 'package:genefilter':\n",
      "\n",
      "    rowSds, rowVars\n",
      "\n",
      "\n",
      "\n",
      "Caricamento pacchetto: 'MatrixGenerics'\n",
      "\n",
      "\n",
      "I seguenti oggetti sono mascherati da 'package:matrixStats':\n",
      "\n",
      "    colAlls, colAnyNAs, colAnys, colAvgsPerRowSet, colCollapse,\n",
      "    colCounts, colCummaxs, colCummins, colCumprods, colCumsums,\n",
      "    colDiffs, colIQRDiffs, colIQRs, colLogSumExps, colMadDiffs,\n",
      "    colMads, colMaxs, colMeans2, colMedians, colMins, colOrderStats,\n",
      "    colProds, colQuantiles, colRanges, colRanks, colSdDiffs, colSds,\n",
      "    colSums2, colTabulates, colVarDiffs, colVars, colWeightedMads,\n",
      "    colWeightedMeans, colWeightedMedians, colWeightedSds,\n",
      "    colWeightedVars, rowAlls, rowAnyNAs, rowAnys, rowAvgsPerColSet,\n",
      "    rowCollapse, rowCounts, rowCummaxs, rowCummins, rowCumprods,\n",
      "    rowCumsums, rowDiffs, rowIQRDiffs, rowIQRs, rowLogSumExps,\n",
      "    rowMadDiffs, rowMads, rowMaxs, rowMeans2, rowMedians, rowMins,\n",
      "    rowOrderStats, rowProds, rowQuantiles, rowRanges, rowRanks,\n",
      "    rowSdDiffs, rowSds, rowSums2, rowTabulates, rowVarDiffs, rowVars,\n",
      "    rowWeightedMads, rowWeightedMeans, rowWeightedMedians,\n",
      "    rowWeightedSds, rowWeightedVars\n",
      "\n",
      "\n",
      "I seguenti oggetti sono mascherati da 'package:genefilter':\n",
      "\n",
      "    rowSds, rowVars\n",
      "\n",
      "\n",
      "Caricamento del pacchetto richiesto: Biobase\n",
      "\n",
      "Welcome to Bioconductor\n",
      "\n",
      "    Vignettes contain introductory material; view with\n",
      "    'browseVignettes()'. To cite Bioconductor, see\n",
      "    'citation(\"Biobase\")', and for packages 'citation(\"pkgname\")'.\n",
      "\n",
      "\n",
      "\n",
      "Caricamento pacchetto: 'Biobase'\n",
      "\n",
      "\n",
      "Il seguente oggetto è mascherato da 'package:MatrixGenerics':\n",
      "\n",
      "    rowMedians\n",
      "\n",
      "\n",
      "I seguenti oggetti sono mascherati da 'package:matrixStats':\n",
      "\n",
      "    anyMissing, rowMedians\n",
      "\n",
      "\n",
      "\n",
      "Caricamento pacchetto: 'gplots'\n",
      "\n",
      "\n",
      "Il seguente oggetto è mascherato da 'package:IRanges':\n",
      "\n",
      "    space\n",
      "\n",
      "\n",
      "Il seguente oggetto è mascherato da 'package:S4Vectors':\n",
      "\n",
      "    space\n",
      "\n",
      "\n",
      "Il seguente oggetto è mascherato da 'package:stats':\n",
      "\n",
      "    lowess\n",
      "\n",
      "\n",
      "Warning message:\n",
      "\"il pacchetto 'readxl' è stato creato con R versione 4.4.2\"\n",
      "\n",
      "Caricamento pacchetto: 'dplyr'\n",
      "\n",
      "\n",
      "Il seguente oggetto è mascherato da 'package:biomaRt':\n",
      "\n",
      "    select\n",
      "\n",
      "\n",
      "Il seguente oggetto è mascherato da 'package:Biobase':\n",
      "\n",
      "    combine\n",
      "\n",
      "\n",
      "Il seguente oggetto è mascherato da 'package:matrixStats':\n",
      "\n",
      "    count\n",
      "\n",
      "\n",
      "I seguenti oggetti sono mascherati da 'package:GenomicRanges':\n",
      "\n",
      "    intersect, setdiff, union\n",
      "\n",
      "\n",
      "Il seguente oggetto è mascherato da 'package:GenomeInfoDb':\n",
      "\n",
      "    intersect\n",
      "\n",
      "\n",
      "I seguenti oggetti sono mascherati da 'package:IRanges':\n",
      "\n",
      "    collapse, desc, intersect, setdiff, slice, union\n",
      "\n",
      "\n",
      "I seguenti oggetti sono mascherati da 'package:S4Vectors':\n",
      "\n",
      "    first, intersect, rename, setdiff, setequal, union\n",
      "\n",
      "\n",
      "I seguenti oggetti sono mascherati da 'package:BiocGenerics':\n",
      "\n",
      "    combine, intersect, setdiff, union\n",
      "\n",
      "\n",
      "Il seguente oggetto è mascherato da 'package:MASS':\n",
      "\n",
      "    select\n",
      "\n",
      "\n",
      "I seguenti oggetti sono mascherati da 'package:stats':\n",
      "\n",
      "    filter, lag\n",
      "\n",
      "\n",
      "I seguenti oggetti sono mascherati da 'package:base':\n",
      "\n",
      "    intersect, setdiff, setequal, union\n",
      "\n",
      "\n"
     ]
    }
   ],
   "source": [
    "#loading the required libraries\n",
    "library(tibble)\n",
    "library(calibrate)\n",
    "library(genefilter)\n",
    "library(parallel)\n",
    "library(stats4)\n",
    "library(BiocGenerics)\n",
    "library(IRanges)\n",
    "library(DESeq2)\n",
    "library(MASS)\n",
    "library(S4Vectors)\n",
    "library(dplyr)\n",
    "library(tidyr)\n",
    "library(reshape2)\n",
    "library(readxl)\n",
    "library(writexl)\n",
    "library(GSVA)\n",
    "library(biomaRt)\n",
    "library(msigdb)\n",
    "library(msigdbr)\n",
    "library(enrichR)\n",
    "library(fgsea)\n",
    "library(Biobase)\n",
    "library(RColorBrewer)\n",
    "library(gplots)\n",
    "library(ggplot2)\n",
    "library(ComplexHeatmap)\n",
    "library(pheatmap)\n",
    "library(stringr)"
   ]
  },
  {
   "cell_type": "markdown",
   "id": "3627693e",
   "metadata": {},
   "source": [
    "# DEA"
   ]
  },
  {
   "cell_type": "code",
   "execution_count": 3,
   "id": "69aafbc7",
   "metadata": {
    "vscode": {
     "languageId": "r"
    }
   },
   "outputs": [],
   "source": [
    "#loading the metadata from table1 of the paper\n",
    "table1 = read_excel(\"../../breast/table1.xlsx\")"
   ]
  },
  {
   "cell_type": "code",
   "execution_count": 4,
   "id": "a0d55c72",
   "metadata": {
    "vscode": {
     "languageId": "r"
    }
   },
   "outputs": [
    {
     "data": {
      "text/html": [
       "<table class=\"dataframe\">\n",
       "<caption>A tibble: 6 × 18</caption>\n",
       "<thead>\n",
       "\t<tr><th scope=col>StudyID</th><th scope=col>Histology</th><th scope=col>Regimen</th><th scope=col>NRI</th><th scope=col>RCB</th><th scope=col>Grade</th><th scope=col>T-stage</th><th scope=col>N-stage</th><th scope=col>Subtype</th><th scope=col>Recurrence</th><th scope=col>Recurrence location</th><th scope=col>Vital status</th><th scope=col>Exome seq</th><th scope=col>RNA seq</th><th scope=col>DNA_pre_TP</th><th scope=col>DNA_post_TP</th><th scope=col>RNA_pre_TP</th><th scope=col>RNA_post_TP</th></tr>\n",
       "\t<tr><th scope=col>&lt;dbl&gt;</th><th scope=col>&lt;chr&gt;</th><th scope=col>&lt;chr&gt;</th><th scope=col>&lt;chr&gt;</th><th scope=col>&lt;chr&gt;</th><th scope=col>&lt;chr&gt;</th><th scope=col>&lt;dbl&gt;</th><th scope=col>&lt;chr&gt;</th><th scope=col>&lt;chr&gt;</th><th scope=col>&lt;dbl&gt;</th><th scope=col>&lt;chr&gt;</th><th scope=col>&lt;chr&gt;</th><th scope=col>&lt;dbl&gt;</th><th scope=col>&lt;dbl&gt;</th><th scope=col>&lt;chr&gt;</th><th scope=col>&lt;dbl&gt;</th><th scope=col>&lt;chr&gt;</th><th scope=col>&lt;dbl&gt;</th></tr>\n",
       "</thead>\n",
       "<tbody>\n",
       "\t<tr><td>  97</td><td>IDC</td><td>6× ddAC               </td><td>0.33</td><td>2</td><td>NA</td><td>2</td><td>−</td><td>LUM</td><td>0</td><td>NA                                      </td><td>A</td><td>1</td><td>1</td><td>70</td><td>80</td><td>70</td><td>75</td></tr>\n",
       "\t<tr><td> 188</td><td>IDC</td><td>1×AC, 1×CD            </td><td>0   </td><td>2</td><td>3 </td><td>2</td><td>−</td><td>TN </td><td>1</td><td>Lung, brain                             </td><td>D</td><td>1</td><td>0</td><td>80</td><td>80</td><td>NA</td><td>NA</td></tr>\n",
       "\t<tr><td>2046</td><td>IDC</td><td>6× ddAC               </td><td>0   </td><td>3</td><td>3 </td><td>2</td><td>+</td><td>TN </td><td>1</td><td>Liver                                   </td><td>D</td><td>1</td><td>1</td><td>70</td><td>70</td><td>50</td><td>70</td></tr>\n",
       "\t<tr><td>2271</td><td>IDC</td><td>6× ddAC               </td><td>0.33</td><td>2</td><td>3 </td><td>2</td><td>+</td><td>TN </td><td>1</td><td>Thorax, lymph, contralateral mamma, skin</td><td>D</td><td>1</td><td>1</td><td>80</td><td>55</td><td>90</td><td>55</td></tr>\n",
       "\t<tr><td>2472</td><td>IDC</td><td>4× ddAC, 2× CTC + PSCT</td><td>0.33</td><td>3</td><td>2 </td><td>2</td><td>+</td><td>TN </td><td>1</td><td>Multiple lymph nodes, lung, liver       </td><td>D</td><td>0</td><td>1</td><td>NA</td><td>NA</td><td>80</td><td>70</td></tr>\n",
       "\t<tr><td>2492</td><td>IDC</td><td>6× ddAC               </td><td>0.33</td><td>3</td><td>2 </td><td>2</td><td>+</td><td>TN </td><td>1</td><td>Brain                                   </td><td>D</td><td>1</td><td>1</td><td>90</td><td>50</td><td>60</td><td>50</td></tr>\n",
       "</tbody>\n",
       "</table>\n"
      ],
      "text/latex": [
       "A tibble: 6 × 18\n",
       "\\begin{tabular}{llllllllllllllllll}\n",
       " StudyID & Histology & Regimen & NRI & RCB & Grade & T-stage & N-stage & Subtype & Recurrence & Recurrence location & Vital status & Exome seq & RNA seq & DNA\\_pre\\_TP & DNA\\_post\\_TP & RNA\\_pre\\_TP & RNA\\_post\\_TP\\\\\n",
       " <dbl> & <chr> & <chr> & <chr> & <chr> & <chr> & <dbl> & <chr> & <chr> & <dbl> & <chr> & <chr> & <dbl> & <dbl> & <chr> & <dbl> & <chr> & <dbl>\\\\\n",
       "\\hline\n",
       "\t   97 & IDC & 6× ddAC                & 0.33 & 2 & NA & 2 & − & LUM & 0 & NA                                       & A & 1 & 1 & 70 & 80 & 70 & 75\\\\\n",
       "\t  188 & IDC & 1×AC, 1×CD             & 0    & 2 & 3  & 2 & − & TN  & 1 & Lung, brain                              & D & 1 & 0 & 80 & 80 & NA & NA\\\\\n",
       "\t 2046 & IDC & 6× ddAC                & 0    & 3 & 3  & 2 & + & TN  & 1 & Liver                                    & D & 1 & 1 & 70 & 70 & 50 & 70\\\\\n",
       "\t 2271 & IDC & 6× ddAC                & 0.33 & 2 & 3  & 2 & + & TN  & 1 & Thorax, lymph, contralateral mamma, skin & D & 1 & 1 & 80 & 55 & 90 & 55\\\\\n",
       "\t 2472 & IDC & 4× ddAC, 2× CTC + PSCT & 0.33 & 3 & 2  & 2 & + & TN  & 1 & Multiple lymph nodes, lung, liver        & D & 0 & 1 & NA & NA & 80 & 70\\\\\n",
       "\t 2492 & IDC & 6× ddAC                & 0.33 & 3 & 2  & 2 & + & TN  & 1 & Brain                                    & D & 1 & 1 & 90 & 50 & 60 & 50\\\\\n",
       "\\end{tabular}\n"
      ],
      "text/markdown": [
       "\n",
       "A tibble: 6 × 18\n",
       "\n",
       "| StudyID &lt;dbl&gt; | Histology &lt;chr&gt; | Regimen &lt;chr&gt; | NRI &lt;chr&gt; | RCB &lt;chr&gt; | Grade &lt;chr&gt; | T-stage &lt;dbl&gt; | N-stage &lt;chr&gt; | Subtype &lt;chr&gt; | Recurrence &lt;dbl&gt; | Recurrence location &lt;chr&gt; | Vital status &lt;chr&gt; | Exome seq &lt;dbl&gt; | RNA seq &lt;dbl&gt; | DNA_pre_TP &lt;chr&gt; | DNA_post_TP &lt;dbl&gt; | RNA_pre_TP &lt;chr&gt; | RNA_post_TP &lt;dbl&gt; |\n",
       "|---|---|---|---|---|---|---|---|---|---|---|---|---|---|---|---|---|---|\n",
       "|   97 | IDC | 6× ddAC                | 0.33 | 2 | NA | 2 | − | LUM | 0 | NA                                       | A | 1 | 1 | 70 | 80 | 70 | 75 |\n",
       "|  188 | IDC | 1×AC, 1×CD             | 0    | 2 | 3  | 2 | − | TN  | 1 | Lung, brain                              | D | 1 | 0 | 80 | 80 | NA | NA |\n",
       "| 2046 | IDC | 6× ddAC                | 0    | 3 | 3  | 2 | + | TN  | 1 | Liver                                    | D | 1 | 1 | 70 | 70 | 50 | 70 |\n",
       "| 2271 | IDC | 6× ddAC                | 0.33 | 2 | 3  | 2 | + | TN  | 1 | Thorax, lymph, contralateral mamma, skin | D | 1 | 1 | 80 | 55 | 90 | 55 |\n",
       "| 2472 | IDC | 4× ddAC, 2× CTC + PSCT | 0.33 | 3 | 2  | 2 | + | TN  | 1 | Multiple lymph nodes, lung, liver        | D | 0 | 1 | NA | NA | 80 | 70 |\n",
       "| 2492 | IDC | 6× ddAC                | 0.33 | 3 | 2  | 2 | + | TN  | 1 | Brain                                    | D | 1 | 1 | 90 | 50 | 60 | 50 |\n",
       "\n"
      ],
      "text/plain": [
       "  StudyID Histology Regimen                NRI  RCB Grade T-stage N-stage\n",
       "1   97    IDC       6× ddAC                0.33 2   NA    2       −      \n",
       "2  188    IDC       1×AC, 1×CD             0    2   3     2       −      \n",
       "3 2046    IDC       6× ddAC                0    3   3     2       +      \n",
       "4 2271    IDC       6× ddAC                0.33 2   3     2       +      \n",
       "5 2472    IDC       4× ddAC, 2× CTC + PSCT 0.33 3   2     2       +      \n",
       "6 2492    IDC       6× ddAC                0.33 3   2     2       +      \n",
       "  Subtype Recurrence Recurrence location                      Vital status\n",
       "1 LUM     0          NA                                       A           \n",
       "2 TN      1          Lung, brain                              D           \n",
       "3 TN      1          Liver                                    D           \n",
       "4 TN      1          Thorax, lymph, contralateral mamma, skin D           \n",
       "5 TN      1          Multiple lymph nodes, lung, liver        D           \n",
       "6 TN      1          Brain                                    D           \n",
       "  Exome seq RNA seq DNA_pre_TP DNA_post_TP RNA_pre_TP RNA_post_TP\n",
       "1 1         1       70         80          70         75         \n",
       "2 1         0       80         80          NA         NA         \n",
       "3 1         1       70         70          50         70         \n",
       "4 1         1       80         55          90         55         \n",
       "5 0         1       NA         NA          80         70         \n",
       "6 1         1       90         50          60         50         "
      ]
     },
     "metadata": {},
     "output_type": "display_data"
    }
   ],
   "source": [
    "table1  %>%  head"
   ]
  },
  {
   "cell_type": "code",
   "execution_count": 5,
   "id": "cb662a60",
   "metadata": {
    "vscode": {
     "languageId": "r"
    }
   },
   "outputs": [],
   "source": [
    "#read the raw counts\n",
    "raw = read.table(gzfile(paste0(fold0,\"GSE191127_readcounts_prepost.txt.gz\"),\"rt\"),\n",
    "                 header=TRUE, sep = \"\\t\",quote = \"\\\"\", fill = TRUE, comment.char = \"\", \n",
    "                 stringsAsFactors = FALSE)"
   ]
  },
  {
   "cell_type": "code",
   "execution_count": 6,
   "id": "fe930559",
   "metadata": {
    "vscode": {
     "languageId": "r"
    }
   },
   "outputs": [
    {
     "data": {
      "text/html": [
       "<table class=\"dataframe\">\n",
       "<caption>A data.frame: 2 × 47</caption>\n",
       "<thead>\n",
       "\t<tr><th></th><th scope=col>ensembl_gene_id</th><th scope=col>X3597_1_97_B_AACGTGAT</th><th scope=col>X3597_2_97_S_AAACATCG</th><th scope=col>X3597_3_2046_B_ATGCCTAA</th><th scope=col>X3597_4_2046_S_AGTGGTCA</th><th scope=col>X3597_5_2271_B_ACCACTGT</th><th scope=col>X3597_6_2271_S_ACATTGGC</th><th scope=col>X3597_7_2472_B_CAGATCTG</th><th scope=col>X3597_8_2472_S_CATCAAGT</th><th scope=col>X3597_9_2492_B_CGCTGATC</th><th scope=col>⋯</th><th scope=col>X3597_37_3130_B_CCGAAGTA</th><th scope=col>X3597_38_3130_S_CCGTGAGA</th><th scope=col>X3597_39_3161_B_CCTCCTGA</th><th scope=col>X3597_40_3161_S_CGAACTTA</th><th scope=col>gene_biotype</th><th scope=col>chromosome_name</th><th scope=col>start_position</th><th scope=col>end_position</th><th scope=col>external_gene_id</th><th scope=col>description</th></tr>\n",
       "\t<tr><th></th><th scope=col>&lt;chr&gt;</th><th scope=col>&lt;int&gt;</th><th scope=col>&lt;int&gt;</th><th scope=col>&lt;int&gt;</th><th scope=col>&lt;int&gt;</th><th scope=col>&lt;int&gt;</th><th scope=col>&lt;int&gt;</th><th scope=col>&lt;int&gt;</th><th scope=col>&lt;int&gt;</th><th scope=col>&lt;int&gt;</th><th scope=col>⋯</th><th scope=col>&lt;int&gt;</th><th scope=col>&lt;int&gt;</th><th scope=col>&lt;int&gt;</th><th scope=col>&lt;int&gt;</th><th scope=col>&lt;chr&gt;</th><th scope=col>&lt;chr&gt;</th><th scope=col>&lt;int&gt;</th><th scope=col>&lt;int&gt;</th><th scope=col>&lt;chr&gt;</th><th scope=col>&lt;chr&gt;</th></tr>\n",
       "</thead>\n",
       "<tbody>\n",
       "\t<tr><th scope=row>1</th><td>ENSG00000000457</td><td>421</td><td>869</td><td>347</td><td>463</td><td>1286</td><td>463</td><td>616</td><td>561</td><td>573</td><td>⋯</td><td>686</td><td>880</td><td>399</td><td>1722</td><td>protein_coding</td><td>1</td><td>169818772</td><td>169863408</td><td>SCYL3   </td><td>SCY1-like 3 (S. cerevisiae) [Source:HGNC Symbol;Acc:19285]        </td></tr>\n",
       "\t<tr><th scope=row>2</th><td>ENSG00000000460</td><td>213</td><td>267</td><td>223</td><td>630</td><td>1080</td><td>431</td><td>780</td><td>630</td><td>172</td><td>⋯</td><td>143</td><td>156</td><td>114</td><td> 254</td><td>protein_coding</td><td>1</td><td>169631245</td><td>169823221</td><td>C1orf112</td><td>chromosome 1 open reading frame 112 [Source:HGNC Symbol;Acc:25565]</td></tr>\n",
       "</tbody>\n",
       "</table>\n"
      ],
      "text/latex": [
       "A data.frame: 2 × 47\n",
       "\\begin{tabular}{r|lllllllllllllllllllll}\n",
       "  & ensembl\\_gene\\_id & X3597\\_1\\_97\\_B\\_AACGTGAT & X3597\\_2\\_97\\_S\\_AAACATCG & X3597\\_3\\_2046\\_B\\_ATGCCTAA & X3597\\_4\\_2046\\_S\\_AGTGGTCA & X3597\\_5\\_2271\\_B\\_ACCACTGT & X3597\\_6\\_2271\\_S\\_ACATTGGC & X3597\\_7\\_2472\\_B\\_CAGATCTG & X3597\\_8\\_2472\\_S\\_CATCAAGT & X3597\\_9\\_2492\\_B\\_CGCTGATC & ⋯ & X3597\\_37\\_3130\\_B\\_CCGAAGTA & X3597\\_38\\_3130\\_S\\_CCGTGAGA & X3597\\_39\\_3161\\_B\\_CCTCCTGA & X3597\\_40\\_3161\\_S\\_CGAACTTA & gene\\_biotype & chromosome\\_name & start\\_position & end\\_position & external\\_gene\\_id & description\\\\\n",
       "  & <chr> & <int> & <int> & <int> & <int> & <int> & <int> & <int> & <int> & <int> & ⋯ & <int> & <int> & <int> & <int> & <chr> & <chr> & <int> & <int> & <chr> & <chr>\\\\\n",
       "\\hline\n",
       "\t1 & ENSG00000000457 & 421 & 869 & 347 & 463 & 1286 & 463 & 616 & 561 & 573 & ⋯ & 686 & 880 & 399 & 1722 & protein\\_coding & 1 & 169818772 & 169863408 & SCYL3    & SCY1-like 3 (S. cerevisiae) {[}Source:HGNC Symbol;Acc:19285{]}        \\\\\n",
       "\t2 & ENSG00000000460 & 213 & 267 & 223 & 630 & 1080 & 431 & 780 & 630 & 172 & ⋯ & 143 & 156 & 114 &  254 & protein\\_coding & 1 & 169631245 & 169823221 & C1orf112 & chromosome 1 open reading frame 112 {[}Source:HGNC Symbol;Acc:25565{]}\\\\\n",
       "\\end{tabular}\n"
      ],
      "text/markdown": [
       "\n",
       "A data.frame: 2 × 47\n",
       "\n",
       "| <!--/--> | ensembl_gene_id &lt;chr&gt; | X3597_1_97_B_AACGTGAT &lt;int&gt; | X3597_2_97_S_AAACATCG &lt;int&gt; | X3597_3_2046_B_ATGCCTAA &lt;int&gt; | X3597_4_2046_S_AGTGGTCA &lt;int&gt; | X3597_5_2271_B_ACCACTGT &lt;int&gt; | X3597_6_2271_S_ACATTGGC &lt;int&gt; | X3597_7_2472_B_CAGATCTG &lt;int&gt; | X3597_8_2472_S_CATCAAGT &lt;int&gt; | X3597_9_2492_B_CGCTGATC &lt;int&gt; | ⋯ ⋯ | X3597_37_3130_B_CCGAAGTA &lt;int&gt; | X3597_38_3130_S_CCGTGAGA &lt;int&gt; | X3597_39_3161_B_CCTCCTGA &lt;int&gt; | X3597_40_3161_S_CGAACTTA &lt;int&gt; | gene_biotype &lt;chr&gt; | chromosome_name &lt;chr&gt; | start_position &lt;int&gt; | end_position &lt;int&gt; | external_gene_id &lt;chr&gt; | description &lt;chr&gt; |\n",
       "|---|---|---|---|---|---|---|---|---|---|---|---|---|---|---|---|---|---|---|---|---|---|\n",
       "| 1 | ENSG00000000457 | 421 | 869 | 347 | 463 | 1286 | 463 | 616 | 561 | 573 | ⋯ | 686 | 880 | 399 | 1722 | protein_coding | 1 | 169818772 | 169863408 | SCYL3    | SCY1-like 3 (S. cerevisiae) [Source:HGNC Symbol;Acc:19285]         |\n",
       "| 2 | ENSG00000000460 | 213 | 267 | 223 | 630 | 1080 | 431 | 780 | 630 | 172 | ⋯ | 143 | 156 | 114 |  254 | protein_coding | 1 | 169631245 | 169823221 | C1orf112 | chromosome 1 open reading frame 112 [Source:HGNC Symbol;Acc:25565] |\n",
       "\n"
      ],
      "text/plain": [
       "  ensembl_gene_id X3597_1_97_B_AACGTGAT X3597_2_97_S_AAACATCG\n",
       "1 ENSG00000000457 421                   869                  \n",
       "2 ENSG00000000460 213                   267                  \n",
       "  X3597_3_2046_B_ATGCCTAA X3597_4_2046_S_AGTGGTCA X3597_5_2271_B_ACCACTGT\n",
       "1 347                     463                     1286                   \n",
       "2 223                     630                     1080                   \n",
       "  X3597_6_2271_S_ACATTGGC X3597_7_2472_B_CAGATCTG X3597_8_2472_S_CATCAAGT\n",
       "1 463                     616                     561                    \n",
       "2 431                     780                     630                    \n",
       "  X3597_9_2492_B_CGCTGATC ⋯ X3597_37_3130_B_CCGAAGTA X3597_38_3130_S_CCGTGAGA\n",
       "1 573                     ⋯ 686                      880                     \n",
       "2 172                     ⋯ 143                      156                     \n",
       "  X3597_39_3161_B_CCTCCTGA X3597_40_3161_S_CGAACTTA gene_biotype  \n",
       "1 399                      1722                     protein_coding\n",
       "2 114                       254                     protein_coding\n",
       "  chromosome_name start_position end_position external_gene_id\n",
       "1 1               169818772      169863408    SCYL3           \n",
       "2 1               169631245      169823221    C1orf112        \n",
       "  description                                                       \n",
       "1 SCY1-like 3 (S. cerevisiae) [Source:HGNC Symbol;Acc:19285]        \n",
       "2 chromosome 1 open reading frame 112 [Source:HGNC Symbol;Acc:25565]"
      ]
     },
     "metadata": {},
     "output_type": "display_data"
    }
   ],
   "source": [
    "raw  %>% head(2)"
   ]
  },
  {
   "cell_type": "code",
   "execution_count": 7,
   "id": "a6a5d549",
   "metadata": {
    "vscode": {
     "languageId": "r"
    }
   },
   "outputs": [],
   "source": [
    "metadata = raw %>% dplyr::select(\"ensembl_gene_id\",\"gene_biotype\",\"chromosome_name\",\"start_position\",\"end_position\",\"external_gene_id\",\"description\")"
   ]
  },
  {
   "cell_type": "code",
   "execution_count": 8,
   "id": "3d55d4a9",
   "metadata": {
    "vscode": {
     "languageId": "r"
    }
   },
   "outputs": [],
   "source": [
    "counts = raw %>% dplyr::select(ensembl_gene_id, matches(\"_B_|_S_\")) %>% column_to_rownames(\"ensembl_gene_id\")"
   ]
  },
  {
   "cell_type": "code",
   "execution_count": 9,
   "id": "b58f80b2",
   "metadata": {
    "vscode": {
     "languageId": "r"
    }
   },
   "outputs": [
    {
     "data": {
      "text/html": [
       "<table class=\"dataframe\">\n",
       "<caption>A data.frame: 6 × 40</caption>\n",
       "<thead>\n",
       "\t<tr><th></th><th scope=col>X3597_1_97_B_AACGTGAT</th><th scope=col>X3597_2_97_S_AAACATCG</th><th scope=col>X3597_3_2046_B_ATGCCTAA</th><th scope=col>X3597_4_2046_S_AGTGGTCA</th><th scope=col>X3597_5_2271_B_ACCACTGT</th><th scope=col>X3597_6_2271_S_ACATTGGC</th><th scope=col>X3597_7_2472_B_CAGATCTG</th><th scope=col>X3597_8_2472_S_CATCAAGT</th><th scope=col>X3597_9_2492_B_CGCTGATC</th><th scope=col>X3597_10_2492_S_ACAAGCTA</th><th scope=col>⋯</th><th scope=col>X3597_31_3036_B_CAAGACTA</th><th scope=col>X3597_32_3036_S_CAATGGAA</th><th scope=col>X3597_33_3065_B_CACTTCGA</th><th scope=col>X3597_34_3065_S_CAGCGTTA</th><th scope=col>X3597_35_3067_B_CATACCAA</th><th scope=col>X3597_36_3067_S_CCAGTTCA</th><th scope=col>X3597_37_3130_B_CCGAAGTA</th><th scope=col>X3597_38_3130_S_CCGTGAGA</th><th scope=col>X3597_39_3161_B_CCTCCTGA</th><th scope=col>X3597_40_3161_S_CGAACTTA</th></tr>\n",
       "\t<tr><th></th><th scope=col>&lt;int&gt;</th><th scope=col>&lt;int&gt;</th><th scope=col>&lt;int&gt;</th><th scope=col>&lt;int&gt;</th><th scope=col>&lt;int&gt;</th><th scope=col>&lt;int&gt;</th><th scope=col>&lt;int&gt;</th><th scope=col>&lt;int&gt;</th><th scope=col>&lt;int&gt;</th><th scope=col>&lt;int&gt;</th><th scope=col>⋯</th><th scope=col>&lt;int&gt;</th><th scope=col>&lt;int&gt;</th><th scope=col>&lt;int&gt;</th><th scope=col>&lt;int&gt;</th><th scope=col>&lt;int&gt;</th><th scope=col>&lt;int&gt;</th><th scope=col>&lt;int&gt;</th><th scope=col>&lt;int&gt;</th><th scope=col>&lt;int&gt;</th><th scope=col>&lt;int&gt;</th></tr>\n",
       "</thead>\n",
       "<tbody>\n",
       "\t<tr><th scope=row>ENSG00000000457</th><td> 421</td><td> 869</td><td>347</td><td>463</td><td>1286</td><td> 463</td><td>616</td><td> 561</td><td>573</td><td> 377</td><td>⋯</td><td> 418</td><td> 612</td><td>270</td><td> 491</td><td>460</td><td> 307</td><td> 686</td><td> 880</td><td> 399</td><td>1722</td></tr>\n",
       "\t<tr><th scope=row>ENSG00000000460</th><td> 213</td><td> 267</td><td>223</td><td>630</td><td>1080</td><td> 431</td><td>780</td><td> 630</td><td>172</td><td> 225</td><td>⋯</td><td> 109</td><td> 201</td><td>150</td><td>  93</td><td>164</td><td>  88</td><td> 143</td><td> 156</td><td> 114</td><td> 254</td></tr>\n",
       "\t<tr><th scope=row>ENSG00000000938</th><td> 171</td><td> 359</td><td>224</td><td>156</td><td>  88</td><td> 168</td><td>169</td><td> 176</td><td>314</td><td> 278</td><td>⋯</td><td> 140</td><td> 315</td><td>195</td><td> 122</td><td>107</td><td> 192</td><td>  74</td><td> 106</td><td>  68</td><td>  94</td></tr>\n",
       "\t<tr><th scope=row>ENSG00000000971</th><td> 732</td><td> 849</td><td>408</td><td>176</td><td> 748</td><td>2618</td><td>446</td><td> 986</td><td>645</td><td>1398</td><td>⋯</td><td>2445</td><td>5015</td><td>984</td><td>3681</td><td>680</td><td>2111</td><td>1498</td><td>3038</td><td>1675</td><td>1926</td></tr>\n",
       "\t<tr><th scope=row>ENSG00000001460</th><td> 178</td><td> 231</td><td> 73</td><td>147</td><td>  96</td><td> 168</td><td>200</td><td> 298</td><td>135</td><td> 239</td><td>⋯</td><td> 127</td><td> 196</td><td>133</td><td> 199</td><td>107</td><td>  73</td><td> 111</td><td> 159</td><td> 143</td><td> 321</td></tr>\n",
       "\t<tr><th scope=row>ENSG00000001461</th><td>1331</td><td>1927</td><td>310</td><td>506</td><td> 769</td><td> 898</td><td>957</td><td>1447</td><td>823</td><td>1045</td><td>⋯</td><td> 976</td><td>1416</td><td>985</td><td>1247</td><td>603</td><td> 381</td><td> 688</td><td>1088</td><td> 572</td><td>2075</td></tr>\n",
       "</tbody>\n",
       "</table>\n"
      ],
      "text/latex": [
       "A data.frame: 6 × 40\n",
       "\\begin{tabular}{r|lllllllllllllllllllll}\n",
       "  & X3597\\_1\\_97\\_B\\_AACGTGAT & X3597\\_2\\_97\\_S\\_AAACATCG & X3597\\_3\\_2046\\_B\\_ATGCCTAA & X3597\\_4\\_2046\\_S\\_AGTGGTCA & X3597\\_5\\_2271\\_B\\_ACCACTGT & X3597\\_6\\_2271\\_S\\_ACATTGGC & X3597\\_7\\_2472\\_B\\_CAGATCTG & X3597\\_8\\_2472\\_S\\_CATCAAGT & X3597\\_9\\_2492\\_B\\_CGCTGATC & X3597\\_10\\_2492\\_S\\_ACAAGCTA & ⋯ & X3597\\_31\\_3036\\_B\\_CAAGACTA & X3597\\_32\\_3036\\_S\\_CAATGGAA & X3597\\_33\\_3065\\_B\\_CACTTCGA & X3597\\_34\\_3065\\_S\\_CAGCGTTA & X3597\\_35\\_3067\\_B\\_CATACCAA & X3597\\_36\\_3067\\_S\\_CCAGTTCA & X3597\\_37\\_3130\\_B\\_CCGAAGTA & X3597\\_38\\_3130\\_S\\_CCGTGAGA & X3597\\_39\\_3161\\_B\\_CCTCCTGA & X3597\\_40\\_3161\\_S\\_CGAACTTA\\\\\n",
       "  & <int> & <int> & <int> & <int> & <int> & <int> & <int> & <int> & <int> & <int> & ⋯ & <int> & <int> & <int> & <int> & <int> & <int> & <int> & <int> & <int> & <int>\\\\\n",
       "\\hline\n",
       "\tENSG00000000457 &  421 &  869 & 347 & 463 & 1286 &  463 & 616 &  561 & 573 &  377 & ⋯ &  418 &  612 & 270 &  491 & 460 &  307 &  686 &  880 &  399 & 1722\\\\\n",
       "\tENSG00000000460 &  213 &  267 & 223 & 630 & 1080 &  431 & 780 &  630 & 172 &  225 & ⋯ &  109 &  201 & 150 &   93 & 164 &   88 &  143 &  156 &  114 &  254\\\\\n",
       "\tENSG00000000938 &  171 &  359 & 224 & 156 &   88 &  168 & 169 &  176 & 314 &  278 & ⋯ &  140 &  315 & 195 &  122 & 107 &  192 &   74 &  106 &   68 &   94\\\\\n",
       "\tENSG00000000971 &  732 &  849 & 408 & 176 &  748 & 2618 & 446 &  986 & 645 & 1398 & ⋯ & 2445 & 5015 & 984 & 3681 & 680 & 2111 & 1498 & 3038 & 1675 & 1926\\\\\n",
       "\tENSG00000001460 &  178 &  231 &  73 & 147 &   96 &  168 & 200 &  298 & 135 &  239 & ⋯ &  127 &  196 & 133 &  199 & 107 &   73 &  111 &  159 &  143 &  321\\\\\n",
       "\tENSG00000001461 & 1331 & 1927 & 310 & 506 &  769 &  898 & 957 & 1447 & 823 & 1045 & ⋯ &  976 & 1416 & 985 & 1247 & 603 &  381 &  688 & 1088 &  572 & 2075\\\\\n",
       "\\end{tabular}\n"
      ],
      "text/markdown": [
       "\n",
       "A data.frame: 6 × 40\n",
       "\n",
       "| <!--/--> | X3597_1_97_B_AACGTGAT &lt;int&gt; | X3597_2_97_S_AAACATCG &lt;int&gt; | X3597_3_2046_B_ATGCCTAA &lt;int&gt; | X3597_4_2046_S_AGTGGTCA &lt;int&gt; | X3597_5_2271_B_ACCACTGT &lt;int&gt; | X3597_6_2271_S_ACATTGGC &lt;int&gt; | X3597_7_2472_B_CAGATCTG &lt;int&gt; | X3597_8_2472_S_CATCAAGT &lt;int&gt; | X3597_9_2492_B_CGCTGATC &lt;int&gt; | X3597_10_2492_S_ACAAGCTA &lt;int&gt; | ⋯ ⋯ | X3597_31_3036_B_CAAGACTA &lt;int&gt; | X3597_32_3036_S_CAATGGAA &lt;int&gt; | X3597_33_3065_B_CACTTCGA &lt;int&gt; | X3597_34_3065_S_CAGCGTTA &lt;int&gt; | X3597_35_3067_B_CATACCAA &lt;int&gt; | X3597_36_3067_S_CCAGTTCA &lt;int&gt; | X3597_37_3130_B_CCGAAGTA &lt;int&gt; | X3597_38_3130_S_CCGTGAGA &lt;int&gt; | X3597_39_3161_B_CCTCCTGA &lt;int&gt; | X3597_40_3161_S_CGAACTTA &lt;int&gt; |\n",
       "|---|---|---|---|---|---|---|---|---|---|---|---|---|---|---|---|---|---|---|---|---|---|\n",
       "| ENSG00000000457 |  421 |  869 | 347 | 463 | 1286 |  463 | 616 |  561 | 573 |  377 | ⋯ |  418 |  612 | 270 |  491 | 460 |  307 |  686 |  880 |  399 | 1722 |\n",
       "| ENSG00000000460 |  213 |  267 | 223 | 630 | 1080 |  431 | 780 |  630 | 172 |  225 | ⋯ |  109 |  201 | 150 |   93 | 164 |   88 |  143 |  156 |  114 |  254 |\n",
       "| ENSG00000000938 |  171 |  359 | 224 | 156 |   88 |  168 | 169 |  176 | 314 |  278 | ⋯ |  140 |  315 | 195 |  122 | 107 |  192 |   74 |  106 |   68 |   94 |\n",
       "| ENSG00000000971 |  732 |  849 | 408 | 176 |  748 | 2618 | 446 |  986 | 645 | 1398 | ⋯ | 2445 | 5015 | 984 | 3681 | 680 | 2111 | 1498 | 3038 | 1675 | 1926 |\n",
       "| ENSG00000001460 |  178 |  231 |  73 | 147 |   96 |  168 | 200 |  298 | 135 |  239 | ⋯ |  127 |  196 | 133 |  199 | 107 |   73 |  111 |  159 |  143 |  321 |\n",
       "| ENSG00000001461 | 1331 | 1927 | 310 | 506 |  769 |  898 | 957 | 1447 | 823 | 1045 | ⋯ |  976 | 1416 | 985 | 1247 | 603 |  381 |  688 | 1088 |  572 | 2075 |\n",
       "\n"
      ],
      "text/plain": [
       "                X3597_1_97_B_AACGTGAT X3597_2_97_S_AAACATCG\n",
       "ENSG00000000457  421                   869                 \n",
       "ENSG00000000460  213                   267                 \n",
       "ENSG00000000938  171                   359                 \n",
       "ENSG00000000971  732                   849                 \n",
       "ENSG00000001460  178                   231                 \n",
       "ENSG00000001461 1331                  1927                 \n",
       "                X3597_3_2046_B_ATGCCTAA X3597_4_2046_S_AGTGGTCA\n",
       "ENSG00000000457 347                     463                    \n",
       "ENSG00000000460 223                     630                    \n",
       "ENSG00000000938 224                     156                    \n",
       "ENSG00000000971 408                     176                    \n",
       "ENSG00000001460  73                     147                    \n",
       "ENSG00000001461 310                     506                    \n",
       "                X3597_5_2271_B_ACCACTGT X3597_6_2271_S_ACATTGGC\n",
       "ENSG00000000457 1286                     463                   \n",
       "ENSG00000000460 1080                     431                   \n",
       "ENSG00000000938   88                     168                   \n",
       "ENSG00000000971  748                    2618                   \n",
       "ENSG00000001460   96                     168                   \n",
       "ENSG00000001461  769                     898                   \n",
       "                X3597_7_2472_B_CAGATCTG X3597_8_2472_S_CATCAAGT\n",
       "ENSG00000000457 616                      561                   \n",
       "ENSG00000000460 780                      630                   \n",
       "ENSG00000000938 169                      176                   \n",
       "ENSG00000000971 446                      986                   \n",
       "ENSG00000001460 200                      298                   \n",
       "ENSG00000001461 957                     1447                   \n",
       "                X3597_9_2492_B_CGCTGATC X3597_10_2492_S_ACAAGCTA ⋯\n",
       "ENSG00000000457 573                      377                     ⋯\n",
       "ENSG00000000460 172                      225                     ⋯\n",
       "ENSG00000000938 314                      278                     ⋯\n",
       "ENSG00000000971 645                     1398                     ⋯\n",
       "ENSG00000001460 135                      239                     ⋯\n",
       "ENSG00000001461 823                     1045                     ⋯\n",
       "                X3597_31_3036_B_CAAGACTA X3597_32_3036_S_CAATGGAA\n",
       "ENSG00000000457  418                      612                    \n",
       "ENSG00000000460  109                      201                    \n",
       "ENSG00000000938  140                      315                    \n",
       "ENSG00000000971 2445                     5015                    \n",
       "ENSG00000001460  127                      196                    \n",
       "ENSG00000001461  976                     1416                    \n",
       "                X3597_33_3065_B_CACTTCGA X3597_34_3065_S_CAGCGTTA\n",
       "ENSG00000000457 270                       491                    \n",
       "ENSG00000000460 150                        93                    \n",
       "ENSG00000000938 195                       122                    \n",
       "ENSG00000000971 984                      3681                    \n",
       "ENSG00000001460 133                       199                    \n",
       "ENSG00000001461 985                      1247                    \n",
       "                X3597_35_3067_B_CATACCAA X3597_36_3067_S_CCAGTTCA\n",
       "ENSG00000000457 460                       307                    \n",
       "ENSG00000000460 164                        88                    \n",
       "ENSG00000000938 107                       192                    \n",
       "ENSG00000000971 680                      2111                    \n",
       "ENSG00000001460 107                        73                    \n",
       "ENSG00000001461 603                       381                    \n",
       "                X3597_37_3130_B_CCGAAGTA X3597_38_3130_S_CCGTGAGA\n",
       "ENSG00000000457  686                      880                    \n",
       "ENSG00000000460  143                      156                    \n",
       "ENSG00000000938   74                      106                    \n",
       "ENSG00000000971 1498                     3038                    \n",
       "ENSG00000001460  111                      159                    \n",
       "ENSG00000001461  688                     1088                    \n",
       "                X3597_39_3161_B_CCTCCTGA X3597_40_3161_S_CGAACTTA\n",
       "ENSG00000000457  399                     1722                    \n",
       "ENSG00000000460  114                      254                    \n",
       "ENSG00000000938   68                       94                    \n",
       "ENSG00000000971 1675                     1926                    \n",
       "ENSG00000001460  143                      321                    \n",
       "ENSG00000001461  572                     2075                    "
      ]
     },
     "metadata": {},
     "output_type": "display_data"
    }
   ],
   "source": [
    "counts  %>% head"
   ]
  },
  {
   "cell_type": "code",
   "execution_count": 10,
   "id": "6bbcac90",
   "metadata": {
    "vscode": {
     "languageId": "r"
    }
   },
   "outputs": [
    {
     "data": {
      "text/html": [
       "<table class=\"dataframe\">\n",
       "<caption>A matrix: 6 × 40 of type int</caption>\n",
       "<thead>\n",
       "\t<tr><th></th><th scope=col>X3597_1_97_B_AACGTGAT</th><th scope=col>X3597_2_97_S_AAACATCG</th><th scope=col>X3597_3_2046_B_ATGCCTAA</th><th scope=col>X3597_4_2046_S_AGTGGTCA</th><th scope=col>X3597_5_2271_B_ACCACTGT</th><th scope=col>X3597_6_2271_S_ACATTGGC</th><th scope=col>X3597_7_2472_B_CAGATCTG</th><th scope=col>X3597_8_2472_S_CATCAAGT</th><th scope=col>X3597_9_2492_B_CGCTGATC</th><th scope=col>X3597_10_2492_S_ACAAGCTA</th><th scope=col>⋯</th><th scope=col>X3597_31_3036_B_CAAGACTA</th><th scope=col>X3597_32_3036_S_CAATGGAA</th><th scope=col>X3597_33_3065_B_CACTTCGA</th><th scope=col>X3597_34_3065_S_CAGCGTTA</th><th scope=col>X3597_35_3067_B_CATACCAA</th><th scope=col>X3597_36_3067_S_CCAGTTCA</th><th scope=col>X3597_37_3130_B_CCGAAGTA</th><th scope=col>X3597_38_3130_S_CCGTGAGA</th><th scope=col>X3597_39_3161_B_CCTCCTGA</th><th scope=col>X3597_40_3161_S_CGAACTTA</th></tr>\n",
       "</thead>\n",
       "<tbody>\n",
       "\t<tr><th scope=row>ENSG00000000457</th><td> 421</td><td> 869</td><td>347</td><td>463</td><td>1286</td><td> 463</td><td>616</td><td> 561</td><td>573</td><td> 377</td><td>⋯</td><td> 418</td><td> 612</td><td>270</td><td> 491</td><td>460</td><td> 307</td><td> 686</td><td> 880</td><td> 399</td><td>1722</td></tr>\n",
       "\t<tr><th scope=row>ENSG00000000460</th><td> 213</td><td> 267</td><td>223</td><td>630</td><td>1080</td><td> 431</td><td>780</td><td> 630</td><td>172</td><td> 225</td><td>⋯</td><td> 109</td><td> 201</td><td>150</td><td>  93</td><td>164</td><td>  88</td><td> 143</td><td> 156</td><td> 114</td><td> 254</td></tr>\n",
       "\t<tr><th scope=row>ENSG00000000938</th><td> 171</td><td> 359</td><td>224</td><td>156</td><td>  88</td><td> 168</td><td>169</td><td> 176</td><td>314</td><td> 278</td><td>⋯</td><td> 140</td><td> 315</td><td>195</td><td> 122</td><td>107</td><td> 192</td><td>  74</td><td> 106</td><td>  68</td><td>  94</td></tr>\n",
       "\t<tr><th scope=row>ENSG00000000971</th><td> 732</td><td> 849</td><td>408</td><td>176</td><td> 748</td><td>2618</td><td>446</td><td> 986</td><td>645</td><td>1398</td><td>⋯</td><td>2445</td><td>5015</td><td>984</td><td>3681</td><td>680</td><td>2111</td><td>1498</td><td>3038</td><td>1675</td><td>1926</td></tr>\n",
       "\t<tr><th scope=row>ENSG00000001460</th><td> 178</td><td> 231</td><td> 73</td><td>147</td><td>  96</td><td> 168</td><td>200</td><td> 298</td><td>135</td><td> 239</td><td>⋯</td><td> 127</td><td> 196</td><td>133</td><td> 199</td><td>107</td><td>  73</td><td> 111</td><td> 159</td><td> 143</td><td> 321</td></tr>\n",
       "\t<tr><th scope=row>ENSG00000001461</th><td>1331</td><td>1927</td><td>310</td><td>506</td><td> 769</td><td> 898</td><td>957</td><td>1447</td><td>823</td><td>1045</td><td>⋯</td><td> 976</td><td>1416</td><td>985</td><td>1247</td><td>603</td><td> 381</td><td> 688</td><td>1088</td><td> 572</td><td>2075</td></tr>\n",
       "</tbody>\n",
       "</table>\n"
      ],
      "text/latex": [
       "A matrix: 6 × 40 of type int\n",
       "\\begin{tabular}{r|lllllllllllllllllllll}\n",
       "  & X3597\\_1\\_97\\_B\\_AACGTGAT & X3597\\_2\\_97\\_S\\_AAACATCG & X3597\\_3\\_2046\\_B\\_ATGCCTAA & X3597\\_4\\_2046\\_S\\_AGTGGTCA & X3597\\_5\\_2271\\_B\\_ACCACTGT & X3597\\_6\\_2271\\_S\\_ACATTGGC & X3597\\_7\\_2472\\_B\\_CAGATCTG & X3597\\_8\\_2472\\_S\\_CATCAAGT & X3597\\_9\\_2492\\_B\\_CGCTGATC & X3597\\_10\\_2492\\_S\\_ACAAGCTA & ⋯ & X3597\\_31\\_3036\\_B\\_CAAGACTA & X3597\\_32\\_3036\\_S\\_CAATGGAA & X3597\\_33\\_3065\\_B\\_CACTTCGA & X3597\\_34\\_3065\\_S\\_CAGCGTTA & X3597\\_35\\_3067\\_B\\_CATACCAA & X3597\\_36\\_3067\\_S\\_CCAGTTCA & X3597\\_37\\_3130\\_B\\_CCGAAGTA & X3597\\_38\\_3130\\_S\\_CCGTGAGA & X3597\\_39\\_3161\\_B\\_CCTCCTGA & X3597\\_40\\_3161\\_S\\_CGAACTTA\\\\\n",
       "\\hline\n",
       "\tENSG00000000457 &  421 &  869 & 347 & 463 & 1286 &  463 & 616 &  561 & 573 &  377 & ⋯ &  418 &  612 & 270 &  491 & 460 &  307 &  686 &  880 &  399 & 1722\\\\\n",
       "\tENSG00000000460 &  213 &  267 & 223 & 630 & 1080 &  431 & 780 &  630 & 172 &  225 & ⋯ &  109 &  201 & 150 &   93 & 164 &   88 &  143 &  156 &  114 &  254\\\\\n",
       "\tENSG00000000938 &  171 &  359 & 224 & 156 &   88 &  168 & 169 &  176 & 314 &  278 & ⋯ &  140 &  315 & 195 &  122 & 107 &  192 &   74 &  106 &   68 &   94\\\\\n",
       "\tENSG00000000971 &  732 &  849 & 408 & 176 &  748 & 2618 & 446 &  986 & 645 & 1398 & ⋯ & 2445 & 5015 & 984 & 3681 & 680 & 2111 & 1498 & 3038 & 1675 & 1926\\\\\n",
       "\tENSG00000001460 &  178 &  231 &  73 & 147 &   96 &  168 & 200 &  298 & 135 &  239 & ⋯ &  127 &  196 & 133 &  199 & 107 &   73 &  111 &  159 &  143 &  321\\\\\n",
       "\tENSG00000001461 & 1331 & 1927 & 310 & 506 &  769 &  898 & 957 & 1447 & 823 & 1045 & ⋯ &  976 & 1416 & 985 & 1247 & 603 &  381 &  688 & 1088 &  572 & 2075\\\\\n",
       "\\end{tabular}\n"
      ],
      "text/markdown": [
       "\n",
       "A matrix: 6 × 40 of type int\n",
       "\n",
       "| <!--/--> | X3597_1_97_B_AACGTGAT | X3597_2_97_S_AAACATCG | X3597_3_2046_B_ATGCCTAA | X3597_4_2046_S_AGTGGTCA | X3597_5_2271_B_ACCACTGT | X3597_6_2271_S_ACATTGGC | X3597_7_2472_B_CAGATCTG | X3597_8_2472_S_CATCAAGT | X3597_9_2492_B_CGCTGATC | X3597_10_2492_S_ACAAGCTA | ⋯ | X3597_31_3036_B_CAAGACTA | X3597_32_3036_S_CAATGGAA | X3597_33_3065_B_CACTTCGA | X3597_34_3065_S_CAGCGTTA | X3597_35_3067_B_CATACCAA | X3597_36_3067_S_CCAGTTCA | X3597_37_3130_B_CCGAAGTA | X3597_38_3130_S_CCGTGAGA | X3597_39_3161_B_CCTCCTGA | X3597_40_3161_S_CGAACTTA |\n",
       "|---|---|---|---|---|---|---|---|---|---|---|---|---|---|---|---|---|---|---|---|---|---|\n",
       "| ENSG00000000457 |  421 |  869 | 347 | 463 | 1286 |  463 | 616 |  561 | 573 |  377 | ⋯ |  418 |  612 | 270 |  491 | 460 |  307 |  686 |  880 |  399 | 1722 |\n",
       "| ENSG00000000460 |  213 |  267 | 223 | 630 | 1080 |  431 | 780 |  630 | 172 |  225 | ⋯ |  109 |  201 | 150 |   93 | 164 |   88 |  143 |  156 |  114 |  254 |\n",
       "| ENSG00000000938 |  171 |  359 | 224 | 156 |   88 |  168 | 169 |  176 | 314 |  278 | ⋯ |  140 |  315 | 195 |  122 | 107 |  192 |   74 |  106 |   68 |   94 |\n",
       "| ENSG00000000971 |  732 |  849 | 408 | 176 |  748 | 2618 | 446 |  986 | 645 | 1398 | ⋯ | 2445 | 5015 | 984 | 3681 | 680 | 2111 | 1498 | 3038 | 1675 | 1926 |\n",
       "| ENSG00000001460 |  178 |  231 |  73 | 147 |   96 |  168 | 200 |  298 | 135 |  239 | ⋯ |  127 |  196 | 133 |  199 | 107 |   73 |  111 |  159 |  143 |  321 |\n",
       "| ENSG00000001461 | 1331 | 1927 | 310 | 506 |  769 |  898 | 957 | 1447 | 823 | 1045 | ⋯ |  976 | 1416 | 985 | 1247 | 603 |  381 |  688 | 1088 |  572 | 2075 |\n",
       "\n"
      ],
      "text/plain": [
       "                X3597_1_97_B_AACGTGAT X3597_2_97_S_AAACATCG\n",
       "ENSG00000000457  421                   869                 \n",
       "ENSG00000000460  213                   267                 \n",
       "ENSG00000000938  171                   359                 \n",
       "ENSG00000000971  732                   849                 \n",
       "ENSG00000001460  178                   231                 \n",
       "ENSG00000001461 1331                  1927                 \n",
       "                X3597_3_2046_B_ATGCCTAA X3597_4_2046_S_AGTGGTCA\n",
       "ENSG00000000457 347                     463                    \n",
       "ENSG00000000460 223                     630                    \n",
       "ENSG00000000938 224                     156                    \n",
       "ENSG00000000971 408                     176                    \n",
       "ENSG00000001460  73                     147                    \n",
       "ENSG00000001461 310                     506                    \n",
       "                X3597_5_2271_B_ACCACTGT X3597_6_2271_S_ACATTGGC\n",
       "ENSG00000000457 1286                     463                   \n",
       "ENSG00000000460 1080                     431                   \n",
       "ENSG00000000938   88                     168                   \n",
       "ENSG00000000971  748                    2618                   \n",
       "ENSG00000001460   96                     168                   \n",
       "ENSG00000001461  769                     898                   \n",
       "                X3597_7_2472_B_CAGATCTG X3597_8_2472_S_CATCAAGT\n",
       "ENSG00000000457 616                      561                   \n",
       "ENSG00000000460 780                      630                   \n",
       "ENSG00000000938 169                      176                   \n",
       "ENSG00000000971 446                      986                   \n",
       "ENSG00000001460 200                      298                   \n",
       "ENSG00000001461 957                     1447                   \n",
       "                X3597_9_2492_B_CGCTGATC X3597_10_2492_S_ACAAGCTA ⋯\n",
       "ENSG00000000457 573                      377                     ⋯\n",
       "ENSG00000000460 172                      225                     ⋯\n",
       "ENSG00000000938 314                      278                     ⋯\n",
       "ENSG00000000971 645                     1398                     ⋯\n",
       "ENSG00000001460 135                      239                     ⋯\n",
       "ENSG00000001461 823                     1045                     ⋯\n",
       "                X3597_31_3036_B_CAAGACTA X3597_32_3036_S_CAATGGAA\n",
       "ENSG00000000457  418                      612                    \n",
       "ENSG00000000460  109                      201                    \n",
       "ENSG00000000938  140                      315                    \n",
       "ENSG00000000971 2445                     5015                    \n",
       "ENSG00000001460  127                      196                    \n",
       "ENSG00000001461  976                     1416                    \n",
       "                X3597_33_3065_B_CACTTCGA X3597_34_3065_S_CAGCGTTA\n",
       "ENSG00000000457 270                       491                    \n",
       "ENSG00000000460 150                        93                    \n",
       "ENSG00000000938 195                       122                    \n",
       "ENSG00000000971 984                      3681                    \n",
       "ENSG00000001460 133                       199                    \n",
       "ENSG00000001461 985                      1247                    \n",
       "                X3597_35_3067_B_CATACCAA X3597_36_3067_S_CCAGTTCA\n",
       "ENSG00000000457 460                       307                    \n",
       "ENSG00000000460 164                        88                    \n",
       "ENSG00000000938 107                       192                    \n",
       "ENSG00000000971 680                      2111                    \n",
       "ENSG00000001460 107                        73                    \n",
       "ENSG00000001461 603                       381                    \n",
       "                X3597_37_3130_B_CCGAAGTA X3597_38_3130_S_CCGTGAGA\n",
       "ENSG00000000457  686                      880                    \n",
       "ENSG00000000460  143                      156                    \n",
       "ENSG00000000938   74                      106                    \n",
       "ENSG00000000971 1498                     3038                    \n",
       "ENSG00000001460  111                      159                    \n",
       "ENSG00000001461  688                     1088                    \n",
       "                X3597_39_3161_B_CCTCCTGA X3597_40_3161_S_CGAACTTA\n",
       "ENSG00000000457  399                     1722                    \n",
       "ENSG00000000460  114                      254                    \n",
       "ENSG00000000938   68                       94                    \n",
       "ENSG00000000971 1675                     1926                    \n",
       "ENSG00000001460  143                      321                    \n",
       "ENSG00000001461  572                     2075                    "
      ]
     },
     "metadata": {},
     "output_type": "display_data"
    }
   ],
   "source": [
    "matrix <- as.matrix(counts)\n",
    "head(matrix)"
   ]
  },
  {
   "cell_type": "code",
   "execution_count": 11,
   "id": "5ba7f223",
   "metadata": {
    "vscode": {
     "languageId": "r"
    }
   },
   "outputs": [],
   "source": [
    "# create coldata while cleaning a bit the column names\n",
    "cond <- cbind(c(colnames(matrix)),\n",
    "        c(sapply(strsplit(colnames(matrix), \"_\"),`[`, 3)),\n",
    "        c(sapply(strsplit(colnames(matrix), \"_\"),`[`, 4)))\n",
    "colnames(cond) = c('Name', 'pat','resp')\n",
    "row.names(cond) = colnames(matrix)\n",
    "colData = as.data.frame(cond)"
   ]
  },
  {
   "cell_type": "code",
   "execution_count": 12,
   "id": "2c92ec07",
   "metadata": {
    "vscode": {
     "languageId": "r"
    }
   },
   "outputs": [],
   "source": [
    "colData = colData  %>% mutate(resp2 = ifelse(resp==\"B\",\"pre\",\"post\"))"
   ]
  },
  {
   "cell_type": "code",
   "execution_count": 13,
   "id": "7d012042",
   "metadata": {
    "vscode": {
     "languageId": "r"
    }
   },
   "outputs": [],
   "source": [
    "colnames(table1)[colnames(table1) == \"StudyID\"] <- \"pat\""
   ]
  },
  {
   "cell_type": "code",
   "execution_count": 14,
   "id": "e49953d1",
   "metadata": {
    "vscode": {
     "languageId": "r"
    }
   },
   "outputs": [
    {
     "data": {
      "text/html": [
       "<table class=\"dataframe\">\n",
       "<caption>A data.frame: 6 × 4</caption>\n",
       "<thead>\n",
       "\t<tr><th></th><th scope=col>Name</th><th scope=col>pat</th><th scope=col>resp</th><th scope=col>resp2</th></tr>\n",
       "\t<tr><th></th><th scope=col>&lt;chr&gt;</th><th scope=col>&lt;chr&gt;</th><th scope=col>&lt;chr&gt;</th><th scope=col>&lt;chr&gt;</th></tr>\n",
       "</thead>\n",
       "<tbody>\n",
       "\t<tr><th scope=row>X3597_1_97_B_AACGTGAT</th><td>X3597_1_97_B_AACGTGAT  </td><td>97  </td><td>B</td><td>pre </td></tr>\n",
       "\t<tr><th scope=row>X3597_2_97_S_AAACATCG</th><td>X3597_2_97_S_AAACATCG  </td><td>97  </td><td>S</td><td>post</td></tr>\n",
       "\t<tr><th scope=row>X3597_3_2046_B_ATGCCTAA</th><td>X3597_3_2046_B_ATGCCTAA</td><td>2046</td><td>B</td><td>pre </td></tr>\n",
       "\t<tr><th scope=row>X3597_4_2046_S_AGTGGTCA</th><td>X3597_4_2046_S_AGTGGTCA</td><td>2046</td><td>S</td><td>post</td></tr>\n",
       "\t<tr><th scope=row>X3597_5_2271_B_ACCACTGT</th><td>X3597_5_2271_B_ACCACTGT</td><td>2271</td><td>B</td><td>pre </td></tr>\n",
       "\t<tr><th scope=row>X3597_6_2271_S_ACATTGGC</th><td>X3597_6_2271_S_ACATTGGC</td><td>2271</td><td>S</td><td>post</td></tr>\n",
       "</tbody>\n",
       "</table>\n"
      ],
      "text/latex": [
       "A data.frame: 6 × 4\n",
       "\\begin{tabular}{r|llll}\n",
       "  & Name & pat & resp & resp2\\\\\n",
       "  & <chr> & <chr> & <chr> & <chr>\\\\\n",
       "\\hline\n",
       "\tX3597\\_1\\_97\\_B\\_AACGTGAT & X3597\\_1\\_97\\_B\\_AACGTGAT   & 97   & B & pre \\\\\n",
       "\tX3597\\_2\\_97\\_S\\_AAACATCG & X3597\\_2\\_97\\_S\\_AAACATCG   & 97   & S & post\\\\\n",
       "\tX3597\\_3\\_2046\\_B\\_ATGCCTAA & X3597\\_3\\_2046\\_B\\_ATGCCTAA & 2046 & B & pre \\\\\n",
       "\tX3597\\_4\\_2046\\_S\\_AGTGGTCA & X3597\\_4\\_2046\\_S\\_AGTGGTCA & 2046 & S & post\\\\\n",
       "\tX3597\\_5\\_2271\\_B\\_ACCACTGT & X3597\\_5\\_2271\\_B\\_ACCACTGT & 2271 & B & pre \\\\\n",
       "\tX3597\\_6\\_2271\\_S\\_ACATTGGC & X3597\\_6\\_2271\\_S\\_ACATTGGC & 2271 & S & post\\\\\n",
       "\\end{tabular}\n"
      ],
      "text/markdown": [
       "\n",
       "A data.frame: 6 × 4\n",
       "\n",
       "| <!--/--> | Name &lt;chr&gt; | pat &lt;chr&gt; | resp &lt;chr&gt; | resp2 &lt;chr&gt; |\n",
       "|---|---|---|---|---|\n",
       "| X3597_1_97_B_AACGTGAT | X3597_1_97_B_AACGTGAT   | 97   | B | pre  |\n",
       "| X3597_2_97_S_AAACATCG | X3597_2_97_S_AAACATCG   | 97   | S | post |\n",
       "| X3597_3_2046_B_ATGCCTAA | X3597_3_2046_B_ATGCCTAA | 2046 | B | pre  |\n",
       "| X3597_4_2046_S_AGTGGTCA | X3597_4_2046_S_AGTGGTCA | 2046 | S | post |\n",
       "| X3597_5_2271_B_ACCACTGT | X3597_5_2271_B_ACCACTGT | 2271 | B | pre  |\n",
       "| X3597_6_2271_S_ACATTGGC | X3597_6_2271_S_ACATTGGC | 2271 | S | post |\n",
       "\n"
      ],
      "text/plain": [
       "                        Name                    pat  resp resp2\n",
       "X3597_1_97_B_AACGTGAT   X3597_1_97_B_AACGTGAT   97   B    pre  \n",
       "X3597_2_97_S_AAACATCG   X3597_2_97_S_AAACATCG   97   S    post \n",
       "X3597_3_2046_B_ATGCCTAA X3597_3_2046_B_ATGCCTAA 2046 B    pre  \n",
       "X3597_4_2046_S_AGTGGTCA X3597_4_2046_S_AGTGGTCA 2046 S    post \n",
       "X3597_5_2271_B_ACCACTGT X3597_5_2271_B_ACCACTGT 2271 B    pre  \n",
       "X3597_6_2271_S_ACATTGGC X3597_6_2271_S_ACATTGGC 2271 S    post "
      ]
     },
     "metadata": {},
     "output_type": "display_data"
    }
   ],
   "source": [
    "colData  %>%  head"
   ]
  },
  {
   "cell_type": "code",
   "execution_count": 15,
   "id": "5a9d33dc",
   "metadata": {
    "vscode": {
     "languageId": "r"
    }
   },
   "outputs": [],
   "source": [
    "table1 = table1  %>% mutate(pat = as.character(pat))"
   ]
  },
  {
   "cell_type": "code",
   "execution_count": 16,
   "id": "01cb9e20",
   "metadata": {
    "vscode": {
     "languageId": "r"
    }
   },
   "outputs": [],
   "source": [
    "colData = left_join(colData,table1,by=\"pat\")"
   ]
  },
  {
   "cell_type": "code",
   "execution_count": 17,
   "id": "213441cc",
   "metadata": {
    "vscode": {
     "languageId": "r"
    }
   },
   "outputs": [
    {
     "data": {
      "text/html": [
       "<table class=\"dataframe\">\n",
       "<caption>A data.frame: 6 × 21</caption>\n",
       "<thead>\n",
       "\t<tr><th></th><th scope=col>Name</th><th scope=col>pat</th><th scope=col>resp</th><th scope=col>resp2</th><th scope=col>Histology</th><th scope=col>Regimen</th><th scope=col>NRI</th><th scope=col>RCB</th><th scope=col>Grade</th><th scope=col>T-stage</th><th scope=col>⋯</th><th scope=col>Subtype</th><th scope=col>Recurrence</th><th scope=col>Recurrence location</th><th scope=col>Vital status</th><th scope=col>Exome seq</th><th scope=col>RNA seq</th><th scope=col>DNA_pre_TP</th><th scope=col>DNA_post_TP</th><th scope=col>RNA_pre_TP</th><th scope=col>RNA_post_TP</th></tr>\n",
       "\t<tr><th></th><th scope=col>&lt;chr&gt;</th><th scope=col>&lt;chr&gt;</th><th scope=col>&lt;chr&gt;</th><th scope=col>&lt;chr&gt;</th><th scope=col>&lt;chr&gt;</th><th scope=col>&lt;chr&gt;</th><th scope=col>&lt;chr&gt;</th><th scope=col>&lt;chr&gt;</th><th scope=col>&lt;chr&gt;</th><th scope=col>&lt;dbl&gt;</th><th scope=col>⋯</th><th scope=col>&lt;chr&gt;</th><th scope=col>&lt;dbl&gt;</th><th scope=col>&lt;chr&gt;</th><th scope=col>&lt;chr&gt;</th><th scope=col>&lt;dbl&gt;</th><th scope=col>&lt;dbl&gt;</th><th scope=col>&lt;chr&gt;</th><th scope=col>&lt;dbl&gt;</th><th scope=col>&lt;chr&gt;</th><th scope=col>&lt;dbl&gt;</th></tr>\n",
       "</thead>\n",
       "<tbody>\n",
       "\t<tr><th scope=row>1</th><td>X3597_1_97_B_AACGTGAT  </td><td>97  </td><td>B</td><td>pre </td><td>IDC</td><td>6× ddAC</td><td>0.33</td><td>2</td><td>NA</td><td>2</td><td>⋯</td><td>LUM</td><td>0</td><td>NA                                      </td><td>A</td><td>1</td><td>1</td><td>70</td><td>80</td><td>70</td><td>75</td></tr>\n",
       "\t<tr><th scope=row>2</th><td>X3597_2_97_S_AAACATCG  </td><td>97  </td><td>S</td><td>post</td><td>IDC</td><td>6× ddAC</td><td>0.33</td><td>2</td><td>NA</td><td>2</td><td>⋯</td><td>LUM</td><td>0</td><td>NA                                      </td><td>A</td><td>1</td><td>1</td><td>70</td><td>80</td><td>70</td><td>75</td></tr>\n",
       "\t<tr><th scope=row>3</th><td>X3597_3_2046_B_ATGCCTAA</td><td>2046</td><td>B</td><td>pre </td><td>IDC</td><td>6× ddAC</td><td>0   </td><td>3</td><td>3 </td><td>2</td><td>⋯</td><td>TN </td><td>1</td><td>Liver                                   </td><td>D</td><td>1</td><td>1</td><td>70</td><td>70</td><td>50</td><td>70</td></tr>\n",
       "\t<tr><th scope=row>4</th><td>X3597_4_2046_S_AGTGGTCA</td><td>2046</td><td>S</td><td>post</td><td>IDC</td><td>6× ddAC</td><td>0   </td><td>3</td><td>3 </td><td>2</td><td>⋯</td><td>TN </td><td>1</td><td>Liver                                   </td><td>D</td><td>1</td><td>1</td><td>70</td><td>70</td><td>50</td><td>70</td></tr>\n",
       "\t<tr><th scope=row>5</th><td>X3597_5_2271_B_ACCACTGT</td><td>2271</td><td>B</td><td>pre </td><td>IDC</td><td>6× ddAC</td><td>0.33</td><td>2</td><td>3 </td><td>2</td><td>⋯</td><td>TN </td><td>1</td><td>Thorax, lymph, contralateral mamma, skin</td><td>D</td><td>1</td><td>1</td><td>80</td><td>55</td><td>90</td><td>55</td></tr>\n",
       "\t<tr><th scope=row>6</th><td>X3597_6_2271_S_ACATTGGC</td><td>2271</td><td>S</td><td>post</td><td>IDC</td><td>6× ddAC</td><td>0.33</td><td>2</td><td>3 </td><td>2</td><td>⋯</td><td>TN </td><td>1</td><td>Thorax, lymph, contralateral mamma, skin</td><td>D</td><td>1</td><td>1</td><td>80</td><td>55</td><td>90</td><td>55</td></tr>\n",
       "</tbody>\n",
       "</table>\n"
      ],
      "text/latex": [
       "A data.frame: 6 × 21\n",
       "\\begin{tabular}{r|lllllllllllllllllllll}\n",
       "  & Name & pat & resp & resp2 & Histology & Regimen & NRI & RCB & Grade & T-stage & ⋯ & Subtype & Recurrence & Recurrence location & Vital status & Exome seq & RNA seq & DNA\\_pre\\_TP & DNA\\_post\\_TP & RNA\\_pre\\_TP & RNA\\_post\\_TP\\\\\n",
       "  & <chr> & <chr> & <chr> & <chr> & <chr> & <chr> & <chr> & <chr> & <chr> & <dbl> & ⋯ & <chr> & <dbl> & <chr> & <chr> & <dbl> & <dbl> & <chr> & <dbl> & <chr> & <dbl>\\\\\n",
       "\\hline\n",
       "\t1 & X3597\\_1\\_97\\_B\\_AACGTGAT   & 97   & B & pre  & IDC & 6× ddAC & 0.33 & 2 & NA & 2 & ⋯ & LUM & 0 & NA                                       & A & 1 & 1 & 70 & 80 & 70 & 75\\\\\n",
       "\t2 & X3597\\_2\\_97\\_S\\_AAACATCG   & 97   & S & post & IDC & 6× ddAC & 0.33 & 2 & NA & 2 & ⋯ & LUM & 0 & NA                                       & A & 1 & 1 & 70 & 80 & 70 & 75\\\\\n",
       "\t3 & X3597\\_3\\_2046\\_B\\_ATGCCTAA & 2046 & B & pre  & IDC & 6× ddAC & 0    & 3 & 3  & 2 & ⋯ & TN  & 1 & Liver                                    & D & 1 & 1 & 70 & 70 & 50 & 70\\\\\n",
       "\t4 & X3597\\_4\\_2046\\_S\\_AGTGGTCA & 2046 & S & post & IDC & 6× ddAC & 0    & 3 & 3  & 2 & ⋯ & TN  & 1 & Liver                                    & D & 1 & 1 & 70 & 70 & 50 & 70\\\\\n",
       "\t5 & X3597\\_5\\_2271\\_B\\_ACCACTGT & 2271 & B & pre  & IDC & 6× ddAC & 0.33 & 2 & 3  & 2 & ⋯ & TN  & 1 & Thorax, lymph, contralateral mamma, skin & D & 1 & 1 & 80 & 55 & 90 & 55\\\\\n",
       "\t6 & X3597\\_6\\_2271\\_S\\_ACATTGGC & 2271 & S & post & IDC & 6× ddAC & 0.33 & 2 & 3  & 2 & ⋯ & TN  & 1 & Thorax, lymph, contralateral mamma, skin & D & 1 & 1 & 80 & 55 & 90 & 55\\\\\n",
       "\\end{tabular}\n"
      ],
      "text/markdown": [
       "\n",
       "A data.frame: 6 × 21\n",
       "\n",
       "| <!--/--> | Name &lt;chr&gt; | pat &lt;chr&gt; | resp &lt;chr&gt; | resp2 &lt;chr&gt; | Histology &lt;chr&gt; | Regimen &lt;chr&gt; | NRI &lt;chr&gt; | RCB &lt;chr&gt; | Grade &lt;chr&gt; | T-stage &lt;dbl&gt; | ⋯ ⋯ | Subtype &lt;chr&gt; | Recurrence &lt;dbl&gt; | Recurrence location &lt;chr&gt; | Vital status &lt;chr&gt; | Exome seq &lt;dbl&gt; | RNA seq &lt;dbl&gt; | DNA_pre_TP &lt;chr&gt; | DNA_post_TP &lt;dbl&gt; | RNA_pre_TP &lt;chr&gt; | RNA_post_TP &lt;dbl&gt; |\n",
       "|---|---|---|---|---|---|---|---|---|---|---|---|---|---|---|---|---|---|---|---|---|---|\n",
       "| 1 | X3597_1_97_B_AACGTGAT   | 97   | B | pre  | IDC | 6× ddAC | 0.33 | 2 | NA | 2 | ⋯ | LUM | 0 | NA                                       | A | 1 | 1 | 70 | 80 | 70 | 75 |\n",
       "| 2 | X3597_2_97_S_AAACATCG   | 97   | S | post | IDC | 6× ddAC | 0.33 | 2 | NA | 2 | ⋯ | LUM | 0 | NA                                       | A | 1 | 1 | 70 | 80 | 70 | 75 |\n",
       "| 3 | X3597_3_2046_B_ATGCCTAA | 2046 | B | pre  | IDC | 6× ddAC | 0    | 3 | 3  | 2 | ⋯ | TN  | 1 | Liver                                    | D | 1 | 1 | 70 | 70 | 50 | 70 |\n",
       "| 4 | X3597_4_2046_S_AGTGGTCA | 2046 | S | post | IDC | 6× ddAC | 0    | 3 | 3  | 2 | ⋯ | TN  | 1 | Liver                                    | D | 1 | 1 | 70 | 70 | 50 | 70 |\n",
       "| 5 | X3597_5_2271_B_ACCACTGT | 2271 | B | pre  | IDC | 6× ddAC | 0.33 | 2 | 3  | 2 | ⋯ | TN  | 1 | Thorax, lymph, contralateral mamma, skin | D | 1 | 1 | 80 | 55 | 90 | 55 |\n",
       "| 6 | X3597_6_2271_S_ACATTGGC | 2271 | S | post | IDC | 6× ddAC | 0.33 | 2 | 3  | 2 | ⋯ | TN  | 1 | Thorax, lymph, contralateral mamma, skin | D | 1 | 1 | 80 | 55 | 90 | 55 |\n",
       "\n"
      ],
      "text/plain": [
       "  Name                    pat  resp resp2 Histology Regimen NRI  RCB Grade\n",
       "1 X3597_1_97_B_AACGTGAT   97   B    pre   IDC       6× ddAC 0.33 2   NA   \n",
       "2 X3597_2_97_S_AAACATCG   97   S    post  IDC       6× ddAC 0.33 2   NA   \n",
       "3 X3597_3_2046_B_ATGCCTAA 2046 B    pre   IDC       6× ddAC 0    3   3    \n",
       "4 X3597_4_2046_S_AGTGGTCA 2046 S    post  IDC       6× ddAC 0    3   3    \n",
       "5 X3597_5_2271_B_ACCACTGT 2271 B    pre   IDC       6× ddAC 0.33 2   3    \n",
       "6 X3597_6_2271_S_ACATTGGC 2271 S    post  IDC       6× ddAC 0.33 2   3    \n",
       "  T-stage ⋯ Subtype Recurrence Recurrence location                     \n",
       "1 2       ⋯ LUM     0          NA                                      \n",
       "2 2       ⋯ LUM     0          NA                                      \n",
       "3 2       ⋯ TN      1          Liver                                   \n",
       "4 2       ⋯ TN      1          Liver                                   \n",
       "5 2       ⋯ TN      1          Thorax, lymph, contralateral mamma, skin\n",
       "6 2       ⋯ TN      1          Thorax, lymph, contralateral mamma, skin\n",
       "  Vital status Exome seq RNA seq DNA_pre_TP DNA_post_TP RNA_pre_TP RNA_post_TP\n",
       "1 A            1         1       70         80          70         75         \n",
       "2 A            1         1       70         80          70         75         \n",
       "3 D            1         1       70         70          50         70         \n",
       "4 D            1         1       70         70          50         70         \n",
       "5 D            1         1       80         55          90         55         \n",
       "6 D            1         1       80         55          90         55         "
      ]
     },
     "metadata": {},
     "output_type": "display_data"
    }
   ],
   "source": [
    "head(colData)"
   ]
  },
  {
   "cell_type": "code",
   "execution_count": 20,
   "id": "7ff7ec36",
   "metadata": {
    "vscode": {
     "languageId": "r"
    }
   },
   "outputs": [
    {
     "name": "stderr",
     "output_type": "stream",
     "text": [
      "Warning message in DESeqDataSet(se, design = design, ignoreRank):\n",
      "\"some variables in design formula are characters, converting to factors\"\n"
     ]
    }
   ],
   "source": [
    "# create DESeq object and in the design formula we include the patient as covariate and the response as the main factor\n",
    "dds <- DESeqDataSetFromMatrix(countData=matrix, \n",
    "                              colData=colData, \n",
    "                              design=~resp2 + pat)"
   ]
  },
  {
   "cell_type": "code",
   "execution_count": 21,
   "id": "6124ba07",
   "metadata": {
    "vscode": {
     "languageId": "r"
    }
   },
   "outputs": [
    {
     "name": "stderr",
     "output_type": "stream",
     "text": [
      "estimating size factors\n",
      "\n",
      "estimating dispersions\n",
      "\n",
      "gene-wise dispersion estimates\n",
      "\n",
      "mean-dispersion relationship\n",
      "\n",
      "final dispersion estimates\n",
      "\n",
      "fitting model and testing\n",
      "\n"
     ]
    }
   ],
   "source": [
    "dds <- DESeq(dds)"
   ]
  },
  {
   "cell_type": "code",
   "execution_count": 26,
   "id": "ca7b52a9",
   "metadata": {
    "vscode": {
     "languageId": "r"
    }
   },
   "outputs": [],
   "source": [
    "fold=\"../../breast/\""
   ]
  },
  {
   "cell_type": "code",
   "execution_count": 22,
   "id": "91a67db2",
   "metadata": {
    "vscode": {
     "languageId": "r"
    }
   },
   "outputs": [],
   "source": [
    "#checking at the results of the comparison between pre and post treatment\n",
    "res <- results(dds,c('resp2',\"post\", \"pre\"))\n",
    "res <- res[order(res$padj), ]"
   ]
  },
  {
   "cell_type": "code",
   "execution_count": 23,
   "id": "61a67fce",
   "metadata": {
    "vscode": {
     "languageId": "r"
    }
   },
   "outputs": [],
   "source": [
    "resdata <- merge(as.data.frame(res), as.data.frame(counts(dds, normalized=TRUE)), by=\"row.names\", sort=FALSE)"
   ]
  },
  {
   "cell_type": "code",
   "execution_count": 30,
   "id": "7d798b62",
   "metadata": {
    "vscode": {
     "languageId": "r"
    }
   },
   "outputs": [
    {
     "data": {
      "text/html": [
       "<table class=\"dataframe\">\n",
       "<caption>A data.frame: 6 × 7</caption>\n",
       "<thead>\n",
       "\t<tr><th></th><th scope=col>ensembl_gene_id</th><th scope=col>gene_biotype</th><th scope=col>chromosome_name</th><th scope=col>start_position</th><th scope=col>end_position</th><th scope=col>external_gene_id</th><th scope=col>description</th></tr>\n",
       "\t<tr><th></th><th scope=col>&lt;chr&gt;</th><th scope=col>&lt;chr&gt;</th><th scope=col>&lt;chr&gt;</th><th scope=col>&lt;int&gt;</th><th scope=col>&lt;int&gt;</th><th scope=col>&lt;chr&gt;</th><th scope=col>&lt;chr&gt;</th></tr>\n",
       "</thead>\n",
       "<tbody>\n",
       "\t<tr><th scope=row>1</th><td>ENSG00000000457</td><td>protein_coding</td><td>1</td><td>169818772</td><td>169863408</td><td>SCYL3   </td><td>SCY1-like 3 (S. cerevisiae) [Source:HGNC Symbol;Acc:19285]                         </td></tr>\n",
       "\t<tr><th scope=row>2</th><td>ENSG00000000460</td><td>protein_coding</td><td>1</td><td>169631245</td><td>169823221</td><td>C1orf112</td><td>chromosome 1 open reading frame 112 [Source:HGNC Symbol;Acc:25565]                 </td></tr>\n",
       "\t<tr><th scope=row>3</th><td>ENSG00000000938</td><td>protein_coding</td><td>1</td><td> 27938575</td><td> 27961788</td><td>FGR     </td><td>feline Gardner-Rasheed sarcoma viral oncogene homolog [Source:HGNC Symbol;Acc:3697]</td></tr>\n",
       "\t<tr><th scope=row>4</th><td>ENSG00000000971</td><td>protein_coding</td><td>1</td><td>196621008</td><td>196716634</td><td>CFH     </td><td>complement factor H [Source:HGNC Symbol;Acc:4883]                                  </td></tr>\n",
       "\t<tr><th scope=row>5</th><td>ENSG00000001460</td><td>protein_coding</td><td>1</td><td> 24683489</td><td> 24743424</td><td>STPG1   </td><td>sperm-tail PG-rich repeat containing 1 [Source:HGNC Symbol;Acc:28070]              </td></tr>\n",
       "\t<tr><th scope=row>6</th><td>ENSG00000001461</td><td>protein_coding</td><td>1</td><td> 24742284</td><td> 24799466</td><td>NIPAL3  </td><td>NIPA-like domain containing 3 [Source:HGNC Symbol;Acc:25233]                       </td></tr>\n",
       "</tbody>\n",
       "</table>\n"
      ],
      "text/latex": [
       "A data.frame: 6 × 7\n",
       "\\begin{tabular}{r|lllllll}\n",
       "  & ensembl\\_gene\\_id & gene\\_biotype & chromosome\\_name & start\\_position & end\\_position & external\\_gene\\_id & description\\\\\n",
       "  & <chr> & <chr> & <chr> & <int> & <int> & <chr> & <chr>\\\\\n",
       "\\hline\n",
       "\t1 & ENSG00000000457 & protein\\_coding & 1 & 169818772 & 169863408 & SCYL3    & SCY1-like 3 (S. cerevisiae) {[}Source:HGNC Symbol;Acc:19285{]}                         \\\\\n",
       "\t2 & ENSG00000000460 & protein\\_coding & 1 & 169631245 & 169823221 & C1orf112 & chromosome 1 open reading frame 112 {[}Source:HGNC Symbol;Acc:25565{]}                 \\\\\n",
       "\t3 & ENSG00000000938 & protein\\_coding & 1 &  27938575 &  27961788 & FGR      & feline Gardner-Rasheed sarcoma viral oncogene homolog {[}Source:HGNC Symbol;Acc:3697{]}\\\\\n",
       "\t4 & ENSG00000000971 & protein\\_coding & 1 & 196621008 & 196716634 & CFH      & complement factor H {[}Source:HGNC Symbol;Acc:4883{]}                                  \\\\\n",
       "\t5 & ENSG00000001460 & protein\\_coding & 1 &  24683489 &  24743424 & STPG1    & sperm-tail PG-rich repeat containing 1 {[}Source:HGNC Symbol;Acc:28070{]}              \\\\\n",
       "\t6 & ENSG00000001461 & protein\\_coding & 1 &  24742284 &  24799466 & NIPAL3   & NIPA-like domain containing 3 {[}Source:HGNC Symbol;Acc:25233{]}                       \\\\\n",
       "\\end{tabular}\n"
      ],
      "text/markdown": [
       "\n",
       "A data.frame: 6 × 7\n",
       "\n",
       "| <!--/--> | ensembl_gene_id &lt;chr&gt; | gene_biotype &lt;chr&gt; | chromosome_name &lt;chr&gt; | start_position &lt;int&gt; | end_position &lt;int&gt; | external_gene_id &lt;chr&gt; | description &lt;chr&gt; |\n",
       "|---|---|---|---|---|---|---|---|\n",
       "| 1 | ENSG00000000457 | protein_coding | 1 | 169818772 | 169863408 | SCYL3    | SCY1-like 3 (S. cerevisiae) [Source:HGNC Symbol;Acc:19285]                          |\n",
       "| 2 | ENSG00000000460 | protein_coding | 1 | 169631245 | 169823221 | C1orf112 | chromosome 1 open reading frame 112 [Source:HGNC Symbol;Acc:25565]                  |\n",
       "| 3 | ENSG00000000938 | protein_coding | 1 |  27938575 |  27961788 | FGR      | feline Gardner-Rasheed sarcoma viral oncogene homolog [Source:HGNC Symbol;Acc:3697] |\n",
       "| 4 | ENSG00000000971 | protein_coding | 1 | 196621008 | 196716634 | CFH      | complement factor H [Source:HGNC Symbol;Acc:4883]                                   |\n",
       "| 5 | ENSG00000001460 | protein_coding | 1 |  24683489 |  24743424 | STPG1    | sperm-tail PG-rich repeat containing 1 [Source:HGNC Symbol;Acc:28070]               |\n",
       "| 6 | ENSG00000001461 | protein_coding | 1 |  24742284 |  24799466 | NIPAL3   | NIPA-like domain containing 3 [Source:HGNC Symbol;Acc:25233]                        |\n",
       "\n"
      ],
      "text/plain": [
       "  ensembl_gene_id gene_biotype   chromosome_name start_position end_position\n",
       "1 ENSG00000000457 protein_coding 1               169818772      169863408   \n",
       "2 ENSG00000000460 protein_coding 1               169631245      169823221   \n",
       "3 ENSG00000000938 protein_coding 1                27938575       27961788   \n",
       "4 ENSG00000000971 protein_coding 1               196621008      196716634   \n",
       "5 ENSG00000001460 protein_coding 1                24683489       24743424   \n",
       "6 ENSG00000001461 protein_coding 1                24742284       24799466   \n",
       "  external_gene_id\n",
       "1 SCYL3           \n",
       "2 C1orf112        \n",
       "3 FGR             \n",
       "4 CFH             \n",
       "5 STPG1           \n",
       "6 NIPAL3          \n",
       "  description                                                                        \n",
       "1 SCY1-like 3 (S. cerevisiae) [Source:HGNC Symbol;Acc:19285]                         \n",
       "2 chromosome 1 open reading frame 112 [Source:HGNC Symbol;Acc:25565]                 \n",
       "3 feline Gardner-Rasheed sarcoma viral oncogene homolog [Source:HGNC Symbol;Acc:3697]\n",
       "4 complement factor H [Source:HGNC Symbol;Acc:4883]                                  \n",
       "5 sperm-tail PG-rich repeat containing 1 [Source:HGNC Symbol;Acc:28070]              \n",
       "6 NIPA-like domain containing 3 [Source:HGNC Symbol;Acc:25233]                       "
      ]
     },
     "metadata": {},
     "output_type": "display_data"
    }
   ],
   "source": [
    "metadata %>%  head"
   ]
  },
  {
   "cell_type": "code",
   "execution_count": 32,
   "id": "39b3e66d",
   "metadata": {
    "vscode": {
     "languageId": "r"
    }
   },
   "outputs": [],
   "source": [
    "#renaming the first column to Gene for both the results and the metadata\n",
    "names(resdata)[1] <- \"Gene\"\n",
    "metadata = metadata  %>%  rename(\"Gene\" = ensembl_gene_id)"
   ]
  },
  {
   "cell_type": "code",
   "execution_count": 33,
   "id": "d094903c",
   "metadata": {
    "vscode": {
     "languageId": "r"
    }
   },
   "outputs": [],
   "source": [
    "resdata = resdata  %>% left_join(metadata, by = \"Gene\")"
   ]
  },
  {
   "cell_type": "code",
   "execution_count": 34,
   "id": "fb4e7779",
   "metadata": {
    "vscode": {
     "languageId": "r"
    }
   },
   "outputs": [
    {
     "data": {
      "text/html": [
       "<table class=\"dataframe\">\n",
       "<caption>A data.frame: 6 × 53</caption>\n",
       "<thead>\n",
       "\t<tr><th></th><th scope=col>Gene</th><th scope=col>baseMean</th><th scope=col>log2FoldChange</th><th scope=col>lfcSE</th><th scope=col>stat</th><th scope=col>pvalue</th><th scope=col>padj</th><th scope=col>X3597_1_97_B_AACGTGAT</th><th scope=col>X3597_2_97_S_AAACATCG</th><th scope=col>X3597_3_2046_B_ATGCCTAA</th><th scope=col>⋯</th><th scope=col>X3597_37_3130_B_CCGAAGTA</th><th scope=col>X3597_38_3130_S_CCGTGAGA</th><th scope=col>X3597_39_3161_B_CCTCCTGA</th><th scope=col>X3597_40_3161_S_CGAACTTA</th><th scope=col>gene_biotype</th><th scope=col>chromosome_name</th><th scope=col>start_position</th><th scope=col>end_position</th><th scope=col>external_gene_id</th><th scope=col>description</th></tr>\n",
       "\t<tr><th></th><th scope=col>&lt;I&lt;chr&gt;&gt;</th><th scope=col>&lt;dbl&gt;</th><th scope=col>&lt;dbl&gt;</th><th scope=col>&lt;dbl&gt;</th><th scope=col>&lt;dbl&gt;</th><th scope=col>&lt;dbl&gt;</th><th scope=col>&lt;dbl&gt;</th><th scope=col>&lt;dbl&gt;</th><th scope=col>&lt;dbl&gt;</th><th scope=col>&lt;dbl&gt;</th><th scope=col>⋯</th><th scope=col>&lt;dbl&gt;</th><th scope=col>&lt;dbl&gt;</th><th scope=col>&lt;dbl&gt;</th><th scope=col>&lt;dbl&gt;</th><th scope=col>&lt;chr&gt;</th><th scope=col>&lt;chr&gt;</th><th scope=col>&lt;int&gt;</th><th scope=col>&lt;int&gt;</th><th scope=col>&lt;chr&gt;</th><th scope=col>&lt;chr&gt;</th></tr>\n",
       "</thead>\n",
       "<tbody>\n",
       "\t<tr><th scope=row>1</th><td>ENSG00000164949</td><td> 894.20841</td><td> 2.3117461</td><td>0.19149848</td><td>12.071877</td><td>1.487038e-33</td><td>3.223006e-29</td><td> 90.46093</td><td> 574.38966</td><td>148.97396</td><td>⋯</td><td> 326.77607</td><td> 1303.398839</td><td> 434.40655</td><td> 1019.51460</td><td>protein_coding</td><td>8 </td><td> 95261481</td><td> 95274578</td><td>GEM    </td><td>GTP binding protein overexpressed in skeletal muscle [Source:HGNC Symbol;Acc:4234]</td></tr>\n",
       "\t<tr><th scope=row>2</th><td>ENSG00000187955</td><td>6083.70690</td><td> 2.3808647</td><td>0.22043253</td><td>10.800877</td><td>3.409310e-27</td><td>3.694669e-23</td><td>534.98400</td><td>2415.72734</td><td> 77.14723</td><td>⋯</td><td>6159.90344</td><td>23450.162070</td><td>8017.12804</td><td>13701.97234</td><td>protein_coding</td><td>8 </td><td>121072019</td><td>121384275</td><td>COL14A1</td><td>collagen, type XIV, alpha 1 [Source:HGNC Symbol;Acc:2191]                         </td></tr>\n",
       "\t<tr><th scope=row>3</th><td>ENSG00000102189</td><td> 790.03510</td><td> 0.6522355</td><td>0.06188234</td><td>10.539930</td><td>5.654070e-26</td><td>4.084877e-22</td><td>584.59160</td><td> 918.42513</td><td>474.85451</td><td>⋯</td><td> 684.95056</td><td> 1436.450606</td><td> 740.81831</td><td> 1067.17484</td><td>protein_coding</td><td>12</td><td> 93164413</td><td> 93323107</td><td>EEA1   </td><td>early endosome antigen 1 [Source:HGNC Symbol;Acc:3185]                            </td></tr>\n",
       "\t<tr><th scope=row>4</th><td>ENSG00000240184</td><td> 524.56882</td><td> 1.3468676</td><td>0.13492937</td><td> 9.982019</td><td>1.827099e-23</td><td>9.900135e-20</td><td>209.13011</td><td> 425.55692</td><td> 85.12798</td><td>⋯</td><td> 594.24404</td><td> 1511.874856</td><td> 694.27476</td><td>  914.52394</td><td>protein_coding</td><td>5 </td><td>140855580</td><td>140892542</td><td>PCDHGC3</td><td>protocadherin gamma subfamily C, 3 [Source:HGNC Symbol;Acc:8716]                  </td></tr>\n",
       "\t<tr><th scope=row>5</th><td>ENSG00000232810</td><td>  63.32949</td><td>-2.0890107</td><td>0.21000301</td><td>-9.947527</td><td>2.585269e-23</td><td>1.120663e-19</td><td> 47.66221</td><td>  29.91613</td><td>111.73047</td><td>⋯</td><td>  43.02745</td><td>    6.779708</td><td>  25.85753</td><td>    3.45364</td><td>protein_coding</td><td>6 </td><td> 31543344</td><td> 31546113</td><td>TNF    </td><td>tumor necrosis factor [Source:HGNC Symbol;Acc:11892]                              </td></tr>\n",
       "\t<tr><th scope=row>6</th><td>ENSG00000017427</td><td>1368.64534</td><td> 2.0028824</td><td>0.20303158</td><td> 9.864881</td><td>5.910437e-23</td><td>2.135047e-19</td><td>179.94916</td><td>1020.88787</td><td> 89.11835</td><td>⋯</td><td> 823.33616</td><td> 2673.747292</td><td> 562.40134</td><td> 2274.56747</td><td>protein_coding</td><td>12</td><td>102789645</td><td>102874423</td><td>IGF1   </td><td>insulin-like growth factor 1 (somatomedin C) [Source:HGNC Symbol;Acc:5464]        </td></tr>\n",
       "</tbody>\n",
       "</table>\n"
      ],
      "text/latex": [
       "A data.frame: 6 × 53\n",
       "\\begin{tabular}{r|lllllllllllllllllllll}\n",
       "  & Gene & baseMean & log2FoldChange & lfcSE & stat & pvalue & padj & X3597\\_1\\_97\\_B\\_AACGTGAT & X3597\\_2\\_97\\_S\\_AAACATCG & X3597\\_3\\_2046\\_B\\_ATGCCTAA & ⋯ & X3597\\_37\\_3130\\_B\\_CCGAAGTA & X3597\\_38\\_3130\\_S\\_CCGTGAGA & X3597\\_39\\_3161\\_B\\_CCTCCTGA & X3597\\_40\\_3161\\_S\\_CGAACTTA & gene\\_biotype & chromosome\\_name & start\\_position & end\\_position & external\\_gene\\_id & description\\\\\n",
       "  & <I<chr>> & <dbl> & <dbl> & <dbl> & <dbl> & <dbl> & <dbl> & <dbl> & <dbl> & <dbl> & ⋯ & <dbl> & <dbl> & <dbl> & <dbl> & <chr> & <chr> & <int> & <int> & <chr> & <chr>\\\\\n",
       "\\hline\n",
       "\t1 & ENSG00000164949 &  894.20841 &  2.3117461 & 0.19149848 & 12.071877 & 1.487038e-33 & 3.223006e-29 &  90.46093 &  574.38966 & 148.97396 & ⋯ &  326.77607 &  1303.398839 &  434.40655 &  1019.51460 & protein\\_coding & 8  &  95261481 &  95274578 & GEM     & GTP binding protein overexpressed in skeletal muscle {[}Source:HGNC Symbol;Acc:4234{]}\\\\\n",
       "\t2 & ENSG00000187955 & 6083.70690 &  2.3808647 & 0.22043253 & 10.800877 & 3.409310e-27 & 3.694669e-23 & 534.98400 & 2415.72734 &  77.14723 & ⋯ & 6159.90344 & 23450.162070 & 8017.12804 & 13701.97234 & protein\\_coding & 8  & 121072019 & 121384275 & COL14A1 & collagen, type XIV, alpha 1 {[}Source:HGNC Symbol;Acc:2191{]}                         \\\\\n",
       "\t3 & ENSG00000102189 &  790.03510 &  0.6522355 & 0.06188234 & 10.539930 & 5.654070e-26 & 4.084877e-22 & 584.59160 &  918.42513 & 474.85451 & ⋯ &  684.95056 &  1436.450606 &  740.81831 &  1067.17484 & protein\\_coding & 12 &  93164413 &  93323107 & EEA1    & early endosome antigen 1 {[}Source:HGNC Symbol;Acc:3185{]}                            \\\\\n",
       "\t4 & ENSG00000240184 &  524.56882 &  1.3468676 & 0.13492937 &  9.982019 & 1.827099e-23 & 9.900135e-20 & 209.13011 &  425.55692 &  85.12798 & ⋯ &  594.24404 &  1511.874856 &  694.27476 &   914.52394 & protein\\_coding & 5  & 140855580 & 140892542 & PCDHGC3 & protocadherin gamma subfamily C, 3 {[}Source:HGNC Symbol;Acc:8716{]}                  \\\\\n",
       "\t5 & ENSG00000232810 &   63.32949 & -2.0890107 & 0.21000301 & -9.947527 & 2.585269e-23 & 1.120663e-19 &  47.66221 &   29.91613 & 111.73047 & ⋯ &   43.02745 &     6.779708 &   25.85753 &     3.45364 & protein\\_coding & 6  &  31543344 &  31546113 & TNF     & tumor necrosis factor {[}Source:HGNC Symbol;Acc:11892{]}                              \\\\\n",
       "\t6 & ENSG00000017427 & 1368.64534 &  2.0028824 & 0.20303158 &  9.864881 & 5.910437e-23 & 2.135047e-19 & 179.94916 & 1020.88787 &  89.11835 & ⋯ &  823.33616 &  2673.747292 &  562.40134 &  2274.56747 & protein\\_coding & 12 & 102789645 & 102874423 & IGF1    & insulin-like growth factor 1 (somatomedin C) {[}Source:HGNC Symbol;Acc:5464{]}        \\\\\n",
       "\\end{tabular}\n"
      ],
      "text/markdown": [
       "\n",
       "A data.frame: 6 × 53\n",
       "\n",
       "| <!--/--> | Gene &lt;I&lt;chr&gt;&gt; | baseMean &lt;dbl&gt; | log2FoldChange &lt;dbl&gt; | lfcSE &lt;dbl&gt; | stat &lt;dbl&gt; | pvalue &lt;dbl&gt; | padj &lt;dbl&gt; | X3597_1_97_B_AACGTGAT &lt;dbl&gt; | X3597_2_97_S_AAACATCG &lt;dbl&gt; | X3597_3_2046_B_ATGCCTAA &lt;dbl&gt; | ⋯ ⋯ | X3597_37_3130_B_CCGAAGTA &lt;dbl&gt; | X3597_38_3130_S_CCGTGAGA &lt;dbl&gt; | X3597_39_3161_B_CCTCCTGA &lt;dbl&gt; | X3597_40_3161_S_CGAACTTA &lt;dbl&gt; | gene_biotype &lt;chr&gt; | chromosome_name &lt;chr&gt; | start_position &lt;int&gt; | end_position &lt;int&gt; | external_gene_id &lt;chr&gt; | description &lt;chr&gt; |\n",
       "|---|---|---|---|---|---|---|---|---|---|---|---|---|---|---|---|---|---|---|---|---|---|\n",
       "| 1 | ENSG00000164949 |  894.20841 |  2.3117461 | 0.19149848 | 12.071877 | 1.487038e-33 | 3.223006e-29 |  90.46093 |  574.38966 | 148.97396 | ⋯ |  326.77607 |  1303.398839 |  434.40655 |  1019.51460 | protein_coding | 8  |  95261481 |  95274578 | GEM     | GTP binding protein overexpressed in skeletal muscle [Source:HGNC Symbol;Acc:4234] |\n",
       "| 2 | ENSG00000187955 | 6083.70690 |  2.3808647 | 0.22043253 | 10.800877 | 3.409310e-27 | 3.694669e-23 | 534.98400 | 2415.72734 |  77.14723 | ⋯ | 6159.90344 | 23450.162070 | 8017.12804 | 13701.97234 | protein_coding | 8  | 121072019 | 121384275 | COL14A1 | collagen, type XIV, alpha 1 [Source:HGNC Symbol;Acc:2191]                          |\n",
       "| 3 | ENSG00000102189 |  790.03510 |  0.6522355 | 0.06188234 | 10.539930 | 5.654070e-26 | 4.084877e-22 | 584.59160 |  918.42513 | 474.85451 | ⋯ |  684.95056 |  1436.450606 |  740.81831 |  1067.17484 | protein_coding | 12 |  93164413 |  93323107 | EEA1    | early endosome antigen 1 [Source:HGNC Symbol;Acc:3185]                             |\n",
       "| 4 | ENSG00000240184 |  524.56882 |  1.3468676 | 0.13492937 |  9.982019 | 1.827099e-23 | 9.900135e-20 | 209.13011 |  425.55692 |  85.12798 | ⋯ |  594.24404 |  1511.874856 |  694.27476 |   914.52394 | protein_coding | 5  | 140855580 | 140892542 | PCDHGC3 | protocadherin gamma subfamily C, 3 [Source:HGNC Symbol;Acc:8716]                   |\n",
       "| 5 | ENSG00000232810 |   63.32949 | -2.0890107 | 0.21000301 | -9.947527 | 2.585269e-23 | 1.120663e-19 |  47.66221 |   29.91613 | 111.73047 | ⋯ |   43.02745 |     6.779708 |   25.85753 |     3.45364 | protein_coding | 6  |  31543344 |  31546113 | TNF     | tumor necrosis factor [Source:HGNC Symbol;Acc:11892]                               |\n",
       "| 6 | ENSG00000017427 | 1368.64534 |  2.0028824 | 0.20303158 |  9.864881 | 5.910437e-23 | 2.135047e-19 | 179.94916 | 1020.88787 |  89.11835 | ⋯ |  823.33616 |  2673.747292 |  562.40134 |  2274.56747 | protein_coding | 12 | 102789645 | 102874423 | IGF1    | insulin-like growth factor 1 (somatomedin C) [Source:HGNC Symbol;Acc:5464]         |\n",
       "\n"
      ],
      "text/plain": [
       "  Gene            baseMean   log2FoldChange lfcSE      stat      pvalue      \n",
       "1 ENSG00000164949  894.20841  2.3117461     0.19149848 12.071877 1.487038e-33\n",
       "2 ENSG00000187955 6083.70690  2.3808647     0.22043253 10.800877 3.409310e-27\n",
       "3 ENSG00000102189  790.03510  0.6522355     0.06188234 10.539930 5.654070e-26\n",
       "4 ENSG00000240184  524.56882  1.3468676     0.13492937  9.982019 1.827099e-23\n",
       "5 ENSG00000232810   63.32949 -2.0890107     0.21000301 -9.947527 2.585269e-23\n",
       "6 ENSG00000017427 1368.64534  2.0028824     0.20303158  9.864881 5.910437e-23\n",
       "  padj         X3597_1_97_B_AACGTGAT X3597_2_97_S_AAACATCG\n",
       "1 3.223006e-29  90.46093              574.38966           \n",
       "2 3.694669e-23 534.98400             2415.72734           \n",
       "3 4.084877e-22 584.59160              918.42513           \n",
       "4 9.900135e-20 209.13011              425.55692           \n",
       "5 1.120663e-19  47.66221               29.91613           \n",
       "6 2.135047e-19 179.94916             1020.88787           \n",
       "  X3597_3_2046_B_ATGCCTAA ⋯ X3597_37_3130_B_CCGAAGTA X3597_38_3130_S_CCGTGAGA\n",
       "1 148.97396               ⋯  326.77607                1303.398839            \n",
       "2  77.14723               ⋯ 6159.90344               23450.162070            \n",
       "3 474.85451               ⋯  684.95056                1436.450606            \n",
       "4  85.12798               ⋯  594.24404                1511.874856            \n",
       "5 111.73047               ⋯   43.02745                   6.779708            \n",
       "6  89.11835               ⋯  823.33616                2673.747292            \n",
       "  X3597_39_3161_B_CCTCCTGA X3597_40_3161_S_CGAACTTA gene_biotype  \n",
       "1  434.40655                1019.51460              protein_coding\n",
       "2 8017.12804               13701.97234              protein_coding\n",
       "3  740.81831                1067.17484              protein_coding\n",
       "4  694.27476                 914.52394              protein_coding\n",
       "5   25.85753                   3.45364              protein_coding\n",
       "6  562.40134                2274.56747              protein_coding\n",
       "  chromosome_name start_position end_position external_gene_id\n",
       "1 8                95261481       95274578    GEM             \n",
       "2 8               121072019      121384275    COL14A1         \n",
       "3 12               93164413       93323107    EEA1            \n",
       "4 5               140855580      140892542    PCDHGC3         \n",
       "5 6                31543344       31546113    TNF             \n",
       "6 12              102789645      102874423    IGF1            \n",
       "  description                                                                       \n",
       "1 GTP binding protein overexpressed in skeletal muscle [Source:HGNC Symbol;Acc:4234]\n",
       "2 collagen, type XIV, alpha 1 [Source:HGNC Symbol;Acc:2191]                         \n",
       "3 early endosome antigen 1 [Source:HGNC Symbol;Acc:3185]                            \n",
       "4 protocadherin gamma subfamily C, 3 [Source:HGNC Symbol;Acc:8716]                  \n",
       "5 tumor necrosis factor [Source:HGNC Symbol;Acc:11892]                              \n",
       "6 insulin-like growth factor 1 (somatomedin C) [Source:HGNC Symbol;Acc:5464]        "
      ]
     },
     "metadata": {},
     "output_type": "display_data"
    }
   ],
   "source": [
    "resdata  %>%  head"
   ]
  },
  {
   "cell_type": "code",
   "execution_count": null,
   "id": "b480fd2c",
   "metadata": {
    "vscode": {
     "languageId": "r"
    }
   },
   "outputs": [
    {
     "data": {
      "text/html": [
       "<strong>pdf:</strong> 2"
      ],
      "text/latex": [
       "\\textbf{pdf:} 2"
      ],
      "text/markdown": [
       "**pdf:** 2"
      ],
      "text/plain": [
       "pdf \n",
       "  2 "
      ]
     },
     "metadata": {},
     "output_type": "display_data"
    }
   ],
   "source": [
    "#plotting the histogram of p-values\n",
    "png(paste0(fold,\"Hist-PValues.png\"))\n",
    "hist(res$pvalue, breaks=50, col=\"grey\")\n",
    "dev.off()"
   ]
  },
  {
   "cell_type": "code",
   "execution_count": null,
   "id": "a7b9a9da",
   "metadata": {
    "vscode": {
     "languageId": "r"
    }
   },
   "outputs": [
    {
     "data": {
      "text/html": [
       "<strong>pdf:</strong> 2"
      ],
      "text/latex": [
       "\\textbf{pdf:} 2"
      ],
      "text/markdown": [
       "**pdf:** 2"
      ],
      "text/plain": [
       "pdf \n",
       "  2 "
      ]
     },
     "metadata": {},
     "output_type": "display_data"
    }
   ],
   "source": [
    "maplot <- function (res, thresh=0.05, labelsig=TRUE, textcx=1, ...) {\n",
    "  with(res, plot(baseMean, log2FoldChange, pch=20, cex=.5, log=\"x\", ...))\n",
    "  with(subset(res, padj<thresh), points(baseMean, log2FoldChange, col=\"red\", pch=20, cex=1.5))\n",
    "  if (labelsig) {\n",
    "    require(calibrate)\n",
    "    with(subset(res, padj<thresh), textxy(baseMean, log2FoldChange, labs=external_gene_id, cex=textcx, col=2))\n",
    "  }\n",
    "}\n",
    "\n",
    "png(paste0(fold,\"diffexpr-maplot.png\"), 1500, 1500, pointsize=20)\n",
    "maplot(resdata, main=\"MA Plot\", ylim=c(-8,15))\n",
    "dev.off()"
   ]
  },
  {
   "cell_type": "code",
   "execution_count": 45,
   "id": "14de9089",
   "metadata": {
    "vscode": {
     "languageId": "r"
    }
   },
   "outputs": [
    {
     "data": {
      "text/html": [
       "<strong>pdf:</strong> 2"
      ],
      "text/latex": [
       "\\textbf{pdf:} 2"
      ],
      "text/markdown": [
       "**pdf:** 2"
      ],
      "text/plain": [
       "pdf \n",
       "  2 "
      ]
     },
     "metadata": {},
     "output_type": "display_data"
    }
   ],
   "source": [
    "volcanoplot <- function (res, lfcthresh=1, sigthresh=0.05, main=\"Volcano Plot\", legendpos=\"bottomright\", labelsig=TRUE, textcx=1, ...) {\n",
    "  with(res, plot(log2FoldChange, -log10(padj), pch=20, main=main, ...))\n",
    "  with(subset(res, padj<sigthresh ), points(log2FoldChange, -log10(padj), pch=20, col=\"red\", ...))\n",
    "  with(subset(res, abs(log2FoldChange)>lfcthresh), points(log2FoldChange, -log10(padj), pch=20, col=\"orange\", ...))\n",
    "  with(subset(res, padj<sigthresh & abs(log2FoldChange)>lfcthresh), points(log2FoldChange, -log10(padj), pch=20, col=\"green\", ...))\n",
    "  if (labelsig) {\n",
    "    require(calibrate)\n",
    "    with(subset(res, padj<sigthresh & abs(log2FoldChange)>2), textxy(log2FoldChange, -log10(padj), labs=external_gene_id, cex=textcx, ...))\n",
    "  }\n",
    "  legend(legendpos, xjust=1, yjust=1, legend=c(paste(\"FDR<\",sigthresh,sep=\"\"), paste(\"|LogFC|>\",lfcthresh,sep=\"\"), \"both\"), pch=20, col=c(\"red\",\"orange\",\"green\"))\n",
    "}\n",
    "    \n",
    "pdf(paste0(fold,\"diffexpr-volcanoplot.pdf\"), 8, 8)\n",
    "volcanoplot(resdata, lfcthresh=1, sigthresh=0.05, textcx=.6, xlim=c(-10.3, 12) , ylim=c(0,40))\n",
    "dev.off()"
   ]
  },
  {
   "cell_type": "code",
   "execution_count": 46,
   "id": "fc9ad50e",
   "metadata": {
    "vscode": {
     "languageId": "r"
    }
   },
   "outputs": [
    {
     "name": "stderr",
     "output_type": "stream",
     "text": [
      "rlog() may take a few minutes with 30 or more samples,\n",
      "vst() is a much faster transformation\n",
      "\n"
     ]
    },
    {
     "data": {
      "text/html": [
       "<table class=\"dataframe\">\n",
       "<caption>A matrix: 6 × 40 of type dbl</caption>\n",
       "<thead>\n",
       "\t<tr><th></th><th scope=col>X3597_1_97_B_AACGTGAT</th><th scope=col>X3597_2_97_S_AAACATCG</th><th scope=col>X3597_3_2046_B_ATGCCTAA</th><th scope=col>X3597_4_2046_S_AGTGGTCA</th><th scope=col>X3597_5_2271_B_ACCACTGT</th><th scope=col>X3597_6_2271_S_ACATTGGC</th><th scope=col>X3597_7_2472_B_CAGATCTG</th><th scope=col>X3597_8_2472_S_CATCAAGT</th><th scope=col>X3597_9_2492_B_CGCTGATC</th><th scope=col>X3597_10_2492_S_ACAAGCTA</th><th scope=col>⋯</th><th scope=col>X3597_31_3036_B_CAAGACTA</th><th scope=col>X3597_32_3036_S_CAATGGAA</th><th scope=col>X3597_33_3065_B_CACTTCGA</th><th scope=col>X3597_34_3065_S_CAGCGTTA</th><th scope=col>X3597_35_3067_B_CATACCAA</th><th scope=col>X3597_36_3067_S_CCAGTTCA</th><th scope=col>X3597_37_3130_B_CCGAAGTA</th><th scope=col>X3597_38_3130_S_CCGTGAGA</th><th scope=col>X3597_39_3161_B_CCTCCTGA</th><th scope=col>X3597_40_3161_S_CGAACTTA</th></tr>\n",
       "</thead>\n",
       "<tbody>\n",
       "\t<tr><th scope=row>ENSG00000000457</th><td> 8.814212</td><td> 9.271549</td><td>8.929028</td><td>8.790143</td><td>9.659204</td><td> 8.838210</td><td>9.199425</td><td> 9.079189</td><td> 9.515936</td><td> 8.794627</td><td>⋯</td><td> 8.778815</td><td> 8.800353</td><td> 8.551313</td><td> 8.950091</td><td>9.010176</td><td> 8.776307</td><td> 9.479547</td><td> 9.411347</td><td> 9.038546</td><td> 9.881850</td></tr>\n",
       "\t<tr><th scope=row>ENSG00000000460</th><td> 7.654809</td><td> 7.617704</td><td>8.022668</td><td>8.665742</td><td>9.098962</td><td> 8.313646</td><td>9.048012</td><td> 8.780129</td><td> 7.838672</td><td> 7.801472</td><td>⋯</td><td> 6.973673</td><td> 7.213357</td><td> 7.454257</td><td> 6.844776</td><td>7.506720</td><td> 7.060383</td><td> 7.435240</td><td> 7.211172</td><td> 7.317027</td><td> 7.488132</td></tr>\n",
       "\t<tr><th scope=row>ENSG00000000938</th><td> 7.342037</td><td> 7.834993</td><td>7.943731</td><td>7.130294</td><td>6.446407</td><td> 7.254402</td><td>7.340539</td><td> 7.355489</td><td> 8.393655</td><td> 7.936253</td><td>⋯</td><td> 7.112482</td><td> 7.568437</td><td> 7.628899</td><td> 6.995726</td><td>6.991096</td><td> 7.742351</td><td> 6.702354</td><td> 6.741354</td><td> 6.722807</td><td> 6.441694</td></tr>\n",
       "\t<tr><th scope=row>ENSG00000000971</th><td> 9.704486</td><td> 9.594865</td><td>9.447584</td><td>8.371646</td><td>9.467264</td><td>10.932412</td><td>9.251071</td><td> 9.980409</td><td> 9.966378</td><td>10.440207</td><td>⋯</td><td>10.901161</td><td>11.290209</td><td>10.143806</td><td>11.363353</td><td>9.743147</td><td>11.071498</td><td>10.604570</td><td>11.018905</td><td>10.833929</td><td>10.325702</td></tr>\n",
       "\t<tr><th scope=row>ENSG00000001460</th><td> 7.414554</td><td> 7.412421</td><td>6.853743</td><td>7.106518</td><td>6.567197</td><td> 7.287457</td><td>7.542493</td><td> 7.927187</td><td> 7.533469</td><td> 7.806565</td><td>⋯</td><td> 7.052307</td><td> 7.125391</td><td> 7.273859</td><td> 7.514338</td><td>7.026570</td><td> 6.818370</td><td> 7.124729</td><td> 7.166226</td><td> 7.480427</td><td> 7.665742</td></tr>\n",
       "\t<tr><th scope=row>ENSG00000001461</th><td>10.211319</td><td>10.323088</td><td>9.088418</td><td>9.139449</td><td>9.390884</td><td> 9.739936</td><td>9.884025</td><td>10.282156</td><td>10.122283</td><td>10.054125</td><td>⋯</td><td> 9.862614</td><td> 9.876781</td><td>10.055592</td><td>10.130958</td><td>9.528310</td><td> 9.243890</td><td> 9.721987</td><td> 9.864030</td><td> 9.644072</td><td>10.317316</td></tr>\n",
       "</tbody>\n",
       "</table>\n"
      ],
      "text/latex": [
       "A matrix: 6 × 40 of type dbl\n",
       "\\begin{tabular}{r|lllllllllllllllllllll}\n",
       "  & X3597\\_1\\_97\\_B\\_AACGTGAT & X3597\\_2\\_97\\_S\\_AAACATCG & X3597\\_3\\_2046\\_B\\_ATGCCTAA & X3597\\_4\\_2046\\_S\\_AGTGGTCA & X3597\\_5\\_2271\\_B\\_ACCACTGT & X3597\\_6\\_2271\\_S\\_ACATTGGC & X3597\\_7\\_2472\\_B\\_CAGATCTG & X3597\\_8\\_2472\\_S\\_CATCAAGT & X3597\\_9\\_2492\\_B\\_CGCTGATC & X3597\\_10\\_2492\\_S\\_ACAAGCTA & ⋯ & X3597\\_31\\_3036\\_B\\_CAAGACTA & X3597\\_32\\_3036\\_S\\_CAATGGAA & X3597\\_33\\_3065\\_B\\_CACTTCGA & X3597\\_34\\_3065\\_S\\_CAGCGTTA & X3597\\_35\\_3067\\_B\\_CATACCAA & X3597\\_36\\_3067\\_S\\_CCAGTTCA & X3597\\_37\\_3130\\_B\\_CCGAAGTA & X3597\\_38\\_3130\\_S\\_CCGTGAGA & X3597\\_39\\_3161\\_B\\_CCTCCTGA & X3597\\_40\\_3161\\_S\\_CGAACTTA\\\\\n",
       "\\hline\n",
       "\tENSG00000000457 &  8.814212 &  9.271549 & 8.929028 & 8.790143 & 9.659204 &  8.838210 & 9.199425 &  9.079189 &  9.515936 &  8.794627 & ⋯ &  8.778815 &  8.800353 &  8.551313 &  8.950091 & 9.010176 &  8.776307 &  9.479547 &  9.411347 &  9.038546 &  9.881850\\\\\n",
       "\tENSG00000000460 &  7.654809 &  7.617704 & 8.022668 & 8.665742 & 9.098962 &  8.313646 & 9.048012 &  8.780129 &  7.838672 &  7.801472 & ⋯ &  6.973673 &  7.213357 &  7.454257 &  6.844776 & 7.506720 &  7.060383 &  7.435240 &  7.211172 &  7.317027 &  7.488132\\\\\n",
       "\tENSG00000000938 &  7.342037 &  7.834993 & 7.943731 & 7.130294 & 6.446407 &  7.254402 & 7.340539 &  7.355489 &  8.393655 &  7.936253 & ⋯ &  7.112482 &  7.568437 &  7.628899 &  6.995726 & 6.991096 &  7.742351 &  6.702354 &  6.741354 &  6.722807 &  6.441694\\\\\n",
       "\tENSG00000000971 &  9.704486 &  9.594865 & 9.447584 & 8.371646 & 9.467264 & 10.932412 & 9.251071 &  9.980409 &  9.966378 & 10.440207 & ⋯ & 10.901161 & 11.290209 & 10.143806 & 11.363353 & 9.743147 & 11.071498 & 10.604570 & 11.018905 & 10.833929 & 10.325702\\\\\n",
       "\tENSG00000001460 &  7.414554 &  7.412421 & 6.853743 & 7.106518 & 6.567197 &  7.287457 & 7.542493 &  7.927187 &  7.533469 &  7.806565 & ⋯ &  7.052307 &  7.125391 &  7.273859 &  7.514338 & 7.026570 &  6.818370 &  7.124729 &  7.166226 &  7.480427 &  7.665742\\\\\n",
       "\tENSG00000001461 & 10.211319 & 10.323088 & 9.088418 & 9.139449 & 9.390884 &  9.739936 & 9.884025 & 10.282156 & 10.122283 & 10.054125 & ⋯ &  9.862614 &  9.876781 & 10.055592 & 10.130958 & 9.528310 &  9.243890 &  9.721987 &  9.864030 &  9.644072 & 10.317316\\\\\n",
       "\\end{tabular}\n"
      ],
      "text/markdown": [
       "\n",
       "A matrix: 6 × 40 of type dbl\n",
       "\n",
       "| <!--/--> | X3597_1_97_B_AACGTGAT | X3597_2_97_S_AAACATCG | X3597_3_2046_B_ATGCCTAA | X3597_4_2046_S_AGTGGTCA | X3597_5_2271_B_ACCACTGT | X3597_6_2271_S_ACATTGGC | X3597_7_2472_B_CAGATCTG | X3597_8_2472_S_CATCAAGT | X3597_9_2492_B_CGCTGATC | X3597_10_2492_S_ACAAGCTA | ⋯ | X3597_31_3036_B_CAAGACTA | X3597_32_3036_S_CAATGGAA | X3597_33_3065_B_CACTTCGA | X3597_34_3065_S_CAGCGTTA | X3597_35_3067_B_CATACCAA | X3597_36_3067_S_CCAGTTCA | X3597_37_3130_B_CCGAAGTA | X3597_38_3130_S_CCGTGAGA | X3597_39_3161_B_CCTCCTGA | X3597_40_3161_S_CGAACTTA |\n",
       "|---|---|---|---|---|---|---|---|---|---|---|---|---|---|---|---|---|---|---|---|---|---|\n",
       "| ENSG00000000457 |  8.814212 |  9.271549 | 8.929028 | 8.790143 | 9.659204 |  8.838210 | 9.199425 |  9.079189 |  9.515936 |  8.794627 | ⋯ |  8.778815 |  8.800353 |  8.551313 |  8.950091 | 9.010176 |  8.776307 |  9.479547 |  9.411347 |  9.038546 |  9.881850 |\n",
       "| ENSG00000000460 |  7.654809 |  7.617704 | 8.022668 | 8.665742 | 9.098962 |  8.313646 | 9.048012 |  8.780129 |  7.838672 |  7.801472 | ⋯ |  6.973673 |  7.213357 |  7.454257 |  6.844776 | 7.506720 |  7.060383 |  7.435240 |  7.211172 |  7.317027 |  7.488132 |\n",
       "| ENSG00000000938 |  7.342037 |  7.834993 | 7.943731 | 7.130294 | 6.446407 |  7.254402 | 7.340539 |  7.355489 |  8.393655 |  7.936253 | ⋯ |  7.112482 |  7.568437 |  7.628899 |  6.995726 | 6.991096 |  7.742351 |  6.702354 |  6.741354 |  6.722807 |  6.441694 |\n",
       "| ENSG00000000971 |  9.704486 |  9.594865 | 9.447584 | 8.371646 | 9.467264 | 10.932412 | 9.251071 |  9.980409 |  9.966378 | 10.440207 | ⋯ | 10.901161 | 11.290209 | 10.143806 | 11.363353 | 9.743147 | 11.071498 | 10.604570 | 11.018905 | 10.833929 | 10.325702 |\n",
       "| ENSG00000001460 |  7.414554 |  7.412421 | 6.853743 | 7.106518 | 6.567197 |  7.287457 | 7.542493 |  7.927187 |  7.533469 |  7.806565 | ⋯ |  7.052307 |  7.125391 |  7.273859 |  7.514338 | 7.026570 |  6.818370 |  7.124729 |  7.166226 |  7.480427 |  7.665742 |\n",
       "| ENSG00000001461 | 10.211319 | 10.323088 | 9.088418 | 9.139449 | 9.390884 |  9.739936 | 9.884025 | 10.282156 | 10.122283 | 10.054125 | ⋯ |  9.862614 |  9.876781 | 10.055592 | 10.130958 | 9.528310 |  9.243890 |  9.721987 |  9.864030 |  9.644072 | 10.317316 |\n",
       "\n"
      ],
      "text/plain": [
       "                X3597_1_97_B_AACGTGAT X3597_2_97_S_AAACATCG\n",
       "ENSG00000000457  8.814212              9.271549            \n",
       "ENSG00000000460  7.654809              7.617704            \n",
       "ENSG00000000938  7.342037              7.834993            \n",
       "ENSG00000000971  9.704486              9.594865            \n",
       "ENSG00000001460  7.414554              7.412421            \n",
       "ENSG00000001461 10.211319             10.323088            \n",
       "                X3597_3_2046_B_ATGCCTAA X3597_4_2046_S_AGTGGTCA\n",
       "ENSG00000000457 8.929028                8.790143               \n",
       "ENSG00000000460 8.022668                8.665742               \n",
       "ENSG00000000938 7.943731                7.130294               \n",
       "ENSG00000000971 9.447584                8.371646               \n",
       "ENSG00000001460 6.853743                7.106518               \n",
       "ENSG00000001461 9.088418                9.139449               \n",
       "                X3597_5_2271_B_ACCACTGT X3597_6_2271_S_ACATTGGC\n",
       "ENSG00000000457 9.659204                 8.838210              \n",
       "ENSG00000000460 9.098962                 8.313646              \n",
       "ENSG00000000938 6.446407                 7.254402              \n",
       "ENSG00000000971 9.467264                10.932412              \n",
       "ENSG00000001460 6.567197                 7.287457              \n",
       "ENSG00000001461 9.390884                 9.739936              \n",
       "                X3597_7_2472_B_CAGATCTG X3597_8_2472_S_CATCAAGT\n",
       "ENSG00000000457 9.199425                 9.079189              \n",
       "ENSG00000000460 9.048012                 8.780129              \n",
       "ENSG00000000938 7.340539                 7.355489              \n",
       "ENSG00000000971 9.251071                 9.980409              \n",
       "ENSG00000001460 7.542493                 7.927187              \n",
       "ENSG00000001461 9.884025                10.282156              \n",
       "                X3597_9_2492_B_CGCTGATC X3597_10_2492_S_ACAAGCTA ⋯\n",
       "ENSG00000000457  9.515936                8.794627                ⋯\n",
       "ENSG00000000460  7.838672                7.801472                ⋯\n",
       "ENSG00000000938  8.393655                7.936253                ⋯\n",
       "ENSG00000000971  9.966378               10.440207                ⋯\n",
       "ENSG00000001460  7.533469                7.806565                ⋯\n",
       "ENSG00000001461 10.122283               10.054125                ⋯\n",
       "                X3597_31_3036_B_CAAGACTA X3597_32_3036_S_CAATGGAA\n",
       "ENSG00000000457  8.778815                 8.800353               \n",
       "ENSG00000000460  6.973673                 7.213357               \n",
       "ENSG00000000938  7.112482                 7.568437               \n",
       "ENSG00000000971 10.901161                11.290209               \n",
       "ENSG00000001460  7.052307                 7.125391               \n",
       "ENSG00000001461  9.862614                 9.876781               \n",
       "                X3597_33_3065_B_CACTTCGA X3597_34_3065_S_CAGCGTTA\n",
       "ENSG00000000457  8.551313                 8.950091               \n",
       "ENSG00000000460  7.454257                 6.844776               \n",
       "ENSG00000000938  7.628899                 6.995726               \n",
       "ENSG00000000971 10.143806                11.363353               \n",
       "ENSG00000001460  7.273859                 7.514338               \n",
       "ENSG00000001461 10.055592                10.130958               \n",
       "                X3597_35_3067_B_CATACCAA X3597_36_3067_S_CCAGTTCA\n",
       "ENSG00000000457 9.010176                  8.776307               \n",
       "ENSG00000000460 7.506720                  7.060383               \n",
       "ENSG00000000938 6.991096                  7.742351               \n",
       "ENSG00000000971 9.743147                 11.071498               \n",
       "ENSG00000001460 7.026570                  6.818370               \n",
       "ENSG00000001461 9.528310                  9.243890               \n",
       "                X3597_37_3130_B_CCGAAGTA X3597_38_3130_S_CCGTGAGA\n",
       "ENSG00000000457  9.479547                 9.411347               \n",
       "ENSG00000000460  7.435240                 7.211172               \n",
       "ENSG00000000938  6.702354                 6.741354               \n",
       "ENSG00000000971 10.604570                11.018905               \n",
       "ENSG00000001460  7.124729                 7.166226               \n",
       "ENSG00000001461  9.721987                 9.864030               \n",
       "                X3597_39_3161_B_CCTCCTGA X3597_40_3161_S_CGAACTTA\n",
       "ENSG00000000457  9.038546                 9.881850               \n",
       "ENSG00000000460  7.317027                 7.488132               \n",
       "ENSG00000000938  6.722807                 6.441694               \n",
       "ENSG00000000971 10.833929                10.325702               \n",
       "ENSG00000001460  7.480427                 7.665742               \n",
       "ENSG00000001461  9.644072                10.317316               "
      ]
     },
     "metadata": {},
     "output_type": "display_data"
    },
    {
     "data": {
      "image/png": "[encoded data removed]",
      "text/plain": [
       "Plot with title \"Histogram of assay(rld)\""
      ]
     },
     "metadata": {
      "image/png": {
       "height": 420,
       "width": 420
      }
     },
     "output_type": "display_data"
    }
   ],
   "source": [
    "rld <- rlog(dds)\n",
    "head(assay(rld))\n",
    "hist(assay(rld))"
   ]
  },
  {
   "cell_type": "code",
   "execution_count": 47,
   "id": "cd32dac2",
   "metadata": {
    "vscode": {
     "languageId": "r"
    }
   },
   "outputs": [],
   "source": [
    "mycols <- brewer.pal(3, \"Dark2\")[1:length(unique(colData$resp2))]"
   ]
  },
  {
   "cell_type": "code",
   "execution_count": 48,
   "id": "eed8fb54",
   "metadata": {
    "vscode": {
     "languageId": "r"
    }
   },
   "outputs": [
    {
     "data": {
      "text/html": [
       "<strong>pdf:</strong> 2"
      ],
      "text/latex": [
       "\\textbf{pdf:} 2"
      ],
      "text/markdown": [
       "**pdf:** 2"
      ],
      "text/plain": [
       "pdf \n",
       "  2 "
      ]
     },
     "metadata": {},
     "output_type": "display_data"
    }
   ],
   "source": [
    "sampleDists <- as.matrix(dist(t(assay(rld))))\n",
    "rownames(sampleDists) = paste(sapply(strsplit(rownames(sampleDists), \"_\"),`[`, 3),\"_\",sapply(strsplit(rownames(sampleDists), \"_\"),`[`, 4))\n",
    "colnames(sampleDists) = paste(sapply(strsplit(colnames(sampleDists), \"_\"),`[`, 3),\"_\",sapply(strsplit(colnames(sampleDists), \"_\"),`[`, 4))\n",
    "names(mycols) <- levels(as.factor(colData$resp2))  # Name the colors after the levels of resp2\n",
    "\n",
    "ColSideColors <- mycols[colData$resp2]\n",
    "RowSideColors <- mycols[colData$resp2]  \n",
    "pdf(paste0(fold, \"qc-heatmap-samples.pdf\"), 6, 6)\n",
    "heatmap.2(as.matrix(sampleDists), key=F, trace=\"none\",\n",
    "          col=colorpanel(100, \"black\", \"white\"),\n",
    "          ColSideColors=ColSideColors, RowSideColors=RowSideColors,\n",
    "          margin=c(10, 10), cexRow=0.6,  # Adjust row label size\n",
    "          cexCol=0.6, main=\"Sample Distance Matrix\")\n",
    "dev.off()\n"
   ]
  },
  {
   "cell_type": "code",
   "execution_count": 50,
   "id": "eec44c0b",
   "metadata": {
    "vscode": {
     "languageId": "r"
    }
   },
   "outputs": [],
   "source": [
    "heat = as.matrix(dist(t(assay(rld))))"
   ]
  },
  {
   "cell_type": "code",
   "execution_count": null,
   "id": "c77e9bac",
   "metadata": {
    "vscode": {
     "languageId": "r"
    }
   },
   "outputs": [],
   "source": [
    "#cleaning the rownames and colnames\n",
    "rownames(heat) = lapply(rownames(heat), function(x) paste(strsplit(x, \"_\")[[1]][3], strsplit(x, \"_\")[[1]][4], sep = \"_\"))\n",
    "colnames(heat)= lapply(colnames(heat), function(x) paste(strsplit(x, \"_\")[[1]][3], strsplit(x, \"_\")[[1]][4], sep = \"_\"))"
   ]
  },
  {
   "cell_type": "code",
   "execution_count": 71,
   "id": "d5d3e6fe",
   "metadata": {
    "vscode": {
     "languageId": "r"
    }
   },
   "outputs": [
    {
     "data": {
      "text/html": [
       "<strong>pdf:</strong> 2"
      ],
      "text/latex": [
       "\\textbf{pdf:} 2"
      ],
      "text/markdown": [
       "**pdf:** 2"
      ],
      "text/plain": [
       "pdf \n",
       "  2 "
      ]
     },
     "metadata": {},
     "output_type": "display_data"
    }
   ],
   "source": [
    "pdf(paste0(fold, \"qc-heatmap-samples2.pdf\"), 6, 6)\n",
    "Heatmap(heat,\n",
    "       top_annotation = HeatmapAnnotation(Subtypes = colData$Subtype , Cond = colData$resp2),\n",
    "       show_heatmap_legend = FALSE,\n",
    "        row_names_gp = gpar(fontsize = 6),  # Reduce row label font size\n",
    "        column_names_gp = gpar(fontsize = 6) )\n",
    "dev.off()"
   ]
  },
  {
   "cell_type": "code",
   "execution_count": 54,
   "id": "8c1c546e",
   "metadata": {
    "vscode": {
     "languageId": "r"
    }
   },
   "outputs": [],
   "source": [
    "rld_pca <- function(rld, intgroup = \"condition\", ntop = 500, colors = NULL, legendpos = \"bottomleft\", main = \"PCA\", textcx = 0.4, shapevar = NULL, ...) {\n",
    "  require(genefilter)\n",
    "  require(calibrate)\n",
    "  require(RColorBrewer)\n",
    "\n",
    "  # Calculate the row variances\n",
    "  rv = rowVars(assay(rld))\n",
    "  select = order(rv, decreasing = TRUE)[seq_len(min(ntop, length(rv)))]\n",
    "\n",
    "  # Perform PCA\n",
    "  pca = prcomp(t(assay(rld)[select, ]))\n",
    "  \n",
    "  # Prepare labels for text\n",
    "  lab = sapply(strsplit(rownames(as.data.frame(pca$x)), \"_\"), `[`, 3)\n",
    "\n",
    "  # Factor for the grouping variable\n",
    "  fac = factor(apply(as.data.frame(colData(rld)[, intgroup, drop = FALSE]), 1, paste, collapse = \" : \"))\n",
    "\n",
    "  # Set colors for the groups if not provided\n",
    "  if (is.null(colors)) {\n",
    "    if (nlevels(fac) >= 3) {\n",
    "      colors = brewer.pal(nlevels(fac), \"Paired\")\n",
    "    } else {\n",
    "      colors = c(\"black\", \"red\")\n",
    "    }\n",
    "  }\n",
    "\n",
    "  # Get the explained variance for PC1 and PC2\n",
    "  pc1var <- round(summary(pca)$importance[2, 1] * 100, digits = 1)\n",
    "  pc2var <- round(summary(pca)$importance[2, 2] * 100, digits = 1)\n",
    "  pc1lab <- paste0(\"PC1 (\", as.character(pc1var), \"%)\")\n",
    "  pc2lab <- paste0(\"PC2 (\", as.character(pc2var), \"%)\")\n",
    "\n",
    "  # Assign shapes based on shapevar ('LUM' and 'TN')\n",
    "  if (!is.null(shapevar)) {\n",
    "    shape_var = factor(colData(rld)[, shapevar])  # Factor variable for shapes\n",
    "    shapes <- ifelse(shape_var == \"LUM\", 16, 17)  # 16 = solid circle, 17 = triangle\n",
    "  } else {\n",
    "    shapes <- rep(16, length(fac))  # Default to solid circle if no shapevar provided\n",
    "  }\n",
    "\n",
    "  # Create PCA plot\n",
    "  plot(pca$x[, 2] ~ pca$x[, 1], data = as.data.frame(pca$x), col = colors[fac], pch = shapes, xlab = pc1lab, ylab = pc2lab, main = main, ...)\n",
    "\n",
    "  # Add text labels\n",
    "  with(as.data.frame(pca$x), textxy(PC1, PC2, labs = lab, cex = textcx))\n",
    "\n",
    "  if (!is.null(shapevar)) {\n",
    "    # Create a custom legend with both color and shape\n",
    "    legend(legendpos, \n",
    "           legend = c(levels(fac),levels(shape_var)), \n",
    "           col = c(colors, rep(\"black\", length(unique(shape_var)))), \n",
    "           pch = c(rep(16, length(levels(fac))), 16, 17),  # Different shapes for the shapevar levels\n",
    "           title = \"Legend\")\n",
    "  } else {\n",
    "    # If no shapevar, only use color in the legend\n",
    "    legend(legendpos, \n",
    "           legend = levels(fac), \n",
    "           col = colors, \n",
    "           pch = 16, \n",
    "           title = \"Legend\")\n",
    "  }\n",
    "}\n"
   ]
  },
  {
   "cell_type": "code",
   "execution_count": 55,
   "id": "7b6e25c8",
   "metadata": {
    "vscode": {
     "languageId": "r"
    }
   },
   "outputs": [
    {
     "data": {
      "image/png": "[encoded data removed]",
      "text/plain": [
       "Plot with title \"PCA\""
      ]
     },
     "metadata": {
      "image/png": {
       "height": 420,
       "width": 420
      }
     },
     "output_type": "display_data"
    }
   ],
   "source": [
    "rld_pca(rld, colors = mycols, intgroup=\"resp2\", xlim=c(-50, 70),shapevar =\"Subtype\")"
   ]
  },
  {
   "cell_type": "code",
   "execution_count": 56,
   "id": "a8bb313c",
   "metadata": {
    "vscode": {
     "languageId": "r"
    }
   },
   "outputs": [
    {
     "data": {
      "text/html": [
       "<strong>pdf:</strong> 2"
      ],
      "text/latex": [
       "\\textbf{pdf:} 2"
      ],
      "text/markdown": [
       "**pdf:** 2"
      ],
      "text/plain": [
       "pdf \n",
       "  2 "
      ]
     },
     "metadata": {},
     "output_type": "display_data"
    }
   ],
   "source": [
    "pdf(paste0(fold,\"qc-pca.pdf\"), 6, 6)\n",
    "rld_pca(rld, colors = mycols, intgroup=\"resp2\", xlim=c(-50, 70),shapevar =\"Subtype\")\n",
    "dev.off()"
   ]
  },
  {
   "cell_type": "code",
   "execution_count": 35,
   "id": "1f51e508",
   "metadata": {
    "vscode": {
     "languageId": "r"
    }
   },
   "outputs": [
    {
     "data": {
      "text/html": [
       "<table class=\"dataframe\">\n",
       "<caption>A data.frame: 6 × 53</caption>\n",
       "<thead>\n",
       "\t<tr><th></th><th scope=col>Gene</th><th scope=col>baseMean</th><th scope=col>log2FoldChange</th><th scope=col>lfcSE</th><th scope=col>stat</th><th scope=col>pvalue</th><th scope=col>padj</th><th scope=col>X3597_1_97_B_AACGTGAT</th><th scope=col>X3597_2_97_S_AAACATCG</th><th scope=col>X3597_3_2046_B_ATGCCTAA</th><th scope=col>⋯</th><th scope=col>X3597_37_3130_B_CCGAAGTA</th><th scope=col>X3597_38_3130_S_CCGTGAGA</th><th scope=col>X3597_39_3161_B_CCTCCTGA</th><th scope=col>X3597_40_3161_S_CGAACTTA</th><th scope=col>gene_biotype</th><th scope=col>chromosome_name</th><th scope=col>start_position</th><th scope=col>end_position</th><th scope=col>external_gene_id</th><th scope=col>description</th></tr>\n",
       "\t<tr><th></th><th scope=col>&lt;I&lt;chr&gt;&gt;</th><th scope=col>&lt;dbl&gt;</th><th scope=col>&lt;dbl&gt;</th><th scope=col>&lt;dbl&gt;</th><th scope=col>&lt;dbl&gt;</th><th scope=col>&lt;dbl&gt;</th><th scope=col>&lt;dbl&gt;</th><th scope=col>&lt;dbl&gt;</th><th scope=col>&lt;dbl&gt;</th><th scope=col>&lt;dbl&gt;</th><th scope=col>⋯</th><th scope=col>&lt;dbl&gt;</th><th scope=col>&lt;dbl&gt;</th><th scope=col>&lt;dbl&gt;</th><th scope=col>&lt;dbl&gt;</th><th scope=col>&lt;chr&gt;</th><th scope=col>&lt;chr&gt;</th><th scope=col>&lt;int&gt;</th><th scope=col>&lt;int&gt;</th><th scope=col>&lt;chr&gt;</th><th scope=col>&lt;chr&gt;</th></tr>\n",
       "</thead>\n",
       "<tbody>\n",
       "\t<tr><th scope=row>1</th><td>ENSG00000164949</td><td> 894.20841</td><td> 2.3117461</td><td>0.19149848</td><td>12.071877</td><td>1.487038e-33</td><td>3.223006e-29</td><td> 90.46093</td><td> 574.38966</td><td>148.97396</td><td>⋯</td><td> 326.77607</td><td> 1303.398839</td><td> 434.40655</td><td> 1019.51460</td><td>protein_coding</td><td>8 </td><td> 95261481</td><td> 95274578</td><td>GEM    </td><td>GTP binding protein overexpressed in skeletal muscle [Source:HGNC Symbol;Acc:4234]</td></tr>\n",
       "\t<tr><th scope=row>2</th><td>ENSG00000187955</td><td>6083.70690</td><td> 2.3808647</td><td>0.22043253</td><td>10.800877</td><td>3.409310e-27</td><td>3.694669e-23</td><td>534.98400</td><td>2415.72734</td><td> 77.14723</td><td>⋯</td><td>6159.90344</td><td>23450.162070</td><td>8017.12804</td><td>13701.97234</td><td>protein_coding</td><td>8 </td><td>121072019</td><td>121384275</td><td>COL14A1</td><td>collagen, type XIV, alpha 1 [Source:HGNC Symbol;Acc:2191]                         </td></tr>\n",
       "\t<tr><th scope=row>3</th><td>ENSG00000102189</td><td> 790.03510</td><td> 0.6522355</td><td>0.06188234</td><td>10.539930</td><td>5.654070e-26</td><td>4.084877e-22</td><td>584.59160</td><td> 918.42513</td><td>474.85451</td><td>⋯</td><td> 684.95056</td><td> 1436.450606</td><td> 740.81831</td><td> 1067.17484</td><td>protein_coding</td><td>12</td><td> 93164413</td><td> 93323107</td><td>EEA1   </td><td>early endosome antigen 1 [Source:HGNC Symbol;Acc:3185]                            </td></tr>\n",
       "\t<tr><th scope=row>4</th><td>ENSG00000240184</td><td> 524.56882</td><td> 1.3468676</td><td>0.13492937</td><td> 9.982019</td><td>1.827099e-23</td><td>9.900135e-20</td><td>209.13011</td><td> 425.55692</td><td> 85.12798</td><td>⋯</td><td> 594.24404</td><td> 1511.874856</td><td> 694.27476</td><td>  914.52394</td><td>protein_coding</td><td>5 </td><td>140855580</td><td>140892542</td><td>PCDHGC3</td><td>protocadherin gamma subfamily C, 3 [Source:HGNC Symbol;Acc:8716]                  </td></tr>\n",
       "\t<tr><th scope=row>5</th><td>ENSG00000232810</td><td>  63.32949</td><td>-2.0890107</td><td>0.21000301</td><td>-9.947527</td><td>2.585269e-23</td><td>1.120663e-19</td><td> 47.66221</td><td>  29.91613</td><td>111.73047</td><td>⋯</td><td>  43.02745</td><td>    6.779708</td><td>  25.85753</td><td>    3.45364</td><td>protein_coding</td><td>6 </td><td> 31543344</td><td> 31546113</td><td>TNF    </td><td>tumor necrosis factor [Source:HGNC Symbol;Acc:11892]                              </td></tr>\n",
       "\t<tr><th scope=row>6</th><td>ENSG00000017427</td><td>1368.64534</td><td> 2.0028824</td><td>0.20303158</td><td> 9.864881</td><td>5.910437e-23</td><td>2.135047e-19</td><td>179.94916</td><td>1020.88787</td><td> 89.11835</td><td>⋯</td><td> 823.33616</td><td> 2673.747292</td><td> 562.40134</td><td> 2274.56747</td><td>protein_coding</td><td>12</td><td>102789645</td><td>102874423</td><td>IGF1   </td><td>insulin-like growth factor 1 (somatomedin C) [Source:HGNC Symbol;Acc:5464]        </td></tr>\n",
       "</tbody>\n",
       "</table>\n"
      ],
      "text/latex": [
       "A data.frame: 6 × 53\n",
       "\\begin{tabular}{r|lllllllllllllllllllll}\n",
       "  & Gene & baseMean & log2FoldChange & lfcSE & stat & pvalue & padj & X3597\\_1\\_97\\_B\\_AACGTGAT & X3597\\_2\\_97\\_S\\_AAACATCG & X3597\\_3\\_2046\\_B\\_ATGCCTAA & ⋯ & X3597\\_37\\_3130\\_B\\_CCGAAGTA & X3597\\_38\\_3130\\_S\\_CCGTGAGA & X3597\\_39\\_3161\\_B\\_CCTCCTGA & X3597\\_40\\_3161\\_S\\_CGAACTTA & gene\\_biotype & chromosome\\_name & start\\_position & end\\_position & external\\_gene\\_id & description\\\\\n",
       "  & <I<chr>> & <dbl> & <dbl> & <dbl> & <dbl> & <dbl> & <dbl> & <dbl> & <dbl> & <dbl> & ⋯ & <dbl> & <dbl> & <dbl> & <dbl> & <chr> & <chr> & <int> & <int> & <chr> & <chr>\\\\\n",
       "\\hline\n",
       "\t1 & ENSG00000164949 &  894.20841 &  2.3117461 & 0.19149848 & 12.071877 & 1.487038e-33 & 3.223006e-29 &  90.46093 &  574.38966 & 148.97396 & ⋯ &  326.77607 &  1303.398839 &  434.40655 &  1019.51460 & protein\\_coding & 8  &  95261481 &  95274578 & GEM     & GTP binding protein overexpressed in skeletal muscle {[}Source:HGNC Symbol;Acc:4234{]}\\\\\n",
       "\t2 & ENSG00000187955 & 6083.70690 &  2.3808647 & 0.22043253 & 10.800877 & 3.409310e-27 & 3.694669e-23 & 534.98400 & 2415.72734 &  77.14723 & ⋯ & 6159.90344 & 23450.162070 & 8017.12804 & 13701.97234 & protein\\_coding & 8  & 121072019 & 121384275 & COL14A1 & collagen, type XIV, alpha 1 {[}Source:HGNC Symbol;Acc:2191{]}                         \\\\\n",
       "\t3 & ENSG00000102189 &  790.03510 &  0.6522355 & 0.06188234 & 10.539930 & 5.654070e-26 & 4.084877e-22 & 584.59160 &  918.42513 & 474.85451 & ⋯ &  684.95056 &  1436.450606 &  740.81831 &  1067.17484 & protein\\_coding & 12 &  93164413 &  93323107 & EEA1    & early endosome antigen 1 {[}Source:HGNC Symbol;Acc:3185{]}                            \\\\\n",
       "\t4 & ENSG00000240184 &  524.56882 &  1.3468676 & 0.13492937 &  9.982019 & 1.827099e-23 & 9.900135e-20 & 209.13011 &  425.55692 &  85.12798 & ⋯ &  594.24404 &  1511.874856 &  694.27476 &   914.52394 & protein\\_coding & 5  & 140855580 & 140892542 & PCDHGC3 & protocadherin gamma subfamily C, 3 {[}Source:HGNC Symbol;Acc:8716{]}                  \\\\\n",
       "\t5 & ENSG00000232810 &   63.32949 & -2.0890107 & 0.21000301 & -9.947527 & 2.585269e-23 & 1.120663e-19 &  47.66221 &   29.91613 & 111.73047 & ⋯ &   43.02745 &     6.779708 &   25.85753 &     3.45364 & protein\\_coding & 6  &  31543344 &  31546113 & TNF     & tumor necrosis factor {[}Source:HGNC Symbol;Acc:11892{]}                              \\\\\n",
       "\t6 & ENSG00000017427 & 1368.64534 &  2.0028824 & 0.20303158 &  9.864881 & 5.910437e-23 & 2.135047e-19 & 179.94916 & 1020.88787 &  89.11835 & ⋯ &  823.33616 &  2673.747292 &  562.40134 &  2274.56747 & protein\\_coding & 12 & 102789645 & 102874423 & IGF1    & insulin-like growth factor 1 (somatomedin C) {[}Source:HGNC Symbol;Acc:5464{]}        \\\\\n",
       "\\end{tabular}\n"
      ],
      "text/markdown": [
       "\n",
       "A data.frame: 6 × 53\n",
       "\n",
       "| <!--/--> | Gene &lt;I&lt;chr&gt;&gt; | baseMean &lt;dbl&gt; | log2FoldChange &lt;dbl&gt; | lfcSE &lt;dbl&gt; | stat &lt;dbl&gt; | pvalue &lt;dbl&gt; | padj &lt;dbl&gt; | X3597_1_97_B_AACGTGAT &lt;dbl&gt; | X3597_2_97_S_AAACATCG &lt;dbl&gt; | X3597_3_2046_B_ATGCCTAA &lt;dbl&gt; | ⋯ ⋯ | X3597_37_3130_B_CCGAAGTA &lt;dbl&gt; | X3597_38_3130_S_CCGTGAGA &lt;dbl&gt; | X3597_39_3161_B_CCTCCTGA &lt;dbl&gt; | X3597_40_3161_S_CGAACTTA &lt;dbl&gt; | gene_biotype &lt;chr&gt; | chromosome_name &lt;chr&gt; | start_position &lt;int&gt; | end_position &lt;int&gt; | external_gene_id &lt;chr&gt; | description &lt;chr&gt; |\n",
       "|---|---|---|---|---|---|---|---|---|---|---|---|---|---|---|---|---|---|---|---|---|---|\n",
       "| 1 | ENSG00000164949 |  894.20841 |  2.3117461 | 0.19149848 | 12.071877 | 1.487038e-33 | 3.223006e-29 |  90.46093 |  574.38966 | 148.97396 | ⋯ |  326.77607 |  1303.398839 |  434.40655 |  1019.51460 | protein_coding | 8  |  95261481 |  95274578 | GEM     | GTP binding protein overexpressed in skeletal muscle [Source:HGNC Symbol;Acc:4234] |\n",
       "| 2 | ENSG00000187955 | 6083.70690 |  2.3808647 | 0.22043253 | 10.800877 | 3.409310e-27 | 3.694669e-23 | 534.98400 | 2415.72734 |  77.14723 | ⋯ | 6159.90344 | 23450.162070 | 8017.12804 | 13701.97234 | protein_coding | 8  | 121072019 | 121384275 | COL14A1 | collagen, type XIV, alpha 1 [Source:HGNC Symbol;Acc:2191]                          |\n",
       "| 3 | ENSG00000102189 |  790.03510 |  0.6522355 | 0.06188234 | 10.539930 | 5.654070e-26 | 4.084877e-22 | 584.59160 |  918.42513 | 474.85451 | ⋯ |  684.95056 |  1436.450606 |  740.81831 |  1067.17484 | protein_coding | 12 |  93164413 |  93323107 | EEA1    | early endosome antigen 1 [Source:HGNC Symbol;Acc:3185]                             |\n",
       "| 4 | ENSG00000240184 |  524.56882 |  1.3468676 | 0.13492937 |  9.982019 | 1.827099e-23 | 9.900135e-20 | 209.13011 |  425.55692 |  85.12798 | ⋯ |  594.24404 |  1511.874856 |  694.27476 |   914.52394 | protein_coding | 5  | 140855580 | 140892542 | PCDHGC3 | protocadherin gamma subfamily C, 3 [Source:HGNC Symbol;Acc:8716]                   |\n",
       "| 5 | ENSG00000232810 |   63.32949 | -2.0890107 | 0.21000301 | -9.947527 | 2.585269e-23 | 1.120663e-19 |  47.66221 |   29.91613 | 111.73047 | ⋯ |   43.02745 |     6.779708 |   25.85753 |     3.45364 | protein_coding | 6  |  31543344 |  31546113 | TNF     | tumor necrosis factor [Source:HGNC Symbol;Acc:11892]                               |\n",
       "| 6 | ENSG00000017427 | 1368.64534 |  2.0028824 | 0.20303158 |  9.864881 | 5.910437e-23 | 2.135047e-19 | 179.94916 | 1020.88787 |  89.11835 | ⋯ |  823.33616 |  2673.747292 |  562.40134 |  2274.56747 | protein_coding | 12 | 102789645 | 102874423 | IGF1    | insulin-like growth factor 1 (somatomedin C) [Source:HGNC Symbol;Acc:5464]         |\n",
       "\n"
      ],
      "text/plain": [
       "  Gene            baseMean   log2FoldChange lfcSE      stat      pvalue      \n",
       "1 ENSG00000164949  894.20841  2.3117461     0.19149848 12.071877 1.487038e-33\n",
       "2 ENSG00000187955 6083.70690  2.3808647     0.22043253 10.800877 3.409310e-27\n",
       "3 ENSG00000102189  790.03510  0.6522355     0.06188234 10.539930 5.654070e-26\n",
       "4 ENSG00000240184  524.56882  1.3468676     0.13492937  9.982019 1.827099e-23\n",
       "5 ENSG00000232810   63.32949 -2.0890107     0.21000301 -9.947527 2.585269e-23\n",
       "6 ENSG00000017427 1368.64534  2.0028824     0.20303158  9.864881 5.910437e-23\n",
       "  padj         X3597_1_97_B_AACGTGAT X3597_2_97_S_AAACATCG\n",
       "1 3.223006e-29  90.46093              574.38966           \n",
       "2 3.694669e-23 534.98400             2415.72734           \n",
       "3 4.084877e-22 584.59160              918.42513           \n",
       "4 9.900135e-20 209.13011              425.55692           \n",
       "5 1.120663e-19  47.66221               29.91613           \n",
       "6 2.135047e-19 179.94916             1020.88787           \n",
       "  X3597_3_2046_B_ATGCCTAA ⋯ X3597_37_3130_B_CCGAAGTA X3597_38_3130_S_CCGTGAGA\n",
       "1 148.97396               ⋯  326.77607                1303.398839            \n",
       "2  77.14723               ⋯ 6159.90344               23450.162070            \n",
       "3 474.85451               ⋯  684.95056                1436.450606            \n",
       "4  85.12798               ⋯  594.24404                1511.874856            \n",
       "5 111.73047               ⋯   43.02745                   6.779708            \n",
       "6  89.11835               ⋯  823.33616                2673.747292            \n",
       "  X3597_39_3161_B_CCTCCTGA X3597_40_3161_S_CGAACTTA gene_biotype  \n",
       "1  434.40655                1019.51460              protein_coding\n",
       "2 8017.12804               13701.97234              protein_coding\n",
       "3  740.81831                1067.17484              protein_coding\n",
       "4  694.27476                 914.52394              protein_coding\n",
       "5   25.85753                   3.45364              protein_coding\n",
       "6  562.40134                2274.56747              protein_coding\n",
       "  chromosome_name start_position end_position external_gene_id\n",
       "1 8                95261481       95274578    GEM             \n",
       "2 8               121072019      121384275    COL14A1         \n",
       "3 12               93164413       93323107    EEA1            \n",
       "4 5               140855580      140892542    PCDHGC3         \n",
       "5 6                31543344       31546113    TNF             \n",
       "6 12              102789645      102874423    IGF1            \n",
       "  description                                                                       \n",
       "1 GTP binding protein overexpressed in skeletal muscle [Source:HGNC Symbol;Acc:4234]\n",
       "2 collagen, type XIV, alpha 1 [Source:HGNC Symbol;Acc:2191]                         \n",
       "3 early endosome antigen 1 [Source:HGNC Symbol;Acc:3185]                            \n",
       "4 protocadherin gamma subfamily C, 3 [Source:HGNC Symbol;Acc:8716]                  \n",
       "5 tumor necrosis factor [Source:HGNC Symbol;Acc:11892]                              \n",
       "6 insulin-like growth factor 1 (somatomedin C) [Source:HGNC Symbol;Acc:5464]        "
      ]
     },
     "metadata": {},
     "output_type": "display_data"
    }
   ],
   "source": [
    "resdata  %>%  head"
   ]
  },
  {
   "cell_type": "code",
   "execution_count": 36,
   "id": "354bc718",
   "metadata": {
    "vscode": {
     "languageId": "r"
    }
   },
   "outputs": [
    {
     "data": {
      "text/html": [
       "39117"
      ],
      "text/latex": [
       "39117"
      ],
      "text/markdown": [
       "39117"
      ],
      "text/plain": [
       "[1] 39117"
      ]
     },
     "metadata": {},
     "output_type": "display_data"
    }
   ],
   "source": [
    "resdata  %>%  nrow()"
   ]
  },
  {
   "cell_type": "code",
   "execution_count": 37,
   "id": "1d0b8d40",
   "metadata": {
    "vscode": {
     "languageId": "r"
    }
   },
   "outputs": [],
   "source": [
    "resdata2 = resdata %>%\n",
    "  relocate(external_gene_id, .before = everything())"
   ]
  },
  {
   "cell_type": "code",
   "execution_count": 39,
   "id": "e4ef0808",
   "metadata": {
    "vscode": {
     "languageId": "r"
    }
   },
   "outputs": [],
   "source": [
    "degs = resdata2 %>% filter(abs(log2FoldChange)>=1 & padj < 0.05)\n",
    "up=degs %>% filter(log2FoldChange>=1)\n",
    "down = degs %>% filter(log2FoldChange<=-1)"
   ]
  },
  {
   "cell_type": "code",
   "execution_count": null,
   "id": "8e98d394",
   "metadata": {
    "vscode": {
     "languageId": "r"
    }
   },
   "outputs": [],
   "source": [
    "#writing results for downstream analysis\n",
    "write.csv( resdata2  %>% filter(abs(log2FoldChange)>=1 & padj < 0.05), paste0(fold,'degs.csv'), row.names=FALSE)\n",
    "write.csv( resdata2, paste0(fold,'result.csv'),row.names=FALSE)\n",
    "write.csv( counts(dds, normalized=TRUE), paste0(fold,'normalized_counts.csv'),row.names=FALSE) # normalized counts"
   ]
  },
  {
   "cell_type": "code",
   "execution_count": null,
   "id": "627a5d47",
   "metadata": {
    "vscode": {
     "languageId": "r"
    }
   },
   "outputs": [],
   "source": [
    "#for EnrichR\n",
    "write.csv( na.omit(up$external_gene_id), paste0(fold,'up.csv'), row.names=FALSE, quote = FALSE )\n",
    "write.csv( na.omit(down$external_gene_id), paste0(fold,'down.csv'), row.names=FALSE,quote = FALSE)\n",
    "write.csv( na.omit(resdata2$external_gene_id), paste0(fold,'background.csv'), row.names=FALSE,quote = FALSE )"
   ]
  },
  {
   "cell_type": "code",
   "execution_count": null,
   "id": "05f3b24f",
   "metadata": {
    "vscode": {
     "languageId": "r"
    }
   },
   "outputs": [],
   "source": [
    "#results in excel format for sharing\n",
    "write_xlsx( degs, paste0(fold,'degs.xlsx'))\n",
    "write_xlsx( resdata2, paste0(fold,'result.xlsx'))\n",
    "write_xlsx( as.data.frame(counts(dds, normalized=TRUE)), paste0(fold,'normalized_counts.xlsx')) # normalized counts"
   ]
  },
  {
   "cell_type": "code",
   "execution_count": 40,
   "id": "940f5c2c",
   "metadata": {
    "vscode": {
     "languageId": "r"
    }
   },
   "outputs": [
    {
     "data": {
      "text/html": [
       "902"
      ],
      "text/latex": [
       "902"
      ],
      "text/markdown": [
       "902"
      ],
      "text/plain": [
       "[1] 902"
      ]
     },
     "metadata": {},
     "output_type": "display_data"
    }
   ],
   "source": [
    "degs  %>% nrow()"
   ]
  },
  {
   "cell_type": "code",
   "execution_count": null,
   "id": "f07bf4bb",
   "metadata": {
    "vscode": {
     "languageId": "r"
    }
   },
   "outputs": [
    {
     "data": {
      "text/html": [
       "<table class=\"dataframe\">\n",
       "<caption>A data.frame: 20 × 4</caption>\n",
       "<thead>\n",
       "\t<tr><th></th><th scope=col>external_gene_id</th><th scope=col>baseMean</th><th scope=col>log2FoldChange</th><th scope=col>padj</th></tr>\n",
       "\t<tr><th></th><th scope=col>&lt;chr&gt;</th><th scope=col>&lt;dbl&gt;</th><th scope=col>&lt;dbl&gt;</th><th scope=col>&lt;dbl&gt;</th></tr>\n",
       "</thead>\n",
       "<tbody>\n",
       "\t<tr><th scope=row>1</th><td>MSMB         </td><td>  74.841340</td><td>-3.611760</td><td>1.143924e-05</td></tr>\n",
       "\t<tr><th scope=row>2</th><td>PHGR1        </td><td> 121.864644</td><td>-3.471996</td><td>9.320602e-06</td></tr>\n",
       "\t<tr><th scope=row>3</th><td>NEFL         </td><td>  61.282104</td><td> 3.074571</td><td>7.542895e-13</td></tr>\n",
       "\t<tr><th scope=row>4</th><td>CYR61        </td><td>5705.910744</td><td> 3.037916</td><td>2.647946e-19</td></tr>\n",
       "\t<tr><th scope=row>5</th><td>TFF1         </td><td>3643.870294</td><td>-2.927296</td><td>3.330588e-08</td></tr>\n",
       "\t<tr><th scope=row>6</th><td>PTCHD4       </td><td>  42.171911</td><td> 2.875250</td><td>1.233776e-12</td></tr>\n",
       "\t<tr><th scope=row>7</th><td>RIMS4        </td><td> 603.892835</td><td>-2.850879</td><td>2.179502e-06</td></tr>\n",
       "\t<tr><th scope=row>8</th><td>NKAIN1       </td><td> 612.734818</td><td>-2.849746</td><td>6.338649e-07</td></tr>\n",
       "\t<tr><th scope=row>9</th><td>CALN1        </td><td>  18.112266</td><td> 2.754007</td><td>8.071963e-06</td></tr>\n",
       "\t<tr><th scope=row>10</th><td>TMEM215      </td><td>  19.628217</td><td> 2.745563</td><td>1.400118e-05</td></tr>\n",
       "\t<tr><th scope=row>11</th><td>VWCE         </td><td>  49.851844</td><td> 2.722151</td><td>2.774589e-09</td></tr>\n",
       "\t<tr><th scope=row>12</th><td>C1QTNF7      </td><td> 143.682946</td><td> 2.685490</td><td>1.039848e-13</td></tr>\n",
       "\t<tr><th scope=row>13</th><td>ABCC13       </td><td>  54.271381</td><td>-2.676566</td><td>3.260957e-05</td></tr>\n",
       "\t<tr><th scope=row>14</th><td>RP11-1100L3.8</td><td>   3.427516</td><td> 2.610756</td><td>2.093592e-03</td></tr>\n",
       "\t<tr><th scope=row>15</th><td>PDZRN4       </td><td>  85.853943</td><td> 2.553243</td><td>7.484377e-10</td></tr>\n",
       "\t<tr><th scope=row>16</th><td>ABCB5        </td><td>  21.348074</td><td> 2.478539</td><td>7.063737e-05</td></tr>\n",
       "\t<tr><th scope=row>17</th><td>MT-TI        </td><td>   6.846541</td><td>-2.464391</td><td>2.811330e-08</td></tr>\n",
       "\t<tr><th scope=row>18</th><td>MT-TD        </td><td>   3.097262</td><td>-2.463194</td><td>1.718444e-03</td></tr>\n",
       "\t<tr><th scope=row>19</th><td>IL20         </td><td>  48.590874</td><td>-2.449723</td><td>1.481621e-06</td></tr>\n",
       "\t<tr><th scope=row>20</th><td>Z82214.3     </td><td>   7.546625</td><td>-2.449320</td><td>2.579904e-03</td></tr>\n",
       "</tbody>\n",
       "</table>\n"
      ],
      "text/latex": [
       "A data.frame: 20 × 4\n",
       "\\begin{tabular}{r|llll}\n",
       "  & external\\_gene\\_id & baseMean & log2FoldChange & padj\\\\\n",
       "  & <chr> & <dbl> & <dbl> & <dbl>\\\\\n",
       "\\hline\n",
       "\t1 & MSMB          &   74.841340 & -3.611760 & 1.143924e-05\\\\\n",
       "\t2 & PHGR1         &  121.864644 & -3.471996 & 9.320602e-06\\\\\n",
       "\t3 & NEFL          &   61.282104 &  3.074571 & 7.542895e-13\\\\\n",
       "\t4 & CYR61         & 5705.910744 &  3.037916 & 2.647946e-19\\\\\n",
       "\t5 & TFF1          & 3643.870294 & -2.927296 & 3.330588e-08\\\\\n",
       "\t6 & PTCHD4        &   42.171911 &  2.875250 & 1.233776e-12\\\\\n",
       "\t7 & RIMS4         &  603.892835 & -2.850879 & 2.179502e-06\\\\\n",
       "\t8 & NKAIN1        &  612.734818 & -2.849746 & 6.338649e-07\\\\\n",
       "\t9 & CALN1         &   18.112266 &  2.754007 & 8.071963e-06\\\\\n",
       "\t10 & TMEM215       &   19.628217 &  2.745563 & 1.400118e-05\\\\\n",
       "\t11 & VWCE          &   49.851844 &  2.722151 & 2.774589e-09\\\\\n",
       "\t12 & C1QTNF7       &  143.682946 &  2.685490 & 1.039848e-13\\\\\n",
       "\t13 & ABCC13        &   54.271381 & -2.676566 & 3.260957e-05\\\\\n",
       "\t14 & RP11-1100L3.8 &    3.427516 &  2.610756 & 2.093592e-03\\\\\n",
       "\t15 & PDZRN4        &   85.853943 &  2.553243 & 7.484377e-10\\\\\n",
       "\t16 & ABCB5         &   21.348074 &  2.478539 & 7.063737e-05\\\\\n",
       "\t17 & MT-TI         &    6.846541 & -2.464391 & 2.811330e-08\\\\\n",
       "\t18 & MT-TD         &    3.097262 & -2.463194 & 1.718444e-03\\\\\n",
       "\t19 & IL20          &   48.590874 & -2.449723 & 1.481621e-06\\\\\n",
       "\t20 & Z82214.3      &    7.546625 & -2.449320 & 2.579904e-03\\\\\n",
       "\\end{tabular}\n"
      ],
      "text/markdown": [
       "\n",
       "A data.frame: 20 × 4\n",
       "\n",
       "| <!--/--> | external_gene_id &lt;chr&gt; | baseMean &lt;dbl&gt; | log2FoldChange &lt;dbl&gt; | padj &lt;dbl&gt; |\n",
       "|---|---|---|---|---|\n",
       "| 1 | MSMB          |   74.841340 | -3.611760 | 1.143924e-05 |\n",
       "| 2 | PHGR1         |  121.864644 | -3.471996 | 9.320602e-06 |\n",
       "| 3 | NEFL          |   61.282104 |  3.074571 | 7.542895e-13 |\n",
       "| 4 | CYR61         | 5705.910744 |  3.037916 | 2.647946e-19 |\n",
       "| 5 | TFF1          | 3643.870294 | -2.927296 | 3.330588e-08 |\n",
       "| 6 | PTCHD4        |   42.171911 |  2.875250 | 1.233776e-12 |\n",
       "| 7 | RIMS4         |  603.892835 | -2.850879 | 2.179502e-06 |\n",
       "| 8 | NKAIN1        |  612.734818 | -2.849746 | 6.338649e-07 |\n",
       "| 9 | CALN1         |   18.112266 |  2.754007 | 8.071963e-06 |\n",
       "| 10 | TMEM215       |   19.628217 |  2.745563 | 1.400118e-05 |\n",
       "| 11 | VWCE          |   49.851844 |  2.722151 | 2.774589e-09 |\n",
       "| 12 | C1QTNF7       |  143.682946 |  2.685490 | 1.039848e-13 |\n",
       "| 13 | ABCC13        |   54.271381 | -2.676566 | 3.260957e-05 |\n",
       "| 14 | RP11-1100L3.8 |    3.427516 |  2.610756 | 2.093592e-03 |\n",
       "| 15 | PDZRN4        |   85.853943 |  2.553243 | 7.484377e-10 |\n",
       "| 16 | ABCB5         |   21.348074 |  2.478539 | 7.063737e-05 |\n",
       "| 17 | MT-TI         |    6.846541 | -2.464391 | 2.811330e-08 |\n",
       "| 18 | MT-TD         |    3.097262 | -2.463194 | 1.718444e-03 |\n",
       "| 19 | IL20          |   48.590874 | -2.449723 | 1.481621e-06 |\n",
       "| 20 | Z82214.3      |    7.546625 | -2.449320 | 2.579904e-03 |\n",
       "\n"
      ],
      "text/plain": [
       "   external_gene_id baseMean    log2FoldChange padj        \n",
       "1  MSMB               74.841340 -3.611760      1.143924e-05\n",
       "2  PHGR1             121.864644 -3.471996      9.320602e-06\n",
       "3  NEFL               61.282104  3.074571      7.542895e-13\n",
       "4  CYR61            5705.910744  3.037916      2.647946e-19\n",
       "5  TFF1             3643.870294 -2.927296      3.330588e-08\n",
       "6  PTCHD4             42.171911  2.875250      1.233776e-12\n",
       "7  RIMS4             603.892835 -2.850879      2.179502e-06\n",
       "8  NKAIN1            612.734818 -2.849746      6.338649e-07\n",
       "9  CALN1              18.112266  2.754007      8.071963e-06\n",
       "10 TMEM215            19.628217  2.745563      1.400118e-05\n",
       "11 VWCE               49.851844  2.722151      2.774589e-09\n",
       "12 C1QTNF7           143.682946  2.685490      1.039848e-13\n",
       "13 ABCC13             54.271381 -2.676566      3.260957e-05\n",
       "14 RP11-1100L3.8       3.427516  2.610756      2.093592e-03\n",
       "15 PDZRN4             85.853943  2.553243      7.484377e-10\n",
       "16 ABCB5              21.348074  2.478539      7.063737e-05\n",
       "17 MT-TI               6.846541 -2.464391      2.811330e-08\n",
       "18 MT-TD               3.097262 -2.463194      1.718444e-03\n",
       "19 IL20               48.590874 -2.449723      1.481621e-06\n",
       "20 Z82214.3            7.546625 -2.449320      2.579904e-03"
      ]
     },
     "metadata": {},
     "output_type": "display_data"
    }
   ],
   "source": [
    "#taking a look to the top statistically deregulated genes\n",
    "degs %>% dplyr::select(external_gene_id,baseMean,log2FoldChange,padj) %>% \n",
    "arrange(-abs(log2FoldChange)) %>% head(20)"
   ]
  },
  {
   "cell_type": "code",
   "execution_count": 54,
   "id": "50f7e084",
   "metadata": {
    "vscode": {
     "languageId": "r"
    }
   },
   "outputs": [
    {
     "data": {
      "text/html": [
       "'up regulated genes: 606'"
      ],
      "text/latex": [
       "'up regulated genes: 606'"
      ],
      "text/markdown": [
       "'up regulated genes: 606'"
      ],
      "text/plain": [
       "[1] \"up regulated genes: 606\""
      ]
     },
     "metadata": {},
     "output_type": "display_data"
    }
   ],
   "source": [
    "sprintf(\"up regulated genes: %d\", degs  %>% filter(log2FoldChange>=1)  %>% nrow)"
   ]
  },
  {
   "cell_type": "code",
   "execution_count": 55,
   "id": "09068baf",
   "metadata": {
    "vscode": {
     "languageId": "r"
    }
   },
   "outputs": [
    {
     "data": {
      "text/html": [
       "'down regulated genes: 296'"
      ],
      "text/latex": [
       "'down regulated genes: 296'"
      ],
      "text/markdown": [
       "'down regulated genes: 296'"
      ],
      "text/plain": [
       "[1] \"down regulated genes: 296\""
      ]
     },
     "metadata": {},
     "output_type": "display_data"
    }
   ],
   "source": [
    "sprintf(\"down regulated genes: %d\",degs  %>% filter(log2FoldChange<=-1)  %>% nrow)"
   ]
  },
  {
   "cell_type": "code",
   "execution_count": null,
   "id": "882cf121",
   "metadata": {
    "vscode": {
     "languageId": "r"
    }
   },
   "outputs": [],
   "source": [
    "#extracellular matric organization genes\n",
    "EMO = c(\"COL17A1\",\"TNXB\",\"COL16A1\",\"LAMA2\",\"COL14A1\",\"LAMA1\",\"ELN\",\"SERPINE1\",\"TNC\",\"HTRA1\",\"LRP4\",\"FBLN1\",\"FGF2\",\"FBLN2\",\"ADAMTS16\",\"ADAMTS5\",\"ADAMTS3\",\"CAPN6\",\"ADAMTS1\",\"CTSG\",\"NCAM1\",\"COL25A1\",\"CMA1\",\"MMP2\",\"MMP3\",\"GDF5\",\"ASPN\",\"DCN\",\"COL1A1\",\"MFAP4\",\"COL3A1\",\"BMP2\",\"COL1A2\",\"MMP16\",\"COL5A1\",\"COL6A2\",\"ADAM12\",\"COL5A2\",\"COL6A1\",\"ITGA8\",\"COL8A1\",\"MMP19\",\"COL6A3\",\"COL6A6\",\"FBN1\")"
   ]
  },
  {
   "cell_type": "code",
   "execution_count": null,
   "id": "befcd533",
   "metadata": {
    "vscode": {
     "languageId": "r"
    }
   },
   "outputs": [
    {
     "data": {
      "text/html": [
       "<table class=\"dataframe\">\n",
       "<caption>A data.frame: 20 × 4</caption>\n",
       "<thead>\n",
       "\t<tr><th></th><th scope=col>external_gene_id</th><th scope=col>baseMean</th><th scope=col>log2FoldChange</th><th scope=col>padj</th></tr>\n",
       "\t<tr><th></th><th scope=col>&lt;chr&gt;</th><th scope=col>&lt;dbl&gt;</th><th scope=col>&lt;dbl&gt;</th><th scope=col>&lt;dbl&gt;</th></tr>\n",
       "</thead>\n",
       "<tbody>\n",
       "\t<tr><th scope=row>1</th><td>COL14A1 </td><td>  6083.70690</td><td>2.380865</td><td>3.694669e-23</td></tr>\n",
       "\t<tr><th scope=row>2</th><td>MFAP4   </td><td>  2106.71270</td><td>2.318864</td><td>1.671580e-17</td></tr>\n",
       "\t<tr><th scope=row>3</th><td>ELN     </td><td>  4405.16989</td><td>1.997073</td><td>2.847689e-14</td></tr>\n",
       "\t<tr><th scope=row>4</th><td>SERPINE1</td><td>  1718.71523</td><td>1.988166</td><td>1.637581e-06</td></tr>\n",
       "\t<tr><th scope=row>5</th><td>CMA1    </td><td>    18.14640</td><td>1.922716</td><td>8.486344e-04</td></tr>\n",
       "\t<tr><th scope=row>6</th><td>CTSG    </td><td>    72.06075</td><td>1.819214</td><td>2.410059e-04</td></tr>\n",
       "\t<tr><th scope=row>7</th><td>CAPN6   </td><td>   304.15987</td><td>1.739471</td><td>1.284745e-04</td></tr>\n",
       "\t<tr><th scope=row>8</th><td>ADAMTS16</td><td>   314.41964</td><td>1.734161</td><td>2.218534e-04</td></tr>\n",
       "\t<tr><th scope=row>9</th><td>MMP2    </td><td> 20739.72871</td><td>1.716964</td><td>1.209227e-09</td></tr>\n",
       "\t<tr><th scope=row>10</th><td>COL1A1  </td><td>290155.84598</td><td>1.694849</td><td>8.849516e-03</td></tr>\n",
       "\t<tr><th scope=row>11</th><td>COL1A2  </td><td>173602.29871</td><td>1.662282</td><td>7.412082e-03</td></tr>\n",
       "\t<tr><th scope=row>12</th><td>COL3A1  </td><td>167800.70264</td><td>1.606619</td><td>8.125883e-03</td></tr>\n",
       "\t<tr><th scope=row>13</th><td>FBLN1   </td><td>  8320.90896</td><td>1.592054</td><td>9.624708e-09</td></tr>\n",
       "\t<tr><th scope=row>14</th><td>COL17A1 </td><td>   330.92985</td><td>1.562844</td><td>3.785094e-04</td></tr>\n",
       "\t<tr><th scope=row>15</th><td>LAMA2   </td><td>  1247.60668</td><td>1.560029</td><td>2.638210e-13</td></tr>\n",
       "\t<tr><th scope=row>16</th><td>COL25A1 </td><td>    17.28435</td><td>1.487162</td><td>1.815876e-04</td></tr>\n",
       "\t<tr><th scope=row>17</th><td>COL6A3  </td><td> 38244.35469</td><td>1.460533</td><td>1.003136e-06</td></tr>\n",
       "\t<tr><th scope=row>18</th><td>TNXB    </td><td>   716.87140</td><td>1.451771</td><td>2.057790e-05</td></tr>\n",
       "\t<tr><th scope=row>19</th><td>BMP2    </td><td>    97.99994</td><td>1.445242</td><td>5.388258e-05</td></tr>\n",
       "\t<tr><th scope=row>20</th><td>COL6A6  </td><td>    55.13676</td><td>1.417725</td><td>3.171429e-03</td></tr>\n",
       "</tbody>\n",
       "</table>\n"
      ],
      "text/latex": [
       "A data.frame: 20 × 4\n",
       "\\begin{tabular}{r|llll}\n",
       "  & external\\_gene\\_id & baseMean & log2FoldChange & padj\\\\\n",
       "  & <chr> & <dbl> & <dbl> & <dbl>\\\\\n",
       "\\hline\n",
       "\t1 & COL14A1  &   6083.70690 & 2.380865 & 3.694669e-23\\\\\n",
       "\t2 & MFAP4    &   2106.71270 & 2.318864 & 1.671580e-17\\\\\n",
       "\t3 & ELN      &   4405.16989 & 1.997073 & 2.847689e-14\\\\\n",
       "\t4 & SERPINE1 &   1718.71523 & 1.988166 & 1.637581e-06\\\\\n",
       "\t5 & CMA1     &     18.14640 & 1.922716 & 8.486344e-04\\\\\n",
       "\t6 & CTSG     &     72.06075 & 1.819214 & 2.410059e-04\\\\\n",
       "\t7 & CAPN6    &    304.15987 & 1.739471 & 1.284745e-04\\\\\n",
       "\t8 & ADAMTS16 &    314.41964 & 1.734161 & 2.218534e-04\\\\\n",
       "\t9 & MMP2     &  20739.72871 & 1.716964 & 1.209227e-09\\\\\n",
       "\t10 & COL1A1   & 290155.84598 & 1.694849 & 8.849516e-03\\\\\n",
       "\t11 & COL1A2   & 173602.29871 & 1.662282 & 7.412082e-03\\\\\n",
       "\t12 & COL3A1   & 167800.70264 & 1.606619 & 8.125883e-03\\\\\n",
       "\t13 & FBLN1    &   8320.90896 & 1.592054 & 9.624708e-09\\\\\n",
       "\t14 & COL17A1  &    330.92985 & 1.562844 & 3.785094e-04\\\\\n",
       "\t15 & LAMA2    &   1247.60668 & 1.560029 & 2.638210e-13\\\\\n",
       "\t16 & COL25A1  &     17.28435 & 1.487162 & 1.815876e-04\\\\\n",
       "\t17 & COL6A3   &  38244.35469 & 1.460533 & 1.003136e-06\\\\\n",
       "\t18 & TNXB     &    716.87140 & 1.451771 & 2.057790e-05\\\\\n",
       "\t19 & BMP2     &     97.99994 & 1.445242 & 5.388258e-05\\\\\n",
       "\t20 & COL6A6   &     55.13676 & 1.417725 & 3.171429e-03\\\\\n",
       "\\end{tabular}\n"
      ],
      "text/markdown": [
       "\n",
       "A data.frame: 20 × 4\n",
       "\n",
       "| <!--/--> | external_gene_id &lt;chr&gt; | baseMean &lt;dbl&gt; | log2FoldChange &lt;dbl&gt; | padj &lt;dbl&gt; |\n",
       "|---|---|---|---|---|\n",
       "| 1 | COL14A1  |   6083.70690 | 2.380865 | 3.694669e-23 |\n",
       "| 2 | MFAP4    |   2106.71270 | 2.318864 | 1.671580e-17 |\n",
       "| 3 | ELN      |   4405.16989 | 1.997073 | 2.847689e-14 |\n",
       "| 4 | SERPINE1 |   1718.71523 | 1.988166 | 1.637581e-06 |\n",
       "| 5 | CMA1     |     18.14640 | 1.922716 | 8.486344e-04 |\n",
       "| 6 | CTSG     |     72.06075 | 1.819214 | 2.410059e-04 |\n",
       "| 7 | CAPN6    |    304.15987 | 1.739471 | 1.284745e-04 |\n",
       "| 8 | ADAMTS16 |    314.41964 | 1.734161 | 2.218534e-04 |\n",
       "| 9 | MMP2     |  20739.72871 | 1.716964 | 1.209227e-09 |\n",
       "| 10 | COL1A1   | 290155.84598 | 1.694849 | 8.849516e-03 |\n",
       "| 11 | COL1A2   | 173602.29871 | 1.662282 | 7.412082e-03 |\n",
       "| 12 | COL3A1   | 167800.70264 | 1.606619 | 8.125883e-03 |\n",
       "| 13 | FBLN1    |   8320.90896 | 1.592054 | 9.624708e-09 |\n",
       "| 14 | COL17A1  |    330.92985 | 1.562844 | 3.785094e-04 |\n",
       "| 15 | LAMA2    |   1247.60668 | 1.560029 | 2.638210e-13 |\n",
       "| 16 | COL25A1  |     17.28435 | 1.487162 | 1.815876e-04 |\n",
       "| 17 | COL6A3   |  38244.35469 | 1.460533 | 1.003136e-06 |\n",
       "| 18 | TNXB     |    716.87140 | 1.451771 | 2.057790e-05 |\n",
       "| 19 | BMP2     |     97.99994 | 1.445242 | 5.388258e-05 |\n",
       "| 20 | COL6A6   |     55.13676 | 1.417725 | 3.171429e-03 |\n",
       "\n"
      ],
      "text/plain": [
       "   external_gene_id baseMean     log2FoldChange padj        \n",
       "1  COL14A1            6083.70690 2.380865       3.694669e-23\n",
       "2  MFAP4              2106.71270 2.318864       1.671580e-17\n",
       "3  ELN                4405.16989 1.997073       2.847689e-14\n",
       "4  SERPINE1           1718.71523 1.988166       1.637581e-06\n",
       "5  CMA1                 18.14640 1.922716       8.486344e-04\n",
       "6  CTSG                 72.06075 1.819214       2.410059e-04\n",
       "7  CAPN6               304.15987 1.739471       1.284745e-04\n",
       "8  ADAMTS16            314.41964 1.734161       2.218534e-04\n",
       "9  MMP2              20739.72871 1.716964       1.209227e-09\n",
       "10 COL1A1           290155.84598 1.694849       8.849516e-03\n",
       "11 COL1A2           173602.29871 1.662282       7.412082e-03\n",
       "12 COL3A1           167800.70264 1.606619       8.125883e-03\n",
       "13 FBLN1              8320.90896 1.592054       9.624708e-09\n",
       "14 COL17A1             330.92985 1.562844       3.785094e-04\n",
       "15 LAMA2              1247.60668 1.560029       2.638210e-13\n",
       "16 COL25A1              17.28435 1.487162       1.815876e-04\n",
       "17 COL6A3            38244.35469 1.460533       1.003136e-06\n",
       "18 TNXB                716.87140 1.451771       2.057790e-05\n",
       "19 BMP2                 97.99994 1.445242       5.388258e-05\n",
       "20 COL6A6               55.13676 1.417725       3.171429e-03"
      ]
     },
     "metadata": {},
     "output_type": "display_data"
    }
   ],
   "source": [
    "#top 20 deregulated genes belonging to EMO\n",
    "degs %>% dplyr::select(external_gene_id,baseMean,log2FoldChange,padj) %>% \n",
    "filter(external_gene_id %in% EMO)  %>% \n",
    "arrange(-abs(log2FoldChange))  %>% head(20)"
   ]
  },
  {
   "cell_type": "markdown",
   "id": "87c52b07",
   "metadata": {},
   "source": [
    "# heatmap of collagens and DNA damage"
   ]
  },
  {
   "cell_type": "code",
   "execution_count": 57,
   "id": "8f04099e",
   "metadata": {
    "vscode": {
     "languageId": "r"
    }
   },
   "outputs": [],
   "source": [
    "fold = '../../breast/ALL/'"
   ]
  },
  {
   "cell_type": "code",
   "execution_count": 58,
   "id": "0cebbfea",
   "metadata": {
    "vscode": {
     "languageId": "r"
    }
   },
   "outputs": [],
   "source": [
    "resdata =read.table(paste0(fold,\"result.csv\"),\n",
    "                 header=TRUE, sep = \",\",quote = \"\\\"\", fill = TRUE, comment.char = \"\", \n",
    "                 stringsAsFactors = FALSE)"
   ]
  },
  {
   "cell_type": "code",
   "execution_count": 60,
   "id": "14efacf2",
   "metadata": {
    "vscode": {
     "languageId": "r"
    }
   },
   "outputs": [
    {
     "data": {
      "text/html": [
       "<table class=\"dataframe\">\n",
       "<caption>A data.frame: 3 × 53</caption>\n",
       "<thead>\n",
       "\t<tr><th></th><th scope=col>external_gene_id</th><th scope=col>Gene</th><th scope=col>baseMean</th><th scope=col>log2FoldChange</th><th scope=col>lfcSE</th><th scope=col>stat</th><th scope=col>pvalue</th><th scope=col>padj</th><th scope=col>X3597_1_97_B_AACGTGAT</th><th scope=col>X3597_2_97_S_AAACATCG</th><th scope=col>⋯</th><th scope=col>X3597_36_3067_S_CCAGTTCA</th><th scope=col>X3597_37_3130_B_CCGAAGTA</th><th scope=col>X3597_38_3130_S_CCGTGAGA</th><th scope=col>X3597_39_3161_B_CCTCCTGA</th><th scope=col>X3597_40_3161_S_CGAACTTA</th><th scope=col>gene_biotype</th><th scope=col>chromosome_name</th><th scope=col>start_position</th><th scope=col>end_position</th><th scope=col>description</th></tr>\n",
       "\t<tr><th></th><th scope=col>&lt;chr&gt;</th><th scope=col>&lt;chr&gt;</th><th scope=col>&lt;dbl&gt;</th><th scope=col>&lt;dbl&gt;</th><th scope=col>&lt;dbl&gt;</th><th scope=col>&lt;dbl&gt;</th><th scope=col>&lt;dbl&gt;</th><th scope=col>&lt;dbl&gt;</th><th scope=col>&lt;dbl&gt;</th><th scope=col>&lt;dbl&gt;</th><th scope=col>⋯</th><th scope=col>&lt;dbl&gt;</th><th scope=col>&lt;dbl&gt;</th><th scope=col>&lt;dbl&gt;</th><th scope=col>&lt;dbl&gt;</th><th scope=col>&lt;dbl&gt;</th><th scope=col>&lt;chr&gt;</th><th scope=col>&lt;chr&gt;</th><th scope=col>&lt;int&gt;</th><th scope=col>&lt;int&gt;</th><th scope=col>&lt;chr&gt;</th></tr>\n",
       "</thead>\n",
       "<tbody>\n",
       "\t<tr><th scope=row>1</th><td>GEM    </td><td>ENSG00000164949</td><td> 894.2084</td><td>2.3117461</td><td>0.19149848</td><td>12.07188</td><td>1.487038e-33</td><td>3.223006e-29</td><td> 90.46093</td><td> 574.3897</td><td>⋯</td><td> 2702.464</td><td> 326.7761</td><td> 1303.399</td><td> 434.4066</td><td> 1019.515</td><td>protein_coding</td><td>8 </td><td> 95261481</td><td> 95274578</td><td>GTP binding protein overexpressed in skeletal muscle [Source:HGNC Symbol;Acc:4234]</td></tr>\n",
       "\t<tr><th scope=row>2</th><td>COL14A1</td><td>ENSG00000187955</td><td>6083.7069</td><td>2.3808647</td><td>0.22043253</td><td>10.80088</td><td>3.409310e-27</td><td>3.694669e-23</td><td>534.98400</td><td>2415.7273</td><td>⋯</td><td>16354.389</td><td>6159.9034</td><td>23450.162</td><td>8017.1280</td><td>13701.972</td><td>protein_coding</td><td>8 </td><td>121072019</td><td>121384275</td><td>collagen, type XIV, alpha 1 [Source:HGNC Symbol;Acc:2191]                         </td></tr>\n",
       "\t<tr><th scope=row>3</th><td>EEA1   </td><td>ENSG00000102189</td><td> 790.0351</td><td>0.6522355</td><td>0.06188234</td><td>10.53993</td><td>5.654070e-26</td><td>4.084877e-22</td><td>584.59160</td><td> 918.4251</td><td>⋯</td><td> 1152.710</td><td> 684.9506</td><td> 1436.451</td><td> 740.8183</td><td> 1067.175</td><td>protein_coding</td><td>12</td><td> 93164413</td><td> 93323107</td><td>early endosome antigen 1 [Source:HGNC Symbol;Acc:3185]                            </td></tr>\n",
       "</tbody>\n",
       "</table>\n"
      ],
      "text/latex": [
       "A data.frame: 3 × 53\n",
       "\\begin{tabular}{r|lllllllllllllllllllll}\n",
       "  & external\\_gene\\_id & Gene & baseMean & log2FoldChange & lfcSE & stat & pvalue & padj & X3597\\_1\\_97\\_B\\_AACGTGAT & X3597\\_2\\_97\\_S\\_AAACATCG & ⋯ & X3597\\_36\\_3067\\_S\\_CCAGTTCA & X3597\\_37\\_3130\\_B\\_CCGAAGTA & X3597\\_38\\_3130\\_S\\_CCGTGAGA & X3597\\_39\\_3161\\_B\\_CCTCCTGA & X3597\\_40\\_3161\\_S\\_CGAACTTA & gene\\_biotype & chromosome\\_name & start\\_position & end\\_position & description\\\\\n",
       "  & <chr> & <chr> & <dbl> & <dbl> & <dbl> & <dbl> & <dbl> & <dbl> & <dbl> & <dbl> & ⋯ & <dbl> & <dbl> & <dbl> & <dbl> & <dbl> & <chr> & <chr> & <int> & <int> & <chr>\\\\\n",
       "\\hline\n",
       "\t1 & GEM     & ENSG00000164949 &  894.2084 & 2.3117461 & 0.19149848 & 12.07188 & 1.487038e-33 & 3.223006e-29 &  90.46093 &  574.3897 & ⋯ &  2702.464 &  326.7761 &  1303.399 &  434.4066 &  1019.515 & protein\\_coding & 8  &  95261481 &  95274578 & GTP binding protein overexpressed in skeletal muscle {[}Source:HGNC Symbol;Acc:4234{]}\\\\\n",
       "\t2 & COL14A1 & ENSG00000187955 & 6083.7069 & 2.3808647 & 0.22043253 & 10.80088 & 3.409310e-27 & 3.694669e-23 & 534.98400 & 2415.7273 & ⋯ & 16354.389 & 6159.9034 & 23450.162 & 8017.1280 & 13701.972 & protein\\_coding & 8  & 121072019 & 121384275 & collagen, type XIV, alpha 1 {[}Source:HGNC Symbol;Acc:2191{]}                         \\\\\n",
       "\t3 & EEA1    & ENSG00000102189 &  790.0351 & 0.6522355 & 0.06188234 & 10.53993 & 5.654070e-26 & 4.084877e-22 & 584.59160 &  918.4251 & ⋯ &  1152.710 &  684.9506 &  1436.451 &  740.8183 &  1067.175 & protein\\_coding & 12 &  93164413 &  93323107 & early endosome antigen 1 {[}Source:HGNC Symbol;Acc:3185{]}                            \\\\\n",
       "\\end{tabular}\n"
      ],
      "text/markdown": [
       "\n",
       "A data.frame: 3 × 53\n",
       "\n",
       "| <!--/--> | external_gene_id &lt;chr&gt; | Gene &lt;chr&gt; | baseMean &lt;dbl&gt; | log2FoldChange &lt;dbl&gt; | lfcSE &lt;dbl&gt; | stat &lt;dbl&gt; | pvalue &lt;dbl&gt; | padj &lt;dbl&gt; | X3597_1_97_B_AACGTGAT &lt;dbl&gt; | X3597_2_97_S_AAACATCG &lt;dbl&gt; | ⋯ ⋯ | X3597_36_3067_S_CCAGTTCA &lt;dbl&gt; | X3597_37_3130_B_CCGAAGTA &lt;dbl&gt; | X3597_38_3130_S_CCGTGAGA &lt;dbl&gt; | X3597_39_3161_B_CCTCCTGA &lt;dbl&gt; | X3597_40_3161_S_CGAACTTA &lt;dbl&gt; | gene_biotype &lt;chr&gt; | chromosome_name &lt;chr&gt; | start_position &lt;int&gt; | end_position &lt;int&gt; | description &lt;chr&gt; |\n",
       "|---|---|---|---|---|---|---|---|---|---|---|---|---|---|---|---|---|---|---|---|---|---|\n",
       "| 1 | GEM     | ENSG00000164949 |  894.2084 | 2.3117461 | 0.19149848 | 12.07188 | 1.487038e-33 | 3.223006e-29 |  90.46093 |  574.3897 | ⋯ |  2702.464 |  326.7761 |  1303.399 |  434.4066 |  1019.515 | protein_coding | 8  |  95261481 |  95274578 | GTP binding protein overexpressed in skeletal muscle [Source:HGNC Symbol;Acc:4234] |\n",
       "| 2 | COL14A1 | ENSG00000187955 | 6083.7069 | 2.3808647 | 0.22043253 | 10.80088 | 3.409310e-27 | 3.694669e-23 | 534.98400 | 2415.7273 | ⋯ | 16354.389 | 6159.9034 | 23450.162 | 8017.1280 | 13701.972 | protein_coding | 8  | 121072019 | 121384275 | collagen, type XIV, alpha 1 [Source:HGNC Symbol;Acc:2191]                          |\n",
       "| 3 | EEA1    | ENSG00000102189 |  790.0351 | 0.6522355 | 0.06188234 | 10.53993 | 5.654070e-26 | 4.084877e-22 | 584.59160 |  918.4251 | ⋯ |  1152.710 |  684.9506 |  1436.451 |  740.8183 |  1067.175 | protein_coding | 12 |  93164413 |  93323107 | early endosome antigen 1 [Source:HGNC Symbol;Acc:3185]                             |\n",
       "\n"
      ],
      "text/plain": [
       "  external_gene_id Gene            baseMean  log2FoldChange lfcSE      stat    \n",
       "1 GEM              ENSG00000164949  894.2084 2.3117461      0.19149848 12.07188\n",
       "2 COL14A1          ENSG00000187955 6083.7069 2.3808647      0.22043253 10.80088\n",
       "3 EEA1             ENSG00000102189  790.0351 0.6522355      0.06188234 10.53993\n",
       "  pvalue       padj         X3597_1_97_B_AACGTGAT X3597_2_97_S_AAACATCG ⋯\n",
       "1 1.487038e-33 3.223006e-29  90.46093              574.3897             ⋯\n",
       "2 3.409310e-27 3.694669e-23 534.98400             2415.7273             ⋯\n",
       "3 5.654070e-26 4.084877e-22 584.59160              918.4251             ⋯\n",
       "  X3597_36_3067_S_CCAGTTCA X3597_37_3130_B_CCGAAGTA X3597_38_3130_S_CCGTGAGA\n",
       "1  2702.464                 326.7761                 1303.399               \n",
       "2 16354.389                6159.9034                23450.162               \n",
       "3  1152.710                 684.9506                 1436.451               \n",
       "  X3597_39_3161_B_CCTCCTGA X3597_40_3161_S_CGAACTTA gene_biotype  \n",
       "1  434.4066                 1019.515                protein_coding\n",
       "2 8017.1280                13701.972                protein_coding\n",
       "3  740.8183                 1067.175                protein_coding\n",
       "  chromosome_name start_position end_position\n",
       "1 8                95261481       95274578   \n",
       "2 8               121072019      121384275   \n",
       "3 12               93164413       93323107   \n",
       "  description                                                                       \n",
       "1 GTP binding protein overexpressed in skeletal muscle [Source:HGNC Symbol;Acc:4234]\n",
       "2 collagen, type XIV, alpha 1 [Source:HGNC Symbol;Acc:2191]                         \n",
       "3 early endosome antigen 1 [Source:HGNC Symbol;Acc:3185]                            "
      ]
     },
     "metadata": {},
     "output_type": "display_data"
    }
   ],
   "source": [
    "resdata  %>%  head(3)"
   ]
  },
  {
   "cell_type": "code",
   "execution_count": null,
   "id": "467c21e2",
   "metadata": {
    "vscode": {
     "languageId": "r"
    }
   },
   "outputs": [
    {
     "data": {
      "text/html": [
       "<table class=\"dataframe\">\n",
       "<caption>A data.frame: 20 × 2</caption>\n",
       "<thead>\n",
       "\t<tr><th></th><th scope=col>log2FoldChange</th><th scope=col>padj</th></tr>\n",
       "\t<tr><th></th><th scope=col>&lt;dbl&gt;</th><th scope=col>&lt;dbl&gt;</th></tr>\n",
       "</thead>\n",
       "<tbody>\n",
       "\t<tr><th scope=row>MSMB</th><td>-3.611760</td><td>1.143924e-05</td></tr>\n",
       "\t<tr><th scope=row>PHGR1</th><td>-3.471996</td><td>9.320602e-06</td></tr>\n",
       "\t<tr><th scope=row>NEFL</th><td> 3.074571</td><td>7.542895e-13</td></tr>\n",
       "\t<tr><th scope=row>CYR61</th><td> 3.037916</td><td>2.647946e-19</td></tr>\n",
       "\t<tr><th scope=row>TFF1</th><td>-2.927296</td><td>3.330588e-08</td></tr>\n",
       "\t<tr><th scope=row>PTCHD4</th><td> 2.875250</td><td>1.233776e-12</td></tr>\n",
       "\t<tr><th scope=row>RIMS4</th><td>-2.850879</td><td>2.179502e-06</td></tr>\n",
       "\t<tr><th scope=row>NKAIN1</th><td>-2.849746</td><td>6.338649e-07</td></tr>\n",
       "\t<tr><th scope=row>CALN1</th><td> 2.754007</td><td>8.071963e-06</td></tr>\n",
       "\t<tr><th scope=row>TMEM215</th><td> 2.745563</td><td>1.400118e-05</td></tr>\n",
       "\t<tr><th scope=row>VWCE</th><td> 2.722151</td><td>2.774589e-09</td></tr>\n",
       "\t<tr><th scope=row>C1QTNF7</th><td> 2.685490</td><td>1.039848e-13</td></tr>\n",
       "\t<tr><th scope=row>ABCC13</th><td>-2.676566</td><td>3.260957e-05</td></tr>\n",
       "\t<tr><th scope=row>RP11-1100L3.8</th><td> 2.610756</td><td>2.093592e-03</td></tr>\n",
       "\t<tr><th scope=row>PDZRN4</th><td> 2.553243</td><td>7.484377e-10</td></tr>\n",
       "\t<tr><th scope=row>ABCB5</th><td> 2.478539</td><td>7.063737e-05</td></tr>\n",
       "\t<tr><th scope=row>MT-TI</th><td>-2.464391</td><td>2.811330e-08</td></tr>\n",
       "\t<tr><th scope=row>MT-TD</th><td>-2.463194</td><td>1.718444e-03</td></tr>\n",
       "\t<tr><th scope=row>IL20</th><td>-2.449723</td><td>1.481621e-06</td></tr>\n",
       "\t<tr><th scope=row>Z82214.3</th><td>-2.449320</td><td>2.579904e-03</td></tr>\n",
       "</tbody>\n",
       "</table>\n"
      ],
      "text/latex": [
       "A data.frame: 20 × 2\n",
       "\\begin{tabular}{r|ll}\n",
       "  & log2FoldChange & padj\\\\\n",
       "  & <dbl> & <dbl>\\\\\n",
       "\\hline\n",
       "\tMSMB & -3.611760 & 1.143924e-05\\\\\n",
       "\tPHGR1 & -3.471996 & 9.320602e-06\\\\\n",
       "\tNEFL &  3.074571 & 7.542895e-13\\\\\n",
       "\tCYR61 &  3.037916 & 2.647946e-19\\\\\n",
       "\tTFF1 & -2.927296 & 3.330588e-08\\\\\n",
       "\tPTCHD4 &  2.875250 & 1.233776e-12\\\\\n",
       "\tRIMS4 & -2.850879 & 2.179502e-06\\\\\n",
       "\tNKAIN1 & -2.849746 & 6.338649e-07\\\\\n",
       "\tCALN1 &  2.754007 & 8.071963e-06\\\\\n",
       "\tTMEM215 &  2.745563 & 1.400118e-05\\\\\n",
       "\tVWCE &  2.722151 & 2.774589e-09\\\\\n",
       "\tC1QTNF7 &  2.685490 & 1.039848e-13\\\\\n",
       "\tABCC13 & -2.676566 & 3.260957e-05\\\\\n",
       "\tRP11-1100L3.8 &  2.610756 & 2.093592e-03\\\\\n",
       "\tPDZRN4 &  2.553243 & 7.484377e-10\\\\\n",
       "\tABCB5 &  2.478539 & 7.063737e-05\\\\\n",
       "\tMT-TI & -2.464391 & 2.811330e-08\\\\\n",
       "\tMT-TD & -2.463194 & 1.718444e-03\\\\\n",
       "\tIL20 & -2.449723 & 1.481621e-06\\\\\n",
       "\tZ82214.3 & -2.449320 & 2.579904e-03\\\\\n",
       "\\end{tabular}\n"
      ],
      "text/markdown": [
       "\n",
       "A data.frame: 20 × 2\n",
       "\n",
       "| <!--/--> | log2FoldChange &lt;dbl&gt; | padj &lt;dbl&gt; |\n",
       "|---|---|---|\n",
       "| MSMB | -3.611760 | 1.143924e-05 |\n",
       "| PHGR1 | -3.471996 | 9.320602e-06 |\n",
       "| NEFL |  3.074571 | 7.542895e-13 |\n",
       "| CYR61 |  3.037916 | 2.647946e-19 |\n",
       "| TFF1 | -2.927296 | 3.330588e-08 |\n",
       "| PTCHD4 |  2.875250 | 1.233776e-12 |\n",
       "| RIMS4 | -2.850879 | 2.179502e-06 |\n",
       "| NKAIN1 | -2.849746 | 6.338649e-07 |\n",
       "| CALN1 |  2.754007 | 8.071963e-06 |\n",
       "| TMEM215 |  2.745563 | 1.400118e-05 |\n",
       "| VWCE |  2.722151 | 2.774589e-09 |\n",
       "| C1QTNF7 |  2.685490 | 1.039848e-13 |\n",
       "| ABCC13 | -2.676566 | 3.260957e-05 |\n",
       "| RP11-1100L3.8 |  2.610756 | 2.093592e-03 |\n",
       "| PDZRN4 |  2.553243 | 7.484377e-10 |\n",
       "| ABCB5 |  2.478539 | 7.063737e-05 |\n",
       "| MT-TI | -2.464391 | 2.811330e-08 |\n",
       "| MT-TD | -2.463194 | 1.718444e-03 |\n",
       "| IL20 | -2.449723 | 1.481621e-06 |\n",
       "| Z82214.3 | -2.449320 | 2.579904e-03 |\n",
       "\n"
      ],
      "text/plain": [
       "              log2FoldChange padj        \n",
       "MSMB          -3.611760      1.143924e-05\n",
       "PHGR1         -3.471996      9.320602e-06\n",
       "NEFL           3.074571      7.542895e-13\n",
       "CYR61          3.037916      2.647946e-19\n",
       "TFF1          -2.927296      3.330588e-08\n",
       "PTCHD4         2.875250      1.233776e-12\n",
       "RIMS4         -2.850879      2.179502e-06\n",
       "NKAIN1        -2.849746      6.338649e-07\n",
       "CALN1          2.754007      8.071963e-06\n",
       "TMEM215        2.745563      1.400118e-05\n",
       "VWCE           2.722151      2.774589e-09\n",
       "C1QTNF7        2.685490      1.039848e-13\n",
       "ABCC13        -2.676566      3.260957e-05\n",
       "RP11-1100L3.8  2.610756      2.093592e-03\n",
       "PDZRN4         2.553243      7.484377e-10\n",
       "ABCB5          2.478539      7.063737e-05\n",
       "MT-TI         -2.464391      2.811330e-08\n",
       "MT-TD         -2.463194      1.718444e-03\n",
       "IL20          -2.449723      1.481621e-06\n",
       "Z82214.3      -2.449320      2.579904e-03"
      ]
     },
     "metadata": {},
     "output_type": "display_data"
    }
   ],
   "source": [
    "resdata  %>% filter(abs(log2FoldChange)>=1, padj<.05)  %>% \n",
    "                column_to_rownames(\"external_gene_id\")  %>% \n",
    "                arrange(-abs(log2FoldChange)) %>% \n",
    "                dplyr::select(log2FoldChange, padj)  %>% head(20)"
   ]
  },
  {
   "cell_type": "code",
   "execution_count": null,
   "id": "6ebaff55",
   "metadata": {
    "scrolled": true,
    "vscode": {
     "languageId": "r"
    }
   },
   "outputs": [
    {
     "data": {
      "text/html": [
       "<table class=\"dataframe\">\n",
       "<caption>A data.frame: 18 × 3</caption>\n",
       "<thead>\n",
       "\t<tr><th scope=col>external_gene_id</th><th scope=col>log2FoldChange</th><th scope=col>padj</th></tr>\n",
       "\t<tr><th scope=col>&lt;chr&gt;</th><th scope=col>&lt;dbl&gt;</th><th scope=col>&lt;dbl&gt;</th></tr>\n",
       "</thead>\n",
       "<tbody>\n",
       "\t<tr><td>COL14A1</td><td>2.380865</td><td>3.694669e-23</td></tr>\n",
       "\t<tr><td>MFAP4  </td><td>2.318864</td><td>1.671580e-17</td></tr>\n",
       "\t<tr><td>ELN    </td><td>1.997073</td><td>2.847689e-14</td></tr>\n",
       "\t<tr><td>MMP2   </td><td>1.716964</td><td>1.209227e-09</td></tr>\n",
       "\t<tr><td>COL1A1 </td><td>1.694849</td><td>8.849516e-03</td></tr>\n",
       "\t<tr><td>COL1A2 </td><td>1.662282</td><td>7.412082e-03</td></tr>\n",
       "\t<tr><td>COL3A1 </td><td>1.606619</td><td>8.125883e-03</td></tr>\n",
       "\t<tr><td>FBLN1  </td><td>1.592054</td><td>9.624708e-09</td></tr>\n",
       "\t<tr><td>COL17A1</td><td>1.562844</td><td>3.785094e-04</td></tr>\n",
       "\t<tr><td>LAMA2  </td><td>1.560029</td><td>2.638210e-13</td></tr>\n",
       "\t<tr><td>FGF2   </td><td>1.405191</td><td>1.804998e-05</td></tr>\n",
       "\t<tr><td>MMP3   </td><td>1.258181</td><td>6.554747e-03</td></tr>\n",
       "\t<tr><td>DCN    </td><td>1.140829</td><td>7.960139e-05</td></tr>\n",
       "\t<tr><td>HTRA1  </td><td>1.133277</td><td>5.131357e-06</td></tr>\n",
       "\t<tr><td>LAMA1  </td><td>1.129013</td><td>2.263153e-05</td></tr>\n",
       "\t<tr><td>FBN1   </td><td>1.117173</td><td>2.653468e-04</td></tr>\n",
       "\t<tr><td>FBLN2  </td><td>1.061852</td><td>3.153822e-06</td></tr>\n",
       "\t<tr><td>COL8A1 </td><td>1.013231</td><td>5.634457e-03</td></tr>\n",
       "</tbody>\n",
       "</table>\n"
      ],
      "text/latex": [
       "A data.frame: 18 × 3\n",
       "\\begin{tabular}{lll}\n",
       " external\\_gene\\_id & log2FoldChange & padj\\\\\n",
       " <chr> & <dbl> & <dbl>\\\\\n",
       "\\hline\n",
       "\t COL14A1 & 2.380865 & 3.694669e-23\\\\\n",
       "\t MFAP4   & 2.318864 & 1.671580e-17\\\\\n",
       "\t ELN     & 1.997073 & 2.847689e-14\\\\\n",
       "\t MMP2    & 1.716964 & 1.209227e-09\\\\\n",
       "\t COL1A1  & 1.694849 & 8.849516e-03\\\\\n",
       "\t COL1A2  & 1.662282 & 7.412082e-03\\\\\n",
       "\t COL3A1  & 1.606619 & 8.125883e-03\\\\\n",
       "\t FBLN1   & 1.592054 & 9.624708e-09\\\\\n",
       "\t COL17A1 & 1.562844 & 3.785094e-04\\\\\n",
       "\t LAMA2   & 1.560029 & 2.638210e-13\\\\\n",
       "\t FGF2    & 1.405191 & 1.804998e-05\\\\\n",
       "\t MMP3    & 1.258181 & 6.554747e-03\\\\\n",
       "\t DCN     & 1.140829 & 7.960139e-05\\\\\n",
       "\t HTRA1   & 1.133277 & 5.131357e-06\\\\\n",
       "\t LAMA1   & 1.129013 & 2.263153e-05\\\\\n",
       "\t FBN1    & 1.117173 & 2.653468e-04\\\\\n",
       "\t FBLN2   & 1.061852 & 3.153822e-06\\\\\n",
       "\t COL8A1  & 1.013231 & 5.634457e-03\\\\\n",
       "\\end{tabular}\n"
      ],
      "text/markdown": [
       "\n",
       "A data.frame: 18 × 3\n",
       "\n",
       "| external_gene_id &lt;chr&gt; | log2FoldChange &lt;dbl&gt; | padj &lt;dbl&gt; |\n",
       "|---|---|---|\n",
       "| COL14A1 | 2.380865 | 3.694669e-23 |\n",
       "| MFAP4   | 2.318864 | 1.671580e-17 |\n",
       "| ELN     | 1.997073 | 2.847689e-14 |\n",
       "| MMP2    | 1.716964 | 1.209227e-09 |\n",
       "| COL1A1  | 1.694849 | 8.849516e-03 |\n",
       "| COL1A2  | 1.662282 | 7.412082e-03 |\n",
       "| COL3A1  | 1.606619 | 8.125883e-03 |\n",
       "| FBLN1   | 1.592054 | 9.624708e-09 |\n",
       "| COL17A1 | 1.562844 | 3.785094e-04 |\n",
       "| LAMA2   | 1.560029 | 2.638210e-13 |\n",
       "| FGF2    | 1.405191 | 1.804998e-05 |\n",
       "| MMP3    | 1.258181 | 6.554747e-03 |\n",
       "| DCN     | 1.140829 | 7.960139e-05 |\n",
       "| HTRA1   | 1.133277 | 5.131357e-06 |\n",
       "| LAMA1   | 1.129013 | 2.263153e-05 |\n",
       "| FBN1    | 1.117173 | 2.653468e-04 |\n",
       "| FBLN2   | 1.061852 | 3.153822e-06 |\n",
       "| COL8A1  | 1.013231 | 5.634457e-03 |\n",
       "\n"
      ],
      "text/plain": [
       "   external_gene_id log2FoldChange padj        \n",
       "1  COL14A1          2.380865       3.694669e-23\n",
       "2  MFAP4            2.318864       1.671580e-17\n",
       "3  ELN              1.997073       2.847689e-14\n",
       "4  MMP2             1.716964       1.209227e-09\n",
       "5  COL1A1           1.694849       8.849516e-03\n",
       "6  COL1A2           1.662282       7.412082e-03\n",
       "7  COL3A1           1.606619       8.125883e-03\n",
       "8  FBLN1            1.592054       9.624708e-09\n",
       "9  COL17A1          1.562844       3.785094e-04\n",
       "10 LAMA2            1.560029       2.638210e-13\n",
       "11 FGF2             1.405191       1.804998e-05\n",
       "12 MMP3             1.258181       6.554747e-03\n",
       "13 DCN              1.140829       7.960139e-05\n",
       "14 HTRA1            1.133277       5.131357e-06\n",
       "15 LAMA1            1.129013       2.263153e-05\n",
       "16 FBN1             1.117173       2.653468e-04\n",
       "17 FBLN2            1.061852       3.153822e-06\n",
       "18 COL8A1           1.013231       5.634457e-03"
      ]
     },
     "metadata": {},
     "output_type": "display_data"
    }
   ],
   "source": [
    "#checking at genes belonging to EMO (EnrichR)\n",
    "resdata  %>% \n",
    "filter(log2FoldChange>=1, padj<.05,\n",
    "       external_gene_id %in% c(\"SPARC\",\"ITGB5\",\"COL14A1\",\"ITGB4\",\"ELN\",\"COL12A1\",\"LAMC2\",\"CTSV\",\"FGF2\",\"LOXL1\",\"COMP\",\"EFEMP2\",\"MMP24\",\"EFEMP1\",\"SH3PXD2A\",\"TNN\",\"DAG1\",\"TIMP2\",\"ITGB6\",\"TPSAB1\",\"MMP2\",\"MMP3\",\"P3H2\",\"BGN\",\"DCN\",\"MMP14\",\"MMP13\",\"LOX\",\"COL8A2\",\"COL8A1\",\"MATN3\",\"COL17A1\",\"FBN2\",\"SDC4\",\"LAMA2\",\"LAMA1\",\"SDC2\",\"LAMA3\",\"HTRA1\",\"FBLN1\",\"LTBP2\",\"FBLN2\",\"THBS1\",\"KLK7\",\"FBLN5\",\"TGFB2\",\"LAMB3\",\"TGFB3\",\"LUM\",\"COL1A1\",\"MFAP5\",\"MFAP4\",\"COL3A1\",\"COL1A2\",\"P4HA3\",\"SDC1\",\"TLL1\",\"FMOD\",\"FBN1\")) %>% \n",
    "       dplyr::select(external_gene_id,log2FoldChange, padj)  %>% arrange(-abs(log2FoldChange)) "
   ]
  },
  {
   "cell_type": "code",
   "execution_count": 11,
   "id": "1d219d2d",
   "metadata": {
    "vscode": {
     "languageId": "r"
    }
   },
   "outputs": [
    {
     "data": {
      "text/html": [
       "<table class=\"dataframe\">\n",
       "<caption>A tibble: 23 × 3</caption>\n",
       "<thead>\n",
       "\t<tr><th scope=col>gs_cat</th><th scope=col>gs_subcat</th><th scope=col>num_genesets</th></tr>\n",
       "\t<tr><th scope=col>&lt;chr&gt;</th><th scope=col>&lt;chr&gt;</th><th scope=col>&lt;int&gt;</th></tr>\n",
       "</thead>\n",
       "<tbody>\n",
       "\t<tr><td>C1</td><td>               </td><td> 299</td></tr>\n",
       "\t<tr><td>C2</td><td>CGP            </td><td>3384</td></tr>\n",
       "\t<tr><td>C2</td><td>CP             </td><td>  29</td></tr>\n",
       "\t<tr><td>C2</td><td>CP:BIOCARTA    </td><td> 292</td></tr>\n",
       "\t<tr><td>C2</td><td>CP:KEGG        </td><td> 186</td></tr>\n",
       "\t<tr><td>C2</td><td>CP:PID         </td><td> 196</td></tr>\n",
       "\t<tr><td>C2</td><td>CP:REACTOME    </td><td>1615</td></tr>\n",
       "\t<tr><td>C2</td><td>CP:WIKIPATHWAYS</td><td> 664</td></tr>\n",
       "\t<tr><td>C3</td><td>MIR:MIRDB      </td><td>2377</td></tr>\n",
       "\t<tr><td>C3</td><td>MIR:MIR_Legacy </td><td> 221</td></tr>\n",
       "\t<tr><td>C3</td><td>TFT:GTRD       </td><td> 518</td></tr>\n",
       "\t<tr><td>C3</td><td>TFT:TFT_Legacy </td><td> 610</td></tr>\n",
       "\t<tr><td>C4</td><td>CGN            </td><td> 427</td></tr>\n",
       "\t<tr><td>C4</td><td>CM             </td><td> 431</td></tr>\n",
       "\t<tr><td>C5</td><td>GO:BP          </td><td>7658</td></tr>\n",
       "\t<tr><td>C5</td><td>GO:CC          </td><td>1006</td></tr>\n",
       "\t<tr><td>C5</td><td>GO:MF          </td><td>1738</td></tr>\n",
       "\t<tr><td>C5</td><td>HPO            </td><td>5071</td></tr>\n",
       "\t<tr><td>C6</td><td>               </td><td> 189</td></tr>\n",
       "\t<tr><td>C7</td><td>IMMUNESIGDB    </td><td>4872</td></tr>\n",
       "\t<tr><td>C7</td><td>VAX            </td><td> 347</td></tr>\n",
       "\t<tr><td>C8</td><td>               </td><td> 700</td></tr>\n",
       "\t<tr><td>H </td><td>               </td><td>  50</td></tr>\n",
       "</tbody>\n",
       "</table>\n"
      ],
      "text/latex": [
       "A tibble: 23 × 3\n",
       "\\begin{tabular}{lll}\n",
       " gs\\_cat & gs\\_subcat & num\\_genesets\\\\\n",
       " <chr> & <chr> & <int>\\\\\n",
       "\\hline\n",
       "\t C1 &                 &  299\\\\\n",
       "\t C2 & CGP             & 3384\\\\\n",
       "\t C2 & CP              &   29\\\\\n",
       "\t C2 & CP:BIOCARTA     &  292\\\\\n",
       "\t C2 & CP:KEGG         &  186\\\\\n",
       "\t C2 & CP:PID          &  196\\\\\n",
       "\t C2 & CP:REACTOME     & 1615\\\\\n",
       "\t C2 & CP:WIKIPATHWAYS &  664\\\\\n",
       "\t C3 & MIR:MIRDB       & 2377\\\\\n",
       "\t C3 & MIR:MIR\\_Legacy  &  221\\\\\n",
       "\t C3 & TFT:GTRD        &  518\\\\\n",
       "\t C3 & TFT:TFT\\_Legacy  &  610\\\\\n",
       "\t C4 & CGN             &  427\\\\\n",
       "\t C4 & CM              &  431\\\\\n",
       "\t C5 & GO:BP           & 7658\\\\\n",
       "\t C5 & GO:CC           & 1006\\\\\n",
       "\t C5 & GO:MF           & 1738\\\\\n",
       "\t C5 & HPO             & 5071\\\\\n",
       "\t C6 &                 &  189\\\\\n",
       "\t C7 & IMMUNESIGDB     & 4872\\\\\n",
       "\t C7 & VAX             &  347\\\\\n",
       "\t C8 &                 &  700\\\\\n",
       "\t H  &                 &   50\\\\\n",
       "\\end{tabular}\n"
      ],
      "text/markdown": [
       "\n",
       "A tibble: 23 × 3\n",
       "\n",
       "| gs_cat &lt;chr&gt; | gs_subcat &lt;chr&gt; | num_genesets &lt;int&gt; |\n",
       "|---|---|---|\n",
       "| C1 | <!----> |  299 |\n",
       "| C2 | CGP             | 3384 |\n",
       "| C2 | CP              |   29 |\n",
       "| C2 | CP:BIOCARTA     |  292 |\n",
       "| C2 | CP:KEGG         |  186 |\n",
       "| C2 | CP:PID          |  196 |\n",
       "| C2 | CP:REACTOME     | 1615 |\n",
       "| C2 | CP:WIKIPATHWAYS |  664 |\n",
       "| C3 | MIR:MIRDB       | 2377 |\n",
       "| C3 | MIR:MIR_Legacy  |  221 |\n",
       "| C3 | TFT:GTRD        |  518 |\n",
       "| C3 | TFT:TFT_Legacy  |  610 |\n",
       "| C4 | CGN             |  427 |\n",
       "| C4 | CM              |  431 |\n",
       "| C5 | GO:BP           | 7658 |\n",
       "| C5 | GO:CC           | 1006 |\n",
       "| C5 | GO:MF           | 1738 |\n",
       "| C5 | HPO             | 5071 |\n",
       "| C6 | <!----> |  189 |\n",
       "| C7 | IMMUNESIGDB     | 4872 |\n",
       "| C7 | VAX             |  347 |\n",
       "| C8 | <!----> |  700 |\n",
       "| H  | <!----> |   50 |\n",
       "\n"
      ],
      "text/plain": [
       "   gs_cat gs_subcat       num_genesets\n",
       "1  C1                      299        \n",
       "2  C2     CGP             3384        \n",
       "3  C2     CP                29        \n",
       "4  C2     CP:BIOCARTA      292        \n",
       "5  C2     CP:KEGG          186        \n",
       "6  C2     CP:PID           196        \n",
       "7  C2     CP:REACTOME     1615        \n",
       "8  C2     CP:WIKIPATHWAYS  664        \n",
       "9  C3     MIR:MIRDB       2377        \n",
       "10 C3     MIR:MIR_Legacy   221        \n",
       "11 C3     TFT:GTRD         518        \n",
       "12 C3     TFT:TFT_Legacy   610        \n",
       "13 C4     CGN              427        \n",
       "14 C4     CM               431        \n",
       "15 C5     GO:BP           7658        \n",
       "16 C5     GO:CC           1006        \n",
       "17 C5     GO:MF           1738        \n",
       "18 C5     HPO             5071        \n",
       "19 C6                      189        \n",
       "20 C7     IMMUNESIGDB     4872        \n",
       "21 C7     VAX              347        \n",
       "22 C8                      700        \n",
       "23 H                        50        "
      ]
     },
     "metadata": {},
     "output_type": "display_data"
    }
   ],
   "source": [
    "msigdbr_collections()"
   ]
  },
  {
   "cell_type": "code",
   "execution_count": 12,
   "id": "3482e1ca",
   "metadata": {
    "vscode": {
     "languageId": "r"
    }
   },
   "outputs": [],
   "source": [
    "msigdb_genes <- msigdbr(species = \"Homo sapiens\", category = \"C2\",subcategory = \"CP:REACTOME\")  # Hallmark pathways\n",
    "pathways <- split(msigdb_genes$gene_symbol, msigdb_genes$gs_name)"
   ]
  },
  {
   "cell_type": "code",
   "execution_count": 13,
   "id": "9727e2e4",
   "metadata": {
    "vscode": {
     "languageId": "r"
    }
   },
   "outputs": [
    {
     "data": {
      "text/html": [
       "<style>\n",
       ".list-inline {list-style: none; margin:0; padding: 0}\n",
       ".list-inline>li {display: inline-block}\n",
       ".list-inline>li:not(:last-child)::after {content: \"\\00b7\"; padding: 0 .5ex}\n",
       "</style>\n",
       "<ol class=list-inline><li>'REACTOME_DNA_DAMAGE_BYPASS'</li><li>'REACTOME_DNA_DAMAGE_RECOGNITION_IN_GG_NER'</li><li>'REACTOME_DNA_DAMAGE_REVERSAL'</li><li>'REACTOME_DNA_DAMAGE_TELOMERE_STRESS_INDUCED_SENESCENCE'</li><li>'REACTOME_G1_S_DNA_DAMAGE_CHECKPOINTS'</li><li>'REACTOME_G2_M_DNA_DAMAGE_CHECKPOINT'</li><li>'REACTOME_RECOGNITION_OF_DNA_DAMAGE_BY_PCNA_CONTAINING_REPLICATION_COMPLEX'</li><li>'REACTOME_SUMOYLATION_OF_DNA_DAMAGE_RESPONSE_AND_REPAIR_PROTEINS'</li></ol>\n"
      ],
      "text/latex": [
       "\\begin{enumerate*}\n",
       "\\item 'REACTOME\\_DNA\\_DAMAGE\\_BYPASS'\n",
       "\\item 'REACTOME\\_DNA\\_DAMAGE\\_RECOGNITION\\_IN\\_GG\\_NER'\n",
       "\\item 'REACTOME\\_DNA\\_DAMAGE\\_REVERSAL'\n",
       "\\item 'REACTOME\\_DNA\\_DAMAGE\\_TELOMERE\\_STRESS\\_INDUCED\\_SENESCENCE'\n",
       "\\item 'REACTOME\\_G1\\_S\\_DNA\\_DAMAGE\\_CHECKPOINTS'\n",
       "\\item 'REACTOME\\_G2\\_M\\_DNA\\_DAMAGE\\_CHECKPOINT'\n",
       "\\item 'REACTOME\\_RECOGNITION\\_OF\\_DNA\\_DAMAGE\\_BY\\_PCNA\\_CONTAINING\\_REPLICATION\\_COMPLEX'\n",
       "\\item 'REACTOME\\_SUMOYLATION\\_OF\\_DNA\\_DAMAGE\\_RESPONSE\\_AND\\_REPAIR\\_PROTEINS'\n",
       "\\end{enumerate*}\n"
      ],
      "text/markdown": [
       "1. 'REACTOME_DNA_DAMAGE_BYPASS'\n",
       "2. 'REACTOME_DNA_DAMAGE_RECOGNITION_IN_GG_NER'\n",
       "3. 'REACTOME_DNA_DAMAGE_REVERSAL'\n",
       "4. 'REACTOME_DNA_DAMAGE_TELOMERE_STRESS_INDUCED_SENESCENCE'\n",
       "5. 'REACTOME_G1_S_DNA_DAMAGE_CHECKPOINTS'\n",
       "6. 'REACTOME_G2_M_DNA_DAMAGE_CHECKPOINT'\n",
       "7. 'REACTOME_RECOGNITION_OF_DNA_DAMAGE_BY_PCNA_CONTAINING_REPLICATION_COMPLEX'\n",
       "8. 'REACTOME_SUMOYLATION_OF_DNA_DAMAGE_RESPONSE_AND_REPAIR_PROTEINS'\n",
       "\n",
       "\n"
      ],
      "text/plain": [
       "[1] \"REACTOME_DNA_DAMAGE_BYPASS\"                                               \n",
       "[2] \"REACTOME_DNA_DAMAGE_RECOGNITION_IN_GG_NER\"                                \n",
       "[3] \"REACTOME_DNA_DAMAGE_REVERSAL\"                                             \n",
       "[4] \"REACTOME_DNA_DAMAGE_TELOMERE_STRESS_INDUCED_SENESCENCE\"                   \n",
       "[5] \"REACTOME_G1_S_DNA_DAMAGE_CHECKPOINTS\"                                     \n",
       "[6] \"REACTOME_G2_M_DNA_DAMAGE_CHECKPOINT\"                                      \n",
       "[7] \"REACTOME_RECOGNITION_OF_DNA_DAMAGE_BY_PCNA_CONTAINING_REPLICATION_COMPLEX\"\n",
       "[8] \"REACTOME_SUMOYLATION_OF_DNA_DAMAGE_RESPONSE_AND_REPAIR_PROTEINS\"          "
      ]
     },
     "metadata": {},
     "output_type": "display_data"
    }
   ],
   "source": [
    "dna_damage_pathways <- pathways[grepl(\"DNA_DAMAGE\", names(pathways))]\n",
    "\n",
    "# Print pathway names\n",
    "names(dna_damage_pathways)"
   ]
  },
  {
   "cell_type": "code",
   "execution_count": 14,
   "id": "89e1b5ca",
   "metadata": {
    "vscode": {
     "languageId": "r"
    }
   },
   "outputs": [
    {
     "data": {
      "text/html": [
       "<style>\n",
       ".list-inline {list-style: none; margin:0; padding: 0}\n",
       ".list-inline>li {display: inline-block}\n",
       ".list-inline>li:not(:last-child)::after {content: \"\\00b7\"; padding: 0 .5ex}\n",
       "</style>\n",
       "<ol class=list-inline><li>'ABRAXAS1'</li><li>'ATM'</li><li>'ATR'</li><li>'ATRIP'</li><li>'BABAM1'</li><li>'BABAM2'</li><li>'BARD1'</li><li>'BLM'</li><li>'BRCA1'</li><li>'BRCC3'</li><li>'BRIP1'</li><li>'CCNB1'</li><li>'CDC25C'</li><li>'CDK1'</li><li>'CHEK1'</li><li>'CHEK2'</li><li>'DNA2'</li><li>'EXO1'</li><li>'H2AX'</li><li>'H2BC1'</li><li>'H2BC10'</li><li>'H2BC11'</li><li>'H2BC12'</li><li>'H2BC13'</li><li>'H2BC14'</li><li>'H2BC15'</li><li>'H2BC17'</li><li>'H2BC21'</li><li>'H2BC3'</li><li>'H2BC4'</li><li>'H2BC5'</li><li>'H2BC6'</li><li>'H2BC7'</li><li>'H2BC8'</li><li>'H2BC9'</li><li>'H2BS1'</li><li>'H2BU1'</li><li>'H2BU1'</li><li>'H3-4'</li><li>'H3-4'</li><li>'H4-16'</li><li>'H4C1'</li><li>'H4C11'</li><li>'H4C12'</li><li>'H4C13'</li><li>'H4C14'</li><li>'H4C15'</li><li>'H4C2'</li><li>'H4C3'</li><li>'H4C4'</li><li>'H4C5'</li><li>'H4C6'</li><li>'H4C8'</li><li>'H4C9'</li><li>'HERC2'</li><li>'HUS1'</li><li>'KAT5'</li><li>'MDC1'</li><li>'MDC1'</li><li>'MDC1'</li><li>'MDC1'</li><li>'MDC1'</li><li>'MDC1'</li><li>'MDC1'</li><li>'MDC1'</li><li>'MRE11'</li><li>'NBN'</li><li>'NSD2'</li><li>'PIAS4'</li><li>'RAD1'</li><li>'RAD17'</li><li>'RAD17'</li><li>'RAD50'</li><li>'RAD9A'</li><li>'RAD9B'</li><li>'RBBP8'</li><li>'RFC2'</li><li>'RFC3'</li><li>'RFC4'</li><li>'RFC5'</li><li>'RHNO1'</li><li>'RMI1'</li><li>'RMI2'</li><li>'RNF168'</li><li>'RNF8'</li><li>'RPA1'</li><li>'RPA2'</li><li>'RPA3'</li><li>'SFN'</li><li>'SUMO1'</li><li>'TOP3A'</li><li>'TOP3A'</li><li>'TOPBP1'</li><li>'TP53'</li><li>'TP53BP1'</li><li>'UBE2N'</li><li>'UBE2V2'</li><li>'UIMC1'</li><li>'WEE1'</li><li>'WRN'</li><li>'YWHAB'</li><li>'YWHAE'</li><li>'YWHAE'</li><li>'YWHAG'</li><li>'YWHAH'</li><li>'YWHAQ'</li><li>'YWHAZ'</li></ol>\n"
      ],
      "text/latex": [
       "\\begin{enumerate*}\n",
       "\\item 'ABRAXAS1'\n",
       "\\item 'ATM'\n",
       "\\item 'ATR'\n",
       "\\item 'ATRIP'\n",
       "\\item 'BABAM1'\n",
       "\\item 'BABAM2'\n",
       "\\item 'BARD1'\n",
       "\\item 'BLM'\n",
       "\\item 'BRCA1'\n",
       "\\item 'BRCC3'\n",
       "\\item 'BRIP1'\n",
       "\\item 'CCNB1'\n",
       "\\item 'CDC25C'\n",
       "\\item 'CDK1'\n",
       "\\item 'CHEK1'\n",
       "\\item 'CHEK2'\n",
       "\\item 'DNA2'\n",
       "\\item 'EXO1'\n",
       "\\item 'H2AX'\n",
       "\\item 'H2BC1'\n",
       "\\item 'H2BC10'\n",
       "\\item 'H2BC11'\n",
       "\\item 'H2BC12'\n",
       "\\item 'H2BC13'\n",
       "\\item 'H2BC14'\n",
       "\\item 'H2BC15'\n",
       "\\item 'H2BC17'\n",
       "\\item 'H2BC21'\n",
       "\\item 'H2BC3'\n",
       "\\item 'H2BC4'\n",
       "\\item 'H2BC5'\n",
       "\\item 'H2BC6'\n",
       "\\item 'H2BC7'\n",
       "\\item 'H2BC8'\n",
       "\\item 'H2BC9'\n",
       "\\item 'H2BS1'\n",
       "\\item 'H2BU1'\n",
       "\\item 'H2BU1'\n",
       "\\item 'H3-4'\n",
       "\\item 'H3-4'\n",
       "\\item 'H4-16'\n",
       "\\item 'H4C1'\n",
       "\\item 'H4C11'\n",
       "\\item 'H4C12'\n",
       "\\item 'H4C13'\n",
       "\\item 'H4C14'\n",
       "\\item 'H4C15'\n",
       "\\item 'H4C2'\n",
       "\\item 'H4C3'\n",
       "\\item 'H4C4'\n",
       "\\item 'H4C5'\n",
       "\\item 'H4C6'\n",
       "\\item 'H4C8'\n",
       "\\item 'H4C9'\n",
       "\\item 'HERC2'\n",
       "\\item 'HUS1'\n",
       "\\item 'KAT5'\n",
       "\\item 'MDC1'\n",
       "\\item 'MDC1'\n",
       "\\item 'MDC1'\n",
       "\\item 'MDC1'\n",
       "\\item 'MDC1'\n",
       "\\item 'MDC1'\n",
       "\\item 'MDC1'\n",
       "\\item 'MDC1'\n",
       "\\item 'MRE11'\n",
       "\\item 'NBN'\n",
       "\\item 'NSD2'\n",
       "\\item 'PIAS4'\n",
       "\\item 'RAD1'\n",
       "\\item 'RAD17'\n",
       "\\item 'RAD17'\n",
       "\\item 'RAD50'\n",
       "\\item 'RAD9A'\n",
       "\\item 'RAD9B'\n",
       "\\item 'RBBP8'\n",
       "\\item 'RFC2'\n",
       "\\item 'RFC3'\n",
       "\\item 'RFC4'\n",
       "\\item 'RFC5'\n",
       "\\item 'RHNO1'\n",
       "\\item 'RMI1'\n",
       "\\item 'RMI2'\n",
       "\\item 'RNF168'\n",
       "\\item 'RNF8'\n",
       "\\item 'RPA1'\n",
       "\\item 'RPA2'\n",
       "\\item 'RPA3'\n",
       "\\item 'SFN'\n",
       "\\item 'SUMO1'\n",
       "\\item 'TOP3A'\n",
       "\\item 'TOP3A'\n",
       "\\item 'TOPBP1'\n",
       "\\item 'TP53'\n",
       "\\item 'TP53BP1'\n",
       "\\item 'UBE2N'\n",
       "\\item 'UBE2V2'\n",
       "\\item 'UIMC1'\n",
       "\\item 'WEE1'\n",
       "\\item 'WRN'\n",
       "\\item 'YWHAB'\n",
       "\\item 'YWHAE'\n",
       "\\item 'YWHAE'\n",
       "\\item 'YWHAG'\n",
       "\\item 'YWHAH'\n",
       "\\item 'YWHAQ'\n",
       "\\item 'YWHAZ'\n",
       "\\end{enumerate*}\n"
      ],
      "text/markdown": [
       "1. 'ABRAXAS1'\n",
       "2. 'ATM'\n",
       "3. 'ATR'\n",
       "4. 'ATRIP'\n",
       "5. 'BABAM1'\n",
       "6. 'BABAM2'\n",
       "7. 'BARD1'\n",
       "8. 'BLM'\n",
       "9. 'BRCA1'\n",
       "10. 'BRCC3'\n",
       "11. 'BRIP1'\n",
       "12. 'CCNB1'\n",
       "13. 'CDC25C'\n",
       "14. 'CDK1'\n",
       "15. 'CHEK1'\n",
       "16. 'CHEK2'\n",
       "17. 'DNA2'\n",
       "18. 'EXO1'\n",
       "19. 'H2AX'\n",
       "20. 'H2BC1'\n",
       "21. 'H2BC10'\n",
       "22. 'H2BC11'\n",
       "23. 'H2BC12'\n",
       "24. 'H2BC13'\n",
       "25. 'H2BC14'\n",
       "26. 'H2BC15'\n",
       "27. 'H2BC17'\n",
       "28. 'H2BC21'\n",
       "29. 'H2BC3'\n",
       "30. 'H2BC4'\n",
       "31. 'H2BC5'\n",
       "32. 'H2BC6'\n",
       "33. 'H2BC7'\n",
       "34. 'H2BC8'\n",
       "35. 'H2BC9'\n",
       "36. 'H2BS1'\n",
       "37. 'H2BU1'\n",
       "38. 'H2BU1'\n",
       "39. 'H3-4'\n",
       "40. 'H3-4'\n",
       "41. 'H4-16'\n",
       "42. 'H4C1'\n",
       "43. 'H4C11'\n",
       "44. 'H4C12'\n",
       "45. 'H4C13'\n",
       "46. 'H4C14'\n",
       "47. 'H4C15'\n",
       "48. 'H4C2'\n",
       "49. 'H4C3'\n",
       "50. 'H4C4'\n",
       "51. 'H4C5'\n",
       "52. 'H4C6'\n",
       "53. 'H4C8'\n",
       "54. 'H4C9'\n",
       "55. 'HERC2'\n",
       "56. 'HUS1'\n",
       "57. 'KAT5'\n",
       "58. 'MDC1'\n",
       "59. 'MDC1'\n",
       "60. 'MDC1'\n",
       "61. 'MDC1'\n",
       "62. 'MDC1'\n",
       "63. 'MDC1'\n",
       "64. 'MDC1'\n",
       "65. 'MDC1'\n",
       "66. 'MRE11'\n",
       "67. 'NBN'\n",
       "68. 'NSD2'\n",
       "69. 'PIAS4'\n",
       "70. 'RAD1'\n",
       "71. 'RAD17'\n",
       "72. 'RAD17'\n",
       "73. 'RAD50'\n",
       "74. 'RAD9A'\n",
       "75. 'RAD9B'\n",
       "76. 'RBBP8'\n",
       "77. 'RFC2'\n",
       "78. 'RFC3'\n",
       "79. 'RFC4'\n",
       "80. 'RFC5'\n",
       "81. 'RHNO1'\n",
       "82. 'RMI1'\n",
       "83. 'RMI2'\n",
       "84. 'RNF168'\n",
       "85. 'RNF8'\n",
       "86. 'RPA1'\n",
       "87. 'RPA2'\n",
       "88. 'RPA3'\n",
       "89. 'SFN'\n",
       "90. 'SUMO1'\n",
       "91. 'TOP3A'\n",
       "92. 'TOP3A'\n",
       "93. 'TOPBP1'\n",
       "94. 'TP53'\n",
       "95. 'TP53BP1'\n",
       "96. 'UBE2N'\n",
       "97. 'UBE2V2'\n",
       "98. 'UIMC1'\n",
       "99. 'WEE1'\n",
       "100. 'WRN'\n",
       "101. 'YWHAB'\n",
       "102. 'YWHAE'\n",
       "103. 'YWHAE'\n",
       "104. 'YWHAG'\n",
       "105. 'YWHAH'\n",
       "106. 'YWHAQ'\n",
       "107. 'YWHAZ'\n",
       "\n",
       "\n"
      ],
      "text/plain": [
       "  [1] \"ABRAXAS1\" \"ATM\"      \"ATR\"      \"ATRIP\"    \"BABAM1\"   \"BABAM2\"  \n",
       "  [7] \"BARD1\"    \"BLM\"      \"BRCA1\"    \"BRCC3\"    \"BRIP1\"    \"CCNB1\"   \n",
       " [13] \"CDC25C\"   \"CDK1\"     \"CHEK1\"    \"CHEK2\"    \"DNA2\"     \"EXO1\"    \n",
       " [19] \"H2AX\"     \"H2BC1\"    \"H2BC10\"   \"H2BC11\"   \"H2BC12\"   \"H2BC13\"  \n",
       " [25] \"H2BC14\"   \"H2BC15\"   \"H2BC17\"   \"H2BC21\"   \"H2BC3\"    \"H2BC4\"   \n",
       " [31] \"H2BC5\"    \"H2BC6\"    \"H2BC7\"    \"H2BC8\"    \"H2BC9\"    \"H2BS1\"   \n",
       " [37] \"H2BU1\"    \"H2BU1\"    \"H3-4\"     \"H3-4\"     \"H4-16\"    \"H4C1\"    \n",
       " [43] \"H4C11\"    \"H4C12\"    \"H4C13\"    \"H4C14\"    \"H4C15\"    \"H4C2\"    \n",
       " [49] \"H4C3\"     \"H4C4\"     \"H4C5\"     \"H4C6\"     \"H4C8\"     \"H4C9\"    \n",
       " [55] \"HERC2\"    \"HUS1\"     \"KAT5\"     \"MDC1\"     \"MDC1\"     \"MDC1\"    \n",
       " [61] \"MDC1\"     \"MDC1\"     \"MDC1\"     \"MDC1\"     \"MDC1\"     \"MRE11\"   \n",
       " [67] \"NBN\"      \"NSD2\"     \"PIAS4\"    \"RAD1\"     \"RAD17\"    \"RAD17\"   \n",
       " [73] \"RAD50\"    \"RAD9A\"    \"RAD9B\"    \"RBBP8\"    \"RFC2\"     \"RFC3\"    \n",
       " [79] \"RFC4\"     \"RFC5\"     \"RHNO1\"    \"RMI1\"     \"RMI2\"     \"RNF168\"  \n",
       " [85] \"RNF8\"     \"RPA1\"     \"RPA2\"     \"RPA3\"     \"SFN\"      \"SUMO1\"   \n",
       " [91] \"TOP3A\"    \"TOP3A\"    \"TOPBP1\"   \"TP53\"     \"TP53BP1\"  \"UBE2N\"   \n",
       " [97] \"UBE2V2\"   \"UIMC1\"    \"WEE1\"     \"WRN\"      \"YWHAB\"    \"YWHAE\"   \n",
       "[103] \"YWHAE\"    \"YWHAG\"    \"YWHAH\"    \"YWHAQ\"    \"YWHAZ\"   "
      ]
     },
     "metadata": {},
     "output_type": "display_data"
    }
   ],
   "source": [
    "dna_damage_pathways$REACTOME_G2_M_DNA_DAMAGE_CHECKPOINT"
   ]
  },
  {
   "cell_type": "code",
   "execution_count": 15,
   "id": "71362727",
   "metadata": {
    "vscode": {
     "languageId": "r"
    }
   },
   "outputs": [
    {
     "data": {
      "text/html": [
       "57"
      ],
      "text/latex": [
       "57"
      ],
      "text/markdown": [
       "57"
      ],
      "text/plain": [
       "[1] 57"
      ]
     },
     "metadata": {},
     "output_type": "display_data"
    }
   ],
   "source": [
    "tmp = resdata  %>% filter(external_gene_id  %in% dna_damage_pathways$REACTOME_G2_M_DNA_DAMAGE_CHECKPOINT) \n",
    "tmp %>% nrow()"
   ]
  },
  {
   "cell_type": "code",
   "execution_count": 16,
   "id": "d64070b8",
   "metadata": {
    "vscode": {
     "languageId": "r"
    }
   },
   "outputs": [],
   "source": [
    "rownames(tmp) <- tmp$external_gene_id\n",
    "tmp = tmp %>% dplyr::select(log2FoldChange, padj)"
   ]
  },
  {
   "cell_type": "code",
   "execution_count": 17,
   "id": "eec89aa9",
   "metadata": {
    "vscode": {
     "languageId": "r"
    }
   },
   "outputs": [
    {
     "data": {
      "text/html": [
       "<table class=\"dataframe\">\n",
       "<caption>A data.frame: 5 × 2</caption>\n",
       "<thead>\n",
       "\t<tr><th></th><th scope=col>log2FoldChange</th><th scope=col>padj</th></tr>\n",
       "\t<tr><th></th><th scope=col>&lt;dbl&gt;</th><th scope=col>&lt;dbl&gt;</th></tr>\n",
       "</thead>\n",
       "<tbody>\n",
       "\t<tr><th scope=row>CDK1</th><td>-1.633028</td><td>2.068183e-06</td></tr>\n",
       "\t<tr><th scope=row>CHEK1</th><td>-1.053073</td><td>4.709344e-05</td></tr>\n",
       "\t<tr><th scope=row>CCNB1</th><td>-1.055901</td><td>4.923417e-05</td></tr>\n",
       "\t<tr><th scope=row>CDC25C</th><td>-1.623054</td><td>6.065857e-05</td></tr>\n",
       "\t<tr><th scope=row>EXO1</th><td>-1.362794</td><td>1.056856e-03</td></tr>\n",
       "</tbody>\n",
       "</table>\n"
      ],
      "text/latex": [
       "A data.frame: 5 × 2\n",
       "\\begin{tabular}{r|ll}\n",
       "  & log2FoldChange & padj\\\\\n",
       "  & <dbl> & <dbl>\\\\\n",
       "\\hline\n",
       "\tCDK1 & -1.633028 & 2.068183e-06\\\\\n",
       "\tCHEK1 & -1.053073 & 4.709344e-05\\\\\n",
       "\tCCNB1 & -1.055901 & 4.923417e-05\\\\\n",
       "\tCDC25C & -1.623054 & 6.065857e-05\\\\\n",
       "\tEXO1 & -1.362794 & 1.056856e-03\\\\\n",
       "\\end{tabular}\n"
      ],
      "text/markdown": [
       "\n",
       "A data.frame: 5 × 2\n",
       "\n",
       "| <!--/--> | log2FoldChange &lt;dbl&gt; | padj &lt;dbl&gt; |\n",
       "|---|---|---|\n",
       "| CDK1 | -1.633028 | 2.068183e-06 |\n",
       "| CHEK1 | -1.053073 | 4.709344e-05 |\n",
       "| CCNB1 | -1.055901 | 4.923417e-05 |\n",
       "| CDC25C | -1.623054 | 6.065857e-05 |\n",
       "| EXO1 | -1.362794 | 1.056856e-03 |\n",
       "\n"
      ],
      "text/plain": [
       "       log2FoldChange padj        \n",
       "CDK1   -1.633028      2.068183e-06\n",
       "CHEK1  -1.053073      4.709344e-05\n",
       "CCNB1  -1.055901      4.923417e-05\n",
       "CDC25C -1.623054      6.065857e-05\n",
       "EXO1   -1.362794      1.056856e-03"
      ]
     },
     "metadata": {},
     "output_type": "display_data"
    }
   ],
   "source": [
    "tmp  %>% filter(abs(log2FoldChange)>=1, padj<0.05)"
   ]
  },
  {
   "cell_type": "code",
   "execution_count": 18,
   "id": "4e7cef20",
   "metadata": {
    "vscode": {
     "languageId": "r"
    }
   },
   "outputs": [
    {
     "data": {
      "text/html": [
       "<style>\n",
       ".list-inline {list-style: none; margin:0; padding: 0}\n",
       ".list-inline>li {display: inline-block}\n",
       ".list-inline>li:not(:last-child)::after {content: \"\\00b7\"; padding: 0 .5ex}\n",
       "</style>\n",
       "<ol class=list-inline><li>'REACTOME_ASSEMBLY_OF_COLLAGEN_FIBRILS_AND_OTHER_MULTIMERIC_STRUCTURES'</li><li>'REACTOME_CELL_EXTRACELLULAR_MATRIX_INTERACTIONS'</li><li>'REACTOME_COLLAGEN_BIOSYNTHESIS_AND_MODIFYING_ENZYMES'</li><li>'REACTOME_COLLAGEN_CHAIN_TRIMERIZATION'</li><li>'REACTOME_COLLAGEN_DEGRADATION'</li><li>'REACTOME_COLLAGEN_FORMATION'</li><li>'REACTOME_CROSSLINKING_OF_COLLAGEN_FIBRILS'</li><li>'REACTOME_DEGRADATION_OF_THE_EXTRACELLULAR_MATRIX'</li><li>'REACTOME_EXTRACELLULAR_MATRIX_ORGANIZATION'</li><li>'REACTOME_FIBRONECTIN_MATRIX_FORMATION'</li><li>'REACTOME_PLATELET_ADHESION_TO_EXPOSED_COLLAGEN'</li></ol>\n"
      ],
      "text/latex": [
       "\\begin{enumerate*}\n",
       "\\item 'REACTOME\\_ASSEMBLY\\_OF\\_COLLAGEN\\_FIBRILS\\_AND\\_OTHER\\_MULTIMERIC\\_STRUCTURES'\n",
       "\\item 'REACTOME\\_CELL\\_EXTRACELLULAR\\_MATRIX\\_INTERACTIONS'\n",
       "\\item 'REACTOME\\_COLLAGEN\\_BIOSYNTHESIS\\_AND\\_MODIFYING\\_ENZYMES'\n",
       "\\item 'REACTOME\\_COLLAGEN\\_CHAIN\\_TRIMERIZATION'\n",
       "\\item 'REACTOME\\_COLLAGEN\\_DEGRADATION'\n",
       "\\item 'REACTOME\\_COLLAGEN\\_FORMATION'\n",
       "\\item 'REACTOME\\_CROSSLINKING\\_OF\\_COLLAGEN\\_FIBRILS'\n",
       "\\item 'REACTOME\\_DEGRADATION\\_OF\\_THE\\_EXTRACELLULAR\\_MATRIX'\n",
       "\\item 'REACTOME\\_EXTRACELLULAR\\_MATRIX\\_ORGANIZATION'\n",
       "\\item 'REACTOME\\_FIBRONECTIN\\_MATRIX\\_FORMATION'\n",
       "\\item 'REACTOME\\_PLATELET\\_ADHESION\\_TO\\_EXPOSED\\_COLLAGEN'\n",
       "\\end{enumerate*}\n"
      ],
      "text/markdown": [
       "1. 'REACTOME_ASSEMBLY_OF_COLLAGEN_FIBRILS_AND_OTHER_MULTIMERIC_STRUCTURES'\n",
       "2. 'REACTOME_CELL_EXTRACELLULAR_MATRIX_INTERACTIONS'\n",
       "3. 'REACTOME_COLLAGEN_BIOSYNTHESIS_AND_MODIFYING_ENZYMES'\n",
       "4. 'REACTOME_COLLAGEN_CHAIN_TRIMERIZATION'\n",
       "5. 'REACTOME_COLLAGEN_DEGRADATION'\n",
       "6. 'REACTOME_COLLAGEN_FORMATION'\n",
       "7. 'REACTOME_CROSSLINKING_OF_COLLAGEN_FIBRILS'\n",
       "8. 'REACTOME_DEGRADATION_OF_THE_EXTRACELLULAR_MATRIX'\n",
       "9. 'REACTOME_EXTRACELLULAR_MATRIX_ORGANIZATION'\n",
       "10. 'REACTOME_FIBRONECTIN_MATRIX_FORMATION'\n",
       "11. 'REACTOME_PLATELET_ADHESION_TO_EXPOSED_COLLAGEN'\n",
       "\n",
       "\n"
      ],
      "text/plain": [
       " [1] \"REACTOME_ASSEMBLY_OF_COLLAGEN_FIBRILS_AND_OTHER_MULTIMERIC_STRUCTURES\"\n",
       " [2] \"REACTOME_CELL_EXTRACELLULAR_MATRIX_INTERACTIONS\"                      \n",
       " [3] \"REACTOME_COLLAGEN_BIOSYNTHESIS_AND_MODIFYING_ENZYMES\"                 \n",
       " [4] \"REACTOME_COLLAGEN_CHAIN_TRIMERIZATION\"                                \n",
       " [5] \"REACTOME_COLLAGEN_DEGRADATION\"                                        \n",
       " [6] \"REACTOME_COLLAGEN_FORMATION\"                                          \n",
       " [7] \"REACTOME_CROSSLINKING_OF_COLLAGEN_FIBRILS\"                            \n",
       " [8] \"REACTOME_DEGRADATION_OF_THE_EXTRACELLULAR_MATRIX\"                     \n",
       " [9] \"REACTOME_EXTRACELLULAR_MATRIX_ORGANIZATION\"                           \n",
       "[10] \"REACTOME_FIBRONECTIN_MATRIX_FORMATION\"                                \n",
       "[11] \"REACTOME_PLATELET_ADHESION_TO_EXPOSED_COLLAGEN\"                       "
      ]
     },
     "metadata": {},
     "output_type": "display_data"
    }
   ],
   "source": [
    "collagen_pathways <- pathways[grepl(\"COLLAGEN|FIBRONECTIN|EXTRACELLULAR_MATRIX\", names(pathways))]\n",
    "\n",
    "# Print pathway names\n",
    "names(collagen_pathways)"
   ]
  },
  {
   "cell_type": "code",
   "execution_count": 19,
   "id": "46ab2407",
   "metadata": {
    "vscode": {
     "languageId": "r"
    }
   },
   "outputs": [
    {
     "data": {
      "text/html": [
       "<style>\n",
       ".list-inline {list-style: none; margin:0; padding: 0}\n",
       ".list-inline>li {display: inline-block}\n",
       ".list-inline>li:not(:last-child)::after {content: \"\\00b7\"; padding: 0 .5ex}\n",
       "</style>\n",
       "<ol class=list-inline><li>'A2M'</li><li>'ACAN'</li><li>'ACTN1'</li><li>'ADAM10'</li><li>'ADAM12'</li><li>'ADAM15'</li><li>'ADAM17'</li><li>'ADAM19'</li><li>'ADAM8'</li><li>'ADAM9'</li><li>'ADAMTS1'</li><li>'ADAMTS14'</li><li>'ADAMTS16'</li><li>'ADAMTS18'</li><li>'ADAMTS2'</li><li>'ADAMTS2'</li><li>'ADAMTS3'</li><li>'ADAMTS4'</li><li>'ADAMTS5'</li><li>'ADAMTS8'</li><li>'ADAMTS9'</li><li>'AGRN'</li><li>'APP'</li><li>'ASPN'</li><li>'BCAN'</li><li>'BGN'</li><li>'BMP1'</li><li>'BMP10'</li><li>'BMP2'</li><li>'BMP4'</li><li>'BMP7'</li><li>'BSG'</li><li>'CAPN1'</li><li>'CAPN10'</li><li>'CAPN11'</li><li>'CAPN12'</li><li>'CAPN13'</li><li>'CAPN14'</li><li>'CAPN15'</li><li>'CAPN2'</li><li>'CAPN3'</li><li>'CAPN5'</li><li>'CAPN6'</li><li>'CAPN7'</li><li>'CAPN8'</li><li>'CAPN9'</li><li>'CAPNS1'</li><li>'CAPNS2'</li><li>'CASK'</li><li>'CASP3'</li><li>'CAST'</li><li>'CD151'</li><li>'CD44'</li><li>'CD47'</li><li>'CDH1'</li><li>'CEACAM1'</li><li>'CEACAM6'</li><li>'CEACAM8'</li><li>'CMA1'</li><li>'COL10A1'</li><li>'COL11A1'</li><li>'COL11A2'</li><li>'COL11A2'</li><li>'COL11A2'</li><li>'COL11A2'</li><li>'COL11A2'</li><li>'COL12A1'</li><li>'COL13A1'</li><li>'COL14A1'</li><li>'COL15A1'</li><li>'COL16A1'</li><li>'COL17A1'</li><li>'COL18A1'</li><li>'COL19A1'</li><li>'COL1A1'</li><li>'COL1A2'</li><li>'COL20A1'</li><li>'COL21A1'</li><li>'COL22A1'</li><li>'COL23A1'</li><li>'COL24A1'</li><li>'COL25A1'</li><li>'COL26A1'</li><li>'COL27A1'</li><li>'COL28A1'</li><li>'COL2A1'</li><li>'COL3A1'</li><li>'COL4A1'</li><li>'COL4A2'</li><li>'COL4A3'</li><li>'COL4A4'</li><li>'COL4A5'</li><li>'COL4A6'</li><li>'COL5A1'</li><li>'COL5A2'</li><li>'COL5A3'</li><li>'COL6A1'</li><li>'COL6A2'</li><li>'COL6A3'</li><li>'COL6A5'</li><li>'COL6A6'</li><li>'COL7A1'</li><li>'COL8A1'</li><li>'COL8A2'</li><li>'COL9A1'</li><li>'COL9A2'</li><li>'COL9A3'</li><li>'COLGALT1'</li><li>'COLGALT2'</li><li>'COMP'</li><li>'CRTAP'</li><li>'CTRB1'</li><li>'CTRB2'</li><li>'CTSB'</li><li>'CTSB'</li><li>'CTSD'</li><li>'CTSG'</li><li>'CTSK'</li><li>'CTSL'</li><li>'CTSS'</li><li>'CTSV'</li><li>'DAG1'</li><li>'DCN'</li><li>'DDR1'</li><li>'DDR1'</li><li>'DDR1'</li><li>'DDR1'</li><li>'DDR1'</li><li>'DDR2'</li><li>'DMD'</li><li>'DMP1'</li><li>'DSPP'</li><li>'DST'</li><li>'EFEMP1'</li><li>'EFEMP2'</li><li>'ELANE'</li><li>'ELANE'</li><li>'ELN'</li><li>'EMILIN1'</li><li>'EMILIN2'</li><li>'EMILIN3'</li><li>'F11R'</li><li>'FBLN1'</li><li>'FBLN2'</li><li>'FBLN5'</li><li>'FBN1'</li><li>'FBN2'</li><li>'FBN3'</li><li>'FGA'</li><li>'FGB'</li><li>'FGF2'</li><li>'FGG'</li><li>'FMOD'</li><li>'FN1'</li><li>'FURIN'</li><li>'GDF5'</li><li>'HAPLN1'</li><li>'HSPG2'</li><li>'HTRA1'</li><li>'IBSP'</li><li>'ICAM1'</li><li>'ICAM2'</li><li>'ICAM3'</li><li>'ICAM4'</li><li>'ICAM5'</li><li>'ITGA1'</li><li>'ITGA10'</li><li>'ITGA11'</li><li>'ITGA2'</li><li>'ITGA2B'</li><li>'ITGA3'</li><li>'ITGA4'</li><li>'ITGA5'</li><li>'ITGA6'</li><li>'ITGA7'</li><li>'ITGA8'</li><li>'ITGA9'</li><li>'ITGAD'</li><li>'ITGAE'</li><li>'ITGAL'</li><li>'ITGAM'</li><li>'ITGAV'</li><li>'ITGAX'</li><li>'ITGB1'</li><li>'ITGB2'</li><li>'ITGB3'</li><li>'ITGB4'</li><li>'ITGB5'</li><li>'ITGB6'</li><li>'ITGB7'</li><li>'ITGB8'</li><li>'JAM2'</li><li>'JAM3'</li><li>'KDR'</li><li>'KLK2'</li><li>'KLK7'</li><li>'KLKB1'</li><li>'LAMA1'</li><li>'LAMA2'</li><li>'LAMA3'</li><li>'LAMA4'</li><li>'LAMA5'</li><li>'LAMB1'</li><li>'LAMB2'</li><li>'LAMB3'</li><li>'LAMC1'</li><li>'LAMC2'</li><li>'LAMC3'</li><li>'LOX'</li><li>'LOXL1'</li><li>'LOXL2'</li><li>'LOXL3'</li><li>'LOXL4'</li><li>'LRP4'</li><li>'LTBP1'</li><li>'LTBP2'</li><li>'LTBP3'</li><li>'LTBP4'</li><li>'LUM'</li><li>'MADCAM1'</li><li>'MATN1'</li><li>'MATN3'</li><li>'MATN4'</li><li>'MFAP1'</li><li>'MFAP2'</li><li>'MFAP3'</li><li>'MFAP4'</li><li>'MFAP5'</li><li>'MMP1'</li><li>'MMP10'</li><li>'MMP11'</li><li>'MMP11'</li><li>'MMP12'</li><li>'MMP13'</li><li>'MMP14'</li><li>'MMP15'</li><li>'MMP16'</li><li>'MMP17'</li><li>'MMP19'</li><li>'MMP2'</li><li>'MMP20'</li><li>'MMP24'</li><li>'MMP25'</li><li>'MMP3'</li><li>'MMP7'</li><li>'MMP8'</li><li>'MMP9'</li><li>'MUSK'</li><li>'NCAM1'</li><li>'NCAN'</li><li>'NCSTN'</li><li>'NID1'</li><li>'NID2'</li><li>'NRXN1'</li><li>'NTN4'</li><li>'OPTC'</li><li>'P3H1'</li><li>'P3H2'</li><li>'P3H3'</li><li>'P4HA1'</li><li>'P4HA2'</li><li>'P4HA3'</li><li>'P4HB'</li><li>'PCOLCE'</li><li>'PCOLCE2'</li><li>'PDGFA'</li><li>'PDGFB'</li><li>'PECAM1'</li><li>'PHYKPL'</li><li>'PLEC'</li><li>'PLG'</li><li>'PLOD1'</li><li>'PLOD2'</li><li>'PLOD3'</li><li>'PPIB'</li><li>'PRKCA'</li><li>'PRSS1'</li><li>'PRSS1'</li><li>'PRSS2'</li><li>'PRSS2'</li><li>'PSEN1'</li><li>'PTPRS'</li><li>'PXDN'</li><li>'SCUBE1'</li><li>'SCUBE3'</li><li>'SDC1'</li><li>'SDC2'</li><li>'SDC3'</li><li>'SDC4'</li><li>'SERPINE1'</li><li>'SERPINH1'</li><li>'SH3PXD2A'</li><li>'SPARC'</li><li>'SPOCK3'</li><li>'SPP1'</li><li>'TGFB1'</li><li>'TGFB2'</li><li>'TGFB3'</li><li>'THBS1'</li><li>'TIMP1'</li><li>'TIMP2'</li><li>'TLL1'</li><li>'TLL2'</li><li>'TMPRSS6'</li><li>'TNC'</li><li>'TNN'</li><li>'TNR'</li><li>'TNXB'</li><li>'TNXB'</li><li>'TNXB'</li><li>'TPSAB1'</li><li>'TRAPPC4'</li><li>'TRAPPC4'</li><li>'TTR'</li><li>'VCAM1'</li><li>'VCAN'</li><li>'VTN'</li><li>'VWF'</li></ol>\n"
      ],
      "text/latex": [
       "\\begin{enumerate*}\n",
       "\\item 'A2M'\n",
       "\\item 'ACAN'\n",
       "\\item 'ACTN1'\n",
       "\\item 'ADAM10'\n",
       "\\item 'ADAM12'\n",
       "\\item 'ADAM15'\n",
       "\\item 'ADAM17'\n",
       "\\item 'ADAM19'\n",
       "\\item 'ADAM8'\n",
       "\\item 'ADAM9'\n",
       "\\item 'ADAMTS1'\n",
       "\\item 'ADAMTS14'\n",
       "\\item 'ADAMTS16'\n",
       "\\item 'ADAMTS18'\n",
       "\\item 'ADAMTS2'\n",
       "\\item 'ADAMTS2'\n",
       "\\item 'ADAMTS3'\n",
       "\\item 'ADAMTS4'\n",
       "\\item 'ADAMTS5'\n",
       "\\item 'ADAMTS8'\n",
       "\\item 'ADAMTS9'\n",
       "\\item 'AGRN'\n",
       "\\item 'APP'\n",
       "\\item 'ASPN'\n",
       "\\item 'BCAN'\n",
       "\\item 'BGN'\n",
       "\\item 'BMP1'\n",
       "\\item 'BMP10'\n",
       "\\item 'BMP2'\n",
       "\\item 'BMP4'\n",
       "\\item 'BMP7'\n",
       "\\item 'BSG'\n",
       "\\item 'CAPN1'\n",
       "\\item 'CAPN10'\n",
       "\\item 'CAPN11'\n",
       "\\item 'CAPN12'\n",
       "\\item 'CAPN13'\n",
       "\\item 'CAPN14'\n",
       "\\item 'CAPN15'\n",
       "\\item 'CAPN2'\n",
       "\\item 'CAPN3'\n",
       "\\item 'CAPN5'\n",
       "\\item 'CAPN6'\n",
       "\\item 'CAPN7'\n",
       "\\item 'CAPN8'\n",
       "\\item 'CAPN9'\n",
       "\\item 'CAPNS1'\n",
       "\\item 'CAPNS2'\n",
       "\\item 'CASK'\n",
       "\\item 'CASP3'\n",
       "\\item 'CAST'\n",
       "\\item 'CD151'\n",
       "\\item 'CD44'\n",
       "\\item 'CD47'\n",
       "\\item 'CDH1'\n",
       "\\item 'CEACAM1'\n",
       "\\item 'CEACAM6'\n",
       "\\item 'CEACAM8'\n",
       "\\item 'CMA1'\n",
       "\\item 'COL10A1'\n",
       "\\item 'COL11A1'\n",
       "\\item 'COL11A2'\n",
       "\\item 'COL11A2'\n",
       "\\item 'COL11A2'\n",
       "\\item 'COL11A2'\n",
       "\\item 'COL11A2'\n",
       "\\item 'COL12A1'\n",
       "\\item 'COL13A1'\n",
       "\\item 'COL14A1'\n",
       "\\item 'COL15A1'\n",
       "\\item 'COL16A1'\n",
       "\\item 'COL17A1'\n",
       "\\item 'COL18A1'\n",
       "\\item 'COL19A1'\n",
       "\\item 'COL1A1'\n",
       "\\item 'COL1A2'\n",
       "\\item 'COL20A1'\n",
       "\\item 'COL21A1'\n",
       "\\item 'COL22A1'\n",
       "\\item 'COL23A1'\n",
       "\\item 'COL24A1'\n",
       "\\item 'COL25A1'\n",
       "\\item 'COL26A1'\n",
       "\\item 'COL27A1'\n",
       "\\item 'COL28A1'\n",
       "\\item 'COL2A1'\n",
       "\\item 'COL3A1'\n",
       "\\item 'COL4A1'\n",
       "\\item 'COL4A2'\n",
       "\\item 'COL4A3'\n",
       "\\item 'COL4A4'\n",
       "\\item 'COL4A5'\n",
       "\\item 'COL4A6'\n",
       "\\item 'COL5A1'\n",
       "\\item 'COL5A2'\n",
       "\\item 'COL5A3'\n",
       "\\item 'COL6A1'\n",
       "\\item 'COL6A2'\n",
       "\\item 'COL6A3'\n",
       "\\item 'COL6A5'\n",
       "\\item 'COL6A6'\n",
       "\\item 'COL7A1'\n",
       "\\item 'COL8A1'\n",
       "\\item 'COL8A2'\n",
       "\\item 'COL9A1'\n",
       "\\item 'COL9A2'\n",
       "\\item 'COL9A3'\n",
       "\\item 'COLGALT1'\n",
       "\\item 'COLGALT2'\n",
       "\\item 'COMP'\n",
       "\\item 'CRTAP'\n",
       "\\item 'CTRB1'\n",
       "\\item 'CTRB2'\n",
       "\\item 'CTSB'\n",
       "\\item 'CTSB'\n",
       "\\item 'CTSD'\n",
       "\\item 'CTSG'\n",
       "\\item 'CTSK'\n",
       "\\item 'CTSL'\n",
       "\\item 'CTSS'\n",
       "\\item 'CTSV'\n",
       "\\item 'DAG1'\n",
       "\\item 'DCN'\n",
       "\\item 'DDR1'\n",
       "\\item 'DDR1'\n",
       "\\item 'DDR1'\n",
       "\\item 'DDR1'\n",
       "\\item 'DDR1'\n",
       "\\item 'DDR2'\n",
       "\\item 'DMD'\n",
       "\\item 'DMP1'\n",
       "\\item 'DSPP'\n",
       "\\item 'DST'\n",
       "\\item 'EFEMP1'\n",
       "\\item 'EFEMP2'\n",
       "\\item 'ELANE'\n",
       "\\item 'ELANE'\n",
       "\\item 'ELN'\n",
       "\\item 'EMILIN1'\n",
       "\\item 'EMILIN2'\n",
       "\\item 'EMILIN3'\n",
       "\\item 'F11R'\n",
       "\\item 'FBLN1'\n",
       "\\item 'FBLN2'\n",
       "\\item 'FBLN5'\n",
       "\\item 'FBN1'\n",
       "\\item 'FBN2'\n",
       "\\item 'FBN3'\n",
       "\\item 'FGA'\n",
       "\\item 'FGB'\n",
       "\\item 'FGF2'\n",
       "\\item 'FGG'\n",
       "\\item 'FMOD'\n",
       "\\item 'FN1'\n",
       "\\item 'FURIN'\n",
       "\\item 'GDF5'\n",
       "\\item 'HAPLN1'\n",
       "\\item 'HSPG2'\n",
       "\\item 'HTRA1'\n",
       "\\item 'IBSP'\n",
       "\\item 'ICAM1'\n",
       "\\item 'ICAM2'\n",
       "\\item 'ICAM3'\n",
       "\\item 'ICAM4'\n",
       "\\item 'ICAM5'\n",
       "\\item 'ITGA1'\n",
       "\\item 'ITGA10'\n",
       "\\item 'ITGA11'\n",
       "\\item 'ITGA2'\n",
       "\\item 'ITGA2B'\n",
       "\\item 'ITGA3'\n",
       "\\item 'ITGA4'\n",
       "\\item 'ITGA5'\n",
       "\\item 'ITGA6'\n",
       "\\item 'ITGA7'\n",
       "\\item 'ITGA8'\n",
       "\\item 'ITGA9'\n",
       "\\item 'ITGAD'\n",
       "\\item 'ITGAE'\n",
       "\\item 'ITGAL'\n",
       "\\item 'ITGAM'\n",
       "\\item 'ITGAV'\n",
       "\\item 'ITGAX'\n",
       "\\item 'ITGB1'\n",
       "\\item 'ITGB2'\n",
       "\\item 'ITGB3'\n",
       "\\item 'ITGB4'\n",
       "\\item 'ITGB5'\n",
       "\\item 'ITGB6'\n",
       "\\item 'ITGB7'\n",
       "\\item 'ITGB8'\n",
       "\\item 'JAM2'\n",
       "\\item 'JAM3'\n",
       "\\item 'KDR'\n",
       "\\item 'KLK2'\n",
       "\\item 'KLK7'\n",
       "\\item 'KLKB1'\n",
       "\\item 'LAMA1'\n",
       "\\item 'LAMA2'\n",
       "\\item 'LAMA3'\n",
       "\\item 'LAMA4'\n",
       "\\item 'LAMA5'\n",
       "\\item 'LAMB1'\n",
       "\\item 'LAMB2'\n",
       "\\item 'LAMB3'\n",
       "\\item 'LAMC1'\n",
       "\\item 'LAMC2'\n",
       "\\item 'LAMC3'\n",
       "\\item 'LOX'\n",
       "\\item 'LOXL1'\n",
       "\\item 'LOXL2'\n",
       "\\item 'LOXL3'\n",
       "\\item 'LOXL4'\n",
       "\\item 'LRP4'\n",
       "\\item 'LTBP1'\n",
       "\\item 'LTBP2'\n",
       "\\item 'LTBP3'\n",
       "\\item 'LTBP4'\n",
       "\\item 'LUM'\n",
       "\\item 'MADCAM1'\n",
       "\\item 'MATN1'\n",
       "\\item 'MATN3'\n",
       "\\item 'MATN4'\n",
       "\\item 'MFAP1'\n",
       "\\item 'MFAP2'\n",
       "\\item 'MFAP3'\n",
       "\\item 'MFAP4'\n",
       "\\item 'MFAP5'\n",
       "\\item 'MMP1'\n",
       "\\item 'MMP10'\n",
       "\\item 'MMP11'\n",
       "\\item 'MMP11'\n",
       "\\item 'MMP12'\n",
       "\\item 'MMP13'\n",
       "\\item 'MMP14'\n",
       "\\item 'MMP15'\n",
       "\\item 'MMP16'\n",
       "\\item 'MMP17'\n",
       "\\item 'MMP19'\n",
       "\\item 'MMP2'\n",
       "\\item 'MMP20'\n",
       "\\item 'MMP24'\n",
       "\\item 'MMP25'\n",
       "\\item 'MMP3'\n",
       "\\item 'MMP7'\n",
       "\\item 'MMP8'\n",
       "\\item 'MMP9'\n",
       "\\item 'MUSK'\n",
       "\\item 'NCAM1'\n",
       "\\item 'NCAN'\n",
       "\\item 'NCSTN'\n",
       "\\item 'NID1'\n",
       "\\item 'NID2'\n",
       "\\item 'NRXN1'\n",
       "\\item 'NTN4'\n",
       "\\item 'OPTC'\n",
       "\\item 'P3H1'\n",
       "\\item 'P3H2'\n",
       "\\item 'P3H3'\n",
       "\\item 'P4HA1'\n",
       "\\item 'P4HA2'\n",
       "\\item 'P4HA3'\n",
       "\\item 'P4HB'\n",
       "\\item 'PCOLCE'\n",
       "\\item 'PCOLCE2'\n",
       "\\item 'PDGFA'\n",
       "\\item 'PDGFB'\n",
       "\\item 'PECAM1'\n",
       "\\item 'PHYKPL'\n",
       "\\item 'PLEC'\n",
       "\\item 'PLG'\n",
       "\\item 'PLOD1'\n",
       "\\item 'PLOD2'\n",
       "\\item 'PLOD3'\n",
       "\\item 'PPIB'\n",
       "\\item 'PRKCA'\n",
       "\\item 'PRSS1'\n",
       "\\item 'PRSS1'\n",
       "\\item 'PRSS2'\n",
       "\\item 'PRSS2'\n",
       "\\item 'PSEN1'\n",
       "\\item 'PTPRS'\n",
       "\\item 'PXDN'\n",
       "\\item 'SCUBE1'\n",
       "\\item 'SCUBE3'\n",
       "\\item 'SDC1'\n",
       "\\item 'SDC2'\n",
       "\\item 'SDC3'\n",
       "\\item 'SDC4'\n",
       "\\item 'SERPINE1'\n",
       "\\item 'SERPINH1'\n",
       "\\item 'SH3PXD2A'\n",
       "\\item 'SPARC'\n",
       "\\item 'SPOCK3'\n",
       "\\item 'SPP1'\n",
       "\\item 'TGFB1'\n",
       "\\item 'TGFB2'\n",
       "\\item 'TGFB3'\n",
       "\\item 'THBS1'\n",
       "\\item 'TIMP1'\n",
       "\\item 'TIMP2'\n",
       "\\item 'TLL1'\n",
       "\\item 'TLL2'\n",
       "\\item 'TMPRSS6'\n",
       "\\item 'TNC'\n",
       "\\item 'TNN'\n",
       "\\item 'TNR'\n",
       "\\item 'TNXB'\n",
       "\\item 'TNXB'\n",
       "\\item 'TNXB'\n",
       "\\item 'TPSAB1'\n",
       "\\item 'TRAPPC4'\n",
       "\\item 'TRAPPC4'\n",
       "\\item 'TTR'\n",
       "\\item 'VCAM1'\n",
       "\\item 'VCAN'\n",
       "\\item 'VTN'\n",
       "\\item 'VWF'\n",
       "\\end{enumerate*}\n"
      ],
      "text/markdown": [
       "1. 'A2M'\n",
       "2. 'ACAN'\n",
       "3. 'ACTN1'\n",
       "4. 'ADAM10'\n",
       "5. 'ADAM12'\n",
       "6. 'ADAM15'\n",
       "7. 'ADAM17'\n",
       "8. 'ADAM19'\n",
       "9. 'ADAM8'\n",
       "10. 'ADAM9'\n",
       "11. 'ADAMTS1'\n",
       "12. 'ADAMTS14'\n",
       "13. 'ADAMTS16'\n",
       "14. 'ADAMTS18'\n",
       "15. 'ADAMTS2'\n",
       "16. 'ADAMTS2'\n",
       "17. 'ADAMTS3'\n",
       "18. 'ADAMTS4'\n",
       "19. 'ADAMTS5'\n",
       "20. 'ADAMTS8'\n",
       "21. 'ADAMTS9'\n",
       "22. 'AGRN'\n",
       "23. 'APP'\n",
       "24. 'ASPN'\n",
       "25. 'BCAN'\n",
       "26. 'BGN'\n",
       "27. 'BMP1'\n",
       "28. 'BMP10'\n",
       "29. 'BMP2'\n",
       "30. 'BMP4'\n",
       "31. 'BMP7'\n",
       "32. 'BSG'\n",
       "33. 'CAPN1'\n",
       "34. 'CAPN10'\n",
       "35. 'CAPN11'\n",
       "36. 'CAPN12'\n",
       "37. 'CAPN13'\n",
       "38. 'CAPN14'\n",
       "39. 'CAPN15'\n",
       "40. 'CAPN2'\n",
       "41. 'CAPN3'\n",
       "42. 'CAPN5'\n",
       "43. 'CAPN6'\n",
       "44. 'CAPN7'\n",
       "45. 'CAPN8'\n",
       "46. 'CAPN9'\n",
       "47. 'CAPNS1'\n",
       "48. 'CAPNS2'\n",
       "49. 'CASK'\n",
       "50. 'CASP3'\n",
       "51. 'CAST'\n",
       "52. 'CD151'\n",
       "53. 'CD44'\n",
       "54. 'CD47'\n",
       "55. 'CDH1'\n",
       "56. 'CEACAM1'\n",
       "57. 'CEACAM6'\n",
       "58. 'CEACAM8'\n",
       "59. 'CMA1'\n",
       "60. 'COL10A1'\n",
       "61. 'COL11A1'\n",
       "62. 'COL11A2'\n",
       "63. 'COL11A2'\n",
       "64. 'COL11A2'\n",
       "65. 'COL11A2'\n",
       "66. 'COL11A2'\n",
       "67. 'COL12A1'\n",
       "68. 'COL13A1'\n",
       "69. 'COL14A1'\n",
       "70. 'COL15A1'\n",
       "71. 'COL16A1'\n",
       "72. 'COL17A1'\n",
       "73. 'COL18A1'\n",
       "74. 'COL19A1'\n",
       "75. 'COL1A1'\n",
       "76. 'COL1A2'\n",
       "77. 'COL20A1'\n",
       "78. 'COL21A1'\n",
       "79. 'COL22A1'\n",
       "80. 'COL23A1'\n",
       "81. 'COL24A1'\n",
       "82. 'COL25A1'\n",
       "83. 'COL26A1'\n",
       "84. 'COL27A1'\n",
       "85. 'COL28A1'\n",
       "86. 'COL2A1'\n",
       "87. 'COL3A1'\n",
       "88. 'COL4A1'\n",
       "89. 'COL4A2'\n",
       "90. 'COL4A3'\n",
       "91. 'COL4A4'\n",
       "92. 'COL4A5'\n",
       "93. 'COL4A6'\n",
       "94. 'COL5A1'\n",
       "95. 'COL5A2'\n",
       "96. 'COL5A3'\n",
       "97. 'COL6A1'\n",
       "98. 'COL6A2'\n",
       "99. 'COL6A3'\n",
       "100. 'COL6A5'\n",
       "101. 'COL6A6'\n",
       "102. 'COL7A1'\n",
       "103. 'COL8A1'\n",
       "104. 'COL8A2'\n",
       "105. 'COL9A1'\n",
       "106. 'COL9A2'\n",
       "107. 'COL9A3'\n",
       "108. 'COLGALT1'\n",
       "109. 'COLGALT2'\n",
       "110. 'COMP'\n",
       "111. 'CRTAP'\n",
       "112. 'CTRB1'\n",
       "113. 'CTRB2'\n",
       "114. 'CTSB'\n",
       "115. 'CTSB'\n",
       "116. 'CTSD'\n",
       "117. 'CTSG'\n",
       "118. 'CTSK'\n",
       "119. 'CTSL'\n",
       "120. 'CTSS'\n",
       "121. 'CTSV'\n",
       "122. 'DAG1'\n",
       "123. 'DCN'\n",
       "124. 'DDR1'\n",
       "125. 'DDR1'\n",
       "126. 'DDR1'\n",
       "127. 'DDR1'\n",
       "128. 'DDR1'\n",
       "129. 'DDR2'\n",
       "130. 'DMD'\n",
       "131. 'DMP1'\n",
       "132. 'DSPP'\n",
       "133. 'DST'\n",
       "134. 'EFEMP1'\n",
       "135. 'EFEMP2'\n",
       "136. 'ELANE'\n",
       "137. 'ELANE'\n",
       "138. 'ELN'\n",
       "139. 'EMILIN1'\n",
       "140. 'EMILIN2'\n",
       "141. 'EMILIN3'\n",
       "142. 'F11R'\n",
       "143. 'FBLN1'\n",
       "144. 'FBLN2'\n",
       "145. 'FBLN5'\n",
       "146. 'FBN1'\n",
       "147. 'FBN2'\n",
       "148. 'FBN3'\n",
       "149. 'FGA'\n",
       "150. 'FGB'\n",
       "151. 'FGF2'\n",
       "152. 'FGG'\n",
       "153. 'FMOD'\n",
       "154. 'FN1'\n",
       "155. 'FURIN'\n",
       "156. 'GDF5'\n",
       "157. 'HAPLN1'\n",
       "158. 'HSPG2'\n",
       "159. 'HTRA1'\n",
       "160. 'IBSP'\n",
       "161. 'ICAM1'\n",
       "162. 'ICAM2'\n",
       "163. 'ICAM3'\n",
       "164. 'ICAM4'\n",
       "165. 'ICAM5'\n",
       "166. 'ITGA1'\n",
       "167. 'ITGA10'\n",
       "168. 'ITGA11'\n",
       "169. 'ITGA2'\n",
       "170. 'ITGA2B'\n",
       "171. 'ITGA3'\n",
       "172. 'ITGA4'\n",
       "173. 'ITGA5'\n",
       "174. 'ITGA6'\n",
       "175. 'ITGA7'\n",
       "176. 'ITGA8'\n",
       "177. 'ITGA9'\n",
       "178. 'ITGAD'\n",
       "179. 'ITGAE'\n",
       "180. 'ITGAL'\n",
       "181. 'ITGAM'\n",
       "182. 'ITGAV'\n",
       "183. 'ITGAX'\n",
       "184. 'ITGB1'\n",
       "185. 'ITGB2'\n",
       "186. 'ITGB3'\n",
       "187. 'ITGB4'\n",
       "188. 'ITGB5'\n",
       "189. 'ITGB6'\n",
       "190. 'ITGB7'\n",
       "191. 'ITGB8'\n",
       "192. 'JAM2'\n",
       "193. 'JAM3'\n",
       "194. 'KDR'\n",
       "195. 'KLK2'\n",
       "196. 'KLK7'\n",
       "197. 'KLKB1'\n",
       "198. 'LAMA1'\n",
       "199. 'LAMA2'\n",
       "200. 'LAMA3'\n",
       "201. 'LAMA4'\n",
       "202. 'LAMA5'\n",
       "203. 'LAMB1'\n",
       "204. 'LAMB2'\n",
       "205. 'LAMB3'\n",
       "206. 'LAMC1'\n",
       "207. 'LAMC2'\n",
       "208. 'LAMC3'\n",
       "209. 'LOX'\n",
       "210. 'LOXL1'\n",
       "211. 'LOXL2'\n",
       "212. 'LOXL3'\n",
       "213. 'LOXL4'\n",
       "214. 'LRP4'\n",
       "215. 'LTBP1'\n",
       "216. 'LTBP2'\n",
       "217. 'LTBP3'\n",
       "218. 'LTBP4'\n",
       "219. 'LUM'\n",
       "220. 'MADCAM1'\n",
       "221. 'MATN1'\n",
       "222. 'MATN3'\n",
       "223. 'MATN4'\n",
       "224. 'MFAP1'\n",
       "225. 'MFAP2'\n",
       "226. 'MFAP3'\n",
       "227. 'MFAP4'\n",
       "228. 'MFAP5'\n",
       "229. 'MMP1'\n",
       "230. 'MMP10'\n",
       "231. 'MMP11'\n",
       "232. 'MMP11'\n",
       "233. 'MMP12'\n",
       "234. 'MMP13'\n",
       "235. 'MMP14'\n",
       "236. 'MMP15'\n",
       "237. 'MMP16'\n",
       "238. 'MMP17'\n",
       "239. 'MMP19'\n",
       "240. 'MMP2'\n",
       "241. 'MMP20'\n",
       "242. 'MMP24'\n",
       "243. 'MMP25'\n",
       "244. 'MMP3'\n",
       "245. 'MMP7'\n",
       "246. 'MMP8'\n",
       "247. 'MMP9'\n",
       "248. 'MUSK'\n",
       "249. 'NCAM1'\n",
       "250. 'NCAN'\n",
       "251. 'NCSTN'\n",
       "252. 'NID1'\n",
       "253. 'NID2'\n",
       "254. 'NRXN1'\n",
       "255. 'NTN4'\n",
       "256. 'OPTC'\n",
       "257. 'P3H1'\n",
       "258. 'P3H2'\n",
       "259. 'P3H3'\n",
       "260. 'P4HA1'\n",
       "261. 'P4HA2'\n",
       "262. 'P4HA3'\n",
       "263. 'P4HB'\n",
       "264. 'PCOLCE'\n",
       "265. 'PCOLCE2'\n",
       "266. 'PDGFA'\n",
       "267. 'PDGFB'\n",
       "268. 'PECAM1'\n",
       "269. 'PHYKPL'\n",
       "270. 'PLEC'\n",
       "271. 'PLG'\n",
       "272. 'PLOD1'\n",
       "273. 'PLOD2'\n",
       "274. 'PLOD3'\n",
       "275. 'PPIB'\n",
       "276. 'PRKCA'\n",
       "277. 'PRSS1'\n",
       "278. 'PRSS1'\n",
       "279. 'PRSS2'\n",
       "280. 'PRSS2'\n",
       "281. 'PSEN1'\n",
       "282. 'PTPRS'\n",
       "283. 'PXDN'\n",
       "284. 'SCUBE1'\n",
       "285. 'SCUBE3'\n",
       "286. 'SDC1'\n",
       "287. 'SDC2'\n",
       "288. 'SDC3'\n",
       "289. 'SDC4'\n",
       "290. 'SERPINE1'\n",
       "291. 'SERPINH1'\n",
       "292. 'SH3PXD2A'\n",
       "293. 'SPARC'\n",
       "294. 'SPOCK3'\n",
       "295. 'SPP1'\n",
       "296. 'TGFB1'\n",
       "297. 'TGFB2'\n",
       "298. 'TGFB3'\n",
       "299. 'THBS1'\n",
       "300. 'TIMP1'\n",
       "301. 'TIMP2'\n",
       "302. 'TLL1'\n",
       "303. 'TLL2'\n",
       "304. 'TMPRSS6'\n",
       "305. 'TNC'\n",
       "306. 'TNN'\n",
       "307. 'TNR'\n",
       "308. 'TNXB'\n",
       "309. 'TNXB'\n",
       "310. 'TNXB'\n",
       "311. 'TPSAB1'\n",
       "312. 'TRAPPC4'\n",
       "313. 'TRAPPC4'\n",
       "314. 'TTR'\n",
       "315. 'VCAM1'\n",
       "316. 'VCAN'\n",
       "317. 'VTN'\n",
       "318. 'VWF'\n",
       "\n",
       "\n"
      ],
      "text/plain": [
       "  [1] \"A2M\"      \"ACAN\"     \"ACTN1\"    \"ADAM10\"   \"ADAM12\"   \"ADAM15\"  \n",
       "  [7] \"ADAM17\"   \"ADAM19\"   \"ADAM8\"    \"ADAM9\"    \"ADAMTS1\"  \"ADAMTS14\"\n",
       " [13] \"ADAMTS16\" \"ADAMTS18\" \"ADAMTS2\"  \"ADAMTS2\"  \"ADAMTS3\"  \"ADAMTS4\" \n",
       " [19] \"ADAMTS5\"  \"ADAMTS8\"  \"ADAMTS9\"  \"AGRN\"     \"APP\"      \"ASPN\"    \n",
       " [25] \"BCAN\"     \"BGN\"      \"BMP1\"     \"BMP10\"    \"BMP2\"     \"BMP4\"    \n",
       " [31] \"BMP7\"     \"BSG\"      \"CAPN1\"    \"CAPN10\"   \"CAPN11\"   \"CAPN12\"  \n",
       " [37] \"CAPN13\"   \"CAPN14\"   \"CAPN15\"   \"CAPN2\"    \"CAPN3\"    \"CAPN5\"   \n",
       " [43] \"CAPN6\"    \"CAPN7\"    \"CAPN8\"    \"CAPN9\"    \"CAPNS1\"   \"CAPNS2\"  \n",
       " [49] \"CASK\"     \"CASP3\"    \"CAST\"     \"CD151\"    \"CD44\"     \"CD47\"    \n",
       " [55] \"CDH1\"     \"CEACAM1\"  \"CEACAM6\"  \"CEACAM8\"  \"CMA1\"     \"COL10A1\" \n",
       " [61] \"COL11A1\"  \"COL11A2\"  \"COL11A2\"  \"COL11A2\"  \"COL11A2\"  \"COL11A2\" \n",
       " [67] \"COL12A1\"  \"COL13A1\"  \"COL14A1\"  \"COL15A1\"  \"COL16A1\"  \"COL17A1\" \n",
       " [73] \"COL18A1\"  \"COL19A1\"  \"COL1A1\"   \"COL1A2\"   \"COL20A1\"  \"COL21A1\" \n",
       " [79] \"COL22A1\"  \"COL23A1\"  \"COL24A1\"  \"COL25A1\"  \"COL26A1\"  \"COL27A1\" \n",
       " [85] \"COL28A1\"  \"COL2A1\"   \"COL3A1\"   \"COL4A1\"   \"COL4A2\"   \"COL4A3\"  \n",
       " [91] \"COL4A4\"   \"COL4A5\"   \"COL4A6\"   \"COL5A1\"   \"COL5A2\"   \"COL5A3\"  \n",
       " [97] \"COL6A1\"   \"COL6A2\"   \"COL6A3\"   \"COL6A5\"   \"COL6A6\"   \"COL7A1\"  \n",
       "[103] \"COL8A1\"   \"COL8A2\"   \"COL9A1\"   \"COL9A2\"   \"COL9A3\"   \"COLGALT1\"\n",
       "[109] \"COLGALT2\" \"COMP\"     \"CRTAP\"    \"CTRB1\"    \"CTRB2\"    \"CTSB\"    \n",
       "[115] \"CTSB\"     \"CTSD\"     \"CTSG\"     \"CTSK\"     \"CTSL\"     \"CTSS\"    \n",
       "[121] \"CTSV\"     \"DAG1\"     \"DCN\"      \"DDR1\"     \"DDR1\"     \"DDR1\"    \n",
       "[127] \"DDR1\"     \"DDR1\"     \"DDR2\"     \"DMD\"      \"DMP1\"     \"DSPP\"    \n",
       "[133] \"DST\"      \"EFEMP1\"   \"EFEMP2\"   \"ELANE\"    \"ELANE\"    \"ELN\"     \n",
       "[139] \"EMILIN1\"  \"EMILIN2\"  \"EMILIN3\"  \"F11R\"     \"FBLN1\"    \"FBLN2\"   \n",
       "[145] \"FBLN5\"    \"FBN1\"     \"FBN2\"     \"FBN3\"     \"FGA\"      \"FGB\"     \n",
       "[151] \"FGF2\"     \"FGG\"      \"FMOD\"     \"FN1\"      \"FURIN\"    \"GDF5\"    \n",
       "[157] \"HAPLN1\"   \"HSPG2\"    \"HTRA1\"    \"IBSP\"     \"ICAM1\"    \"ICAM2\"   \n",
       "[163] \"ICAM3\"    \"ICAM4\"    \"ICAM5\"    \"ITGA1\"    \"ITGA10\"   \"ITGA11\"  \n",
       "[169] \"ITGA2\"    \"ITGA2B\"   \"ITGA3\"    \"ITGA4\"    \"ITGA5\"    \"ITGA6\"   \n",
       "[175] \"ITGA7\"    \"ITGA8\"    \"ITGA9\"    \"ITGAD\"    \"ITGAE\"    \"ITGAL\"   \n",
       "[181] \"ITGAM\"    \"ITGAV\"    \"ITGAX\"    \"ITGB1\"    \"ITGB2\"    \"ITGB3\"   \n",
       "[187] \"ITGB4\"    \"ITGB5\"    \"ITGB6\"    \"ITGB7\"    \"ITGB8\"    \"JAM2\"    \n",
       "[193] \"JAM3\"     \"KDR\"      \"KLK2\"     \"KLK7\"     \"KLKB1\"    \"LAMA1\"   \n",
       "[199] \"LAMA2\"    \"LAMA3\"    \"LAMA4\"    \"LAMA5\"    \"LAMB1\"    \"LAMB2\"   \n",
       "[205] \"LAMB3\"    \"LAMC1\"    \"LAMC2\"    \"LAMC3\"    \"LOX\"      \"LOXL1\"   \n",
       "[211] \"LOXL2\"    \"LOXL3\"    \"LOXL4\"    \"LRP4\"     \"LTBP1\"    \"LTBP2\"   \n",
       "[217] \"LTBP3\"    \"LTBP4\"    \"LUM\"      \"MADCAM1\"  \"MATN1\"    \"MATN3\"   \n",
       "[223] \"MATN4\"    \"MFAP1\"    \"MFAP2\"    \"MFAP3\"    \"MFAP4\"    \"MFAP5\"   \n",
       "[229] \"MMP1\"     \"MMP10\"    \"MMP11\"    \"MMP11\"    \"MMP12\"    \"MMP13\"   \n",
       "[235] \"MMP14\"    \"MMP15\"    \"MMP16\"    \"MMP17\"    \"MMP19\"    \"MMP2\"    \n",
       "[241] \"MMP20\"    \"MMP24\"    \"MMP25\"    \"MMP3\"     \"MMP7\"     \"MMP8\"    \n",
       "[247] \"MMP9\"     \"MUSK\"     \"NCAM1\"    \"NCAN\"     \"NCSTN\"    \"NID1\"    \n",
       "[253] \"NID2\"     \"NRXN1\"    \"NTN4\"     \"OPTC\"     \"P3H1\"     \"P3H2\"    \n",
       "[259] \"P3H3\"     \"P4HA1\"    \"P4HA2\"    \"P4HA3\"    \"P4HB\"     \"PCOLCE\"  \n",
       "[265] \"PCOLCE2\"  \"PDGFA\"    \"PDGFB\"    \"PECAM1\"   \"PHYKPL\"   \"PLEC\"    \n",
       "[271] \"PLG\"      \"PLOD1\"    \"PLOD2\"    \"PLOD3\"    \"PPIB\"     \"PRKCA\"   \n",
       "[277] \"PRSS1\"    \"PRSS1\"    \"PRSS2\"    \"PRSS2\"    \"PSEN1\"    \"PTPRS\"   \n",
       "[283] \"PXDN\"     \"SCUBE1\"   \"SCUBE3\"   \"SDC1\"     \"SDC2\"     \"SDC3\"    \n",
       "[289] \"SDC4\"     \"SERPINE1\" \"SERPINH1\" \"SH3PXD2A\" \"SPARC\"    \"SPOCK3\"  \n",
       "[295] \"SPP1\"     \"TGFB1\"    \"TGFB2\"    \"TGFB3\"    \"THBS1\"    \"TIMP1\"   \n",
       "[301] \"TIMP2\"    \"TLL1\"     \"TLL2\"     \"TMPRSS6\"  \"TNC\"      \"TNN\"     \n",
       "[307] \"TNR\"      \"TNXB\"     \"TNXB\"     \"TNXB\"     \"TPSAB1\"   \"TRAPPC4\" \n",
       "[313] \"TRAPPC4\"  \"TTR\"      \"VCAM1\"    \"VCAN\"     \"VTN\"      \"VWF\"     "
      ]
     },
     "metadata": {},
     "output_type": "display_data"
    }
   ],
   "source": [
    "collagen_pathways$REACTOME_EXTRACELLULAR_MATRIX_ORGANIZATION"
   ]
  },
  {
   "cell_type": "code",
   "execution_count": 20,
   "id": "d4e2cded",
   "metadata": {
    "vscode": {
     "languageId": "r"
    }
   },
   "outputs": [
    {
     "data": {
      "text/html": [
       "49"
      ],
      "text/latex": [
       "49"
      ],
      "text/markdown": [
       "49"
      ],
      "text/plain": [
       "[1] 49"
      ]
     },
     "metadata": {},
     "output_type": "display_data"
    }
   ],
   "source": [
    "tmp = resdata  %>% filter(external_gene_id  %in% collagen_pathways$REACTOME_EXTRACELLULAR_MATRIX_ORGANIZATION)  %>% \n",
    "filter(padj<.05, abs(log2FoldChange)>=1)\n",
    "tmp %>% nrow()"
   ]
  },
  {
   "cell_type": "code",
   "execution_count": 21,
   "id": "0a53e924",
   "metadata": {
    "vscode": {
     "languageId": "r"
    }
   },
   "outputs": [
    {
     "data": {
      "text/html": [
       "<table class=\"dataframe\">\n",
       "<caption>A data.frame: 49 × 3</caption>\n",
       "<thead>\n",
       "\t<tr><th scope=col>external_gene_id</th><th scope=col>log2FoldChange</th><th scope=col>padj</th></tr>\n",
       "\t<tr><th scope=col>&lt;chr&gt;</th><th scope=col>&lt;dbl&gt;</th><th scope=col>&lt;dbl&gt;</th></tr>\n",
       "</thead>\n",
       "<tbody>\n",
       "\t<tr><td>COL14A1 </td><td> 2.380865</td><td>3.694669e-23</td></tr>\n",
       "\t<tr><td>MFAP4   </td><td> 2.318864</td><td>1.671580e-17</td></tr>\n",
       "\t<tr><td>ELN     </td><td> 1.997073</td><td>2.847689e-14</td></tr>\n",
       "\t<tr><td>LAMA2   </td><td> 1.560029</td><td>2.638210e-13</td></tr>\n",
       "\t<tr><td>MMP2    </td><td> 1.716964</td><td>1.209227e-09</td></tr>\n",
       "\t<tr><td>ADAMTS5 </td><td> 1.185043</td><td>7.315872e-09</td></tr>\n",
       "\t<tr><td>FBLN1   </td><td> 1.592054</td><td>9.624708e-09</td></tr>\n",
       "\t<tr><td>COL6A3  </td><td> 1.460533</td><td>1.003136e-06</td></tr>\n",
       "\t<tr><td>MMP16   </td><td> 1.213761</td><td>1.021772e-06</td></tr>\n",
       "\t<tr><td>LRP4    </td><td> 1.022848</td><td>1.520860e-06</td></tr>\n",
       "\t<tr><td>SERPINE1</td><td> 1.988166</td><td>1.637581e-06</td></tr>\n",
       "\t<tr><td>COL16A1 </td><td> 1.009841</td><td>1.691398e-06</td></tr>\n",
       "\t<tr><td>FBLN2   </td><td> 1.061852</td><td>3.153822e-06</td></tr>\n",
       "\t<tr><td>HTRA1   </td><td> 1.133277</td><td>5.131357e-06</td></tr>\n",
       "\t<tr><td>SCUBE1  </td><td>-1.657796</td><td>6.406589e-06</td></tr>\n",
       "\t<tr><td>COL6A1  </td><td> 1.178982</td><td>9.138987e-06</td></tr>\n",
       "\t<tr><td>ADAMTS3 </td><td> 1.151897</td><td>1.663331e-05</td></tr>\n",
       "\t<tr><td>FGF2    </td><td> 1.405191</td><td>1.804998e-05</td></tr>\n",
       "\t<tr><td>TNXB    </td><td> 1.451771</td><td>2.057790e-05</td></tr>\n",
       "\t<tr><td>ADAM12  </td><td> 1.214751</td><td>2.196040e-05</td></tr>\n",
       "\t<tr><td>MMP19   </td><td> 1.072596</td><td>2.236781e-05</td></tr>\n",
       "\t<tr><td>LAMA1   </td><td> 1.129013</td><td>2.263153e-05</td></tr>\n",
       "\t<tr><td>COL6A2  </td><td> 1.096791</td><td>2.534250e-05</td></tr>\n",
       "\t<tr><td>ADAMTS1 </td><td> 1.331751</td><td>3.301508e-05</td></tr>\n",
       "\t<tr><td>BMP2    </td><td> 1.445242</td><td>5.388258e-05</td></tr>\n",
       "\t<tr><td>DCN     </td><td> 1.140829</td><td>7.960139e-05</td></tr>\n",
       "\t<tr><td>CAPN6   </td><td> 1.739471</td><td>1.284745e-04</td></tr>\n",
       "\t<tr><td>TNC     </td><td> 1.274523</td><td>1.316011e-04</td></tr>\n",
       "\t<tr><td>COL25A1 </td><td> 1.487162</td><td>1.815876e-04</td></tr>\n",
       "\t<tr><td>COL5A2  </td><td> 1.157444</td><td>2.188408e-04</td></tr>\n",
       "\t<tr><td>ADAMTS16</td><td> 1.734161</td><td>2.218534e-04</td></tr>\n",
       "\t<tr><td>NCAM1   </td><td> 1.355264</td><td>2.409402e-04</td></tr>\n",
       "\t<tr><td>CTSG    </td><td> 1.819214</td><td>2.410059e-04</td></tr>\n",
       "\t<tr><td>FBN1    </td><td> 1.117173</td><td>2.653468e-04</td></tr>\n",
       "\t<tr><td>COL17A1 </td><td> 1.562844</td><td>3.785094e-04</td></tr>\n",
       "\t<tr><td>COL5A1  </td><td> 1.102080</td><td>5.242501e-04</td></tr>\n",
       "\t<tr><td>CMA1    </td><td> 1.922716</td><td>8.486344e-04</td></tr>\n",
       "\t<tr><td>COL22A1 </td><td>-1.059675</td><td>9.038671e-04</td></tr>\n",
       "\t<tr><td>ITGA8   </td><td> 1.081021</td><td>1.103558e-03</td></tr>\n",
       "\t<tr><td>COL6A6  </td><td> 1.417725</td><td>3.171429e-03</td></tr>\n",
       "\t<tr><td>IBSP    </td><td>-1.400558</td><td>3.985312e-03</td></tr>\n",
       "\t<tr><td>MMP1    </td><td>-1.578872</td><td>5.013338e-03</td></tr>\n",
       "\t<tr><td>COL8A1  </td><td> 1.013231</td><td>5.634457e-03</td></tr>\n",
       "\t<tr><td>MMP3    </td><td> 1.258181</td><td>6.554747e-03</td></tr>\n",
       "\t<tr><td>COL1A2  </td><td> 1.662282</td><td>7.412082e-03</td></tr>\n",
       "\t<tr><td>COL3A1  </td><td> 1.606619</td><td>8.125883e-03</td></tr>\n",
       "\t<tr><td>ASPN    </td><td> 1.049797</td><td>8.277335e-03</td></tr>\n",
       "\t<tr><td>COL1A1  </td><td> 1.694849</td><td>8.849516e-03</td></tr>\n",
       "\t<tr><td>GDF5    </td><td> 1.013854</td><td>3.173423e-02</td></tr>\n",
       "</tbody>\n",
       "</table>\n"
      ],
      "text/latex": [
       "A data.frame: 49 × 3\n",
       "\\begin{tabular}{lll}\n",
       " external\\_gene\\_id & log2FoldChange & padj\\\\\n",
       " <chr> & <dbl> & <dbl>\\\\\n",
       "\\hline\n",
       "\t COL14A1  &  2.380865 & 3.694669e-23\\\\\n",
       "\t MFAP4    &  2.318864 & 1.671580e-17\\\\\n",
       "\t ELN      &  1.997073 & 2.847689e-14\\\\\n",
       "\t LAMA2    &  1.560029 & 2.638210e-13\\\\\n",
       "\t MMP2     &  1.716964 & 1.209227e-09\\\\\n",
       "\t ADAMTS5  &  1.185043 & 7.315872e-09\\\\\n",
       "\t FBLN1    &  1.592054 & 9.624708e-09\\\\\n",
       "\t COL6A3   &  1.460533 & 1.003136e-06\\\\\n",
       "\t MMP16    &  1.213761 & 1.021772e-06\\\\\n",
       "\t LRP4     &  1.022848 & 1.520860e-06\\\\\n",
       "\t SERPINE1 &  1.988166 & 1.637581e-06\\\\\n",
       "\t COL16A1  &  1.009841 & 1.691398e-06\\\\\n",
       "\t FBLN2    &  1.061852 & 3.153822e-06\\\\\n",
       "\t HTRA1    &  1.133277 & 5.131357e-06\\\\\n",
       "\t SCUBE1   & -1.657796 & 6.406589e-06\\\\\n",
       "\t COL6A1   &  1.178982 & 9.138987e-06\\\\\n",
       "\t ADAMTS3  &  1.151897 & 1.663331e-05\\\\\n",
       "\t FGF2     &  1.405191 & 1.804998e-05\\\\\n",
       "\t TNXB     &  1.451771 & 2.057790e-05\\\\\n",
       "\t ADAM12   &  1.214751 & 2.196040e-05\\\\\n",
       "\t MMP19    &  1.072596 & 2.236781e-05\\\\\n",
       "\t LAMA1    &  1.129013 & 2.263153e-05\\\\\n",
       "\t COL6A2   &  1.096791 & 2.534250e-05\\\\\n",
       "\t ADAMTS1  &  1.331751 & 3.301508e-05\\\\\n",
       "\t BMP2     &  1.445242 & 5.388258e-05\\\\\n",
       "\t DCN      &  1.140829 & 7.960139e-05\\\\\n",
       "\t CAPN6    &  1.739471 & 1.284745e-04\\\\\n",
       "\t TNC      &  1.274523 & 1.316011e-04\\\\\n",
       "\t COL25A1  &  1.487162 & 1.815876e-04\\\\\n",
       "\t COL5A2   &  1.157444 & 2.188408e-04\\\\\n",
       "\t ADAMTS16 &  1.734161 & 2.218534e-04\\\\\n",
       "\t NCAM1    &  1.355264 & 2.409402e-04\\\\\n",
       "\t CTSG     &  1.819214 & 2.410059e-04\\\\\n",
       "\t FBN1     &  1.117173 & 2.653468e-04\\\\\n",
       "\t COL17A1  &  1.562844 & 3.785094e-04\\\\\n",
       "\t COL5A1   &  1.102080 & 5.242501e-04\\\\\n",
       "\t CMA1     &  1.922716 & 8.486344e-04\\\\\n",
       "\t COL22A1  & -1.059675 & 9.038671e-04\\\\\n",
       "\t ITGA8    &  1.081021 & 1.103558e-03\\\\\n",
       "\t COL6A6   &  1.417725 & 3.171429e-03\\\\\n",
       "\t IBSP     & -1.400558 & 3.985312e-03\\\\\n",
       "\t MMP1     & -1.578872 & 5.013338e-03\\\\\n",
       "\t COL8A1   &  1.013231 & 5.634457e-03\\\\\n",
       "\t MMP3     &  1.258181 & 6.554747e-03\\\\\n",
       "\t COL1A2   &  1.662282 & 7.412082e-03\\\\\n",
       "\t COL3A1   &  1.606619 & 8.125883e-03\\\\\n",
       "\t ASPN     &  1.049797 & 8.277335e-03\\\\\n",
       "\t COL1A1   &  1.694849 & 8.849516e-03\\\\\n",
       "\t GDF5     &  1.013854 & 3.173423e-02\\\\\n",
       "\\end{tabular}\n"
      ],
      "text/markdown": [
       "\n",
       "A data.frame: 49 × 3\n",
       "\n",
       "| external_gene_id &lt;chr&gt; | log2FoldChange &lt;dbl&gt; | padj &lt;dbl&gt; |\n",
       "|---|---|---|\n",
       "| COL14A1  |  2.380865 | 3.694669e-23 |\n",
       "| MFAP4    |  2.318864 | 1.671580e-17 |\n",
       "| ELN      |  1.997073 | 2.847689e-14 |\n",
       "| LAMA2    |  1.560029 | 2.638210e-13 |\n",
       "| MMP2     |  1.716964 | 1.209227e-09 |\n",
       "| ADAMTS5  |  1.185043 | 7.315872e-09 |\n",
       "| FBLN1    |  1.592054 | 9.624708e-09 |\n",
       "| COL6A3   |  1.460533 | 1.003136e-06 |\n",
       "| MMP16    |  1.213761 | 1.021772e-06 |\n",
       "| LRP4     |  1.022848 | 1.520860e-06 |\n",
       "| SERPINE1 |  1.988166 | 1.637581e-06 |\n",
       "| COL16A1  |  1.009841 | 1.691398e-06 |\n",
       "| FBLN2    |  1.061852 | 3.153822e-06 |\n",
       "| HTRA1    |  1.133277 | 5.131357e-06 |\n",
       "| SCUBE1   | -1.657796 | 6.406589e-06 |\n",
       "| COL6A1   |  1.178982 | 9.138987e-06 |\n",
       "| ADAMTS3  |  1.151897 | 1.663331e-05 |\n",
       "| FGF2     |  1.405191 | 1.804998e-05 |\n",
       "| TNXB     |  1.451771 | 2.057790e-05 |\n",
       "| ADAM12   |  1.214751 | 2.196040e-05 |\n",
       "| MMP19    |  1.072596 | 2.236781e-05 |\n",
       "| LAMA1    |  1.129013 | 2.263153e-05 |\n",
       "| COL6A2   |  1.096791 | 2.534250e-05 |\n",
       "| ADAMTS1  |  1.331751 | 3.301508e-05 |\n",
       "| BMP2     |  1.445242 | 5.388258e-05 |\n",
       "| DCN      |  1.140829 | 7.960139e-05 |\n",
       "| CAPN6    |  1.739471 | 1.284745e-04 |\n",
       "| TNC      |  1.274523 | 1.316011e-04 |\n",
       "| COL25A1  |  1.487162 | 1.815876e-04 |\n",
       "| COL5A2   |  1.157444 | 2.188408e-04 |\n",
       "| ADAMTS16 |  1.734161 | 2.218534e-04 |\n",
       "| NCAM1    |  1.355264 | 2.409402e-04 |\n",
       "| CTSG     |  1.819214 | 2.410059e-04 |\n",
       "| FBN1     |  1.117173 | 2.653468e-04 |\n",
       "| COL17A1  |  1.562844 | 3.785094e-04 |\n",
       "| COL5A1   |  1.102080 | 5.242501e-04 |\n",
       "| CMA1     |  1.922716 | 8.486344e-04 |\n",
       "| COL22A1  | -1.059675 | 9.038671e-04 |\n",
       "| ITGA8    |  1.081021 | 1.103558e-03 |\n",
       "| COL6A6   |  1.417725 | 3.171429e-03 |\n",
       "| IBSP     | -1.400558 | 3.985312e-03 |\n",
       "| MMP1     | -1.578872 | 5.013338e-03 |\n",
       "| COL8A1   |  1.013231 | 5.634457e-03 |\n",
       "| MMP3     |  1.258181 | 6.554747e-03 |\n",
       "| COL1A2   |  1.662282 | 7.412082e-03 |\n",
       "| COL3A1   |  1.606619 | 8.125883e-03 |\n",
       "| ASPN     |  1.049797 | 8.277335e-03 |\n",
       "| COL1A1   |  1.694849 | 8.849516e-03 |\n",
       "| GDF5     |  1.013854 | 3.173423e-02 |\n",
       "\n"
      ],
      "text/plain": [
       "   external_gene_id log2FoldChange padj        \n",
       "1  COL14A1           2.380865      3.694669e-23\n",
       "2  MFAP4             2.318864      1.671580e-17\n",
       "3  ELN               1.997073      2.847689e-14\n",
       "4  LAMA2             1.560029      2.638210e-13\n",
       "5  MMP2              1.716964      1.209227e-09\n",
       "6  ADAMTS5           1.185043      7.315872e-09\n",
       "7  FBLN1             1.592054      9.624708e-09\n",
       "8  COL6A3            1.460533      1.003136e-06\n",
       "9  MMP16             1.213761      1.021772e-06\n",
       "10 LRP4              1.022848      1.520860e-06\n",
       "11 SERPINE1          1.988166      1.637581e-06\n",
       "12 COL16A1           1.009841      1.691398e-06\n",
       "13 FBLN2             1.061852      3.153822e-06\n",
       "14 HTRA1             1.133277      5.131357e-06\n",
       "15 SCUBE1           -1.657796      6.406589e-06\n",
       "16 COL6A1            1.178982      9.138987e-06\n",
       "17 ADAMTS3           1.151897      1.663331e-05\n",
       "18 FGF2              1.405191      1.804998e-05\n",
       "19 TNXB              1.451771      2.057790e-05\n",
       "20 ADAM12            1.214751      2.196040e-05\n",
       "21 MMP19             1.072596      2.236781e-05\n",
       "22 LAMA1             1.129013      2.263153e-05\n",
       "23 COL6A2            1.096791      2.534250e-05\n",
       "24 ADAMTS1           1.331751      3.301508e-05\n",
       "25 BMP2              1.445242      5.388258e-05\n",
       "26 DCN               1.140829      7.960139e-05\n",
       "27 CAPN6             1.739471      1.284745e-04\n",
       "28 TNC               1.274523      1.316011e-04\n",
       "29 COL25A1           1.487162      1.815876e-04\n",
       "30 COL5A2            1.157444      2.188408e-04\n",
       "31 ADAMTS16          1.734161      2.218534e-04\n",
       "32 NCAM1             1.355264      2.409402e-04\n",
       "33 CTSG              1.819214      2.410059e-04\n",
       "34 FBN1              1.117173      2.653468e-04\n",
       "35 COL17A1           1.562844      3.785094e-04\n",
       "36 COL5A1            1.102080      5.242501e-04\n",
       "37 CMA1              1.922716      8.486344e-04\n",
       "38 COL22A1          -1.059675      9.038671e-04\n",
       "39 ITGA8             1.081021      1.103558e-03\n",
       "40 COL6A6            1.417725      3.171429e-03\n",
       "41 IBSP             -1.400558      3.985312e-03\n",
       "42 MMP1             -1.578872      5.013338e-03\n",
       "43 COL8A1            1.013231      5.634457e-03\n",
       "44 MMP3              1.258181      6.554747e-03\n",
       "45 COL1A2            1.662282      7.412082e-03\n",
       "46 COL3A1            1.606619      8.125883e-03\n",
       "47 ASPN              1.049797      8.277335e-03\n",
       "48 COL1A1            1.694849      8.849516e-03\n",
       "49 GDF5              1.013854      3.173423e-02"
      ]
     },
     "metadata": {},
     "output_type": "display_data"
    }
   ],
   "source": [
    "as.data.frame(tmp)  %>% dplyr::select(external_gene_id,log2FoldChange,padj)"
   ]
  },
  {
   "cell_type": "markdown",
   "id": "32888d69",
   "metadata": {},
   "source": [
    "# GSEA"
   ]
  },
  {
   "cell_type": "code",
   "execution_count": 25,
   "id": "8cb4b354",
   "metadata": {
    "vscode": {
     "languageId": "r"
    }
   },
   "outputs": [
    {
     "data": {
      "text/html": [
       "<table class=\"dataframe\">\n",
       "<caption>A tibble: 23 × 3</caption>\n",
       "<thead>\n",
       "\t<tr><th scope=col>gs_cat</th><th scope=col>gs_subcat</th><th scope=col>num_genesets</th></tr>\n",
       "\t<tr><th scope=col>&lt;chr&gt;</th><th scope=col>&lt;chr&gt;</th><th scope=col>&lt;int&gt;</th></tr>\n",
       "</thead>\n",
       "<tbody>\n",
       "\t<tr><td>C1</td><td>               </td><td> 299</td></tr>\n",
       "\t<tr><td>C2</td><td>CGP            </td><td>3384</td></tr>\n",
       "\t<tr><td>C2</td><td>CP             </td><td>  29</td></tr>\n",
       "\t<tr><td>C2</td><td>CP:BIOCARTA    </td><td> 292</td></tr>\n",
       "\t<tr><td>C2</td><td>CP:KEGG        </td><td> 186</td></tr>\n",
       "\t<tr><td>C2</td><td>CP:PID         </td><td> 196</td></tr>\n",
       "\t<tr><td>C2</td><td>CP:REACTOME    </td><td>1615</td></tr>\n",
       "\t<tr><td>C2</td><td>CP:WIKIPATHWAYS</td><td> 664</td></tr>\n",
       "\t<tr><td>C3</td><td>MIR:MIRDB      </td><td>2377</td></tr>\n",
       "\t<tr><td>C3</td><td>MIR:MIR_Legacy </td><td> 221</td></tr>\n",
       "\t<tr><td>C3</td><td>TFT:GTRD       </td><td> 518</td></tr>\n",
       "\t<tr><td>C3</td><td>TFT:TFT_Legacy </td><td> 610</td></tr>\n",
       "\t<tr><td>C4</td><td>CGN            </td><td> 427</td></tr>\n",
       "\t<tr><td>C4</td><td>CM             </td><td> 431</td></tr>\n",
       "\t<tr><td>C5</td><td>GO:BP          </td><td>7658</td></tr>\n",
       "\t<tr><td>C5</td><td>GO:CC          </td><td>1006</td></tr>\n",
       "\t<tr><td>C5</td><td>GO:MF          </td><td>1738</td></tr>\n",
       "\t<tr><td>C5</td><td>HPO            </td><td>5071</td></tr>\n",
       "\t<tr><td>C6</td><td>               </td><td> 189</td></tr>\n",
       "\t<tr><td>C7</td><td>IMMUNESIGDB    </td><td>4872</td></tr>\n",
       "\t<tr><td>C7</td><td>VAX            </td><td> 347</td></tr>\n",
       "\t<tr><td>C8</td><td>               </td><td> 700</td></tr>\n",
       "\t<tr><td>H </td><td>               </td><td>  50</td></tr>\n",
       "</tbody>\n",
       "</table>\n"
      ],
      "text/latex": [
       "A tibble: 23 × 3\n",
       "\\begin{tabular}{lll}\n",
       " gs\\_cat & gs\\_subcat & num\\_genesets\\\\\n",
       " <chr> & <chr> & <int>\\\\\n",
       "\\hline\n",
       "\t C1 &                 &  299\\\\\n",
       "\t C2 & CGP             & 3384\\\\\n",
       "\t C2 & CP              &   29\\\\\n",
       "\t C2 & CP:BIOCARTA     &  292\\\\\n",
       "\t C2 & CP:KEGG         &  186\\\\\n",
       "\t C2 & CP:PID          &  196\\\\\n",
       "\t C2 & CP:REACTOME     & 1615\\\\\n",
       "\t C2 & CP:WIKIPATHWAYS &  664\\\\\n",
       "\t C3 & MIR:MIRDB       & 2377\\\\\n",
       "\t C3 & MIR:MIR\\_Legacy  &  221\\\\\n",
       "\t C3 & TFT:GTRD        &  518\\\\\n",
       "\t C3 & TFT:TFT\\_Legacy  &  610\\\\\n",
       "\t C4 & CGN             &  427\\\\\n",
       "\t C4 & CM              &  431\\\\\n",
       "\t C5 & GO:BP           & 7658\\\\\n",
       "\t C5 & GO:CC           & 1006\\\\\n",
       "\t C5 & GO:MF           & 1738\\\\\n",
       "\t C5 & HPO             & 5071\\\\\n",
       "\t C6 &                 &  189\\\\\n",
       "\t C7 & IMMUNESIGDB     & 4872\\\\\n",
       "\t C7 & VAX             &  347\\\\\n",
       "\t C8 &                 &  700\\\\\n",
       "\t H  &                 &   50\\\\\n",
       "\\end{tabular}\n"
      ],
      "text/markdown": [
       "\n",
       "A tibble: 23 × 3\n",
       "\n",
       "| gs_cat &lt;chr&gt; | gs_subcat &lt;chr&gt; | num_genesets &lt;int&gt; |\n",
       "|---|---|---|\n",
       "| C1 | <!----> |  299 |\n",
       "| C2 | CGP             | 3384 |\n",
       "| C2 | CP              |   29 |\n",
       "| C2 | CP:BIOCARTA     |  292 |\n",
       "| C2 | CP:KEGG         |  186 |\n",
       "| C2 | CP:PID          |  196 |\n",
       "| C2 | CP:REACTOME     | 1615 |\n",
       "| C2 | CP:WIKIPATHWAYS |  664 |\n",
       "| C3 | MIR:MIRDB       | 2377 |\n",
       "| C3 | MIR:MIR_Legacy  |  221 |\n",
       "| C3 | TFT:GTRD        |  518 |\n",
       "| C3 | TFT:TFT_Legacy  |  610 |\n",
       "| C4 | CGN             |  427 |\n",
       "| C4 | CM              |  431 |\n",
       "| C5 | GO:BP           | 7658 |\n",
       "| C5 | GO:CC           | 1006 |\n",
       "| C5 | GO:MF           | 1738 |\n",
       "| C5 | HPO             | 5071 |\n",
       "| C6 | <!----> |  189 |\n",
       "| C7 | IMMUNESIGDB     | 4872 |\n",
       "| C7 | VAX             |  347 |\n",
       "| C8 | <!----> |  700 |\n",
       "| H  | <!----> |   50 |\n",
       "\n"
      ],
      "text/plain": [
       "   gs_cat gs_subcat       num_genesets\n",
       "1  C1                      299        \n",
       "2  C2     CGP             3384        \n",
       "3  C2     CP                29        \n",
       "4  C2     CP:BIOCARTA      292        \n",
       "5  C2     CP:KEGG          186        \n",
       "6  C2     CP:PID           196        \n",
       "7  C2     CP:REACTOME     1615        \n",
       "8  C2     CP:WIKIPATHWAYS  664        \n",
       "9  C3     MIR:MIRDB       2377        \n",
       "10 C3     MIR:MIR_Legacy   221        \n",
       "11 C3     TFT:GTRD         518        \n",
       "12 C3     TFT:TFT_Legacy   610        \n",
       "13 C4     CGN              427        \n",
       "14 C4     CM               431        \n",
       "15 C5     GO:BP           7658        \n",
       "16 C5     GO:CC           1006        \n",
       "17 C5     GO:MF           1738        \n",
       "18 C5     HPO             5071        \n",
       "19 C6                      189        \n",
       "20 C7     IMMUNESIGDB     4872        \n",
       "21 C7     VAX              347        \n",
       "22 C8                      700        \n",
       "23 H                        50        "
      ]
     },
     "metadata": {},
     "output_type": "display_data"
    }
   ],
   "source": [
    "msigdbr_collections()"
   ]
  },
  {
   "cell_type": "code",
   "execution_count": 26,
   "id": "12ba621f",
   "metadata": {
    "vscode": {
     "languageId": "r"
    }
   },
   "outputs": [],
   "source": [
    "msigdb_genes <- msigdbr(species = \"Homo sapiens\", category = \"C2\", subcategory = \"CP:REACTOME\")  # Hallmark pathways\n",
    "pathways <- split(msigdb_genes$ensembl_gene, msigdb_genes$gs_name)"
   ]
  },
  {
   "cell_type": "code",
   "execution_count": 27,
   "id": "6ebfd0f4",
   "metadata": {
    "vscode": {
     "languageId": "r"
    }
   },
   "outputs": [
    {
     "data": {
      "text/html": [
       "<table class=\"dataframe\">\n",
       "<caption>A tibble: 2 × 15</caption>\n",
       "<thead>\n",
       "\t<tr><th scope=col>gs_cat</th><th scope=col>gs_subcat</th><th scope=col>gs_name</th><th scope=col>gene_symbol</th><th scope=col>entrez_gene</th><th scope=col>ensembl_gene</th><th scope=col>human_gene_symbol</th><th scope=col>human_entrez_gene</th><th scope=col>human_ensembl_gene</th><th scope=col>gs_id</th><th scope=col>gs_pmid</th><th scope=col>gs_geoid</th><th scope=col>gs_exact_source</th><th scope=col>gs_url</th><th scope=col>gs_description</th></tr>\n",
       "\t<tr><th scope=col>&lt;chr&gt;</th><th scope=col>&lt;chr&gt;</th><th scope=col>&lt;chr&gt;</th><th scope=col>&lt;chr&gt;</th><th scope=col>&lt;int&gt;</th><th scope=col>&lt;chr&gt;</th><th scope=col>&lt;chr&gt;</th><th scope=col>&lt;int&gt;</th><th scope=col>&lt;chr&gt;</th><th scope=col>&lt;chr&gt;</th><th scope=col>&lt;chr&gt;</th><th scope=col>&lt;chr&gt;</th><th scope=col>&lt;chr&gt;</th><th scope=col>&lt;chr&gt;</th><th scope=col>&lt;chr&gt;</th></tr>\n",
       "</thead>\n",
       "<tbody>\n",
       "\t<tr><td>C2</td><td>CP:REACTOME</td><td>REACTOME_2_LTR_CIRCLE_FORMATION</td><td>BANF1</td><td>8815</td><td>ENSG00000175334</td><td>BANF1</td><td>8815</td><td>ENSG00000175334</td><td>M26996</td><td></td><td></td><td>R-HSA-164843</td><td>https://www.reactome.org/content/detail/R-HSA-164843|https://reactome.org/PathwayBrowser/#/R-HSA-164843</td><td>2-LTR circle formation</td></tr>\n",
       "\t<tr><td>C2</td><td>CP:REACTOME</td><td>REACTOME_2_LTR_CIRCLE_FORMATION</td><td>HMGA1</td><td>3159</td><td>ENSG00000137309</td><td>HMGA1</td><td>3159</td><td>ENSG00000137309</td><td>M26996</td><td></td><td></td><td>R-HSA-164843</td><td>https://www.reactome.org/content/detail/R-HSA-164843|https://reactome.org/PathwayBrowser/#/R-HSA-164843</td><td>2-LTR circle formation</td></tr>\n",
       "</tbody>\n",
       "</table>\n"
      ],
      "text/latex": [
       "A tibble: 2 × 15\n",
       "\\begin{tabular}{lllllllllllllll}\n",
       " gs\\_cat & gs\\_subcat & gs\\_name & gene\\_symbol & entrez\\_gene & ensembl\\_gene & human\\_gene\\_symbol & human\\_entrez\\_gene & human\\_ensembl\\_gene & gs\\_id & gs\\_pmid & gs\\_geoid & gs\\_exact\\_source & gs\\_url & gs\\_description\\\\\n",
       " <chr> & <chr> & <chr> & <chr> & <int> & <chr> & <chr> & <int> & <chr> & <chr> & <chr> & <chr> & <chr> & <chr> & <chr>\\\\\n",
       "\\hline\n",
       "\t C2 & CP:REACTOME & REACTOME\\_2\\_LTR\\_CIRCLE\\_FORMATION & BANF1 & 8815 & ENSG00000175334 & BANF1 & 8815 & ENSG00000175334 & M26996 &  &  & R-HSA-164843 & https://www.reactome.org/content/detail/R-HSA-164843\\textbar{}https://reactome.org/PathwayBrowser/\\#/R-HSA-164843 & 2-LTR circle formation\\\\\n",
       "\t C2 & CP:REACTOME & REACTOME\\_2\\_LTR\\_CIRCLE\\_FORMATION & HMGA1 & 3159 & ENSG00000137309 & HMGA1 & 3159 & ENSG00000137309 & M26996 &  &  & R-HSA-164843 & https://www.reactome.org/content/detail/R-HSA-164843\\textbar{}https://reactome.org/PathwayBrowser/\\#/R-HSA-164843 & 2-LTR circle formation\\\\\n",
       "\\end{tabular}\n"
      ],
      "text/markdown": [
       "\n",
       "A tibble: 2 × 15\n",
       "\n",
       "| gs_cat &lt;chr&gt; | gs_subcat &lt;chr&gt; | gs_name &lt;chr&gt; | gene_symbol &lt;chr&gt; | entrez_gene &lt;int&gt; | ensembl_gene &lt;chr&gt; | human_gene_symbol &lt;chr&gt; | human_entrez_gene &lt;int&gt; | human_ensembl_gene &lt;chr&gt; | gs_id &lt;chr&gt; | gs_pmid &lt;chr&gt; | gs_geoid &lt;chr&gt; | gs_exact_source &lt;chr&gt; | gs_url &lt;chr&gt; | gs_description &lt;chr&gt; |\n",
       "|---|---|---|---|---|---|---|---|---|---|---|---|---|---|---|\n",
       "| C2 | CP:REACTOME | REACTOME_2_LTR_CIRCLE_FORMATION | BANF1 | 8815 | ENSG00000175334 | BANF1 | 8815 | ENSG00000175334 | M26996 | <!----> | <!----> | R-HSA-164843 | https://www.reactome.org/content/detail/R-HSA-164843|https://reactome.org/PathwayBrowser/#/R-HSA-164843 | 2-LTR circle formation |\n",
       "| C2 | CP:REACTOME | REACTOME_2_LTR_CIRCLE_FORMATION | HMGA1 | 3159 | ENSG00000137309 | HMGA1 | 3159 | ENSG00000137309 | M26996 | <!----> | <!----> | R-HSA-164843 | https://www.reactome.org/content/detail/R-HSA-164843|https://reactome.org/PathwayBrowser/#/R-HSA-164843 | 2-LTR circle formation |\n",
       "\n"
      ],
      "text/plain": [
       "  gs_cat gs_subcat   gs_name                         gene_symbol entrez_gene\n",
       "1 C2     CP:REACTOME REACTOME_2_LTR_CIRCLE_FORMATION BANF1       8815       \n",
       "2 C2     CP:REACTOME REACTOME_2_LTR_CIRCLE_FORMATION HMGA1       3159       \n",
       "  ensembl_gene    human_gene_symbol human_entrez_gene human_ensembl_gene gs_id \n",
       "1 ENSG00000175334 BANF1             8815              ENSG00000175334    M26996\n",
       "2 ENSG00000137309 HMGA1             3159              ENSG00000137309    M26996\n",
       "  gs_pmid gs_geoid gs_exact_source\n",
       "1                  R-HSA-164843   \n",
       "2                  R-HSA-164843   \n",
       "  gs_url                                                                                                 \n",
       "1 https://www.reactome.org/content/detail/R-HSA-164843|https://reactome.org/PathwayBrowser/#/R-HSA-164843\n",
       "2 https://www.reactome.org/content/detail/R-HSA-164843|https://reactome.org/PathwayBrowser/#/R-HSA-164843\n",
       "  gs_description        \n",
       "1 2-LTR circle formation\n",
       "2 2-LTR circle formation"
      ]
     },
     "metadata": {},
     "output_type": "display_data"
    }
   ],
   "source": [
    "msigdb_genes  %>%  head(2)"
   ]
  },
  {
   "cell_type": "code",
   "execution_count": 28,
   "id": "a3251b58",
   "metadata": {
    "vscode": {
     "languageId": "r"
    }
   },
   "outputs": [],
   "source": [
    "resdata$pvalue[resdata$pvalue == 0] <- min(resdata$pvalue[resdata$pvalue > 0], na.rm = TRUE)"
   ]
  },
  {
   "cell_type": "code",
   "execution_count": 29,
   "id": "2f075bf4",
   "metadata": {
    "vscode": {
     "languageId": "r"
    }
   },
   "outputs": [
    {
     "data": {
      "text/html": [
       "<table class=\"dataframe\">\n",
       "<caption>A data.frame: 2 × 53</caption>\n",
       "<thead>\n",
       "\t<tr><th></th><th scope=col>external_gene_id</th><th scope=col>Gene</th><th scope=col>baseMean</th><th scope=col>log2FoldChange</th><th scope=col>lfcSE</th><th scope=col>stat</th><th scope=col>pvalue</th><th scope=col>padj</th><th scope=col>X3597_1_97_B_AACGTGAT</th><th scope=col>X3597_2_97_S_AAACATCG</th><th scope=col>⋯</th><th scope=col>X3597_36_3067_S_CCAGTTCA</th><th scope=col>X3597_37_3130_B_CCGAAGTA</th><th scope=col>X3597_38_3130_S_CCGTGAGA</th><th scope=col>X3597_39_3161_B_CCTCCTGA</th><th scope=col>X3597_40_3161_S_CGAACTTA</th><th scope=col>gene_biotype</th><th scope=col>chromosome_name</th><th scope=col>start_position</th><th scope=col>end_position</th><th scope=col>description</th></tr>\n",
       "\t<tr><th></th><th scope=col>&lt;chr&gt;</th><th scope=col>&lt;chr&gt;</th><th scope=col>&lt;dbl&gt;</th><th scope=col>&lt;dbl&gt;</th><th scope=col>&lt;dbl&gt;</th><th scope=col>&lt;dbl&gt;</th><th scope=col>&lt;dbl&gt;</th><th scope=col>&lt;dbl&gt;</th><th scope=col>&lt;dbl&gt;</th><th scope=col>&lt;dbl&gt;</th><th scope=col>⋯</th><th scope=col>&lt;dbl&gt;</th><th scope=col>&lt;dbl&gt;</th><th scope=col>&lt;dbl&gt;</th><th scope=col>&lt;dbl&gt;</th><th scope=col>&lt;dbl&gt;</th><th scope=col>&lt;chr&gt;</th><th scope=col>&lt;chr&gt;</th><th scope=col>&lt;int&gt;</th><th scope=col>&lt;int&gt;</th><th scope=col>&lt;chr&gt;</th></tr>\n",
       "</thead>\n",
       "<tbody>\n",
       "\t<tr><th scope=row>1</th><td>GEM    </td><td>ENSG00000164949</td><td> 894.2084</td><td>2.311746</td><td>0.1914985</td><td>12.07188</td><td>1.487038e-33</td><td>3.223006e-29</td><td> 90.46093</td><td> 574.3897</td><td>⋯</td><td> 2702.464</td><td> 326.7761</td><td> 1303.399</td><td> 434.4066</td><td> 1019.515</td><td>protein_coding</td><td>8</td><td> 95261481</td><td> 95274578</td><td>GTP binding protein overexpressed in skeletal muscle [Source:HGNC Symbol;Acc:4234]</td></tr>\n",
       "\t<tr><th scope=row>2</th><td>COL14A1</td><td>ENSG00000187955</td><td>6083.7069</td><td>2.380865</td><td>0.2204325</td><td>10.80088</td><td>3.409310e-27</td><td>3.694669e-23</td><td>534.98400</td><td>2415.7273</td><td>⋯</td><td>16354.389</td><td>6159.9034</td><td>23450.162</td><td>8017.1280</td><td>13701.972</td><td>protein_coding</td><td>8</td><td>121072019</td><td>121384275</td><td>collagen, type XIV, alpha 1 [Source:HGNC Symbol;Acc:2191]                         </td></tr>\n",
       "</tbody>\n",
       "</table>\n"
      ],
      "text/latex": [
       "A data.frame: 2 × 53\n",
       "\\begin{tabular}{r|lllllllllllllllllllll}\n",
       "  & external\\_gene\\_id & Gene & baseMean & log2FoldChange & lfcSE & stat & pvalue & padj & X3597\\_1\\_97\\_B\\_AACGTGAT & X3597\\_2\\_97\\_S\\_AAACATCG & ⋯ & X3597\\_36\\_3067\\_S\\_CCAGTTCA & X3597\\_37\\_3130\\_B\\_CCGAAGTA & X3597\\_38\\_3130\\_S\\_CCGTGAGA & X3597\\_39\\_3161\\_B\\_CCTCCTGA & X3597\\_40\\_3161\\_S\\_CGAACTTA & gene\\_biotype & chromosome\\_name & start\\_position & end\\_position & description\\\\\n",
       "  & <chr> & <chr> & <dbl> & <dbl> & <dbl> & <dbl> & <dbl> & <dbl> & <dbl> & <dbl> & ⋯ & <dbl> & <dbl> & <dbl> & <dbl> & <dbl> & <chr> & <chr> & <int> & <int> & <chr>\\\\\n",
       "\\hline\n",
       "\t1 & GEM     & ENSG00000164949 &  894.2084 & 2.311746 & 0.1914985 & 12.07188 & 1.487038e-33 & 3.223006e-29 &  90.46093 &  574.3897 & ⋯ &  2702.464 &  326.7761 &  1303.399 &  434.4066 &  1019.515 & protein\\_coding & 8 &  95261481 &  95274578 & GTP binding protein overexpressed in skeletal muscle {[}Source:HGNC Symbol;Acc:4234{]}\\\\\n",
       "\t2 & COL14A1 & ENSG00000187955 & 6083.7069 & 2.380865 & 0.2204325 & 10.80088 & 3.409310e-27 & 3.694669e-23 & 534.98400 & 2415.7273 & ⋯ & 16354.389 & 6159.9034 & 23450.162 & 8017.1280 & 13701.972 & protein\\_coding & 8 & 121072019 & 121384275 & collagen, type XIV, alpha 1 {[}Source:HGNC Symbol;Acc:2191{]}                         \\\\\n",
       "\\end{tabular}\n"
      ],
      "text/markdown": [
       "\n",
       "A data.frame: 2 × 53\n",
       "\n",
       "| <!--/--> | external_gene_id &lt;chr&gt; | Gene &lt;chr&gt; | baseMean &lt;dbl&gt; | log2FoldChange &lt;dbl&gt; | lfcSE &lt;dbl&gt; | stat &lt;dbl&gt; | pvalue &lt;dbl&gt; | padj &lt;dbl&gt; | X3597_1_97_B_AACGTGAT &lt;dbl&gt; | X3597_2_97_S_AAACATCG &lt;dbl&gt; | ⋯ ⋯ | X3597_36_3067_S_CCAGTTCA &lt;dbl&gt; | X3597_37_3130_B_CCGAAGTA &lt;dbl&gt; | X3597_38_3130_S_CCGTGAGA &lt;dbl&gt; | X3597_39_3161_B_CCTCCTGA &lt;dbl&gt; | X3597_40_3161_S_CGAACTTA &lt;dbl&gt; | gene_biotype &lt;chr&gt; | chromosome_name &lt;chr&gt; | start_position &lt;int&gt; | end_position &lt;int&gt; | description &lt;chr&gt; |\n",
       "|---|---|---|---|---|---|---|---|---|---|---|---|---|---|---|---|---|---|---|---|---|---|\n",
       "| 1 | GEM     | ENSG00000164949 |  894.2084 | 2.311746 | 0.1914985 | 12.07188 | 1.487038e-33 | 3.223006e-29 |  90.46093 |  574.3897 | ⋯ |  2702.464 |  326.7761 |  1303.399 |  434.4066 |  1019.515 | protein_coding | 8 |  95261481 |  95274578 | GTP binding protein overexpressed in skeletal muscle [Source:HGNC Symbol;Acc:4234] |\n",
       "| 2 | COL14A1 | ENSG00000187955 | 6083.7069 | 2.380865 | 0.2204325 | 10.80088 | 3.409310e-27 | 3.694669e-23 | 534.98400 | 2415.7273 | ⋯ | 16354.389 | 6159.9034 | 23450.162 | 8017.1280 | 13701.972 | protein_coding | 8 | 121072019 | 121384275 | collagen, type XIV, alpha 1 [Source:HGNC Symbol;Acc:2191]                          |\n",
       "\n"
      ],
      "text/plain": [
       "  external_gene_id Gene            baseMean  log2FoldChange lfcSE     stat    \n",
       "1 GEM              ENSG00000164949  894.2084 2.311746       0.1914985 12.07188\n",
       "2 COL14A1          ENSG00000187955 6083.7069 2.380865       0.2204325 10.80088\n",
       "  pvalue       padj         X3597_1_97_B_AACGTGAT X3597_2_97_S_AAACATCG ⋯\n",
       "1 1.487038e-33 3.223006e-29  90.46093              574.3897             ⋯\n",
       "2 3.409310e-27 3.694669e-23 534.98400             2415.7273             ⋯\n",
       "  X3597_36_3067_S_CCAGTTCA X3597_37_3130_B_CCGAAGTA X3597_38_3130_S_CCGTGAGA\n",
       "1  2702.464                 326.7761                 1303.399               \n",
       "2 16354.389                6159.9034                23450.162               \n",
       "  X3597_39_3161_B_CCTCCTGA X3597_40_3161_S_CGAACTTA gene_biotype  \n",
       "1  434.4066                 1019.515                protein_coding\n",
       "2 8017.1280                13701.972                protein_coding\n",
       "  chromosome_name start_position end_position\n",
       "1 8                95261481       95274578   \n",
       "2 8               121072019      121384275   \n",
       "  description                                                                       \n",
       "1 GTP binding protein overexpressed in skeletal muscle [Source:HGNC Symbol;Acc:4234]\n",
       "2 collagen, type XIV, alpha 1 [Source:HGNC Symbol;Acc:2191]                         "
      ]
     },
     "metadata": {},
     "output_type": "display_data"
    }
   ],
   "source": [
    "resdata  %>% head(2)"
   ]
  },
  {
   "cell_type": "code",
   "execution_count": null,
   "id": "924cfe86",
   "metadata": {
    "vscode": {
     "languageId": "r"
    }
   },
   "outputs": [],
   "source": [
    "#Combined Score used for ranking genes\n",
    "resdata$CS = sign(resdata$log2FoldChange) * -log10(resdata$pvalue) \n",
    "resdata$Rank <- rank(-resdata$CS)"
   ]
  },
  {
   "cell_type": "code",
   "execution_count": 31,
   "id": "0259501e",
   "metadata": {
    "vscode": {
     "languageId": "r"
    }
   },
   "outputs": [],
   "source": [
    "resdata = resdata[order(resdata$Rank),]"
   ]
  },
  {
   "cell_type": "code",
   "execution_count": 32,
   "id": "cb61a4e2",
   "metadata": {
    "vscode": {
     "languageId": "r"
    }
   },
   "outputs": [
    {
     "data": {
      "text/html": [
       "39117"
      ],
      "text/latex": [
       "39117"
      ],
      "text/markdown": [
       "39117"
      ],
      "text/plain": [
       "[1] 39117"
      ]
     },
     "metadata": {},
     "output_type": "display_data"
    }
   ],
   "source": [
    "stats <- resdata$CS\n",
    "names(stats) <- resdata$Gene\n",
    "length(stats)"
   ]
  },
  {
   "cell_type": "code",
   "execution_count": 33,
   "id": "1cc9253a",
   "metadata": {
    "vscode": {
     "languageId": "r"
    }
   },
   "outputs": [
    {
     "data": {
      "text/html": [
       "0"
      ],
      "text/latex": [
       "0"
      ],
      "text/markdown": [
       "0"
      ],
      "text/plain": [
       "[1] 0"
      ]
     },
     "metadata": {},
     "output_type": "display_data"
    },
    {
     "data": {
      "text/html": [
       "0"
      ],
      "text/latex": [
       "0"
      ],
      "text/markdown": [
       "0"
      ],
      "text/plain": [
       "[1] 0"
      ]
     },
     "metadata": {},
     "output_type": "display_data"
    },
    {
     "data": {
      "text/html": [
       "0"
      ],
      "text/latex": [
       "0"
      ],
      "text/markdown": [
       "0"
      ],
      "text/plain": [
       "[1] 0"
      ]
     },
     "metadata": {},
     "output_type": "display_data"
    }
   ],
   "source": [
    "sum(is.na(stats))    # Count NA values\n",
    "sum(is.nan(stats))   # Count NaN values\n",
    "sum(is.infinite(stats))  # Count Inf/-Inf values"
   ]
  },
  {
   "cell_type": "code",
   "execution_count": 34,
   "id": "e0c03a54",
   "metadata": {
    "vscode": {
     "languageId": "r"
    }
   },
   "outputs": [
    {
     "data": {
      "text/html": [
       "<strong>NA:</strong> &lt;NA&gt;"
      ],
      "text/latex": [
       "\\textbf{NA:} <NA>"
      ],
      "text/markdown": [
       "**NA:** &lt;NA&gt;"
      ],
      "text/plain": [
       "<NA> \n",
       "  NA "
      ]
     },
     "metadata": {},
     "output_type": "display_data"
    }
   ],
   "source": [
    "stats[is.na(stats)][1]"
   ]
  },
  {
   "cell_type": "code",
   "execution_count": 36,
   "id": "4ed2a5e4",
   "metadata": {
    "vscode": {
     "languageId": "r"
    }
   },
   "outputs": [],
   "source": [
    "stats[is.na(stats)] <- 0"
   ]
  },
  {
   "cell_type": "code",
   "execution_count": 37,
   "id": "0d32f956",
   "metadata": {
    "vscode": {
     "languageId": "r"
    }
   },
   "outputs": [
    {
     "name": "stderr",
     "output_type": "stream",
     "text": [
      "Warning message in preparePathwaysAndStats(pathways, stats, minSize, maxSize, gseaParam, :\n",
      "\"There are ties in the preranked stats (10.88% of the list).\n",
      "The order of those tied genes will be arbitrary, which may produce unexpected results.\"\n"
     ]
    }
   ],
   "source": [
    "# Perform GSEA\n",
    "fgsea_results <- fgseaMultilevel(pathways = pathways, stats = stats)"
   ]
  },
  {
   "cell_type": "code",
   "execution_count": 38,
   "id": "a94cbf3c",
   "metadata": {
    "vscode": {
     "languageId": "r"
    }
   },
   "outputs": [
    {
     "data": {
      "text/html": [
       "<table class=\"dataframe\">\n",
       "<caption>A data.table: 266 × 3</caption>\n",
       "<thead>\n",
       "\t<tr><th scope=col>pathway</th><th scope=col>padj</th><th scope=col>NES</th></tr>\n",
       "\t<tr><th scope=col>&lt;chr&gt;</th><th scope=col>&lt;dbl&gt;</th><th scope=col>&lt;dbl&gt;</th></tr>\n",
       "</thead>\n",
       "<tbody>\n",
       "\t<tr><td>REACTOME_TRANSLATION                                                                                                     </td><td>1.997053e-37</td><td>-2.582347</td></tr>\n",
       "\t<tr><td>REACTOME_RESPIRATORY_ELECTRON_TRANSPORT_ATP_SYNTHESIS_BY_CHEMIOSMOTIC_COUPLING_AND_HEAT_PRODUCTION_BY_UNCOUPLING_PROTEINS</td><td>1.468011e-19</td><td>-2.444255</td></tr>\n",
       "\t<tr><td>REACTOME_RESPIRATORY_ELECTRON_TRANSPORT                                                                                  </td><td>1.674767e-16</td><td>-2.395200</td></tr>\n",
       "\t<tr><td>REACTOME_DNA_REPLICATION                                                                                                 </td><td>7.459778e-19</td><td>-2.393308</td></tr>\n",
       "\t<tr><td>REACTOME_SRP_DEPENDENT_COTRANSLATIONAL_PROTEIN_TARGETING_TO_MEMBRANE                                                     </td><td>9.635000e-17</td><td>-2.386925</td></tr>\n",
       "\t<tr><td>REACTOME_SYNTHESIS_OF_DNA                                                                                                </td><td>1.713300e-16</td><td>-2.373351</td></tr>\n",
       "\t<tr><td>REACTOME_MITOCHONDRIAL_TRANSLATION                                                                                       </td><td>4.589651e-15</td><td>-2.360769</td></tr>\n",
       "\t<tr><td>REACTOME_EUKARYOTIC_TRANSLATION_INITIATION                                                                               </td><td>1.063231e-15</td><td>-2.347621</td></tr>\n",
       "\t<tr><td>REACTOME_RRNA_PROCESSING                                                                                                 </td><td>4.823510e-18</td><td>-2.346580</td></tr>\n",
       "\t<tr><td>REACTOME_EUKARYOTIC_TRANSLATION_ELONGATION                                                                               </td><td>8.677781e-14</td><td>-2.345217</td></tr>\n",
       "\t<tr><td>REACTOME_APC_C_MEDIATED_DEGRADATION_OF_CELL_CYCLE_PROTEINS                                                               </td><td>8.247092e-13</td><td>-2.337550</td></tr>\n",
       "\t<tr><td>REACTOME_G2_M_CHECKPOINTS                                                                                                </td><td>3.299752e-15</td><td>-2.296212</td></tr>\n",
       "\t<tr><td>REACTOME_THE_CITRIC_ACID_TCA_CYCLE_AND_RESPIRATORY_ELECTRON_TRANSPORT                                                    </td><td>1.760642e-15</td><td>-2.278307</td></tr>\n",
       "\t<tr><td>REACTOME_REGULATION_OF_EXPRESSION_OF_SLITS_AND_ROBOS                                                                     </td><td>1.864998e-14</td><td>-2.275805</td></tr>\n",
       "\t<tr><td>REACTOME_SWITCHING_OF_ORIGINS_TO_A_POST_REPLICATIVE_STATE                                                                </td><td>1.490001e-11</td><td>-2.275394</td></tr>\n",
       "\t<tr><td>REACTOME_DNA_REPLICATION_PRE_INITIATION                                                                                  </td><td>4.109916e-12</td><td>-2.264386</td></tr>\n",
       "\t<tr><td>REACTOME_CELL_CYCLE_CHECKPOINTS                                                                                          </td><td>4.381083e-18</td><td>-2.248917</td></tr>\n",
       "\t<tr><td>REACTOME_CHROMOSOME_MAINTENANCE                                                                                          </td><td>6.173966e-12</td><td>-2.236452</td></tr>\n",
       "\t<tr><td>REACTOME_SELENOAMINO_ACID_METABOLISM                                                                                     </td><td>6.075586e-11</td><td>-2.234532</td></tr>\n",
       "\t<tr><td>REACTOME_APC_C_CDH1_MEDIATED_DEGRADATION_OF_CDC20_AND_OTHER_APC_C_CDH1_TARGETED_PROTEINS_IN_LATE_MITOSIS_EARLY_G1        </td><td>7.965229e-11</td><td>-2.210722</td></tr>\n",
       "\t<tr><td>REACTOME_INFLUENZA_INFECTION                                                                                             </td><td>1.375704e-12</td><td>-2.208846</td></tr>\n",
       "\t<tr><td>REACTOME_NONSENSE_MEDIATED_DECAY_NMD                                                                                     </td><td>1.894286e-10</td><td>-2.203725</td></tr>\n",
       "\t<tr><td>REACTOME_RESPONSE_OF_EIF2AK4_GCN2_TO_AMINO_ACID_DEFICIENCY                                                               </td><td>3.402336e-09</td><td>-2.196281</td></tr>\n",
       "\t<tr><td>REACTOME_COMPLEX_I_BIOGENESIS                                                                                            </td><td>2.934160e-09</td><td>-2.182027</td></tr>\n",
       "\t<tr><td>REACTOME_MITOTIC_METAPHASE_AND_ANAPHASE                                                                                  </td><td>1.068881e-13</td><td>-2.176330</td></tr>\n",
       "\t<tr><td>REACTOME_METABOLISM_OF_RNA                                                                                               </td><td>2.869682e-30</td><td>-2.164697</td></tr>\n",
       "\t<tr><td>REACTOME_SEPARATION_OF_SISTER_CHROMATIDS                                                                                 </td><td>6.173966e-12</td><td>-2.153289</td></tr>\n",
       "\t<tr><td>REACTOME_ORC1_REMOVAL_FROM_CHROMATIN                                                                                     </td><td>6.658641e-09</td><td>-2.134333</td></tr>\n",
       "\t<tr><td>REACTOME_CELL_CYCLE                                                                                                      </td><td>2.146786e-27</td><td>-2.132409</td></tr>\n",
       "\t<tr><td>REACTOME_S_PHASE                                                                                                         </td><td>6.100901e-11</td><td>-2.131201</td></tr>\n",
       "\t<tr><td>⋮</td><td>⋮</td><td>⋮</td></tr>\n",
       "\t<tr><td>REACTOME_RUNX2_REGULATES_BONE_DEVELOPMENT                                                                                       </td><td>8.614660e-03</td><td>1.700208</td></tr>\n",
       "\t<tr><td>REACTOME_SIGNALING_BY_TYPE_1_INSULIN_LIKE_GROWTH_FACTOR_1_RECEPTOR_IGF1R                                                        </td><td>3.470927e-03</td><td>1.700376</td></tr>\n",
       "\t<tr><td>REACTOME_CELL_JUNCTION_ORGANIZATION                                                                                             </td><td>1.332320e-03</td><td>1.714325</td></tr>\n",
       "\t<tr><td>REACTOME_SIGNALING_BY_RECEPTOR_TYROSINE_KINASES                                                                                 </td><td>1.230727e-09</td><td>1.719474</td></tr>\n",
       "\t<tr><td>REACTOME_CIRCADIAN_CLOCK                                                                                                        </td><td>1.182178e-03</td><td>1.730670</td></tr>\n",
       "\t<tr><td>REACTOME_SIGNALING_BY_PDGF                                                                                                      </td><td>1.730660e-03</td><td>1.746111</td></tr>\n",
       "\t<tr><td>REACTOME_INTEGRIN_CELL_SURFACE_INTERACTIONS                                                                                     </td><td>7.609474e-04</td><td>1.753956</td></tr>\n",
       "\t<tr><td>REACTOME_MET_ACTIVATES_PTK2_SIGNALING                                                                                           </td><td>1.792792e-03</td><td>1.754685</td></tr>\n",
       "\t<tr><td>REACTOME_O_GLYCOSYLATION_OF_TSR_DOMAIN_CONTAINING_PROTEINS                                                                      </td><td>1.055763e-03</td><td>1.769265</td></tr>\n",
       "\t<tr><td>REACTOME_HEME_SIGNALING                                                                                                         </td><td>2.209089e-03</td><td>1.769593</td></tr>\n",
       "\t<tr><td>REACTOME_COLLAGEN_CHAIN_TRIMERIZATION                                                                                           </td><td>1.877866e-03</td><td>1.778417</td></tr>\n",
       "\t<tr><td>REACTOME_LAMININ_INTERACTIONS                                                                                                   </td><td>9.357701e-04</td><td>1.778853</td></tr>\n",
       "\t<tr><td>REACTOME_CELL_CELL_COMMUNICATION                                                                                                </td><td>8.296103e-05</td><td>1.779626</td></tr>\n",
       "\t<tr><td>REACTOME_DISEASES_OF_GLYCOSYLATION                                                                                              </td><td>2.637413e-05</td><td>1.780764</td></tr>\n",
       "\t<tr><td>REACTOME_DISEASES_ASSOCIATED_WITH_GLYCOSAMINOGLYCAN_METABOLISM                                                                  </td><td>1.647979e-03</td><td>1.785250</td></tr>\n",
       "\t<tr><td>REACTOME_DISEASES_ASSOCIATED_WITH_O_GLYCOSYLATION_OF_PROTEINS                                                                   </td><td>4.794021e-04</td><td>1.785639</td></tr>\n",
       "\t<tr><td>REACTOME_MET_PROMOTES_CELL_MOTILITY                                                                                             </td><td>1.518515e-03</td><td>1.790209</td></tr>\n",
       "\t<tr><td>REACTOME_GLYCOSAMINOGLYCAN_METABOLISM                                                                                           </td><td>2.979468e-05</td><td>1.813645</td></tr>\n",
       "\t<tr><td>REACTOME_COLLAGEN_DEGRADATION                                                                                                   </td><td>8.143387e-05</td><td>1.828274</td></tr>\n",
       "\t<tr><td>REACTOME_ASSEMBLY_OF_COLLAGEN_FIBRILS_AND_OTHER_MULTIMERIC_STRUCTURES                                                           </td><td>1.529247e-05</td><td>1.859802</td></tr>\n",
       "\t<tr><td>REACTOME_MOLECULES_ASSOCIATED_WITH_ELASTIC_FIBRES                                                                               </td><td>4.189511e-05</td><td>1.860381</td></tr>\n",
       "\t<tr><td>REACTOME_COLLAGEN_BIOSYNTHESIS_AND_MODIFYING_ENZYMES                                                                            </td><td>2.419454e-05</td><td>1.875279</td></tr>\n",
       "\t<tr><td>REACTOME_NON_INTEGRIN_MEMBRANE_ECM_INTERACTIONS                                                                                 </td><td>5.408121e-05</td><td>1.877819</td></tr>\n",
       "\t<tr><td>REACTOME_REGULATION_OF_INSULIN_LIKE_GROWTH_FACTOR_IGF_TRANSPORT_AND_UPTAKE_BY_INSULIN_LIKE_GROWTH_FACTOR_BINDING_PROTEINS_IGFBPS</td><td>2.050993e-06</td><td>1.883078</td></tr>\n",
       "\t<tr><td>REACTOME_DEGRADATION_OF_THE_EXTRACELLULAR_MATRIX                                                                                </td><td>3.566938e-07</td><td>1.888276</td></tr>\n",
       "\t<tr><td>REACTOME_O_LINKED_GLYCOSYLATION                                                                                                 </td><td>1.958171e-06</td><td>1.890565</td></tr>\n",
       "\t<tr><td>REACTOME_COLLAGEN_FORMATION                                                                                                     </td><td>1.958171e-06</td><td>1.903385</td></tr>\n",
       "\t<tr><td>REACTOME_ELASTIC_FIBRE_FORMATION                                                                                                </td><td>9.741042e-06</td><td>1.917492</td></tr>\n",
       "\t<tr><td>REACTOME_ECM_PROTEOGLYCANS                                                                                                      </td><td>3.465917e-07</td><td>1.957600</td></tr>\n",
       "\t<tr><td>REACTOME_EXTRACELLULAR_MATRIX_ORGANIZATION                                                                                      </td><td>1.377873e-18</td><td>2.066281</td></tr>\n",
       "</tbody>\n",
       "</table>\n"
      ],
      "text/latex": [
       "A data.table: 266 × 3\n",
       "\\begin{tabular}{lll}\n",
       " pathway & padj & NES\\\\\n",
       " <chr> & <dbl> & <dbl>\\\\\n",
       "\\hline\n",
       "\t REACTOME\\_TRANSLATION                                                                                                      & 1.997053e-37 & -2.582347\\\\\n",
       "\t REACTOME\\_RESPIRATORY\\_ELECTRON\\_TRANSPORT\\_ATP\\_SYNTHESIS\\_BY\\_CHEMIOSMOTIC\\_COUPLING\\_AND\\_HEAT\\_PRODUCTION\\_BY\\_UNCOUPLING\\_PROTEINS & 1.468011e-19 & -2.444255\\\\\n",
       "\t REACTOME\\_RESPIRATORY\\_ELECTRON\\_TRANSPORT                                                                                   & 1.674767e-16 & -2.395200\\\\\n",
       "\t REACTOME\\_DNA\\_REPLICATION                                                                                                  & 7.459778e-19 & -2.393308\\\\\n",
       "\t REACTOME\\_SRP\\_DEPENDENT\\_COTRANSLATIONAL\\_PROTEIN\\_TARGETING\\_TO\\_MEMBRANE                                                      & 9.635000e-17 & -2.386925\\\\\n",
       "\t REACTOME\\_SYNTHESIS\\_OF\\_DNA                                                                                                 & 1.713300e-16 & -2.373351\\\\\n",
       "\t REACTOME\\_MITOCHONDRIAL\\_TRANSLATION                                                                                        & 4.589651e-15 & -2.360769\\\\\n",
       "\t REACTOME\\_EUKARYOTIC\\_TRANSLATION\\_INITIATION                                                                                & 1.063231e-15 & -2.347621\\\\\n",
       "\t REACTOME\\_RRNA\\_PROCESSING                                                                                                  & 4.823510e-18 & -2.346580\\\\\n",
       "\t REACTOME\\_EUKARYOTIC\\_TRANSLATION\\_ELONGATION                                                                                & 8.677781e-14 & -2.345217\\\\\n",
       "\t REACTOME\\_APC\\_C\\_MEDIATED\\_DEGRADATION\\_OF\\_CELL\\_CYCLE\\_PROTEINS                                                                & 8.247092e-13 & -2.337550\\\\\n",
       "\t REACTOME\\_G2\\_M\\_CHECKPOINTS                                                                                                 & 3.299752e-15 & -2.296212\\\\\n",
       "\t REACTOME\\_THE\\_CITRIC\\_ACID\\_TCA\\_CYCLE\\_AND\\_RESPIRATORY\\_ELECTRON\\_TRANSPORT                                                     & 1.760642e-15 & -2.278307\\\\\n",
       "\t REACTOME\\_REGULATION\\_OF\\_EXPRESSION\\_OF\\_SLITS\\_AND\\_ROBOS                                                                      & 1.864998e-14 & -2.275805\\\\\n",
       "\t REACTOME\\_SWITCHING\\_OF\\_ORIGINS\\_TO\\_A\\_POST\\_REPLICATIVE\\_STATE                                                                 & 1.490001e-11 & -2.275394\\\\\n",
       "\t REACTOME\\_DNA\\_REPLICATION\\_PRE\\_INITIATION                                                                                   & 4.109916e-12 & -2.264386\\\\\n",
       "\t REACTOME\\_CELL\\_CYCLE\\_CHECKPOINTS                                                                                           & 4.381083e-18 & -2.248917\\\\\n",
       "\t REACTOME\\_CHROMOSOME\\_MAINTENANCE                                                                                           & 6.173966e-12 & -2.236452\\\\\n",
       "\t REACTOME\\_SELENOAMINO\\_ACID\\_METABOLISM                                                                                      & 6.075586e-11 & -2.234532\\\\\n",
       "\t REACTOME\\_APC\\_C\\_CDH1\\_MEDIATED\\_DEGRADATION\\_OF\\_CDC20\\_AND\\_OTHER\\_APC\\_C\\_CDH1\\_TARGETED\\_PROTEINS\\_IN\\_LATE\\_MITOSIS\\_EARLY\\_G1         & 7.965229e-11 & -2.210722\\\\\n",
       "\t REACTOME\\_INFLUENZA\\_INFECTION                                                                                              & 1.375704e-12 & -2.208846\\\\\n",
       "\t REACTOME\\_NONSENSE\\_MEDIATED\\_DECAY\\_NMD                                                                                      & 1.894286e-10 & -2.203725\\\\\n",
       "\t REACTOME\\_RESPONSE\\_OF\\_EIF2AK4\\_GCN2\\_TO\\_AMINO\\_ACID\\_DEFICIENCY                                                                & 3.402336e-09 & -2.196281\\\\\n",
       "\t REACTOME\\_COMPLEX\\_I\\_BIOGENESIS                                                                                             & 2.934160e-09 & -2.182027\\\\\n",
       "\t REACTOME\\_MITOTIC\\_METAPHASE\\_AND\\_ANAPHASE                                                                                   & 1.068881e-13 & -2.176330\\\\\n",
       "\t REACTOME\\_METABOLISM\\_OF\\_RNA                                                                                                & 2.869682e-30 & -2.164697\\\\\n",
       "\t REACTOME\\_SEPARATION\\_OF\\_SISTER\\_CHROMATIDS                                                                                  & 6.173966e-12 & -2.153289\\\\\n",
       "\t REACTOME\\_ORC1\\_REMOVAL\\_FROM\\_CHROMATIN                                                                                      & 6.658641e-09 & -2.134333\\\\\n",
       "\t REACTOME\\_CELL\\_CYCLE                                                                                                       & 2.146786e-27 & -2.132409\\\\\n",
       "\t REACTOME\\_S\\_PHASE                                                                                                          & 6.100901e-11 & -2.131201\\\\\n",
       "\t ⋮ & ⋮ & ⋮\\\\\n",
       "\t REACTOME\\_RUNX2\\_REGULATES\\_BONE\\_DEVELOPMENT                                                                                        & 8.614660e-03 & 1.700208\\\\\n",
       "\t REACTOME\\_SIGNALING\\_BY\\_TYPE\\_1\\_INSULIN\\_LIKE\\_GROWTH\\_FACTOR\\_1\\_RECEPTOR\\_IGF1R                                                         & 3.470927e-03 & 1.700376\\\\\n",
       "\t REACTOME\\_CELL\\_JUNCTION\\_ORGANIZATION                                                                                              & 1.332320e-03 & 1.714325\\\\\n",
       "\t REACTOME\\_SIGNALING\\_BY\\_RECEPTOR\\_TYROSINE\\_KINASES                                                                                  & 1.230727e-09 & 1.719474\\\\\n",
       "\t REACTOME\\_CIRCADIAN\\_CLOCK                                                                                                         & 1.182178e-03 & 1.730670\\\\\n",
       "\t REACTOME\\_SIGNALING\\_BY\\_PDGF                                                                                                       & 1.730660e-03 & 1.746111\\\\\n",
       "\t REACTOME\\_INTEGRIN\\_CELL\\_SURFACE\\_INTERACTIONS                                                                                      & 7.609474e-04 & 1.753956\\\\\n",
       "\t REACTOME\\_MET\\_ACTIVATES\\_PTK2\\_SIGNALING                                                                                            & 1.792792e-03 & 1.754685\\\\\n",
       "\t REACTOME\\_O\\_GLYCOSYLATION\\_OF\\_TSR\\_DOMAIN\\_CONTAINING\\_PROTEINS                                                                       & 1.055763e-03 & 1.769265\\\\\n",
       "\t REACTOME\\_HEME\\_SIGNALING                                                                                                          & 2.209089e-03 & 1.769593\\\\\n",
       "\t REACTOME\\_COLLAGEN\\_CHAIN\\_TRIMERIZATION                                                                                            & 1.877866e-03 & 1.778417\\\\\n",
       "\t REACTOME\\_LAMININ\\_INTERACTIONS                                                                                                    & 9.357701e-04 & 1.778853\\\\\n",
       "\t REACTOME\\_CELL\\_CELL\\_COMMUNICATION                                                                                                 & 8.296103e-05 & 1.779626\\\\\n",
       "\t REACTOME\\_DISEASES\\_OF\\_GLYCOSYLATION                                                                                               & 2.637413e-05 & 1.780764\\\\\n",
       "\t REACTOME\\_DISEASES\\_ASSOCIATED\\_WITH\\_GLYCOSAMINOGLYCAN\\_METABOLISM                                                                   & 1.647979e-03 & 1.785250\\\\\n",
       "\t REACTOME\\_DISEASES\\_ASSOCIATED\\_WITH\\_O\\_GLYCOSYLATION\\_OF\\_PROTEINS                                                                    & 4.794021e-04 & 1.785639\\\\\n",
       "\t REACTOME\\_MET\\_PROMOTES\\_CELL\\_MOTILITY                                                                                              & 1.518515e-03 & 1.790209\\\\\n",
       "\t REACTOME\\_GLYCOSAMINOGLYCAN\\_METABOLISM                                                                                            & 2.979468e-05 & 1.813645\\\\\n",
       "\t REACTOME\\_COLLAGEN\\_DEGRADATION                                                                                                    & 8.143387e-05 & 1.828274\\\\\n",
       "\t REACTOME\\_ASSEMBLY\\_OF\\_COLLAGEN\\_FIBRILS\\_AND\\_OTHER\\_MULTIMERIC\\_STRUCTURES                                                            & 1.529247e-05 & 1.859802\\\\\n",
       "\t REACTOME\\_MOLECULES\\_ASSOCIATED\\_WITH\\_ELASTIC\\_FIBRES                                                                                & 4.189511e-05 & 1.860381\\\\\n",
       "\t REACTOME\\_COLLAGEN\\_BIOSYNTHESIS\\_AND\\_MODIFYING\\_ENZYMES                                                                             & 2.419454e-05 & 1.875279\\\\\n",
       "\t REACTOME\\_NON\\_INTEGRIN\\_MEMBRANE\\_ECM\\_INTERACTIONS                                                                                  & 5.408121e-05 & 1.877819\\\\\n",
       "\t REACTOME\\_REGULATION\\_OF\\_INSULIN\\_LIKE\\_GROWTH\\_FACTOR\\_IGF\\_TRANSPORT\\_AND\\_UPTAKE\\_BY\\_INSULIN\\_LIKE\\_GROWTH\\_FACTOR\\_BINDING\\_PROTEINS\\_IGFBPS & 2.050993e-06 & 1.883078\\\\\n",
       "\t REACTOME\\_DEGRADATION\\_OF\\_THE\\_EXTRACELLULAR\\_MATRIX                                                                                 & 3.566938e-07 & 1.888276\\\\\n",
       "\t REACTOME\\_O\\_LINKED\\_GLYCOSYLATION                                                                                                  & 1.958171e-06 & 1.890565\\\\\n",
       "\t REACTOME\\_COLLAGEN\\_FORMATION                                                                                                      & 1.958171e-06 & 1.903385\\\\\n",
       "\t REACTOME\\_ELASTIC\\_FIBRE\\_FORMATION                                                                                                 & 9.741042e-06 & 1.917492\\\\\n",
       "\t REACTOME\\_ECM\\_PROTEOGLYCANS                                                                                                       & 3.465917e-07 & 1.957600\\\\\n",
       "\t REACTOME\\_EXTRACELLULAR\\_MATRIX\\_ORGANIZATION                                                                                       & 1.377873e-18 & 2.066281\\\\\n",
       "\\end{tabular}\n"
      ],
      "text/markdown": [
       "\n",
       "A data.table: 266 × 3\n",
       "\n",
       "| pathway &lt;chr&gt; | padj &lt;dbl&gt; | NES &lt;dbl&gt; |\n",
       "|---|---|---|\n",
       "| REACTOME_TRANSLATION                                                                                                      | 1.997053e-37 | -2.582347 |\n",
       "| REACTOME_RESPIRATORY_ELECTRON_TRANSPORT_ATP_SYNTHESIS_BY_CHEMIOSMOTIC_COUPLING_AND_HEAT_PRODUCTION_BY_UNCOUPLING_PROTEINS | 1.468011e-19 | -2.444255 |\n",
       "| REACTOME_RESPIRATORY_ELECTRON_TRANSPORT                                                                                   | 1.674767e-16 | -2.395200 |\n",
       "| REACTOME_DNA_REPLICATION                                                                                                  | 7.459778e-19 | -2.393308 |\n",
       "| REACTOME_SRP_DEPENDENT_COTRANSLATIONAL_PROTEIN_TARGETING_TO_MEMBRANE                                                      | 9.635000e-17 | -2.386925 |\n",
       "| REACTOME_SYNTHESIS_OF_DNA                                                                                                 | 1.713300e-16 | -2.373351 |\n",
       "| REACTOME_MITOCHONDRIAL_TRANSLATION                                                                                        | 4.589651e-15 | -2.360769 |\n",
       "| REACTOME_EUKARYOTIC_TRANSLATION_INITIATION                                                                                | 1.063231e-15 | -2.347621 |\n",
       "| REACTOME_RRNA_PROCESSING                                                                                                  | 4.823510e-18 | -2.346580 |\n",
       "| REACTOME_EUKARYOTIC_TRANSLATION_ELONGATION                                                                                | 8.677781e-14 | -2.345217 |\n",
       "| REACTOME_APC_C_MEDIATED_DEGRADATION_OF_CELL_CYCLE_PROTEINS                                                                | 8.247092e-13 | -2.337550 |\n",
       "| REACTOME_G2_M_CHECKPOINTS                                                                                                 | 3.299752e-15 | -2.296212 |\n",
       "| REACTOME_THE_CITRIC_ACID_TCA_CYCLE_AND_RESPIRATORY_ELECTRON_TRANSPORT                                                     | 1.760642e-15 | -2.278307 |\n",
       "| REACTOME_REGULATION_OF_EXPRESSION_OF_SLITS_AND_ROBOS                                                                      | 1.864998e-14 | -2.275805 |\n",
       "| REACTOME_SWITCHING_OF_ORIGINS_TO_A_POST_REPLICATIVE_STATE                                                                 | 1.490001e-11 | -2.275394 |\n",
       "| REACTOME_DNA_REPLICATION_PRE_INITIATION                                                                                   | 4.109916e-12 | -2.264386 |\n",
       "| REACTOME_CELL_CYCLE_CHECKPOINTS                                                                                           | 4.381083e-18 | -2.248917 |\n",
       "| REACTOME_CHROMOSOME_MAINTENANCE                                                                                           | 6.173966e-12 | -2.236452 |\n",
       "| REACTOME_SELENOAMINO_ACID_METABOLISM                                                                                      | 6.075586e-11 | -2.234532 |\n",
       "| REACTOME_APC_C_CDH1_MEDIATED_DEGRADATION_OF_CDC20_AND_OTHER_APC_C_CDH1_TARGETED_PROTEINS_IN_LATE_MITOSIS_EARLY_G1         | 7.965229e-11 | -2.210722 |\n",
       "| REACTOME_INFLUENZA_INFECTION                                                                                              | 1.375704e-12 | -2.208846 |\n",
       "| REACTOME_NONSENSE_MEDIATED_DECAY_NMD                                                                                      | 1.894286e-10 | -2.203725 |\n",
       "| REACTOME_RESPONSE_OF_EIF2AK4_GCN2_TO_AMINO_ACID_DEFICIENCY                                                                | 3.402336e-09 | -2.196281 |\n",
       "| REACTOME_COMPLEX_I_BIOGENESIS                                                                                             | 2.934160e-09 | -2.182027 |\n",
       "| REACTOME_MITOTIC_METAPHASE_AND_ANAPHASE                                                                                   | 1.068881e-13 | -2.176330 |\n",
       "| REACTOME_METABOLISM_OF_RNA                                                                                                | 2.869682e-30 | -2.164697 |\n",
       "| REACTOME_SEPARATION_OF_SISTER_CHROMATIDS                                                                                  | 6.173966e-12 | -2.153289 |\n",
       "| REACTOME_ORC1_REMOVAL_FROM_CHROMATIN                                                                                      | 6.658641e-09 | -2.134333 |\n",
       "| REACTOME_CELL_CYCLE                                                                                                       | 2.146786e-27 | -2.132409 |\n",
       "| REACTOME_S_PHASE                                                                                                          | 6.100901e-11 | -2.131201 |\n",
       "| ⋮ | ⋮ | ⋮ |\n",
       "| REACTOME_RUNX2_REGULATES_BONE_DEVELOPMENT                                                                                        | 8.614660e-03 | 1.700208 |\n",
       "| REACTOME_SIGNALING_BY_TYPE_1_INSULIN_LIKE_GROWTH_FACTOR_1_RECEPTOR_IGF1R                                                         | 3.470927e-03 | 1.700376 |\n",
       "| REACTOME_CELL_JUNCTION_ORGANIZATION                                                                                              | 1.332320e-03 | 1.714325 |\n",
       "| REACTOME_SIGNALING_BY_RECEPTOR_TYROSINE_KINASES                                                                                  | 1.230727e-09 | 1.719474 |\n",
       "| REACTOME_CIRCADIAN_CLOCK                                                                                                         | 1.182178e-03 | 1.730670 |\n",
       "| REACTOME_SIGNALING_BY_PDGF                                                                                                       | 1.730660e-03 | 1.746111 |\n",
       "| REACTOME_INTEGRIN_CELL_SURFACE_INTERACTIONS                                                                                      | 7.609474e-04 | 1.753956 |\n",
       "| REACTOME_MET_ACTIVATES_PTK2_SIGNALING                                                                                            | 1.792792e-03 | 1.754685 |\n",
       "| REACTOME_O_GLYCOSYLATION_OF_TSR_DOMAIN_CONTAINING_PROTEINS                                                                       | 1.055763e-03 | 1.769265 |\n",
       "| REACTOME_HEME_SIGNALING                                                                                                          | 2.209089e-03 | 1.769593 |\n",
       "| REACTOME_COLLAGEN_CHAIN_TRIMERIZATION                                                                                            | 1.877866e-03 | 1.778417 |\n",
       "| REACTOME_LAMININ_INTERACTIONS                                                                                                    | 9.357701e-04 | 1.778853 |\n",
       "| REACTOME_CELL_CELL_COMMUNICATION                                                                                                 | 8.296103e-05 | 1.779626 |\n",
       "| REACTOME_DISEASES_OF_GLYCOSYLATION                                                                                               | 2.637413e-05 | 1.780764 |\n",
       "| REACTOME_DISEASES_ASSOCIATED_WITH_GLYCOSAMINOGLYCAN_METABOLISM                                                                   | 1.647979e-03 | 1.785250 |\n",
       "| REACTOME_DISEASES_ASSOCIATED_WITH_O_GLYCOSYLATION_OF_PROTEINS                                                                    | 4.794021e-04 | 1.785639 |\n",
       "| REACTOME_MET_PROMOTES_CELL_MOTILITY                                                                                              | 1.518515e-03 | 1.790209 |\n",
       "| REACTOME_GLYCOSAMINOGLYCAN_METABOLISM                                                                                            | 2.979468e-05 | 1.813645 |\n",
       "| REACTOME_COLLAGEN_DEGRADATION                                                                                                    | 8.143387e-05 | 1.828274 |\n",
       "| REACTOME_ASSEMBLY_OF_COLLAGEN_FIBRILS_AND_OTHER_MULTIMERIC_STRUCTURES                                                            | 1.529247e-05 | 1.859802 |\n",
       "| REACTOME_MOLECULES_ASSOCIATED_WITH_ELASTIC_FIBRES                                                                                | 4.189511e-05 | 1.860381 |\n",
       "| REACTOME_COLLAGEN_BIOSYNTHESIS_AND_MODIFYING_ENZYMES                                                                             | 2.419454e-05 | 1.875279 |\n",
       "| REACTOME_NON_INTEGRIN_MEMBRANE_ECM_INTERACTIONS                                                                                  | 5.408121e-05 | 1.877819 |\n",
       "| REACTOME_REGULATION_OF_INSULIN_LIKE_GROWTH_FACTOR_IGF_TRANSPORT_AND_UPTAKE_BY_INSULIN_LIKE_GROWTH_FACTOR_BINDING_PROTEINS_IGFBPS | 2.050993e-06 | 1.883078 |\n",
       "| REACTOME_DEGRADATION_OF_THE_EXTRACELLULAR_MATRIX                                                                                 | 3.566938e-07 | 1.888276 |\n",
       "| REACTOME_O_LINKED_GLYCOSYLATION                                                                                                  | 1.958171e-06 | 1.890565 |\n",
       "| REACTOME_COLLAGEN_FORMATION                                                                                                      | 1.958171e-06 | 1.903385 |\n",
       "| REACTOME_ELASTIC_FIBRE_FORMATION                                                                                                 | 9.741042e-06 | 1.917492 |\n",
       "| REACTOME_ECM_PROTEOGLYCANS                                                                                                       | 3.465917e-07 | 1.957600 |\n",
       "| REACTOME_EXTRACELLULAR_MATRIX_ORGANIZATION                                                                                       | 1.377873e-18 | 2.066281 |\n",
       "\n"
      ],
      "text/plain": [
       "    pathway                                                                                                                         \n",
       "1   REACTOME_TRANSLATION                                                                                                            \n",
       "2   REACTOME_RESPIRATORY_ELECTRON_TRANSPORT_ATP_SYNTHESIS_BY_CHEMIOSMOTIC_COUPLING_AND_HEAT_PRODUCTION_BY_UNCOUPLING_PROTEINS       \n",
       "3   REACTOME_RESPIRATORY_ELECTRON_TRANSPORT                                                                                         \n",
       "4   REACTOME_DNA_REPLICATION                                                                                                        \n",
       "5   REACTOME_SRP_DEPENDENT_COTRANSLATIONAL_PROTEIN_TARGETING_TO_MEMBRANE                                                            \n",
       "6   REACTOME_SYNTHESIS_OF_DNA                                                                                                       \n",
       "7   REACTOME_MITOCHONDRIAL_TRANSLATION                                                                                              \n",
       "8   REACTOME_EUKARYOTIC_TRANSLATION_INITIATION                                                                                      \n",
       "9   REACTOME_RRNA_PROCESSING                                                                                                        \n",
       "10  REACTOME_EUKARYOTIC_TRANSLATION_ELONGATION                                                                                      \n",
       "11  REACTOME_APC_C_MEDIATED_DEGRADATION_OF_CELL_CYCLE_PROTEINS                                                                      \n",
       "12  REACTOME_G2_M_CHECKPOINTS                                                                                                       \n",
       "13  REACTOME_THE_CITRIC_ACID_TCA_CYCLE_AND_RESPIRATORY_ELECTRON_TRANSPORT                                                           \n",
       "14  REACTOME_REGULATION_OF_EXPRESSION_OF_SLITS_AND_ROBOS                                                                            \n",
       "15  REACTOME_SWITCHING_OF_ORIGINS_TO_A_POST_REPLICATIVE_STATE                                                                       \n",
       "16  REACTOME_DNA_REPLICATION_PRE_INITIATION                                                                                         \n",
       "17  REACTOME_CELL_CYCLE_CHECKPOINTS                                                                                                 \n",
       "18  REACTOME_CHROMOSOME_MAINTENANCE                                                                                                 \n",
       "19  REACTOME_SELENOAMINO_ACID_METABOLISM                                                                                            \n",
       "20  REACTOME_APC_C_CDH1_MEDIATED_DEGRADATION_OF_CDC20_AND_OTHER_APC_C_CDH1_TARGETED_PROTEINS_IN_LATE_MITOSIS_EARLY_G1               \n",
       "21  REACTOME_INFLUENZA_INFECTION                                                                                                    \n",
       "22  REACTOME_NONSENSE_MEDIATED_DECAY_NMD                                                                                            \n",
       "23  REACTOME_RESPONSE_OF_EIF2AK4_GCN2_TO_AMINO_ACID_DEFICIENCY                                                                      \n",
       "24  REACTOME_COMPLEX_I_BIOGENESIS                                                                                                   \n",
       "25  REACTOME_MITOTIC_METAPHASE_AND_ANAPHASE                                                                                         \n",
       "26  REACTOME_METABOLISM_OF_RNA                                                                                                      \n",
       "27  REACTOME_SEPARATION_OF_SISTER_CHROMATIDS                                                                                        \n",
       "28  REACTOME_ORC1_REMOVAL_FROM_CHROMATIN                                                                                            \n",
       "29  REACTOME_CELL_CYCLE                                                                                                             \n",
       "30  REACTOME_S_PHASE                                                                                                                \n",
       "⋮   ⋮                                                                                                                               \n",
       "237 REACTOME_RUNX2_REGULATES_BONE_DEVELOPMENT                                                                                       \n",
       "238 REACTOME_SIGNALING_BY_TYPE_1_INSULIN_LIKE_GROWTH_FACTOR_1_RECEPTOR_IGF1R                                                        \n",
       "239 REACTOME_CELL_JUNCTION_ORGANIZATION                                                                                             \n",
       "240 REACTOME_SIGNALING_BY_RECEPTOR_TYROSINE_KINASES                                                                                 \n",
       "241 REACTOME_CIRCADIAN_CLOCK                                                                                                        \n",
       "242 REACTOME_SIGNALING_BY_PDGF                                                                                                      \n",
       "243 REACTOME_INTEGRIN_CELL_SURFACE_INTERACTIONS                                                                                     \n",
       "244 REACTOME_MET_ACTIVATES_PTK2_SIGNALING                                                                                           \n",
       "245 REACTOME_O_GLYCOSYLATION_OF_TSR_DOMAIN_CONTAINING_PROTEINS                                                                      \n",
       "246 REACTOME_HEME_SIGNALING                                                                                                         \n",
       "247 REACTOME_COLLAGEN_CHAIN_TRIMERIZATION                                                                                           \n",
       "248 REACTOME_LAMININ_INTERACTIONS                                                                                                   \n",
       "249 REACTOME_CELL_CELL_COMMUNICATION                                                                                                \n",
       "250 REACTOME_DISEASES_OF_GLYCOSYLATION                                                                                              \n",
       "251 REACTOME_DISEASES_ASSOCIATED_WITH_GLYCOSAMINOGLYCAN_METABOLISM                                                                  \n",
       "252 REACTOME_DISEASES_ASSOCIATED_WITH_O_GLYCOSYLATION_OF_PROTEINS                                                                   \n",
       "253 REACTOME_MET_PROMOTES_CELL_MOTILITY                                                                                             \n",
       "254 REACTOME_GLYCOSAMINOGLYCAN_METABOLISM                                                                                           \n",
       "255 REACTOME_COLLAGEN_DEGRADATION                                                                                                   \n",
       "256 REACTOME_ASSEMBLY_OF_COLLAGEN_FIBRILS_AND_OTHER_MULTIMERIC_STRUCTURES                                                           \n",
       "257 REACTOME_MOLECULES_ASSOCIATED_WITH_ELASTIC_FIBRES                                                                               \n",
       "258 REACTOME_COLLAGEN_BIOSYNTHESIS_AND_MODIFYING_ENZYMES                                                                            \n",
       "259 REACTOME_NON_INTEGRIN_MEMBRANE_ECM_INTERACTIONS                                                                                 \n",
       "260 REACTOME_REGULATION_OF_INSULIN_LIKE_GROWTH_FACTOR_IGF_TRANSPORT_AND_UPTAKE_BY_INSULIN_LIKE_GROWTH_FACTOR_BINDING_PROTEINS_IGFBPS\n",
       "261 REACTOME_DEGRADATION_OF_THE_EXTRACELLULAR_MATRIX                                                                                \n",
       "262 REACTOME_O_LINKED_GLYCOSYLATION                                                                                                 \n",
       "263 REACTOME_COLLAGEN_FORMATION                                                                                                     \n",
       "264 REACTOME_ELASTIC_FIBRE_FORMATION                                                                                                \n",
       "265 REACTOME_ECM_PROTEOGLYCANS                                                                                                      \n",
       "266 REACTOME_EXTRACELLULAR_MATRIX_ORGANIZATION                                                                                      \n",
       "    padj         NES      \n",
       "1   1.997053e-37 -2.582347\n",
       "2   1.468011e-19 -2.444255\n",
       "3   1.674767e-16 -2.395200\n",
       "4   7.459778e-19 -2.393308\n",
       "5   9.635000e-17 -2.386925\n",
       "6   1.713300e-16 -2.373351\n",
       "7   4.589651e-15 -2.360769\n",
       "8   1.063231e-15 -2.347621\n",
       "9   4.823510e-18 -2.346580\n",
       "10  8.677781e-14 -2.345217\n",
       "11  8.247092e-13 -2.337550\n",
       "12  3.299752e-15 -2.296212\n",
       "13  1.760642e-15 -2.278307\n",
       "14  1.864998e-14 -2.275805\n",
       "15  1.490001e-11 -2.275394\n",
       "16  4.109916e-12 -2.264386\n",
       "17  4.381083e-18 -2.248917\n",
       "18  6.173966e-12 -2.236452\n",
       "19  6.075586e-11 -2.234532\n",
       "20  7.965229e-11 -2.210722\n",
       "21  1.375704e-12 -2.208846\n",
       "22  1.894286e-10 -2.203725\n",
       "23  3.402336e-09 -2.196281\n",
       "24  2.934160e-09 -2.182027\n",
       "25  1.068881e-13 -2.176330\n",
       "26  2.869682e-30 -2.164697\n",
       "27  6.173966e-12 -2.153289\n",
       "28  6.658641e-09 -2.134333\n",
       "29  2.146786e-27 -2.132409\n",
       "30  6.100901e-11 -2.131201\n",
       "⋮   ⋮            ⋮        \n",
       "237 8.614660e-03 1.700208 \n",
       "238 3.470927e-03 1.700376 \n",
       "239 1.332320e-03 1.714325 \n",
       "240 1.230727e-09 1.719474 \n",
       "241 1.182178e-03 1.730670 \n",
       "242 1.730660e-03 1.746111 \n",
       "243 7.609474e-04 1.753956 \n",
       "244 1.792792e-03 1.754685 \n",
       "245 1.055763e-03 1.769265 \n",
       "246 2.209089e-03 1.769593 \n",
       "247 1.877866e-03 1.778417 \n",
       "248 9.357701e-04 1.778853 \n",
       "249 8.296103e-05 1.779626 \n",
       "250 2.637413e-05 1.780764 \n",
       "251 1.647979e-03 1.785250 \n",
       "252 4.794021e-04 1.785639 \n",
       "253 1.518515e-03 1.790209 \n",
       "254 2.979468e-05 1.813645 \n",
       "255 8.143387e-05 1.828274 \n",
       "256 1.529247e-05 1.859802 \n",
       "257 4.189511e-05 1.860381 \n",
       "258 2.419454e-05 1.875279 \n",
       "259 5.408121e-05 1.877819 \n",
       "260 2.050993e-06 1.883078 \n",
       "261 3.566938e-07 1.888276 \n",
       "262 1.958171e-06 1.890565 \n",
       "263 1.958171e-06 1.903385 \n",
       "264 9.741042e-06 1.917492 \n",
       "265 3.465917e-07 1.957600 \n",
       "266 1.377873e-18 2.066281 "
      ]
     },
     "metadata": {},
     "output_type": "display_data"
    }
   ],
   "source": [
    "res = fgsea_results[fgsea_results$padj<0.05,c(\"pathway\",\"padj\",\"NES\")]\n",
    "res[order(res$NES),]"
   ]
  },
  {
   "cell_type": "code",
   "execution_count": 39,
   "id": "f8465df3",
   "metadata": {
    "vscode": {
     "languageId": "r"
    }
   },
   "outputs": [],
   "source": [
    "res2 = fgsea_results  %>% filter(str_detect(pathway, \"ECM|DNA_DAMAGE|EXTRACELLULAR_MATRIX|COLLAGEN|FIBRONECTIN\"))"
   ]
  },
  {
   "cell_type": "code",
   "execution_count": 123,
   "id": "00aad24b",
   "metadata": {
    "vscode": {
     "languageId": "r"
    }
   },
   "outputs": [
    {
     "data": {
      "text/html": [
       "<strong>pdf:</strong> 2"
      ],
      "text/latex": [
       "\\textbf{pdf:} 2"
      ],
      "text/markdown": [
       "**pdf:** 2"
      ],
      "text/plain": [
       "pdf \n",
       "  2 "
      ]
     },
     "metadata": {},
     "output_type": "display_data"
    }
   ],
   "source": [
    "g2=ggplot(res2, aes(reorder(pathway, NES), NES)) +\n",
    "  geom_col(aes(fill=padj<0.05)) +\n",
    "  coord_flip() +\n",
    "  labs(x=\"Pathway\", y=\"Normalized Enrichment Score\",\n",
    "       title=\"\",\n",
    "       subtitle = \"genes rank = -log10(pvalue) * sign(log2FoldChange)\"\n",
    "  ) +\n",
    "  scale_fill_manual(\n",
    "    values = c(\"TRUE\" = \"red\", \"FALSE\" = \"lightgray\"), # Specifica i colori\n",
    "    name = \"padj < 0.05\"                      # Legenda personalizzata\n",
    "  ) +\n",
    "  theme_minimal() + theme(axis.text = element_text(size = 8))\n",
    "\n",
    "pdf(paste0(fold,\"FGSEA.pdf\"), width =10, height=10)\n",
    "g2\n",
    "dev.off()"
   ]
  },
  {
   "cell_type": "code",
   "execution_count": 40,
   "id": "f1e41768",
   "metadata": {
    "vscode": {
     "languageId": "r"
    }
   },
   "outputs": [],
   "source": [
    "topPathwaysUp <- fgsea_results[NES > 0][head(order(padj), n=10), pathway]\n",
    "topPathwaysDown <- fgsea_results[NES < 0][head(order(padj), n=10), pathway]"
   ]
  },
  {
   "cell_type": "code",
   "execution_count": 125,
   "id": "fa8ada17",
   "metadata": {
    "vscode": {
     "languageId": "r"
    }
   },
   "outputs": [
    {
     "data": {
      "text/html": [
       "<strong>pdf:</strong> 2"
      ],
      "text/latex": [
       "\\textbf{pdf:} 2"
      ],
      "text/markdown": [
       "**pdf:** 2"
      ],
      "text/plain": [
       "pdf \n",
       "  2 "
      ]
     },
     "metadata": {},
     "output_type": "display_data"
    }
   ],
   "source": [
    "topPathways <- c(topPathwaysUp, rev(topPathwaysDown))\n",
    "png(paste0(fold,\"GSEA.png\")) \n",
    "plotGseaTable(pathways[topPathways], stats, fgsea_results, \n",
    "              gseaParam=0.5)\n",
    "dev.off()"
   ]
  },
  {
   "cell_type": "code",
   "execution_count": 41,
   "id": "c872249e",
   "metadata": {
    "vscode": {
     "languageId": "r"
    }
   },
   "outputs": [
    {
     "data": {
      "text/html": [
       "<table class=\"dataframe\">\n",
       "<caption>A data.table: 6 × 8</caption>\n",
       "<thead>\n",
       "\t<tr><th scope=col>pathway</th><th scope=col>pval</th><th scope=col>padj</th><th scope=col>log2err</th><th scope=col>ES</th><th scope=col>NES</th><th scope=col>size</th><th scope=col>leadingEdge</th></tr>\n",
       "\t<tr><th scope=col>&lt;chr&gt;</th><th scope=col>&lt;dbl&gt;</th><th scope=col>&lt;dbl&gt;</th><th scope=col>&lt;dbl&gt;</th><th scope=col>&lt;dbl&gt;</th><th scope=col>&lt;dbl&gt;</th><th scope=col>&lt;int&gt;</th><th scope=col>&lt;list&gt;</th></tr>\n",
       "</thead>\n",
       "<tbody>\n",
       "\t<tr><td>REACTOME_2_LTR_CIRCLE_FORMATION                </td><td>0.24782609</td><td>0.4543009</td><td>0.12750532</td><td>-0.7603309</td><td>-1.2189882</td><td>  7</td><td>ENSG0000....</td></tr>\n",
       "\t<tr><td>REACTOME_ABACAVIR_METABOLISM                   </td><td>0.64854369</td><td>0.7965004</td><td>0.06450312</td><td> 0.5954957</td><td> 0.8977391</td><td>  5</td><td>ENSG0000....</td></tr>\n",
       "\t<tr><td>REACTOME_ABACAVIR_TRANSMEMBRANE_TRANSPORT      </td><td>0.19029126</td><td>0.3827153</td><td>0.13880511</td><td> 0.8363794</td><td> 1.2608831</td><td>  5</td><td>ENSG0000....</td></tr>\n",
       "\t<tr><td>REACTOME_ABACAVIR_TRANSPORT_AND_METABOLISM     </td><td>0.28880866</td><td>0.4961811</td><td>0.10473282</td><td> 0.7052228</td><td> 1.1760599</td><td> 10</td><td>ENSG0000....</td></tr>\n",
       "\t<tr><td>REACTOME_ABC_FAMILY_PROTEINS_MEDIATED_TRANSPORT</td><td>0.04477865</td><td>0.1599945</td><td>0.32177592</td><td>-0.4717782</td><td>-1.3071555</td><td>102</td><td>ENSG0000....</td></tr>\n",
       "\t<tr><td>REACTOME_ABC_TRANSPORTERS_IN_LIPID_HOMEOSTASIS </td><td>0.25044092</td><td>0.4565035</td><td>0.11237852</td><td> 0.6473791</td><td> 1.1866303</td><td> 18</td><td>ENSG0000....</td></tr>\n",
       "</tbody>\n",
       "</table>\n"
      ],
      "text/latex": [
       "A data.table: 6 × 8\n",
       "\\begin{tabular}{llllllll}\n",
       " pathway & pval & padj & log2err & ES & NES & size & leadingEdge\\\\\n",
       " <chr> & <dbl> & <dbl> & <dbl> & <dbl> & <dbl> & <int> & <list>\\\\\n",
       "\\hline\n",
       "\t REACTOME\\_2\\_LTR\\_CIRCLE\\_FORMATION                 & 0.24782609 & 0.4543009 & 0.12750532 & -0.7603309 & -1.2189882 &   7 & ENSG0000....\\\\\n",
       "\t REACTOME\\_ABACAVIR\\_METABOLISM                    & 0.64854369 & 0.7965004 & 0.06450312 &  0.5954957 &  0.8977391 &   5 & ENSG0000....\\\\\n",
       "\t REACTOME\\_ABACAVIR\\_TRANSMEMBRANE\\_TRANSPORT       & 0.19029126 & 0.3827153 & 0.13880511 &  0.8363794 &  1.2608831 &   5 & ENSG0000....\\\\\n",
       "\t REACTOME\\_ABACAVIR\\_TRANSPORT\\_AND\\_METABOLISM      & 0.28880866 & 0.4961811 & 0.10473282 &  0.7052228 &  1.1760599 &  10 & ENSG0000....\\\\\n",
       "\t REACTOME\\_ABC\\_FAMILY\\_PROTEINS\\_MEDIATED\\_TRANSPORT & 0.04477865 & 0.1599945 & 0.32177592 & -0.4717782 & -1.3071555 & 102 & ENSG0000....\\\\\n",
       "\t REACTOME\\_ABC\\_TRANSPORTERS\\_IN\\_LIPID\\_HOMEOSTASIS  & 0.25044092 & 0.4565035 & 0.11237852 &  0.6473791 &  1.1866303 &  18 & ENSG0000....\\\\\n",
       "\\end{tabular}\n"
      ],
      "text/markdown": [
       "\n",
       "A data.table: 6 × 8\n",
       "\n",
       "| pathway &lt;chr&gt; | pval &lt;dbl&gt; | padj &lt;dbl&gt; | log2err &lt;dbl&gt; | ES &lt;dbl&gt; | NES &lt;dbl&gt; | size &lt;int&gt; | leadingEdge &lt;list&gt; |\n",
       "|---|---|---|---|---|---|---|---|\n",
       "| REACTOME_2_LTR_CIRCLE_FORMATION                 | 0.24782609 | 0.4543009 | 0.12750532 | -0.7603309 | -1.2189882 |   7 | ENSG0000.... |\n",
       "| REACTOME_ABACAVIR_METABOLISM                    | 0.64854369 | 0.7965004 | 0.06450312 |  0.5954957 |  0.8977391 |   5 | ENSG0000.... |\n",
       "| REACTOME_ABACAVIR_TRANSMEMBRANE_TRANSPORT       | 0.19029126 | 0.3827153 | 0.13880511 |  0.8363794 |  1.2608831 |   5 | ENSG0000.... |\n",
       "| REACTOME_ABACAVIR_TRANSPORT_AND_METABOLISM      | 0.28880866 | 0.4961811 | 0.10473282 |  0.7052228 |  1.1760599 |  10 | ENSG0000.... |\n",
       "| REACTOME_ABC_FAMILY_PROTEINS_MEDIATED_TRANSPORT | 0.04477865 | 0.1599945 | 0.32177592 | -0.4717782 | -1.3071555 | 102 | ENSG0000.... |\n",
       "| REACTOME_ABC_TRANSPORTERS_IN_LIPID_HOMEOSTASIS  | 0.25044092 | 0.4565035 | 0.11237852 |  0.6473791 |  1.1866303 |  18 | ENSG0000.... |\n",
       "\n"
      ],
      "text/plain": [
       "  pathway                                         pval       padj     \n",
       "1 REACTOME_2_LTR_CIRCLE_FORMATION                 0.24782609 0.4543009\n",
       "2 REACTOME_ABACAVIR_METABOLISM                    0.64854369 0.7965004\n",
       "3 REACTOME_ABACAVIR_TRANSMEMBRANE_TRANSPORT       0.19029126 0.3827153\n",
       "4 REACTOME_ABACAVIR_TRANSPORT_AND_METABOLISM      0.28880866 0.4961811\n",
       "5 REACTOME_ABC_FAMILY_PROTEINS_MEDIATED_TRANSPORT 0.04477865 0.1599945\n",
       "6 REACTOME_ABC_TRANSPORTERS_IN_LIPID_HOMEOSTASIS  0.25044092 0.4565035\n",
       "  log2err    ES         NES        size leadingEdge \n",
       "1 0.12750532 -0.7603309 -1.2189882   7  ENSG0000....\n",
       "2 0.06450312  0.5954957  0.8977391   5  ENSG0000....\n",
       "3 0.13880511  0.8363794  1.2608831   5  ENSG0000....\n",
       "4 0.10473282  0.7052228  1.1760599  10  ENSG0000....\n",
       "5 0.32177592 -0.4717782 -1.3071555 102  ENSG0000....\n",
       "6 0.11237852  0.6473791  1.1866303  18  ENSG0000...."
      ]
     },
     "metadata": {},
     "output_type": "display_data"
    }
   ],
   "source": [
    "fgsea_results %>% head()"
   ]
  },
  {
   "cell_type": "markdown",
   "id": "074967bc",
   "metadata": {},
   "source": [
    "# GSVA"
   ]
  },
  {
   "cell_type": "code",
   "execution_count": null,
   "id": "6cfe629f",
   "metadata": {
    "vscode": {
     "languageId": "r"
    }
   },
   "outputs": [],
   "source": [
    "drawline = function(long_data, path, fold, print=FALSE){\n",
    "\n",
    "lines = long_data %>% filter(Pathway==path) %>% \n",
    "    mutate(Patient = sapply(strsplit(as.character(Patient), \"_\"), function(x) x[3]))  %>%  \n",
    "    dplyr::select(Patient, GSVA_Score, Patient_Type) %>%\n",
    "    pivot_wider(names_from = Patient_Type, values_from = GSVA_Score)\n",
    "\n",
    "\n",
    "    plot = ggplot(lines) +\n",
    "      geom_segment(aes(x = 0, xend = 10, y=B, yend = S), color = \"black\", size = 1) +\n",
    "      geom_point(aes(x = 0,y=B), color = \"light blue\", size = 3) +  # Mark x1\n",
    "      geom_point(aes(x = 10,y=S), color = \"orange\", size = 3) +  # Mark x2\n",
    "      theme_minimal() +\n",
    "      theme(axis.title.x = element_blank(),  # Hide x-axis label\n",
    "            axis.text.x = element_blank(),\n",
    "           plot.title = element_text(size = 8)) + \n",
    "      labs(x = \"\", y = \"GSVA SCORE\", title = path)\n",
    "    if(print){\n",
    "        pdf(paste0(fold,path,\"_line.pdf\"),width=5,height=5)\n",
    "         print(plot)\n",
    "        dev.off()\n",
    "    }else{\n",
    "         return(plot)\n",
    "    }\n",
    "}"
   ]
  },
  {
   "cell_type": "code",
   "execution_count": 43,
   "id": "4b6b33e1",
   "metadata": {
    "vscode": {
     "languageId": "r"
    }
   },
   "outputs": [],
   "source": [
    "tmp = resdata"
   ]
  },
  {
   "cell_type": "code",
   "execution_count": 44,
   "id": "e481da1d",
   "metadata": {
    "vscode": {
     "languageId": "r"
    }
   },
   "outputs": [],
   "source": [
    "row.names(tmp) = tmp$Gene"
   ]
  },
  {
   "cell_type": "code",
   "execution_count": 45,
   "id": "e5cbae92",
   "metadata": {
    "vscode": {
     "languageId": "r"
    }
   },
   "outputs": [],
   "source": [
    "tmp = tmp %>% dplyr::select(matches(\"(_B_|_S_)\"))"
   ]
  },
  {
   "cell_type": "code",
   "execution_count": 46,
   "id": "0295f1c4",
   "metadata": {
    "vscode": {
     "languageId": "r"
    }
   },
   "outputs": [
    {
     "data": {
      "text/html": [
       "<table class=\"dataframe\">\n",
       "<caption>A data.frame: 6 × 40</caption>\n",
       "<thead>\n",
       "\t<tr><th></th><th scope=col>X3597_1_97_B_AACGTGAT</th><th scope=col>X3597_2_97_S_AAACATCG</th><th scope=col>X3597_3_2046_B_ATGCCTAA</th><th scope=col>X3597_4_2046_S_AGTGGTCA</th><th scope=col>X3597_5_2271_B_ACCACTGT</th><th scope=col>X3597_6_2271_S_ACATTGGC</th><th scope=col>X3597_7_2472_B_CAGATCTG</th><th scope=col>X3597_8_2472_S_CATCAAGT</th><th scope=col>X3597_9_2492_B_CGCTGATC</th><th scope=col>X3597_10_2492_S_ACAAGCTA</th><th scope=col>⋯</th><th scope=col>X3597_31_3036_B_CAAGACTA</th><th scope=col>X3597_32_3036_S_CAATGGAA</th><th scope=col>X3597_33_3065_B_CACTTCGA</th><th scope=col>X3597_34_3065_S_CAGCGTTA</th><th scope=col>X3597_35_3067_B_CATACCAA</th><th scope=col>X3597_36_3067_S_CCAGTTCA</th><th scope=col>X3597_37_3130_B_CCGAAGTA</th><th scope=col>X3597_38_3130_S_CCGTGAGA</th><th scope=col>X3597_39_3161_B_CCTCCTGA</th><th scope=col>X3597_40_3161_S_CGAACTTA</th></tr>\n",
       "\t<tr><th></th><th scope=col>&lt;dbl&gt;</th><th scope=col>&lt;dbl&gt;</th><th scope=col>&lt;dbl&gt;</th><th scope=col>&lt;dbl&gt;</th><th scope=col>&lt;dbl&gt;</th><th scope=col>&lt;dbl&gt;</th><th scope=col>&lt;dbl&gt;</th><th scope=col>&lt;dbl&gt;</th><th scope=col>&lt;dbl&gt;</th><th scope=col>&lt;dbl&gt;</th><th scope=col>⋯</th><th scope=col>&lt;dbl&gt;</th><th scope=col>&lt;dbl&gt;</th><th scope=col>&lt;dbl&gt;</th><th scope=col>&lt;dbl&gt;</th><th scope=col>&lt;dbl&gt;</th><th scope=col>&lt;dbl&gt;</th><th scope=col>&lt;dbl&gt;</th><th scope=col>&lt;dbl&gt;</th><th scope=col>&lt;dbl&gt;</th><th scope=col>&lt;dbl&gt;</th></tr>\n",
       "</thead>\n",
       "<tbody>\n",
       "\t<tr><th scope=row>ENSG00000164949</th><td> 90.46093</td><td> 574.3897</td><td>148.97396</td><td> 460.3772</td><td> 91.93183</td><td>  738.4603</td><td> 131.68832</td><td> 287.3285</td><td> 209.2941</td><td> 577.6274</td><td>⋯</td><td> 377.3540</td><td> 2894.955</td><td> 181.9610</td><td> 3013.462</td><td> 502.4231</td><td> 2702.464</td><td> 326.7761</td><td> 1303.399</td><td> 434.4066</td><td> 1019.5146</td></tr>\n",
       "\t<tr><th scope=row>ENSG00000187955</th><td>534.98400</td><td>2415.7273</td><td> 77.14723</td><td> 261.2253</td><td>633.14338</td><td> 7813.7088</td><td> 167.06727</td><td> 998.9456</td><td> 303.1156</td><td>1933.9350</td><td>⋯</td><td>6528.2247</td><td>16406.285</td><td>2023.0444</td><td>27913.669</td><td>2053.2868</td><td>16354.389</td><td>6159.9034</td><td>23450.162</td><td>8017.1280</td><td>13701.9723</td></tr>\n",
       "\t<tr><th scope=row>ENSG00000102189</th><td>584.59160</td><td> 918.4251</td><td>474.85451</td><td> 834.5414</td><td>760.66172</td><td>  853.6747</td><td> 395.06496</td><td> 573.6993</td><td> 447.4563</td><td> 669.1117</td><td>⋯</td><td> 683.0108</td><td> 1242.391</td><td> 676.9852</td><td> 1107.594</td><td> 663.7217</td><td> 1152.710</td><td> 684.9506</td><td> 1436.451</td><td> 740.8183</td><td> 1067.1748</td></tr>\n",
       "\t<tr><th scope=row>ENSG00000240184</th><td>209.13011</td><td> 425.5569</td><td> 85.12798</td><td> 319.8501</td><td>152.72545</td><td>  577.8860</td><td> 142.49855</td><td> 430.9928</td><td> 106.8122</td><td> 412.7430</td><td>⋯</td><td> 582.0686</td><td>  840.790</td><td> 273.5066</td><td> 1129.688</td><td> 216.8811</td><td> 1136.059</td><td> 594.2440</td><td> 1511.875</td><td> 694.2748</td><td>  914.5239</td></tr>\n",
       "\t<tr><th scope=row>ENSG00000017427</th><td>179.94916</td><td>1020.8879</td><td> 89.11835</td><td> 172.4259</td><td>359.57206</td><td> 4384.4949</td><td>  47.17194</td><td> 303.6105</td><td> 127.0199</td><td> 858.4629</td><td>⋯</td><td>1261.3058</td><td> 4122.179</td><td> 515.3677</td><td> 4735.852</td><td> 626.6666</td><td> 3465.814</td><td> 823.3362</td><td> 2673.747</td><td> 562.4013</td><td> 2274.5675</td></tr>\n",
       "\t<tr><th scope=row>ENSG00000142871</th><td>409.50593</td><td>4068.5934</td><td>840.63879</td><td>2428.6189</td><td>461.88329</td><td>12707.1425</td><td>1016.16210</td><td>2497.8428</td><td>1765.2874</td><td>4139.1315</td><td>⋯</td><td>1197.1557</td><td>14598.751</td><td> 888.3312</td><td>26551.511</td><td> 280.0927</td><td>11328.575</td><td> 946.6040</td><td>10582.277</td><td>2124.1963</td><td> 6786.4031</td></tr>\n",
       "</tbody>\n",
       "</table>\n"
      ],
      "text/latex": [
       "A data.frame: 6 × 40\n",
       "\\begin{tabular}{r|lllllllllllllllllllll}\n",
       "  & X3597\\_1\\_97\\_B\\_AACGTGAT & X3597\\_2\\_97\\_S\\_AAACATCG & X3597\\_3\\_2046\\_B\\_ATGCCTAA & X3597\\_4\\_2046\\_S\\_AGTGGTCA & X3597\\_5\\_2271\\_B\\_ACCACTGT & X3597\\_6\\_2271\\_S\\_ACATTGGC & X3597\\_7\\_2472\\_B\\_CAGATCTG & X3597\\_8\\_2472\\_S\\_CATCAAGT & X3597\\_9\\_2492\\_B\\_CGCTGATC & X3597\\_10\\_2492\\_S\\_ACAAGCTA & ⋯ & X3597\\_31\\_3036\\_B\\_CAAGACTA & X3597\\_32\\_3036\\_S\\_CAATGGAA & X3597\\_33\\_3065\\_B\\_CACTTCGA & X3597\\_34\\_3065\\_S\\_CAGCGTTA & X3597\\_35\\_3067\\_B\\_CATACCAA & X3597\\_36\\_3067\\_S\\_CCAGTTCA & X3597\\_37\\_3130\\_B\\_CCGAAGTA & X3597\\_38\\_3130\\_S\\_CCGTGAGA & X3597\\_39\\_3161\\_B\\_CCTCCTGA & X3597\\_40\\_3161\\_S\\_CGAACTTA\\\\\n",
       "  & <dbl> & <dbl> & <dbl> & <dbl> & <dbl> & <dbl> & <dbl> & <dbl> & <dbl> & <dbl> & ⋯ & <dbl> & <dbl> & <dbl> & <dbl> & <dbl> & <dbl> & <dbl> & <dbl> & <dbl> & <dbl>\\\\\n",
       "\\hline\n",
       "\tENSG00000164949 &  90.46093 &  574.3897 & 148.97396 &  460.3772 &  91.93183 &   738.4603 &  131.68832 &  287.3285 &  209.2941 &  577.6274 & ⋯ &  377.3540 &  2894.955 &  181.9610 &  3013.462 &  502.4231 &  2702.464 &  326.7761 &  1303.399 &  434.4066 &  1019.5146\\\\\n",
       "\tENSG00000187955 & 534.98400 & 2415.7273 &  77.14723 &  261.2253 & 633.14338 &  7813.7088 &  167.06727 &  998.9456 &  303.1156 & 1933.9350 & ⋯ & 6528.2247 & 16406.285 & 2023.0444 & 27913.669 & 2053.2868 & 16354.389 & 6159.9034 & 23450.162 & 8017.1280 & 13701.9723\\\\\n",
       "\tENSG00000102189 & 584.59160 &  918.4251 & 474.85451 &  834.5414 & 760.66172 &   853.6747 &  395.06496 &  573.6993 &  447.4563 &  669.1117 & ⋯ &  683.0108 &  1242.391 &  676.9852 &  1107.594 &  663.7217 &  1152.710 &  684.9506 &  1436.451 &  740.8183 &  1067.1748\\\\\n",
       "\tENSG00000240184 & 209.13011 &  425.5569 &  85.12798 &  319.8501 & 152.72545 &   577.8860 &  142.49855 &  430.9928 &  106.8122 &  412.7430 & ⋯ &  582.0686 &   840.790 &  273.5066 &  1129.688 &  216.8811 &  1136.059 &  594.2440 &  1511.875 &  694.2748 &   914.5239\\\\\n",
       "\tENSG00000017427 & 179.94916 & 1020.8879 &  89.11835 &  172.4259 & 359.57206 &  4384.4949 &   47.17194 &  303.6105 &  127.0199 &  858.4629 & ⋯ & 1261.3058 &  4122.179 &  515.3677 &  4735.852 &  626.6666 &  3465.814 &  823.3362 &  2673.747 &  562.4013 &  2274.5675\\\\\n",
       "\tENSG00000142871 & 409.50593 & 4068.5934 & 840.63879 & 2428.6189 & 461.88329 & 12707.1425 & 1016.16210 & 2497.8428 & 1765.2874 & 4139.1315 & ⋯ & 1197.1557 & 14598.751 &  888.3312 & 26551.511 &  280.0927 & 11328.575 &  946.6040 & 10582.277 & 2124.1963 &  6786.4031\\\\\n",
       "\\end{tabular}\n"
      ],
      "text/markdown": [
       "\n",
       "A data.frame: 6 × 40\n",
       "\n",
       "| <!--/--> | X3597_1_97_B_AACGTGAT &lt;dbl&gt; | X3597_2_97_S_AAACATCG &lt;dbl&gt; | X3597_3_2046_B_ATGCCTAA &lt;dbl&gt; | X3597_4_2046_S_AGTGGTCA &lt;dbl&gt; | X3597_5_2271_B_ACCACTGT &lt;dbl&gt; | X3597_6_2271_S_ACATTGGC &lt;dbl&gt; | X3597_7_2472_B_CAGATCTG &lt;dbl&gt; | X3597_8_2472_S_CATCAAGT &lt;dbl&gt; | X3597_9_2492_B_CGCTGATC &lt;dbl&gt; | X3597_10_2492_S_ACAAGCTA &lt;dbl&gt; | ⋯ ⋯ | X3597_31_3036_B_CAAGACTA &lt;dbl&gt; | X3597_32_3036_S_CAATGGAA &lt;dbl&gt; | X3597_33_3065_B_CACTTCGA &lt;dbl&gt; | X3597_34_3065_S_CAGCGTTA &lt;dbl&gt; | X3597_35_3067_B_CATACCAA &lt;dbl&gt; | X3597_36_3067_S_CCAGTTCA &lt;dbl&gt; | X3597_37_3130_B_CCGAAGTA &lt;dbl&gt; | X3597_38_3130_S_CCGTGAGA &lt;dbl&gt; | X3597_39_3161_B_CCTCCTGA &lt;dbl&gt; | X3597_40_3161_S_CGAACTTA &lt;dbl&gt; |\n",
       "|---|---|---|---|---|---|---|---|---|---|---|---|---|---|---|---|---|---|---|---|---|---|\n",
       "| ENSG00000164949 |  90.46093 |  574.3897 | 148.97396 |  460.3772 |  91.93183 |   738.4603 |  131.68832 |  287.3285 |  209.2941 |  577.6274 | ⋯ |  377.3540 |  2894.955 |  181.9610 |  3013.462 |  502.4231 |  2702.464 |  326.7761 |  1303.399 |  434.4066 |  1019.5146 |\n",
       "| ENSG00000187955 | 534.98400 | 2415.7273 |  77.14723 |  261.2253 | 633.14338 |  7813.7088 |  167.06727 |  998.9456 |  303.1156 | 1933.9350 | ⋯ | 6528.2247 | 16406.285 | 2023.0444 | 27913.669 | 2053.2868 | 16354.389 | 6159.9034 | 23450.162 | 8017.1280 | 13701.9723 |\n",
       "| ENSG00000102189 | 584.59160 |  918.4251 | 474.85451 |  834.5414 | 760.66172 |   853.6747 |  395.06496 |  573.6993 |  447.4563 |  669.1117 | ⋯ |  683.0108 |  1242.391 |  676.9852 |  1107.594 |  663.7217 |  1152.710 |  684.9506 |  1436.451 |  740.8183 |  1067.1748 |\n",
       "| ENSG00000240184 | 209.13011 |  425.5569 |  85.12798 |  319.8501 | 152.72545 |   577.8860 |  142.49855 |  430.9928 |  106.8122 |  412.7430 | ⋯ |  582.0686 |   840.790 |  273.5066 |  1129.688 |  216.8811 |  1136.059 |  594.2440 |  1511.875 |  694.2748 |   914.5239 |\n",
       "| ENSG00000017427 | 179.94916 | 1020.8879 |  89.11835 |  172.4259 | 359.57206 |  4384.4949 |   47.17194 |  303.6105 |  127.0199 |  858.4629 | ⋯ | 1261.3058 |  4122.179 |  515.3677 |  4735.852 |  626.6666 |  3465.814 |  823.3362 |  2673.747 |  562.4013 |  2274.5675 |\n",
       "| ENSG00000142871 | 409.50593 | 4068.5934 | 840.63879 | 2428.6189 | 461.88329 | 12707.1425 | 1016.16210 | 2497.8428 | 1765.2874 | 4139.1315 | ⋯ | 1197.1557 | 14598.751 |  888.3312 | 26551.511 |  280.0927 | 11328.575 |  946.6040 | 10582.277 | 2124.1963 |  6786.4031 |\n",
       "\n"
      ],
      "text/plain": [
       "                X3597_1_97_B_AACGTGAT X3597_2_97_S_AAACATCG\n",
       "ENSG00000164949  90.46093              574.3897            \n",
       "ENSG00000187955 534.98400             2415.7273            \n",
       "ENSG00000102189 584.59160              918.4251            \n",
       "ENSG00000240184 209.13011              425.5569            \n",
       "ENSG00000017427 179.94916             1020.8879            \n",
       "ENSG00000142871 409.50593             4068.5934            \n",
       "                X3597_3_2046_B_ATGCCTAA X3597_4_2046_S_AGTGGTCA\n",
       "ENSG00000164949 148.97396                460.3772              \n",
       "ENSG00000187955  77.14723                261.2253              \n",
       "ENSG00000102189 474.85451                834.5414              \n",
       "ENSG00000240184  85.12798                319.8501              \n",
       "ENSG00000017427  89.11835                172.4259              \n",
       "ENSG00000142871 840.63879               2428.6189              \n",
       "                X3597_5_2271_B_ACCACTGT X3597_6_2271_S_ACATTGGC\n",
       "ENSG00000164949  91.93183                 738.4603             \n",
       "ENSG00000187955 633.14338                7813.7088             \n",
       "ENSG00000102189 760.66172                 853.6747             \n",
       "ENSG00000240184 152.72545                 577.8860             \n",
       "ENSG00000017427 359.57206                4384.4949             \n",
       "ENSG00000142871 461.88329               12707.1425             \n",
       "                X3597_7_2472_B_CAGATCTG X3597_8_2472_S_CATCAAGT\n",
       "ENSG00000164949  131.68832               287.3285              \n",
       "ENSG00000187955  167.06727               998.9456              \n",
       "ENSG00000102189  395.06496               573.6993              \n",
       "ENSG00000240184  142.49855               430.9928              \n",
       "ENSG00000017427   47.17194               303.6105              \n",
       "ENSG00000142871 1016.16210              2497.8428              \n",
       "                X3597_9_2492_B_CGCTGATC X3597_10_2492_S_ACAAGCTA ⋯\n",
       "ENSG00000164949  209.2941                577.6274                ⋯\n",
       "ENSG00000187955  303.1156               1933.9350                ⋯\n",
       "ENSG00000102189  447.4563                669.1117                ⋯\n",
       "ENSG00000240184  106.8122                412.7430                ⋯\n",
       "ENSG00000017427  127.0199                858.4629                ⋯\n",
       "ENSG00000142871 1765.2874               4139.1315                ⋯\n",
       "                X3597_31_3036_B_CAAGACTA X3597_32_3036_S_CAATGGAA\n",
       "ENSG00000164949  377.3540                 2894.955               \n",
       "ENSG00000187955 6528.2247                16406.285               \n",
       "ENSG00000102189  683.0108                 1242.391               \n",
       "ENSG00000240184  582.0686                  840.790               \n",
       "ENSG00000017427 1261.3058                 4122.179               \n",
       "ENSG00000142871 1197.1557                14598.751               \n",
       "                X3597_33_3065_B_CACTTCGA X3597_34_3065_S_CAGCGTTA\n",
       "ENSG00000164949  181.9610                 3013.462               \n",
       "ENSG00000187955 2023.0444                27913.669               \n",
       "ENSG00000102189  676.9852                 1107.594               \n",
       "ENSG00000240184  273.5066                 1129.688               \n",
       "ENSG00000017427  515.3677                 4735.852               \n",
       "ENSG00000142871  888.3312                26551.511               \n",
       "                X3597_35_3067_B_CATACCAA X3597_36_3067_S_CCAGTTCA\n",
       "ENSG00000164949  502.4231                 2702.464               \n",
       "ENSG00000187955 2053.2868                16354.389               \n",
       "ENSG00000102189  663.7217                 1152.710               \n",
       "ENSG00000240184  216.8811                 1136.059               \n",
       "ENSG00000017427  626.6666                 3465.814               \n",
       "ENSG00000142871  280.0927                11328.575               \n",
       "                X3597_37_3130_B_CCGAAGTA X3597_38_3130_S_CCGTGAGA\n",
       "ENSG00000164949  326.7761                 1303.399               \n",
       "ENSG00000187955 6159.9034                23450.162               \n",
       "ENSG00000102189  684.9506                 1436.451               \n",
       "ENSG00000240184  594.2440                 1511.875               \n",
       "ENSG00000017427  823.3362                 2673.747               \n",
       "ENSG00000142871  946.6040                10582.277               \n",
       "                X3597_39_3161_B_CCTCCTGA X3597_40_3161_S_CGAACTTA\n",
       "ENSG00000164949  434.4066                 1019.5146              \n",
       "ENSG00000187955 8017.1280                13701.9723              \n",
       "ENSG00000102189  740.8183                 1067.1748              \n",
       "ENSG00000240184  694.2748                  914.5239              \n",
       "ENSG00000017427  562.4013                 2274.5675              \n",
       "ENSG00000142871 2124.1963                 6786.4031              "
      ]
     },
     "metadata": {},
     "output_type": "display_data"
    }
   ],
   "source": [
    "tmp  %>%  head"
   ]
  },
  {
   "cell_type": "code",
   "execution_count": 47,
   "id": "14e36c82",
   "metadata": {
    "vscode": {
     "languageId": "r"
    }
   },
   "outputs": [],
   "source": [
    "colnames(tmp) <- sub(\"_[^_]+$\", \"\", colnames(tmp))"
   ]
  },
  {
   "cell_type": "code",
   "execution_count": 48,
   "id": "79c72e3c",
   "metadata": {
    "vscode": {
     "languageId": "r"
    }
   },
   "outputs": [
    {
     "data": {
      "text/html": [
       "<style>\n",
       ".list-inline {list-style: none; margin:0; padding: 0}\n",
       ".list-inline>li {display: inline-block}\n",
       ".list-inline>li:not(:last-child)::after {content: \"\\00b7\"; padding: 0 .5ex}\n",
       "</style>\n",
       "<ol class=list-inline><li>'X3597_2_97_S'</li><li>'X3597_4_2046_S'</li><li>'X3597_6_2271_S'</li><li>'X3597_8_2472_S'</li><li>'X3597_10_2492_S'</li><li>'X3597_12_2653_S'</li><li>'X3597_14_2661_S'</li><li>'X3597_16_2677_S'</li><li>'X3597_18_2691_S'</li><li>'X3597_20_2739_S'</li><li>'X3597_22_2789_S'</li><li>'X3597_24_2817_S'</li><li>'X3597_26_2852_S'</li><li>'X3597_28_2976_S'</li><li>'X3597_30_3001_S'</li><li>'X3597_32_3036_S'</li><li>'X3597_34_3065_S'</li><li>'X3597_36_3067_S'</li><li>'X3597_38_3130_S'</li><li>'X3597_40_3161_S'</li><li>'X3597_1_97_B'</li><li>'X3597_3_2046_B'</li><li>'X3597_5_2271_B'</li><li>'X3597_7_2472_B'</li><li>'X3597_9_2492_B'</li><li>'X3597_11_2653_B'</li><li>'X3597_13_2661_B'</li><li>'X3597_15_2677_B'</li><li>'X3597_17_2691_B'</li><li>'X3597_19_2739_B'</li><li>'X3597_21_2789_B'</li><li>'X3597_23_2817_B'</li><li>'X3597_25_2852_B'</li><li>'X3597_27_2976_B'</li><li>'X3597_29_3001_B'</li><li>'X3597_31_3036_B'</li><li>'X3597_33_3065_B'</li><li>'X3597_35_3067_B'</li><li>'X3597_37_3130_B'</li><li>'X3597_39_3161_B'</li></ol>\n"
      ],
      "text/latex": [
       "\\begin{enumerate*}\n",
       "\\item 'X3597\\_2\\_97\\_S'\n",
       "\\item 'X3597\\_4\\_2046\\_S'\n",
       "\\item 'X3597\\_6\\_2271\\_S'\n",
       "\\item 'X3597\\_8\\_2472\\_S'\n",
       "\\item 'X3597\\_10\\_2492\\_S'\n",
       "\\item 'X3597\\_12\\_2653\\_S'\n",
       "\\item 'X3597\\_14\\_2661\\_S'\n",
       "\\item 'X3597\\_16\\_2677\\_S'\n",
       "\\item 'X3597\\_18\\_2691\\_S'\n",
       "\\item 'X3597\\_20\\_2739\\_S'\n",
       "\\item 'X3597\\_22\\_2789\\_S'\n",
       "\\item 'X3597\\_24\\_2817\\_S'\n",
       "\\item 'X3597\\_26\\_2852\\_S'\n",
       "\\item 'X3597\\_28\\_2976\\_S'\n",
       "\\item 'X3597\\_30\\_3001\\_S'\n",
       "\\item 'X3597\\_32\\_3036\\_S'\n",
       "\\item 'X3597\\_34\\_3065\\_S'\n",
       "\\item 'X3597\\_36\\_3067\\_S'\n",
       "\\item 'X3597\\_38\\_3130\\_S'\n",
       "\\item 'X3597\\_40\\_3161\\_S'\n",
       "\\item 'X3597\\_1\\_97\\_B'\n",
       "\\item 'X3597\\_3\\_2046\\_B'\n",
       "\\item 'X3597\\_5\\_2271\\_B'\n",
       "\\item 'X3597\\_7\\_2472\\_B'\n",
       "\\item 'X3597\\_9\\_2492\\_B'\n",
       "\\item 'X3597\\_11\\_2653\\_B'\n",
       "\\item 'X3597\\_13\\_2661\\_B'\n",
       "\\item 'X3597\\_15\\_2677\\_B'\n",
       "\\item 'X3597\\_17\\_2691\\_B'\n",
       "\\item 'X3597\\_19\\_2739\\_B'\n",
       "\\item 'X3597\\_21\\_2789\\_B'\n",
       "\\item 'X3597\\_23\\_2817\\_B'\n",
       "\\item 'X3597\\_25\\_2852\\_B'\n",
       "\\item 'X3597\\_27\\_2976\\_B'\n",
       "\\item 'X3597\\_29\\_3001\\_B'\n",
       "\\item 'X3597\\_31\\_3036\\_B'\n",
       "\\item 'X3597\\_33\\_3065\\_B'\n",
       "\\item 'X3597\\_35\\_3067\\_B'\n",
       "\\item 'X3597\\_37\\_3130\\_B'\n",
       "\\item 'X3597\\_39\\_3161\\_B'\n",
       "\\end{enumerate*}\n"
      ],
      "text/markdown": [
       "1. 'X3597_2_97_S'\n",
       "2. 'X3597_4_2046_S'\n",
       "3. 'X3597_6_2271_S'\n",
       "4. 'X3597_8_2472_S'\n",
       "5. 'X3597_10_2492_S'\n",
       "6. 'X3597_12_2653_S'\n",
       "7. 'X3597_14_2661_S'\n",
       "8. 'X3597_16_2677_S'\n",
       "9. 'X3597_18_2691_S'\n",
       "10. 'X3597_20_2739_S'\n",
       "11. 'X3597_22_2789_S'\n",
       "12. 'X3597_24_2817_S'\n",
       "13. 'X3597_26_2852_S'\n",
       "14. 'X3597_28_2976_S'\n",
       "15. 'X3597_30_3001_S'\n",
       "16. 'X3597_32_3036_S'\n",
       "17. 'X3597_34_3065_S'\n",
       "18. 'X3597_36_3067_S'\n",
       "19. 'X3597_38_3130_S'\n",
       "20. 'X3597_40_3161_S'\n",
       "21. 'X3597_1_97_B'\n",
       "22. 'X3597_3_2046_B'\n",
       "23. 'X3597_5_2271_B'\n",
       "24. 'X3597_7_2472_B'\n",
       "25. 'X3597_9_2492_B'\n",
       "26. 'X3597_11_2653_B'\n",
       "27. 'X3597_13_2661_B'\n",
       "28. 'X3597_15_2677_B'\n",
       "29. 'X3597_17_2691_B'\n",
       "30. 'X3597_19_2739_B'\n",
       "31. 'X3597_21_2789_B'\n",
       "32. 'X3597_23_2817_B'\n",
       "33. 'X3597_25_2852_B'\n",
       "34. 'X3597_27_2976_B'\n",
       "35. 'X3597_29_3001_B'\n",
       "36. 'X3597_31_3036_B'\n",
       "37. 'X3597_33_3065_B'\n",
       "38. 'X3597_35_3067_B'\n",
       "39. 'X3597_37_3130_B'\n",
       "40. 'X3597_39_3161_B'\n",
       "\n",
       "\n"
      ],
      "text/plain": [
       " [1] \"X3597_2_97_S\"    \"X3597_4_2046_S\"  \"X3597_6_2271_S\"  \"X3597_8_2472_S\" \n",
       " [5] \"X3597_10_2492_S\" \"X3597_12_2653_S\" \"X3597_14_2661_S\" \"X3597_16_2677_S\"\n",
       " [9] \"X3597_18_2691_S\" \"X3597_20_2739_S\" \"X3597_22_2789_S\" \"X3597_24_2817_S\"\n",
       "[13] \"X3597_26_2852_S\" \"X3597_28_2976_S\" \"X3597_30_3001_S\" \"X3597_32_3036_S\"\n",
       "[17] \"X3597_34_3065_S\" \"X3597_36_3067_S\" \"X3597_38_3130_S\" \"X3597_40_3161_S\"\n",
       "[21] \"X3597_1_97_B\"    \"X3597_3_2046_B\"  \"X3597_5_2271_B\"  \"X3597_7_2472_B\" \n",
       "[25] \"X3597_9_2492_B\"  \"X3597_11_2653_B\" \"X3597_13_2661_B\" \"X3597_15_2677_B\"\n",
       "[29] \"X3597_17_2691_B\" \"X3597_19_2739_B\" \"X3597_21_2789_B\" \"X3597_23_2817_B\"\n",
       "[33] \"X3597_25_2852_B\" \"X3597_27_2976_B\" \"X3597_29_3001_B\" \"X3597_31_3036_B\"\n",
       "[37] \"X3597_33_3065_B\" \"X3597_35_3067_B\" \"X3597_37_3130_B\" \"X3597_39_3161_B\""
      ]
     },
     "metadata": {},
     "output_type": "display_data"
    }
   ],
   "source": [
    "# Ordina le colonne in base alla loro ultima lettera (S o B)\n",
    "cols_order <- order(grepl(\"S$\", colnames(tmp)), grepl(\"B$\", colnames(tmp)), decreasing = TRUE)\n",
    "tmp <- tmp[, cols_order]\n",
    "\n",
    "# Verifica l'ordine delle colonne\n",
    "colnames(tmp)"
   ]
  },
  {
   "cell_type": "code",
   "execution_count": 49,
   "id": "065835f7",
   "metadata": {
    "vscode": {
     "languageId": "r"
    }
   },
   "outputs": [
    {
     "data": {
      "text/html": [
       "<table class=\"dataframe\">\n",
       "<caption>A data.frame: 2 × 40</caption>\n",
       "<thead>\n",
       "\t<tr><th></th><th scope=col>X3597_2_97_S</th><th scope=col>X3597_4_2046_S</th><th scope=col>X3597_6_2271_S</th><th scope=col>X3597_8_2472_S</th><th scope=col>X3597_10_2492_S</th><th scope=col>X3597_12_2653_S</th><th scope=col>X3597_14_2661_S</th><th scope=col>X3597_16_2677_S</th><th scope=col>X3597_18_2691_S</th><th scope=col>X3597_20_2739_S</th><th scope=col>⋯</th><th scope=col>X3597_21_2789_B</th><th scope=col>X3597_23_2817_B</th><th scope=col>X3597_25_2852_B</th><th scope=col>X3597_27_2976_B</th><th scope=col>X3597_29_3001_B</th><th scope=col>X3597_31_3036_B</th><th scope=col>X3597_33_3065_B</th><th scope=col>X3597_35_3067_B</th><th scope=col>X3597_37_3130_B</th><th scope=col>X3597_39_3161_B</th></tr>\n",
       "\t<tr><th></th><th scope=col>&lt;dbl&gt;</th><th scope=col>&lt;dbl&gt;</th><th scope=col>&lt;dbl&gt;</th><th scope=col>&lt;dbl&gt;</th><th scope=col>&lt;dbl&gt;</th><th scope=col>&lt;dbl&gt;</th><th scope=col>&lt;dbl&gt;</th><th scope=col>&lt;dbl&gt;</th><th scope=col>&lt;dbl&gt;</th><th scope=col>&lt;dbl&gt;</th><th scope=col>⋯</th><th scope=col>&lt;dbl&gt;</th><th scope=col>&lt;dbl&gt;</th><th scope=col>&lt;dbl&gt;</th><th scope=col>&lt;dbl&gt;</th><th scope=col>&lt;dbl&gt;</th><th scope=col>&lt;dbl&gt;</th><th scope=col>&lt;dbl&gt;</th><th scope=col>&lt;dbl&gt;</th><th scope=col>&lt;dbl&gt;</th><th scope=col>&lt;dbl&gt;</th></tr>\n",
       "</thead>\n",
       "<tbody>\n",
       "\t<tr><th scope=row>ENSG00000164949</th><td> 574.3897</td><td>460.3772</td><td> 738.4603</td><td>287.3285</td><td> 577.6274</td><td> 2618.739</td><td> 73.47665</td><td>1953.117</td><td> 2148.936</td><td>2128.461</td><td>⋯</td><td> 149.2673</td><td> 206.8108</td><td> 415.3594</td><td>129.0434</td><td> 552.2861</td><td> 377.354</td><td> 181.961</td><td> 502.4231</td><td> 326.7761</td><td> 434.4066</td></tr>\n",
       "\t<tr><th scope=row>ENSG00000187955</th><td>2415.7273</td><td>261.2253</td><td>7813.7088</td><td>998.9456</td><td>1933.9350</td><td>12814.551</td><td>394.59685</td><td>4997.844</td><td>12461.977</td><td>7973.447</td><td>⋯</td><td>2311.3813</td><td>1181.2202</td><td>2137.6325</td><td>612.3698</td><td>4410.3500</td><td>6528.225</td><td>2023.044</td><td>2053.2868</td><td>6159.9034</td><td>8017.1280</td></tr>\n",
       "</tbody>\n",
       "</table>\n"
      ],
      "text/latex": [
       "A data.frame: 2 × 40\n",
       "\\begin{tabular}{r|lllllllllllllllllllll}\n",
       "  & X3597\\_2\\_97\\_S & X3597\\_4\\_2046\\_S & X3597\\_6\\_2271\\_S & X3597\\_8\\_2472\\_S & X3597\\_10\\_2492\\_S & X3597\\_12\\_2653\\_S & X3597\\_14\\_2661\\_S & X3597\\_16\\_2677\\_S & X3597\\_18\\_2691\\_S & X3597\\_20\\_2739\\_S & ⋯ & X3597\\_21\\_2789\\_B & X3597\\_23\\_2817\\_B & X3597\\_25\\_2852\\_B & X3597\\_27\\_2976\\_B & X3597\\_29\\_3001\\_B & X3597\\_31\\_3036\\_B & X3597\\_33\\_3065\\_B & X3597\\_35\\_3067\\_B & X3597\\_37\\_3130\\_B & X3597\\_39\\_3161\\_B\\\\\n",
       "  & <dbl> & <dbl> & <dbl> & <dbl> & <dbl> & <dbl> & <dbl> & <dbl> & <dbl> & <dbl> & ⋯ & <dbl> & <dbl> & <dbl> & <dbl> & <dbl> & <dbl> & <dbl> & <dbl> & <dbl> & <dbl>\\\\\n",
       "\\hline\n",
       "\tENSG00000164949 &  574.3897 & 460.3772 &  738.4603 & 287.3285 &  577.6274 &  2618.739 &  73.47665 & 1953.117 &  2148.936 & 2128.461 & ⋯ &  149.2673 &  206.8108 &  415.3594 & 129.0434 &  552.2861 &  377.354 &  181.961 &  502.4231 &  326.7761 &  434.4066\\\\\n",
       "\tENSG00000187955 & 2415.7273 & 261.2253 & 7813.7088 & 998.9456 & 1933.9350 & 12814.551 & 394.59685 & 4997.844 & 12461.977 & 7973.447 & ⋯ & 2311.3813 & 1181.2202 & 2137.6325 & 612.3698 & 4410.3500 & 6528.225 & 2023.044 & 2053.2868 & 6159.9034 & 8017.1280\\\\\n",
       "\\end{tabular}\n"
      ],
      "text/markdown": [
       "\n",
       "A data.frame: 2 × 40\n",
       "\n",
       "| <!--/--> | X3597_2_97_S &lt;dbl&gt; | X3597_4_2046_S &lt;dbl&gt; | X3597_6_2271_S &lt;dbl&gt; | X3597_8_2472_S &lt;dbl&gt; | X3597_10_2492_S &lt;dbl&gt; | X3597_12_2653_S &lt;dbl&gt; | X3597_14_2661_S &lt;dbl&gt; | X3597_16_2677_S &lt;dbl&gt; | X3597_18_2691_S &lt;dbl&gt; | X3597_20_2739_S &lt;dbl&gt; | ⋯ ⋯ | X3597_21_2789_B &lt;dbl&gt; | X3597_23_2817_B &lt;dbl&gt; | X3597_25_2852_B &lt;dbl&gt; | X3597_27_2976_B &lt;dbl&gt; | X3597_29_3001_B &lt;dbl&gt; | X3597_31_3036_B &lt;dbl&gt; | X3597_33_3065_B &lt;dbl&gt; | X3597_35_3067_B &lt;dbl&gt; | X3597_37_3130_B &lt;dbl&gt; | X3597_39_3161_B &lt;dbl&gt; |\n",
       "|---|---|---|---|---|---|---|---|---|---|---|---|---|---|---|---|---|---|---|---|---|---|\n",
       "| ENSG00000164949 |  574.3897 | 460.3772 |  738.4603 | 287.3285 |  577.6274 |  2618.739 |  73.47665 | 1953.117 |  2148.936 | 2128.461 | ⋯ |  149.2673 |  206.8108 |  415.3594 | 129.0434 |  552.2861 |  377.354 |  181.961 |  502.4231 |  326.7761 |  434.4066 |\n",
       "| ENSG00000187955 | 2415.7273 | 261.2253 | 7813.7088 | 998.9456 | 1933.9350 | 12814.551 | 394.59685 | 4997.844 | 12461.977 | 7973.447 | ⋯ | 2311.3813 | 1181.2202 | 2137.6325 | 612.3698 | 4410.3500 | 6528.225 | 2023.044 | 2053.2868 | 6159.9034 | 8017.1280 |\n",
       "\n"
      ],
      "text/plain": [
       "                X3597_2_97_S X3597_4_2046_S X3597_6_2271_S X3597_8_2472_S\n",
       "ENSG00000164949  574.3897    460.3772        738.4603      287.3285      \n",
       "ENSG00000187955 2415.7273    261.2253       7813.7088      998.9456      \n",
       "                X3597_10_2492_S X3597_12_2653_S X3597_14_2661_S X3597_16_2677_S\n",
       "ENSG00000164949  577.6274        2618.739        73.47665       1953.117       \n",
       "ENSG00000187955 1933.9350       12814.551       394.59685       4997.844       \n",
       "                X3597_18_2691_S X3597_20_2739_S ⋯ X3597_21_2789_B\n",
       "ENSG00000164949  2148.936       2128.461        ⋯  149.2673      \n",
       "ENSG00000187955 12461.977       7973.447        ⋯ 2311.3813      \n",
       "                X3597_23_2817_B X3597_25_2852_B X3597_27_2976_B X3597_29_3001_B\n",
       "ENSG00000164949  206.8108        415.3594       129.0434         552.2861      \n",
       "ENSG00000187955 1181.2202       2137.6325       612.3698        4410.3500      \n",
       "                X3597_31_3036_B X3597_33_3065_B X3597_35_3067_B X3597_37_3130_B\n",
       "ENSG00000164949  377.354         181.961         502.4231        326.7761      \n",
       "ENSG00000187955 6528.225        2023.044        2053.2868       6159.9034      \n",
       "                X3597_39_3161_B\n",
       "ENSG00000164949  434.4066      \n",
       "ENSG00000187955 8017.1280      "
      ]
     },
     "metadata": {},
     "output_type": "display_data"
    }
   ],
   "source": [
    "tmp  %>% head(2)"
   ]
  },
  {
   "cell_type": "code",
   "execution_count": 50,
   "id": "3a6468d8",
   "metadata": {
    "vscode": {
     "languageId": "r"
    }
   },
   "outputs": [],
   "source": [
    "#Add a small offset to avoid log(0) and transfirned in log2 to stabilize the variance \n",
    "tpm_log2 <- log2(tmp + 1)\n",
    "geneexp = as.matrix(tpm_log2)"
   ]
  },
  {
   "cell_type": "code",
   "execution_count": 51,
   "id": "62a13ed9",
   "metadata": {
    "vscode": {
     "languageId": "r"
    }
   },
   "outputs": [],
   "source": [
    "hallmark_genesets <- msigdbr(subcategory = \"CP:REACTOME\", species = \"Homo sapiens\", category = \"C2\")\n",
    "#hallmark_genesets <- msigdbr(subcategory = \"CP:WIKIPATHWAYS\", species = \"Homo sapiens\", category = \"C2\")\n",
    "#hallmark_genesets <- msigdbr(subcategory = \"GO:BP\", species = \"Homo sapiens\", category = \"C5\")"
   ]
  },
  {
   "cell_type": "code",
   "execution_count": 52,
   "id": "a7163e5c",
   "metadata": {
    "vscode": {
     "languageId": "r"
    }
   },
   "outputs": [],
   "source": [
    "#create different list for each pathway or hallmark\n",
    "hallmark_genesets <- split(hallmark_genesets$human_ensembl_gene, hallmark_genesets$gs_name)\n"
   ]
  },
  {
   "cell_type": "code",
   "execution_count": 53,
   "id": "b37a18a1",
   "metadata": {
    "vscode": {
     "languageId": "r"
    }
   },
   "outputs": [
    {
     "data": {
      "text/html": [
       "'list'"
      ],
      "text/latex": [
       "'list'"
      ],
      "text/markdown": [
       "'list'"
      ],
      "text/plain": [
       "[1] \"list\""
      ]
     },
     "metadata": {},
     "output_type": "display_data"
    },
    {
     "data": {
      "text/html": [
       "1615"
      ],
      "text/latex": [
       "1615"
      ],
      "text/markdown": [
       "1615"
      ],
      "text/plain": [
       "[1] 1615"
      ]
     },
     "metadata": {},
     "output_type": "display_data"
    },
    {
     "data": {
      "text/html": [
       "<dl>\n",
       "\t<dt>$REACTOME_2_LTR_CIRCLE_FORMATION</dt>\n",
       "\t\t<dd><style>\n",
       ".list-inline {list-style: none; margin:0; padding: 0}\n",
       ".list-inline>li {display: inline-block}\n",
       ".list-inline>li:not(:last-child)::after {content: \"\\00b7\"; padding: 0 .5ex}\n",
       "</style>\n",
       "<ol class=list-inline><li>'ENSG00000175334'</li><li>'ENSG00000137309'</li><li>'ENSG00000174405'</li><li>'ENSG00000164985'</li><li>'ENSG00000152422'</li><li>'ENSG00000079246'</li></ol>\n",
       "</dd>\n",
       "\t<dt>$REACTOME_A_TETRASACCHARIDE_LINKER_SEQUENCE_IS_REQUIRED_FOR_GAG_SYNTHESIS</dt>\n",
       "\t\t<dd><style>\n",
       ".list-inline {list-style: none; margin:0; padding: 0}\n",
       ".list-inline>li {display: inline-block}\n",
       ".list-inline>li:not(:last-child)::after {content: \"\\00b7\"; padding: 0 .5ex}\n",
       "</style>\n",
       "<ol class=list-inline><li>'ENSG00000188157'</li><li>'ENSG00000176022'</li><li>'ENSG00000109956'</li><li>'ENSG00000112309'</li><li>'ENSG00000149541'</li><li>'ENSG00000027847'</li></ol>\n",
       "</dd>\n",
       "\t<dt>$REACTOME_ABACAVIR_METABOLISM</dt>\n",
       "\t\t<dd><style>\n",
       ".list-inline {list-style: none; margin:0; padding: 0}\n",
       ".list-inline>li {display: inline-block}\n",
       ".list-inline>li:not(:last-child)::after {content: \"\\00b7\"; padding: 0 .5ex}\n",
       "</style>\n",
       "<ol class=list-inline><li>'ENSG00000168803'</li><li>'ENSG00000187758'</li><li>'ENSG00000143774'</li><li>'ENSG00000076685'</li><li>'ENSG00000124253'</li></ol>\n",
       "</dd>\n",
       "\t<dt>$REACTOME_ABACAVIR_TRANSMEMBRANE_TRANSPORT</dt>\n",
       "\t\t<dd><style>\n",
       ".list-inline {list-style: none; margin:0; padding: 0}\n",
       ".list-inline>li {display: inline-block}\n",
       ".list-inline>li:not(:last-child)::after {content: \"\\00b7\"; padding: 0 .5ex}\n",
       "</style>\n",
       "<ol class=list-inline><li>'ENSG00000085563'</li><li>'ENSG00000118777'</li><li>'ENSG00000175003'</li><li>'ENSG00000112499'</li><li>'ENSG00000146477'</li></ol>\n",
       "</dd>\n",
       "\t<dt>$REACTOME_ABACAVIR_TRANSPORT_AND_METABOLISM</dt>\n",
       "\t\t<dd><style>\n",
       ".list-inline {list-style: none; margin:0; padding: 0}\n",
       ".list-inline>li {display: inline-block}\n",
       ".list-inline>li:not(:last-child)::after {content: \"\\00b7\"; padding: 0 .5ex}\n",
       "</style>\n",
       "<ol class=list-inline><li>'ENSG00000085563'</li><li>'ENSG00000118777'</li><li>'ENSG00000168803'</li><li>'ENSG00000187758'</li><li>'ENSG00000143774'</li><li>'ENSG00000076685'</li></ol>\n",
       "</dd>\n",
       "\t<dt>$REACTOME_ABC_FAMILY_PROTEINS_MEDIATED_TRANSPORT</dt>\n",
       "\t\t<dd><style>\n",
       ".list-inline {list-style: none; margin:0; padding: 0}\n",
       ".list-inline>li {display: inline-block}\n",
       ".list-inline>li:not(:last-child)::after {content: \"\\00b7\"; padding: 0 .5ex}\n",
       "</style>\n",
       "<ol class=list-inline><li>'ENSG00000154263'</li><li>'ENSG00000144452'</li><li>'ENSG00000107331'</li><li>'ENSG00000167972'</li><li>'ENSG00000198691'</li><li>'ENSG00000154265'</li></ol>\n",
       "</dd>\n",
       "</dl>\n"
      ],
      "text/latex": [
       "\\begin{description}\n",
       "\\item[\\$REACTOME\\_2\\_LTR\\_CIRCLE\\_FORMATION] \\begin{enumerate*}\n",
       "\\item 'ENSG00000175334'\n",
       "\\item 'ENSG00000137309'\n",
       "\\item 'ENSG00000174405'\n",
       "\\item 'ENSG00000164985'\n",
       "\\item 'ENSG00000152422'\n",
       "\\item 'ENSG00000079246'\n",
       "\\end{enumerate*}\n",
       "\n",
       "\\item[\\$REACTOME\\_A\\_TETRASACCHARIDE\\_LINKER\\_SEQUENCE\\_IS\\_REQUIRED\\_FOR\\_GAG\\_SYNTHESIS] \\begin{enumerate*}\n",
       "\\item 'ENSG00000188157'\n",
       "\\item 'ENSG00000176022'\n",
       "\\item 'ENSG00000109956'\n",
       "\\item 'ENSG00000112309'\n",
       "\\item 'ENSG00000149541'\n",
       "\\item 'ENSG00000027847'\n",
       "\\end{enumerate*}\n",
       "\n",
       "\\item[\\$REACTOME\\_ABACAVIR\\_METABOLISM] \\begin{enumerate*}\n",
       "\\item 'ENSG00000168803'\n",
       "\\item 'ENSG00000187758'\n",
       "\\item 'ENSG00000143774'\n",
       "\\item 'ENSG00000076685'\n",
       "\\item 'ENSG00000124253'\n",
       "\\end{enumerate*}\n",
       "\n",
       "\\item[\\$REACTOME\\_ABACAVIR\\_TRANSMEMBRANE\\_TRANSPORT] \\begin{enumerate*}\n",
       "\\item 'ENSG00000085563'\n",
       "\\item 'ENSG00000118777'\n",
       "\\item 'ENSG00000175003'\n",
       "\\item 'ENSG00000112499'\n",
       "\\item 'ENSG00000146477'\n",
       "\\end{enumerate*}\n",
       "\n",
       "\\item[\\$REACTOME\\_ABACAVIR\\_TRANSPORT\\_AND\\_METABOLISM] \\begin{enumerate*}\n",
       "\\item 'ENSG00000085563'\n",
       "\\item 'ENSG00000118777'\n",
       "\\item 'ENSG00000168803'\n",
       "\\item 'ENSG00000187758'\n",
       "\\item 'ENSG00000143774'\n",
       "\\item 'ENSG00000076685'\n",
       "\\end{enumerate*}\n",
       "\n",
       "\\item[\\$REACTOME\\_ABC\\_FAMILY\\_PROTEINS\\_MEDIATED\\_TRANSPORT] \\begin{enumerate*}\n",
       "\\item 'ENSG00000154263'\n",
       "\\item 'ENSG00000144452'\n",
       "\\item 'ENSG00000107331'\n",
       "\\item 'ENSG00000167972'\n",
       "\\item 'ENSG00000198691'\n",
       "\\item 'ENSG00000154265'\n",
       "\\end{enumerate*}\n",
       "\n",
       "\\end{description}\n"
      ],
      "text/markdown": [
       "$REACTOME_2_LTR_CIRCLE_FORMATION\n",
       ":   1. 'ENSG00000175334'\n",
       "2. 'ENSG00000137309'\n",
       "3. 'ENSG00000174405'\n",
       "4. 'ENSG00000164985'\n",
       "5. 'ENSG00000152422'\n",
       "6. 'ENSG00000079246'\n",
       "\n",
       "\n",
       "\n",
       "$REACTOME_A_TETRASACCHARIDE_LINKER_SEQUENCE_IS_REQUIRED_FOR_GAG_SYNTHESIS\n",
       ":   1. 'ENSG00000188157'\n",
       "2. 'ENSG00000176022'\n",
       "3. 'ENSG00000109956'\n",
       "4. 'ENSG00000112309'\n",
       "5. 'ENSG00000149541'\n",
       "6. 'ENSG00000027847'\n",
       "\n",
       "\n",
       "\n",
       "$REACTOME_ABACAVIR_METABOLISM\n",
       ":   1. 'ENSG00000168803'\n",
       "2. 'ENSG00000187758'\n",
       "3. 'ENSG00000143774'\n",
       "4. 'ENSG00000076685'\n",
       "5. 'ENSG00000124253'\n",
       "\n",
       "\n",
       "\n",
       "$REACTOME_ABACAVIR_TRANSMEMBRANE_TRANSPORT\n",
       ":   1. 'ENSG00000085563'\n",
       "2. 'ENSG00000118777'\n",
       "3. 'ENSG00000175003'\n",
       "4. 'ENSG00000112499'\n",
       "5. 'ENSG00000146477'\n",
       "\n",
       "\n",
       "\n",
       "$REACTOME_ABACAVIR_TRANSPORT_AND_METABOLISM\n",
       ":   1. 'ENSG00000085563'\n",
       "2. 'ENSG00000118777'\n",
       "3. 'ENSG00000168803'\n",
       "4. 'ENSG00000187758'\n",
       "5. 'ENSG00000143774'\n",
       "6. 'ENSG00000076685'\n",
       "\n",
       "\n",
       "\n",
       "$REACTOME_ABC_FAMILY_PROTEINS_MEDIATED_TRANSPORT\n",
       ":   1. 'ENSG00000154263'\n",
       "2. 'ENSG00000144452'\n",
       "3. 'ENSG00000107331'\n",
       "4. 'ENSG00000167972'\n",
       "5. 'ENSG00000198691'\n",
       "6. 'ENSG00000154265'\n",
       "\n",
       "\n",
       "\n",
       "\n",
       "\n"
      ],
      "text/plain": [
       "$REACTOME_2_LTR_CIRCLE_FORMATION\n",
       "[1] \"ENSG00000175334\" \"ENSG00000137309\" \"ENSG00000174405\" \"ENSG00000164985\"\n",
       "[5] \"ENSG00000152422\" \"ENSG00000079246\"\n",
       "\n",
       "$REACTOME_A_TETRASACCHARIDE_LINKER_SEQUENCE_IS_REQUIRED_FOR_GAG_SYNTHESIS\n",
       "[1] \"ENSG00000188157\" \"ENSG00000176022\" \"ENSG00000109956\" \"ENSG00000112309\"\n",
       "[5] \"ENSG00000149541\" \"ENSG00000027847\"\n",
       "\n",
       "$REACTOME_ABACAVIR_METABOLISM\n",
       "[1] \"ENSG00000168803\" \"ENSG00000187758\" \"ENSG00000143774\" \"ENSG00000076685\"\n",
       "[5] \"ENSG00000124253\"\n",
       "\n",
       "$REACTOME_ABACAVIR_TRANSMEMBRANE_TRANSPORT\n",
       "[1] \"ENSG00000085563\" \"ENSG00000118777\" \"ENSG00000175003\" \"ENSG00000112499\"\n",
       "[5] \"ENSG00000146477\"\n",
       "\n",
       "$REACTOME_ABACAVIR_TRANSPORT_AND_METABOLISM\n",
       "[1] \"ENSG00000085563\" \"ENSG00000118777\" \"ENSG00000168803\" \"ENSG00000187758\"\n",
       "[5] \"ENSG00000143774\" \"ENSG00000076685\"\n",
       "\n",
       "$REACTOME_ABC_FAMILY_PROTEINS_MEDIATED_TRANSPORT\n",
       "[1] \"ENSG00000154263\" \"ENSG00000144452\" \"ENSG00000107331\" \"ENSG00000167972\"\n",
       "[5] \"ENSG00000198691\" \"ENSG00000154265\"\n"
      ]
     },
     "metadata": {},
     "output_type": "display_data"
    }
   ],
   "source": [
    "class(hallmark_genesets)\n",
    "length(hallmark_genesets)\n",
    "head(lapply(hallmark_genesets, head))"
   ]
  },
  {
   "cell_type": "code",
   "execution_count": 54,
   "id": "a8f7d78b",
   "metadata": {
    "vscode": {
     "languageId": "r"
    }
   },
   "outputs": [
    {
     "name": "stdout",
     "output_type": "stream",
     "text": [
      "Estimating GSVA scores for 1615 gene sets.\n",
      "Estimating ECDFs with Gaussian kernels\n",
      "  |======================================================================| 100%\n",
      "\n"
     ]
    }
   ],
   "source": [
    "## build GSVA parameter object\n",
    "gsvapar <- gsvaParam(geneexp, hallmark_genesets, maxDiff=TRUE) #default to say maximize score if all genes have same directionality\n",
    "\n",
    "## estimate GSVA enrichment scores for the three sets\n",
    "gsva_es <- gsva(gsvapar)\n"
   ]
  },
  {
   "cell_type": "code",
   "execution_count": 55,
   "id": "434133c3",
   "metadata": {
    "vscode": {
     "languageId": "r"
    }
   },
   "outputs": [
    {
     "data": {
      "text/html": [
       "<table class=\"dataframe\">\n",
       "<caption>A matrix: 8 × 40 of type dbl</caption>\n",
       "<thead>\n",
       "\t<tr><th></th><th scope=col>X3597_2_97_S</th><th scope=col>X3597_4_2046_S</th><th scope=col>X3597_6_2271_S</th><th scope=col>X3597_8_2472_S</th><th scope=col>X3597_10_2492_S</th><th scope=col>X3597_12_2653_S</th><th scope=col>X3597_14_2661_S</th><th scope=col>X3597_16_2677_S</th><th scope=col>X3597_18_2691_S</th><th scope=col>X3597_20_2739_S</th><th scope=col>⋯</th><th scope=col>X3597_21_2789_B</th><th scope=col>X3597_23_2817_B</th><th scope=col>X3597_25_2852_B</th><th scope=col>X3597_27_2976_B</th><th scope=col>X3597_29_3001_B</th><th scope=col>X3597_31_3036_B</th><th scope=col>X3597_33_3065_B</th><th scope=col>X3597_35_3067_B</th><th scope=col>X3597_37_3130_B</th><th scope=col>X3597_39_3161_B</th></tr>\n",
       "</thead>\n",
       "<tbody>\n",
       "\t<tr><th scope=row>REACTOME_DNA_DAMAGE_BYPASS</th><td>-0.4345075</td><td>0.6141050</td><td> 0.098987168</td><td> 0.33246427</td><td> 0.20017068</td><td>-0.39478513</td><td> 0.09069275</td><td>-0.18837716</td><td>-0.37702488</td><td>-0.38239377</td><td>⋯</td><td>0.4029317</td><td>0.3238451</td><td> 0.07729776</td><td> 0.12836354</td><td>-0.17821885</td><td>-0.4053338</td><td> 0.34427884</td><td>-0.21765147</td><td>-0.19179382</td><td>-0.4271841</td></tr>\n",
       "\t<tr><th scope=row>REACTOME_DNA_DAMAGE_RECOGNITION_IN_GG_NER</th><td>-0.1503649</td><td>0.5338686</td><td> 0.154854605</td><td> 0.02246793</td><td>-0.01469429</td><td>-0.08766837</td><td> 0.35044548</td><td>-0.10856693</td><td>-0.00237980</td><td>-0.28736486</td><td>⋯</td><td>0.3993641</td><td>0.1796580</td><td> 0.05471284</td><td> 0.22570427</td><td> 0.23761164</td><td>-0.1049951</td><td> 0.15875471</td><td> 0.05085306</td><td>-0.36285158</td><td>-0.3009085</td></tr>\n",
       "\t<tr><th scope=row>REACTOME_DNA_DAMAGE_REVERSAL</th><td>-0.3686594</td><td>0.6527823</td><td>-0.474064569</td><td>-0.06580881</td><td> 0.21863798</td><td> 0.05019829</td><td> 0.42514550</td><td> 0.07214699</td><td>-0.44496352</td><td> 0.19683543</td><td>⋯</td><td>0.6460978</td><td>0.1470116</td><td> 0.38992972</td><td>-0.37916426</td><td> 0.12063455</td><td> 0.2516622</td><td>-0.09547926</td><td>-0.24134467</td><td>-0.06450199</td><td>-0.1876806</td></tr>\n",
       "\t<tr><th scope=row>REACTOME_DNA_DAMAGE_TELOMERE_STRESS_INDUCED_SENESCENCE</th><td>-0.4163097</td><td>0.2774775</td><td>-0.000241243</td><td> 0.15555166</td><td> 0.11491457</td><td>-0.29017119</td><td>-0.18583907</td><td> 0.35462916</td><td>-0.06254941</td><td> 0.05466965</td><td>⋯</td><td>0.3635636</td><td>0.3686340</td><td>-0.11103465</td><td> 0.21148577</td><td> 0.02872865</td><td>-0.4420460</td><td> 0.34968222</td><td>-0.38416002</td><td>-0.13589588</td><td>-0.5124354</td></tr>\n",
       "\t<tr><th scope=row>REACTOME_G1_S_DNA_DAMAGE_CHECKPOINTS</th><td>-0.4511242</td><td>0.5751805</td><td> 0.075747793</td><td> 0.43550331</td><td> 0.28070459</td><td>-0.12438103</td><td>-0.38234106</td><td>-0.09406390</td><td>-0.10035956</td><td>-0.49559380</td><td>⋯</td><td>0.5152130</td><td>0.3138794</td><td> 0.25193618</td><td> 0.57674406</td><td>-0.21540623</td><td>-0.2424820</td><td> 0.33068843</td><td>-0.13275219</td><td>-0.11103408</td><td>-0.3606252</td></tr>\n",
       "\t<tr><th scope=row>REACTOME_G2_M_DNA_DAMAGE_CHECKPOINT</th><td>-0.4641091</td><td>0.5161503</td><td> 0.203003105</td><td> 0.44510588</td><td> 0.14469788</td><td>-0.35283781</td><td>-0.07590880</td><td> 0.15476167</td><td>-0.36403627</td><td>-0.13373505</td><td>⋯</td><td>0.3843273</td><td>0.5760117</td><td> 0.04963402</td><td> 0.14846863</td><td>-0.17159956</td><td>-0.4330428</td><td> 0.40078306</td><td> 0.06015924</td><td>-0.30672131</td><td>-0.4870813</td></tr>\n",
       "\t<tr><th scope=row>REACTOME_RECOGNITION_OF_DNA_DAMAGE_BY_PCNA_CONTAINING_REPLICATION_COMPLEX</th><td>-0.4917633</td><td>0.6775597</td><td> 0.192205650</td><td> 0.41282879</td><td> 0.22156650</td><td>-0.47563744</td><td> 0.16695859</td><td>-0.25735862</td><td>-0.42667551</td><td>-0.45370068</td><td>⋯</td><td>0.6071752</td><td>0.4240519</td><td> 0.29407136</td><td> 0.03030275</td><td>-0.13177340</td><td>-0.4005132</td><td> 0.48759666</td><td>-0.04113326</td><td>-0.23457744</td><td>-0.5386474</td></tr>\n",
       "\t<tr><th scope=row>REACTOME_SUMOYLATION_OF_DNA_DAMAGE_RESPONSE_AND_REPAIR_PROTEINS</th><td>-0.2435075</td><td>0.5171007</td><td> 0.437300960</td><td> 0.32731412</td><td> 0.14212678</td><td>-0.30571338</td><td> 0.27136421</td><td>-0.06627334</td><td>-0.38290331</td><td>-0.32110976</td><td>⋯</td><td>0.2947529</td><td>0.2610331</td><td>-0.15046808</td><td> 0.03405723</td><td>-0.06700534</td><td>-0.3308982</td><td> 0.20864033</td><td>-0.30240104</td><td>-0.26297577</td><td>-0.4038893</td></tr>\n",
       "</tbody>\n",
       "</table>\n"
      ],
      "text/latex": [
       "A matrix: 8 × 40 of type dbl\n",
       "\\begin{tabular}{r|lllllllllllllllllllll}\n",
       "  & X3597\\_2\\_97\\_S & X3597\\_4\\_2046\\_S & X3597\\_6\\_2271\\_S & X3597\\_8\\_2472\\_S & X3597\\_10\\_2492\\_S & X3597\\_12\\_2653\\_S & X3597\\_14\\_2661\\_S & X3597\\_16\\_2677\\_S & X3597\\_18\\_2691\\_S & X3597\\_20\\_2739\\_S & ⋯ & X3597\\_21\\_2789\\_B & X3597\\_23\\_2817\\_B & X3597\\_25\\_2852\\_B & X3597\\_27\\_2976\\_B & X3597\\_29\\_3001\\_B & X3597\\_31\\_3036\\_B & X3597\\_33\\_3065\\_B & X3597\\_35\\_3067\\_B & X3597\\_37\\_3130\\_B & X3597\\_39\\_3161\\_B\\\\\n",
       "\\hline\n",
       "\tREACTOME\\_DNA\\_DAMAGE\\_BYPASS & -0.4345075 & 0.6141050 &  0.098987168 &  0.33246427 &  0.20017068 & -0.39478513 &  0.09069275 & -0.18837716 & -0.37702488 & -0.38239377 & ⋯ & 0.4029317 & 0.3238451 &  0.07729776 &  0.12836354 & -0.17821885 & -0.4053338 &  0.34427884 & -0.21765147 & -0.19179382 & -0.4271841\\\\\n",
       "\tREACTOME\\_DNA\\_DAMAGE\\_RECOGNITION\\_IN\\_GG\\_NER & -0.1503649 & 0.5338686 &  0.154854605 &  0.02246793 & -0.01469429 & -0.08766837 &  0.35044548 & -0.10856693 & -0.00237980 & -0.28736486 & ⋯ & 0.3993641 & 0.1796580 &  0.05471284 &  0.22570427 &  0.23761164 & -0.1049951 &  0.15875471 &  0.05085306 & -0.36285158 & -0.3009085\\\\\n",
       "\tREACTOME\\_DNA\\_DAMAGE\\_REVERSAL & -0.3686594 & 0.6527823 & -0.474064569 & -0.06580881 &  0.21863798 &  0.05019829 &  0.42514550 &  0.07214699 & -0.44496352 &  0.19683543 & ⋯ & 0.6460978 & 0.1470116 &  0.38992972 & -0.37916426 &  0.12063455 &  0.2516622 & -0.09547926 & -0.24134467 & -0.06450199 & -0.1876806\\\\\n",
       "\tREACTOME\\_DNA\\_DAMAGE\\_TELOMERE\\_STRESS\\_INDUCED\\_SENESCENCE & -0.4163097 & 0.2774775 & -0.000241243 &  0.15555166 &  0.11491457 & -0.29017119 & -0.18583907 &  0.35462916 & -0.06254941 &  0.05466965 & ⋯ & 0.3635636 & 0.3686340 & -0.11103465 &  0.21148577 &  0.02872865 & -0.4420460 &  0.34968222 & -0.38416002 & -0.13589588 & -0.5124354\\\\\n",
       "\tREACTOME\\_G1\\_S\\_DNA\\_DAMAGE\\_CHECKPOINTS & -0.4511242 & 0.5751805 &  0.075747793 &  0.43550331 &  0.28070459 & -0.12438103 & -0.38234106 & -0.09406390 & -0.10035956 & -0.49559380 & ⋯ & 0.5152130 & 0.3138794 &  0.25193618 &  0.57674406 & -0.21540623 & -0.2424820 &  0.33068843 & -0.13275219 & -0.11103408 & -0.3606252\\\\\n",
       "\tREACTOME\\_G2\\_M\\_DNA\\_DAMAGE\\_CHECKPOINT & -0.4641091 & 0.5161503 &  0.203003105 &  0.44510588 &  0.14469788 & -0.35283781 & -0.07590880 &  0.15476167 & -0.36403627 & -0.13373505 & ⋯ & 0.3843273 & 0.5760117 &  0.04963402 &  0.14846863 & -0.17159956 & -0.4330428 &  0.40078306 &  0.06015924 & -0.30672131 & -0.4870813\\\\\n",
       "\tREACTOME\\_RECOGNITION\\_OF\\_DNA\\_DAMAGE\\_BY\\_PCNA\\_CONTAINING\\_REPLICATION\\_COMPLEX & -0.4917633 & 0.6775597 &  0.192205650 &  0.41282879 &  0.22156650 & -0.47563744 &  0.16695859 & -0.25735862 & -0.42667551 & -0.45370068 & ⋯ & 0.6071752 & 0.4240519 &  0.29407136 &  0.03030275 & -0.13177340 & -0.4005132 &  0.48759666 & -0.04113326 & -0.23457744 & -0.5386474\\\\\n",
       "\tREACTOME\\_SUMOYLATION\\_OF\\_DNA\\_DAMAGE\\_RESPONSE\\_AND\\_REPAIR\\_PROTEINS & -0.2435075 & 0.5171007 &  0.437300960 &  0.32731412 &  0.14212678 & -0.30571338 &  0.27136421 & -0.06627334 & -0.38290331 & -0.32110976 & ⋯ & 0.2947529 & 0.2610331 & -0.15046808 &  0.03405723 & -0.06700534 & -0.3308982 &  0.20864033 & -0.30240104 & -0.26297577 & -0.4038893\\\\\n",
       "\\end{tabular}\n"
      ],
      "text/markdown": [
       "\n",
       "A matrix: 8 × 40 of type dbl\n",
       "\n",
       "| <!--/--> | X3597_2_97_S | X3597_4_2046_S | X3597_6_2271_S | X3597_8_2472_S | X3597_10_2492_S | X3597_12_2653_S | X3597_14_2661_S | X3597_16_2677_S | X3597_18_2691_S | X3597_20_2739_S | ⋯ | X3597_21_2789_B | X3597_23_2817_B | X3597_25_2852_B | X3597_27_2976_B | X3597_29_3001_B | X3597_31_3036_B | X3597_33_3065_B | X3597_35_3067_B | X3597_37_3130_B | X3597_39_3161_B |\n",
       "|---|---|---|---|---|---|---|---|---|---|---|---|---|---|---|---|---|---|---|---|---|---|\n",
       "| REACTOME_DNA_DAMAGE_BYPASS | -0.4345075 | 0.6141050 |  0.098987168 |  0.33246427 |  0.20017068 | -0.39478513 |  0.09069275 | -0.18837716 | -0.37702488 | -0.38239377 | ⋯ | 0.4029317 | 0.3238451 |  0.07729776 |  0.12836354 | -0.17821885 | -0.4053338 |  0.34427884 | -0.21765147 | -0.19179382 | -0.4271841 |\n",
       "| REACTOME_DNA_DAMAGE_RECOGNITION_IN_GG_NER | -0.1503649 | 0.5338686 |  0.154854605 |  0.02246793 | -0.01469429 | -0.08766837 |  0.35044548 | -0.10856693 | -0.00237980 | -0.28736486 | ⋯ | 0.3993641 | 0.1796580 |  0.05471284 |  0.22570427 |  0.23761164 | -0.1049951 |  0.15875471 |  0.05085306 | -0.36285158 | -0.3009085 |\n",
       "| REACTOME_DNA_DAMAGE_REVERSAL | -0.3686594 | 0.6527823 | -0.474064569 | -0.06580881 |  0.21863798 |  0.05019829 |  0.42514550 |  0.07214699 | -0.44496352 |  0.19683543 | ⋯ | 0.6460978 | 0.1470116 |  0.38992972 | -0.37916426 |  0.12063455 |  0.2516622 | -0.09547926 | -0.24134467 | -0.06450199 | -0.1876806 |\n",
       "| REACTOME_DNA_DAMAGE_TELOMERE_STRESS_INDUCED_SENESCENCE | -0.4163097 | 0.2774775 | -0.000241243 |  0.15555166 |  0.11491457 | -0.29017119 | -0.18583907 |  0.35462916 | -0.06254941 |  0.05466965 | ⋯ | 0.3635636 | 0.3686340 | -0.11103465 |  0.21148577 |  0.02872865 | -0.4420460 |  0.34968222 | -0.38416002 | -0.13589588 | -0.5124354 |\n",
       "| REACTOME_G1_S_DNA_DAMAGE_CHECKPOINTS | -0.4511242 | 0.5751805 |  0.075747793 |  0.43550331 |  0.28070459 | -0.12438103 | -0.38234106 | -0.09406390 | -0.10035956 | -0.49559380 | ⋯ | 0.5152130 | 0.3138794 |  0.25193618 |  0.57674406 | -0.21540623 | -0.2424820 |  0.33068843 | -0.13275219 | -0.11103408 | -0.3606252 |\n",
       "| REACTOME_G2_M_DNA_DAMAGE_CHECKPOINT | -0.4641091 | 0.5161503 |  0.203003105 |  0.44510588 |  0.14469788 | -0.35283781 | -0.07590880 |  0.15476167 | -0.36403627 | -0.13373505 | ⋯ | 0.3843273 | 0.5760117 |  0.04963402 |  0.14846863 | -0.17159956 | -0.4330428 |  0.40078306 |  0.06015924 | -0.30672131 | -0.4870813 |\n",
       "| REACTOME_RECOGNITION_OF_DNA_DAMAGE_BY_PCNA_CONTAINING_REPLICATION_COMPLEX | -0.4917633 | 0.6775597 |  0.192205650 |  0.41282879 |  0.22156650 | -0.47563744 |  0.16695859 | -0.25735862 | -0.42667551 | -0.45370068 | ⋯ | 0.6071752 | 0.4240519 |  0.29407136 |  0.03030275 | -0.13177340 | -0.4005132 |  0.48759666 | -0.04113326 | -0.23457744 | -0.5386474 |\n",
       "| REACTOME_SUMOYLATION_OF_DNA_DAMAGE_RESPONSE_AND_REPAIR_PROTEINS | -0.2435075 | 0.5171007 |  0.437300960 |  0.32731412 |  0.14212678 | -0.30571338 |  0.27136421 | -0.06627334 | -0.38290331 | -0.32110976 | ⋯ | 0.2947529 | 0.2610331 | -0.15046808 |  0.03405723 | -0.06700534 | -0.3308982 |  0.20864033 | -0.30240104 | -0.26297577 | -0.4038893 |\n",
       "\n"
      ],
      "text/plain": [
       "                                                                          X3597_2_97_S\n",
       "REACTOME_DNA_DAMAGE_BYPASS                                                -0.4345075  \n",
       "REACTOME_DNA_DAMAGE_RECOGNITION_IN_GG_NER                                 -0.1503649  \n",
       "REACTOME_DNA_DAMAGE_REVERSAL                                              -0.3686594  \n",
       "REACTOME_DNA_DAMAGE_TELOMERE_STRESS_INDUCED_SENESCENCE                    -0.4163097  \n",
       "REACTOME_G1_S_DNA_DAMAGE_CHECKPOINTS                                      -0.4511242  \n",
       "REACTOME_G2_M_DNA_DAMAGE_CHECKPOINT                                       -0.4641091  \n",
       "REACTOME_RECOGNITION_OF_DNA_DAMAGE_BY_PCNA_CONTAINING_REPLICATION_COMPLEX -0.4917633  \n",
       "REACTOME_SUMOYLATION_OF_DNA_DAMAGE_RESPONSE_AND_REPAIR_PROTEINS           -0.2435075  \n",
       "                                                                          X3597_4_2046_S\n",
       "REACTOME_DNA_DAMAGE_BYPASS                                                0.6141050     \n",
       "REACTOME_DNA_DAMAGE_RECOGNITION_IN_GG_NER                                 0.5338686     \n",
       "REACTOME_DNA_DAMAGE_REVERSAL                                              0.6527823     \n",
       "REACTOME_DNA_DAMAGE_TELOMERE_STRESS_INDUCED_SENESCENCE                    0.2774775     \n",
       "REACTOME_G1_S_DNA_DAMAGE_CHECKPOINTS                                      0.5751805     \n",
       "REACTOME_G2_M_DNA_DAMAGE_CHECKPOINT                                       0.5161503     \n",
       "REACTOME_RECOGNITION_OF_DNA_DAMAGE_BY_PCNA_CONTAINING_REPLICATION_COMPLEX 0.6775597     \n",
       "REACTOME_SUMOYLATION_OF_DNA_DAMAGE_RESPONSE_AND_REPAIR_PROTEINS           0.5171007     \n",
       "                                                                          X3597_6_2271_S\n",
       "REACTOME_DNA_DAMAGE_BYPASS                                                 0.098987168  \n",
       "REACTOME_DNA_DAMAGE_RECOGNITION_IN_GG_NER                                  0.154854605  \n",
       "REACTOME_DNA_DAMAGE_REVERSAL                                              -0.474064569  \n",
       "REACTOME_DNA_DAMAGE_TELOMERE_STRESS_INDUCED_SENESCENCE                    -0.000241243  \n",
       "REACTOME_G1_S_DNA_DAMAGE_CHECKPOINTS                                       0.075747793  \n",
       "REACTOME_G2_M_DNA_DAMAGE_CHECKPOINT                                        0.203003105  \n",
       "REACTOME_RECOGNITION_OF_DNA_DAMAGE_BY_PCNA_CONTAINING_REPLICATION_COMPLEX  0.192205650  \n",
       "REACTOME_SUMOYLATION_OF_DNA_DAMAGE_RESPONSE_AND_REPAIR_PROTEINS            0.437300960  \n",
       "                                                                          X3597_8_2472_S\n",
       "REACTOME_DNA_DAMAGE_BYPASS                                                 0.33246427   \n",
       "REACTOME_DNA_DAMAGE_RECOGNITION_IN_GG_NER                                  0.02246793   \n",
       "REACTOME_DNA_DAMAGE_REVERSAL                                              -0.06580881   \n",
       "REACTOME_DNA_DAMAGE_TELOMERE_STRESS_INDUCED_SENESCENCE                     0.15555166   \n",
       "REACTOME_G1_S_DNA_DAMAGE_CHECKPOINTS                                       0.43550331   \n",
       "REACTOME_G2_M_DNA_DAMAGE_CHECKPOINT                                        0.44510588   \n",
       "REACTOME_RECOGNITION_OF_DNA_DAMAGE_BY_PCNA_CONTAINING_REPLICATION_COMPLEX  0.41282879   \n",
       "REACTOME_SUMOYLATION_OF_DNA_DAMAGE_RESPONSE_AND_REPAIR_PROTEINS            0.32731412   \n",
       "                                                                          X3597_10_2492_S\n",
       "REACTOME_DNA_DAMAGE_BYPASS                                                 0.20017068    \n",
       "REACTOME_DNA_DAMAGE_RECOGNITION_IN_GG_NER                                 -0.01469429    \n",
       "REACTOME_DNA_DAMAGE_REVERSAL                                               0.21863798    \n",
       "REACTOME_DNA_DAMAGE_TELOMERE_STRESS_INDUCED_SENESCENCE                     0.11491457    \n",
       "REACTOME_G1_S_DNA_DAMAGE_CHECKPOINTS                                       0.28070459    \n",
       "REACTOME_G2_M_DNA_DAMAGE_CHECKPOINT                                        0.14469788    \n",
       "REACTOME_RECOGNITION_OF_DNA_DAMAGE_BY_PCNA_CONTAINING_REPLICATION_COMPLEX  0.22156650    \n",
       "REACTOME_SUMOYLATION_OF_DNA_DAMAGE_RESPONSE_AND_REPAIR_PROTEINS            0.14212678    \n",
       "                                                                          X3597_12_2653_S\n",
       "REACTOME_DNA_DAMAGE_BYPASS                                                -0.39478513    \n",
       "REACTOME_DNA_DAMAGE_RECOGNITION_IN_GG_NER                                 -0.08766837    \n",
       "REACTOME_DNA_DAMAGE_REVERSAL                                               0.05019829    \n",
       "REACTOME_DNA_DAMAGE_TELOMERE_STRESS_INDUCED_SENESCENCE                    -0.29017119    \n",
       "REACTOME_G1_S_DNA_DAMAGE_CHECKPOINTS                                      -0.12438103    \n",
       "REACTOME_G2_M_DNA_DAMAGE_CHECKPOINT                                       -0.35283781    \n",
       "REACTOME_RECOGNITION_OF_DNA_DAMAGE_BY_PCNA_CONTAINING_REPLICATION_COMPLEX -0.47563744    \n",
       "REACTOME_SUMOYLATION_OF_DNA_DAMAGE_RESPONSE_AND_REPAIR_PROTEINS           -0.30571338    \n",
       "                                                                          X3597_14_2661_S\n",
       "REACTOME_DNA_DAMAGE_BYPASS                                                 0.09069275    \n",
       "REACTOME_DNA_DAMAGE_RECOGNITION_IN_GG_NER                                  0.35044548    \n",
       "REACTOME_DNA_DAMAGE_REVERSAL                                               0.42514550    \n",
       "REACTOME_DNA_DAMAGE_TELOMERE_STRESS_INDUCED_SENESCENCE                    -0.18583907    \n",
       "REACTOME_G1_S_DNA_DAMAGE_CHECKPOINTS                                      -0.38234106    \n",
       "REACTOME_G2_M_DNA_DAMAGE_CHECKPOINT                                       -0.07590880    \n",
       "REACTOME_RECOGNITION_OF_DNA_DAMAGE_BY_PCNA_CONTAINING_REPLICATION_COMPLEX  0.16695859    \n",
       "REACTOME_SUMOYLATION_OF_DNA_DAMAGE_RESPONSE_AND_REPAIR_PROTEINS            0.27136421    \n",
       "                                                                          X3597_16_2677_S\n",
       "REACTOME_DNA_DAMAGE_BYPASS                                                -0.18837716    \n",
       "REACTOME_DNA_DAMAGE_RECOGNITION_IN_GG_NER                                 -0.10856693    \n",
       "REACTOME_DNA_DAMAGE_REVERSAL                                               0.07214699    \n",
       "REACTOME_DNA_DAMAGE_TELOMERE_STRESS_INDUCED_SENESCENCE                     0.35462916    \n",
       "REACTOME_G1_S_DNA_DAMAGE_CHECKPOINTS                                      -0.09406390    \n",
       "REACTOME_G2_M_DNA_DAMAGE_CHECKPOINT                                        0.15476167    \n",
       "REACTOME_RECOGNITION_OF_DNA_DAMAGE_BY_PCNA_CONTAINING_REPLICATION_COMPLEX -0.25735862    \n",
       "REACTOME_SUMOYLATION_OF_DNA_DAMAGE_RESPONSE_AND_REPAIR_PROTEINS           -0.06627334    \n",
       "                                                                          X3597_18_2691_S\n",
       "REACTOME_DNA_DAMAGE_BYPASS                                                -0.37702488    \n",
       "REACTOME_DNA_DAMAGE_RECOGNITION_IN_GG_NER                                 -0.00237980    \n",
       "REACTOME_DNA_DAMAGE_REVERSAL                                              -0.44496352    \n",
       "REACTOME_DNA_DAMAGE_TELOMERE_STRESS_INDUCED_SENESCENCE                    -0.06254941    \n",
       "REACTOME_G1_S_DNA_DAMAGE_CHECKPOINTS                                      -0.10035956    \n",
       "REACTOME_G2_M_DNA_DAMAGE_CHECKPOINT                                       -0.36403627    \n",
       "REACTOME_RECOGNITION_OF_DNA_DAMAGE_BY_PCNA_CONTAINING_REPLICATION_COMPLEX -0.42667551    \n",
       "REACTOME_SUMOYLATION_OF_DNA_DAMAGE_RESPONSE_AND_REPAIR_PROTEINS           -0.38290331    \n",
       "                                                                          X3597_20_2739_S\n",
       "REACTOME_DNA_DAMAGE_BYPASS                                                -0.38239377    \n",
       "REACTOME_DNA_DAMAGE_RECOGNITION_IN_GG_NER                                 -0.28736486    \n",
       "REACTOME_DNA_DAMAGE_REVERSAL                                               0.19683543    \n",
       "REACTOME_DNA_DAMAGE_TELOMERE_STRESS_INDUCED_SENESCENCE                     0.05466965    \n",
       "REACTOME_G1_S_DNA_DAMAGE_CHECKPOINTS                                      -0.49559380    \n",
       "REACTOME_G2_M_DNA_DAMAGE_CHECKPOINT                                       -0.13373505    \n",
       "REACTOME_RECOGNITION_OF_DNA_DAMAGE_BY_PCNA_CONTAINING_REPLICATION_COMPLEX -0.45370068    \n",
       "REACTOME_SUMOYLATION_OF_DNA_DAMAGE_RESPONSE_AND_REPAIR_PROTEINS           -0.32110976    \n",
       "                                                                          ⋯\n",
       "REACTOME_DNA_DAMAGE_BYPASS                                                ⋯\n",
       "REACTOME_DNA_DAMAGE_RECOGNITION_IN_GG_NER                                 ⋯\n",
       "REACTOME_DNA_DAMAGE_REVERSAL                                              ⋯\n",
       "REACTOME_DNA_DAMAGE_TELOMERE_STRESS_INDUCED_SENESCENCE                    ⋯\n",
       "REACTOME_G1_S_DNA_DAMAGE_CHECKPOINTS                                      ⋯\n",
       "REACTOME_G2_M_DNA_DAMAGE_CHECKPOINT                                       ⋯\n",
       "REACTOME_RECOGNITION_OF_DNA_DAMAGE_BY_PCNA_CONTAINING_REPLICATION_COMPLEX ⋯\n",
       "REACTOME_SUMOYLATION_OF_DNA_DAMAGE_RESPONSE_AND_REPAIR_PROTEINS           ⋯\n",
       "                                                                          X3597_21_2789_B\n",
       "REACTOME_DNA_DAMAGE_BYPASS                                                0.4029317      \n",
       "REACTOME_DNA_DAMAGE_RECOGNITION_IN_GG_NER                                 0.3993641      \n",
       "REACTOME_DNA_DAMAGE_REVERSAL                                              0.6460978      \n",
       "REACTOME_DNA_DAMAGE_TELOMERE_STRESS_INDUCED_SENESCENCE                    0.3635636      \n",
       "REACTOME_G1_S_DNA_DAMAGE_CHECKPOINTS                                      0.5152130      \n",
       "REACTOME_G2_M_DNA_DAMAGE_CHECKPOINT                                       0.3843273      \n",
       "REACTOME_RECOGNITION_OF_DNA_DAMAGE_BY_PCNA_CONTAINING_REPLICATION_COMPLEX 0.6071752      \n",
       "REACTOME_SUMOYLATION_OF_DNA_DAMAGE_RESPONSE_AND_REPAIR_PROTEINS           0.2947529      \n",
       "                                                                          X3597_23_2817_B\n",
       "REACTOME_DNA_DAMAGE_BYPASS                                                0.3238451      \n",
       "REACTOME_DNA_DAMAGE_RECOGNITION_IN_GG_NER                                 0.1796580      \n",
       "REACTOME_DNA_DAMAGE_REVERSAL                                              0.1470116      \n",
       "REACTOME_DNA_DAMAGE_TELOMERE_STRESS_INDUCED_SENESCENCE                    0.3686340      \n",
       "REACTOME_G1_S_DNA_DAMAGE_CHECKPOINTS                                      0.3138794      \n",
       "REACTOME_G2_M_DNA_DAMAGE_CHECKPOINT                                       0.5760117      \n",
       "REACTOME_RECOGNITION_OF_DNA_DAMAGE_BY_PCNA_CONTAINING_REPLICATION_COMPLEX 0.4240519      \n",
       "REACTOME_SUMOYLATION_OF_DNA_DAMAGE_RESPONSE_AND_REPAIR_PROTEINS           0.2610331      \n",
       "                                                                          X3597_25_2852_B\n",
       "REACTOME_DNA_DAMAGE_BYPASS                                                 0.07729776    \n",
       "REACTOME_DNA_DAMAGE_RECOGNITION_IN_GG_NER                                  0.05471284    \n",
       "REACTOME_DNA_DAMAGE_REVERSAL                                               0.38992972    \n",
       "REACTOME_DNA_DAMAGE_TELOMERE_STRESS_INDUCED_SENESCENCE                    -0.11103465    \n",
       "REACTOME_G1_S_DNA_DAMAGE_CHECKPOINTS                                       0.25193618    \n",
       "REACTOME_G2_M_DNA_DAMAGE_CHECKPOINT                                        0.04963402    \n",
       "REACTOME_RECOGNITION_OF_DNA_DAMAGE_BY_PCNA_CONTAINING_REPLICATION_COMPLEX  0.29407136    \n",
       "REACTOME_SUMOYLATION_OF_DNA_DAMAGE_RESPONSE_AND_REPAIR_PROTEINS           -0.15046808    \n",
       "                                                                          X3597_27_2976_B\n",
       "REACTOME_DNA_DAMAGE_BYPASS                                                 0.12836354    \n",
       "REACTOME_DNA_DAMAGE_RECOGNITION_IN_GG_NER                                  0.22570427    \n",
       "REACTOME_DNA_DAMAGE_REVERSAL                                              -0.37916426    \n",
       "REACTOME_DNA_DAMAGE_TELOMERE_STRESS_INDUCED_SENESCENCE                     0.21148577    \n",
       "REACTOME_G1_S_DNA_DAMAGE_CHECKPOINTS                                       0.57674406    \n",
       "REACTOME_G2_M_DNA_DAMAGE_CHECKPOINT                                        0.14846863    \n",
       "REACTOME_RECOGNITION_OF_DNA_DAMAGE_BY_PCNA_CONTAINING_REPLICATION_COMPLEX  0.03030275    \n",
       "REACTOME_SUMOYLATION_OF_DNA_DAMAGE_RESPONSE_AND_REPAIR_PROTEINS            0.03405723    \n",
       "                                                                          X3597_29_3001_B\n",
       "REACTOME_DNA_DAMAGE_BYPASS                                                -0.17821885    \n",
       "REACTOME_DNA_DAMAGE_RECOGNITION_IN_GG_NER                                  0.23761164    \n",
       "REACTOME_DNA_DAMAGE_REVERSAL                                               0.12063455    \n",
       "REACTOME_DNA_DAMAGE_TELOMERE_STRESS_INDUCED_SENESCENCE                     0.02872865    \n",
       "REACTOME_G1_S_DNA_DAMAGE_CHECKPOINTS                                      -0.21540623    \n",
       "REACTOME_G2_M_DNA_DAMAGE_CHECKPOINT                                       -0.17159956    \n",
       "REACTOME_RECOGNITION_OF_DNA_DAMAGE_BY_PCNA_CONTAINING_REPLICATION_COMPLEX -0.13177340    \n",
       "REACTOME_SUMOYLATION_OF_DNA_DAMAGE_RESPONSE_AND_REPAIR_PROTEINS           -0.06700534    \n",
       "                                                                          X3597_31_3036_B\n",
       "REACTOME_DNA_DAMAGE_BYPASS                                                -0.4053338     \n",
       "REACTOME_DNA_DAMAGE_RECOGNITION_IN_GG_NER                                 -0.1049951     \n",
       "REACTOME_DNA_DAMAGE_REVERSAL                                               0.2516622     \n",
       "REACTOME_DNA_DAMAGE_TELOMERE_STRESS_INDUCED_SENESCENCE                    -0.4420460     \n",
       "REACTOME_G1_S_DNA_DAMAGE_CHECKPOINTS                                      -0.2424820     \n",
       "REACTOME_G2_M_DNA_DAMAGE_CHECKPOINT                                       -0.4330428     \n",
       "REACTOME_RECOGNITION_OF_DNA_DAMAGE_BY_PCNA_CONTAINING_REPLICATION_COMPLEX -0.4005132     \n",
       "REACTOME_SUMOYLATION_OF_DNA_DAMAGE_RESPONSE_AND_REPAIR_PROTEINS           -0.3308982     \n",
       "                                                                          X3597_33_3065_B\n",
       "REACTOME_DNA_DAMAGE_BYPASS                                                 0.34427884    \n",
       "REACTOME_DNA_DAMAGE_RECOGNITION_IN_GG_NER                                  0.15875471    \n",
       "REACTOME_DNA_DAMAGE_REVERSAL                                              -0.09547926    \n",
       "REACTOME_DNA_DAMAGE_TELOMERE_STRESS_INDUCED_SENESCENCE                     0.34968222    \n",
       "REACTOME_G1_S_DNA_DAMAGE_CHECKPOINTS                                       0.33068843    \n",
       "REACTOME_G2_M_DNA_DAMAGE_CHECKPOINT                                        0.40078306    \n",
       "REACTOME_RECOGNITION_OF_DNA_DAMAGE_BY_PCNA_CONTAINING_REPLICATION_COMPLEX  0.48759666    \n",
       "REACTOME_SUMOYLATION_OF_DNA_DAMAGE_RESPONSE_AND_REPAIR_PROTEINS            0.20864033    \n",
       "                                                                          X3597_35_3067_B\n",
       "REACTOME_DNA_DAMAGE_BYPASS                                                -0.21765147    \n",
       "REACTOME_DNA_DAMAGE_RECOGNITION_IN_GG_NER                                  0.05085306    \n",
       "REACTOME_DNA_DAMAGE_REVERSAL                                              -0.24134467    \n",
       "REACTOME_DNA_DAMAGE_TELOMERE_STRESS_INDUCED_SENESCENCE                    -0.38416002    \n",
       "REACTOME_G1_S_DNA_DAMAGE_CHECKPOINTS                                      -0.13275219    \n",
       "REACTOME_G2_M_DNA_DAMAGE_CHECKPOINT                                        0.06015924    \n",
       "REACTOME_RECOGNITION_OF_DNA_DAMAGE_BY_PCNA_CONTAINING_REPLICATION_COMPLEX -0.04113326    \n",
       "REACTOME_SUMOYLATION_OF_DNA_DAMAGE_RESPONSE_AND_REPAIR_PROTEINS           -0.30240104    \n",
       "                                                                          X3597_37_3130_B\n",
       "REACTOME_DNA_DAMAGE_BYPASS                                                -0.19179382    \n",
       "REACTOME_DNA_DAMAGE_RECOGNITION_IN_GG_NER                                 -0.36285158    \n",
       "REACTOME_DNA_DAMAGE_REVERSAL                                              -0.06450199    \n",
       "REACTOME_DNA_DAMAGE_TELOMERE_STRESS_INDUCED_SENESCENCE                    -0.13589588    \n",
       "REACTOME_G1_S_DNA_DAMAGE_CHECKPOINTS                                      -0.11103408    \n",
       "REACTOME_G2_M_DNA_DAMAGE_CHECKPOINT                                       -0.30672131    \n",
       "REACTOME_RECOGNITION_OF_DNA_DAMAGE_BY_PCNA_CONTAINING_REPLICATION_COMPLEX -0.23457744    \n",
       "REACTOME_SUMOYLATION_OF_DNA_DAMAGE_RESPONSE_AND_REPAIR_PROTEINS           -0.26297577    \n",
       "                                                                          X3597_39_3161_B\n",
       "REACTOME_DNA_DAMAGE_BYPASS                                                -0.4271841     \n",
       "REACTOME_DNA_DAMAGE_RECOGNITION_IN_GG_NER                                 -0.3009085     \n",
       "REACTOME_DNA_DAMAGE_REVERSAL                                              -0.1876806     \n",
       "REACTOME_DNA_DAMAGE_TELOMERE_STRESS_INDUCED_SENESCENCE                    -0.5124354     \n",
       "REACTOME_G1_S_DNA_DAMAGE_CHECKPOINTS                                      -0.3606252     \n",
       "REACTOME_G2_M_DNA_DAMAGE_CHECKPOINT                                       -0.4870813     \n",
       "REACTOME_RECOGNITION_OF_DNA_DAMAGE_BY_PCNA_CONTAINING_REPLICATION_COMPLEX -0.5386474     \n",
       "REACTOME_SUMOYLATION_OF_DNA_DAMAGE_RESPONSE_AND_REPAIR_PROTEINS           -0.4038893     "
      ]
     },
     "metadata": {},
     "output_type": "display_data"
    }
   ],
   "source": [
    "gsva_es[grepl(\"DNA_DAMAGE\", rownames(gsva_es)), ]"
   ]
  },
  {
   "cell_type": "code",
   "execution_count": 56,
   "id": "be868c3b",
   "metadata": {
    "vscode": {
     "languageId": "r"
    }
   },
   "outputs": [
    {
     "data": {
      "text/html": [
       "<table class=\"dataframe\">\n",
       "<caption>A matrix: 4 × 40 of type dbl</caption>\n",
       "<thead>\n",
       "\t<tr><th></th><th scope=col>X3597_2_97_S</th><th scope=col>X3597_4_2046_S</th><th scope=col>X3597_6_2271_S</th><th scope=col>X3597_8_2472_S</th><th scope=col>X3597_10_2492_S</th><th scope=col>X3597_12_2653_S</th><th scope=col>X3597_14_2661_S</th><th scope=col>X3597_16_2677_S</th><th scope=col>X3597_18_2691_S</th><th scope=col>X3597_20_2739_S</th><th scope=col>⋯</th><th scope=col>X3597_21_2789_B</th><th scope=col>X3597_23_2817_B</th><th scope=col>X3597_25_2852_B</th><th scope=col>X3597_27_2976_B</th><th scope=col>X3597_29_3001_B</th><th scope=col>X3597_31_3036_B</th><th scope=col>X3597_33_3065_B</th><th scope=col>X3597_35_3067_B</th><th scope=col>X3597_37_3130_B</th><th scope=col>X3597_39_3161_B</th></tr>\n",
       "</thead>\n",
       "<tbody>\n",
       "\t<tr><th scope=row>REACTOME_CELL_EXTRACELLULAR_MATRIX_INTERACTIONS</th><td>-0.5215454</td><td>-0.1031509</td><td>0.6898906</td><td>0.4976958</td><td>0.4563816</td><td> 0.3955312</td><td>-0.6542479</td><td>0.3234460</td><td> 0.4387284</td><td>-0.44440389</td><td>⋯</td><td>0.45011870</td><td>-0.05409981</td><td>-0.25132325</td><td>-0.2900371</td><td>-0.2732223</td><td> 0.4210058</td><td>-0.42438136</td><td>-0.57624520</td><td> 0.3772187</td><td> 0.6332308</td></tr>\n",
       "\t<tr><th scope=row>REACTOME_DEGRADATION_OF_THE_EXTRACELLULAR_MATRIX</th><td>-0.2357643</td><td>-0.4326297</td><td>0.4773521</td><td>0.1178707</td><td>0.3463723</td><td> 0.3896223</td><td>-0.4212254</td><td>0.2638243</td><td> 0.2038305</td><td>-0.06622613</td><td>⋯</td><td>0.05817562</td><td>-0.29481613</td><td>-0.22932096</td><td>-0.1682744</td><td>-0.3438934</td><td> 0.3152753</td><td>-0.02901786</td><td>-0.34078093</td><td> 0.2570418</td><td> 0.4204742</td></tr>\n",
       "\t<tr><th scope=row>REACTOME_EXTRACELLULAR_MATRIX_ORGANIZATION</th><td>-0.2343902</td><td>-0.4156378</td><td>0.5263458</td><td>0.1369973</td><td>0.3742120</td><td> 0.3884404</td><td>-0.4622135</td><td>0.3996005</td><td> 0.2598688</td><td>-0.05618364</td><td>⋯</td><td>0.03599715</td><td>-0.31759922</td><td>-0.25072789</td><td>-0.1536543</td><td>-0.3210405</td><td> 0.3023203</td><td>-0.11284129</td><td>-0.35775110</td><td> 0.2121377</td><td> 0.4348582</td></tr>\n",
       "\t<tr><th scope=row>REACTOME_G2_M_DNA_DAMAGE_CHECKPOINT</th><td>-0.4641091</td><td> 0.5161503</td><td>0.2030031</td><td>0.4451059</td><td>0.1446979</td><td>-0.3528378</td><td>-0.0759088</td><td>0.1547617</td><td>-0.3640363</td><td>-0.13373505</td><td>⋯</td><td>0.38432732</td><td> 0.57601166</td><td> 0.04963402</td><td> 0.1484686</td><td>-0.1715996</td><td>-0.4330428</td><td> 0.40078306</td><td> 0.06015924</td><td>-0.3067213</td><td>-0.4870813</td></tr>\n",
       "</tbody>\n",
       "</table>\n"
      ],
      "text/latex": [
       "A matrix: 4 × 40 of type dbl\n",
       "\\begin{tabular}{r|lllllllllllllllllllll}\n",
       "  & X3597\\_2\\_97\\_S & X3597\\_4\\_2046\\_S & X3597\\_6\\_2271\\_S & X3597\\_8\\_2472\\_S & X3597\\_10\\_2492\\_S & X3597\\_12\\_2653\\_S & X3597\\_14\\_2661\\_S & X3597\\_16\\_2677\\_S & X3597\\_18\\_2691\\_S & X3597\\_20\\_2739\\_S & ⋯ & X3597\\_21\\_2789\\_B & X3597\\_23\\_2817\\_B & X3597\\_25\\_2852\\_B & X3597\\_27\\_2976\\_B & X3597\\_29\\_3001\\_B & X3597\\_31\\_3036\\_B & X3597\\_33\\_3065\\_B & X3597\\_35\\_3067\\_B & X3597\\_37\\_3130\\_B & X3597\\_39\\_3161\\_B\\\\\n",
       "\\hline\n",
       "\tREACTOME\\_CELL\\_EXTRACELLULAR\\_MATRIX\\_INTERACTIONS & -0.5215454 & -0.1031509 & 0.6898906 & 0.4976958 & 0.4563816 &  0.3955312 & -0.6542479 & 0.3234460 &  0.4387284 & -0.44440389 & ⋯ & 0.45011870 & -0.05409981 & -0.25132325 & -0.2900371 & -0.2732223 &  0.4210058 & -0.42438136 & -0.57624520 &  0.3772187 &  0.6332308\\\\\n",
       "\tREACTOME\\_DEGRADATION\\_OF\\_THE\\_EXTRACELLULAR\\_MATRIX & -0.2357643 & -0.4326297 & 0.4773521 & 0.1178707 & 0.3463723 &  0.3896223 & -0.4212254 & 0.2638243 &  0.2038305 & -0.06622613 & ⋯ & 0.05817562 & -0.29481613 & -0.22932096 & -0.1682744 & -0.3438934 &  0.3152753 & -0.02901786 & -0.34078093 &  0.2570418 &  0.4204742\\\\\n",
       "\tREACTOME\\_EXTRACELLULAR\\_MATRIX\\_ORGANIZATION & -0.2343902 & -0.4156378 & 0.5263458 & 0.1369973 & 0.3742120 &  0.3884404 & -0.4622135 & 0.3996005 &  0.2598688 & -0.05618364 & ⋯ & 0.03599715 & -0.31759922 & -0.25072789 & -0.1536543 & -0.3210405 &  0.3023203 & -0.11284129 & -0.35775110 &  0.2121377 &  0.4348582\\\\\n",
       "\tREACTOME\\_G2\\_M\\_DNA\\_DAMAGE\\_CHECKPOINT & -0.4641091 &  0.5161503 & 0.2030031 & 0.4451059 & 0.1446979 & -0.3528378 & -0.0759088 & 0.1547617 & -0.3640363 & -0.13373505 & ⋯ & 0.38432732 &  0.57601166 &  0.04963402 &  0.1484686 & -0.1715996 & -0.4330428 &  0.40078306 &  0.06015924 & -0.3067213 & -0.4870813\\\\\n",
       "\\end{tabular}\n"
      ],
      "text/markdown": [
       "\n",
       "A matrix: 4 × 40 of type dbl\n",
       "\n",
       "| <!--/--> | X3597_2_97_S | X3597_4_2046_S | X3597_6_2271_S | X3597_8_2472_S | X3597_10_2492_S | X3597_12_2653_S | X3597_14_2661_S | X3597_16_2677_S | X3597_18_2691_S | X3597_20_2739_S | ⋯ | X3597_21_2789_B | X3597_23_2817_B | X3597_25_2852_B | X3597_27_2976_B | X3597_29_3001_B | X3597_31_3036_B | X3597_33_3065_B | X3597_35_3067_B | X3597_37_3130_B | X3597_39_3161_B |\n",
       "|---|---|---|---|---|---|---|---|---|---|---|---|---|---|---|---|---|---|---|---|---|---|\n",
       "| REACTOME_CELL_EXTRACELLULAR_MATRIX_INTERACTIONS | -0.5215454 | -0.1031509 | 0.6898906 | 0.4976958 | 0.4563816 |  0.3955312 | -0.6542479 | 0.3234460 |  0.4387284 | -0.44440389 | ⋯ | 0.45011870 | -0.05409981 | -0.25132325 | -0.2900371 | -0.2732223 |  0.4210058 | -0.42438136 | -0.57624520 |  0.3772187 |  0.6332308 |\n",
       "| REACTOME_DEGRADATION_OF_THE_EXTRACELLULAR_MATRIX | -0.2357643 | -0.4326297 | 0.4773521 | 0.1178707 | 0.3463723 |  0.3896223 | -0.4212254 | 0.2638243 |  0.2038305 | -0.06622613 | ⋯ | 0.05817562 | -0.29481613 | -0.22932096 | -0.1682744 | -0.3438934 |  0.3152753 | -0.02901786 | -0.34078093 |  0.2570418 |  0.4204742 |\n",
       "| REACTOME_EXTRACELLULAR_MATRIX_ORGANIZATION | -0.2343902 | -0.4156378 | 0.5263458 | 0.1369973 | 0.3742120 |  0.3884404 | -0.4622135 | 0.3996005 |  0.2598688 | -0.05618364 | ⋯ | 0.03599715 | -0.31759922 | -0.25072789 | -0.1536543 | -0.3210405 |  0.3023203 | -0.11284129 | -0.35775110 |  0.2121377 |  0.4348582 |\n",
       "| REACTOME_G2_M_DNA_DAMAGE_CHECKPOINT | -0.4641091 |  0.5161503 | 0.2030031 | 0.4451059 | 0.1446979 | -0.3528378 | -0.0759088 | 0.1547617 | -0.3640363 | -0.13373505 | ⋯ | 0.38432732 |  0.57601166 |  0.04963402 |  0.1484686 | -0.1715996 | -0.4330428 |  0.40078306 |  0.06015924 | -0.3067213 | -0.4870813 |\n",
       "\n"
      ],
      "text/plain": [
       "                                                 X3597_2_97_S X3597_4_2046_S\n",
       "REACTOME_CELL_EXTRACELLULAR_MATRIX_INTERACTIONS  -0.5215454   -0.1031509    \n",
       "REACTOME_DEGRADATION_OF_THE_EXTRACELLULAR_MATRIX -0.2357643   -0.4326297    \n",
       "REACTOME_EXTRACELLULAR_MATRIX_ORGANIZATION       -0.2343902   -0.4156378    \n",
       "REACTOME_G2_M_DNA_DAMAGE_CHECKPOINT              -0.4641091    0.5161503    \n",
       "                                                 X3597_6_2271_S X3597_8_2472_S\n",
       "REACTOME_CELL_EXTRACELLULAR_MATRIX_INTERACTIONS  0.6898906      0.4976958     \n",
       "REACTOME_DEGRADATION_OF_THE_EXTRACELLULAR_MATRIX 0.4773521      0.1178707     \n",
       "REACTOME_EXTRACELLULAR_MATRIX_ORGANIZATION       0.5263458      0.1369973     \n",
       "REACTOME_G2_M_DNA_DAMAGE_CHECKPOINT              0.2030031      0.4451059     \n",
       "                                                 X3597_10_2492_S\n",
       "REACTOME_CELL_EXTRACELLULAR_MATRIX_INTERACTIONS  0.4563816      \n",
       "REACTOME_DEGRADATION_OF_THE_EXTRACELLULAR_MATRIX 0.3463723      \n",
       "REACTOME_EXTRACELLULAR_MATRIX_ORGANIZATION       0.3742120      \n",
       "REACTOME_G2_M_DNA_DAMAGE_CHECKPOINT              0.1446979      \n",
       "                                                 X3597_12_2653_S\n",
       "REACTOME_CELL_EXTRACELLULAR_MATRIX_INTERACTIONS   0.3955312     \n",
       "REACTOME_DEGRADATION_OF_THE_EXTRACELLULAR_MATRIX  0.3896223     \n",
       "REACTOME_EXTRACELLULAR_MATRIX_ORGANIZATION        0.3884404     \n",
       "REACTOME_G2_M_DNA_DAMAGE_CHECKPOINT              -0.3528378     \n",
       "                                                 X3597_14_2661_S\n",
       "REACTOME_CELL_EXTRACELLULAR_MATRIX_INTERACTIONS  -0.6542479     \n",
       "REACTOME_DEGRADATION_OF_THE_EXTRACELLULAR_MATRIX -0.4212254     \n",
       "REACTOME_EXTRACELLULAR_MATRIX_ORGANIZATION       -0.4622135     \n",
       "REACTOME_G2_M_DNA_DAMAGE_CHECKPOINT              -0.0759088     \n",
       "                                                 X3597_16_2677_S\n",
       "REACTOME_CELL_EXTRACELLULAR_MATRIX_INTERACTIONS  0.3234460      \n",
       "REACTOME_DEGRADATION_OF_THE_EXTRACELLULAR_MATRIX 0.2638243      \n",
       "REACTOME_EXTRACELLULAR_MATRIX_ORGANIZATION       0.3996005      \n",
       "REACTOME_G2_M_DNA_DAMAGE_CHECKPOINT              0.1547617      \n",
       "                                                 X3597_18_2691_S\n",
       "REACTOME_CELL_EXTRACELLULAR_MATRIX_INTERACTIONS   0.4387284     \n",
       "REACTOME_DEGRADATION_OF_THE_EXTRACELLULAR_MATRIX  0.2038305     \n",
       "REACTOME_EXTRACELLULAR_MATRIX_ORGANIZATION        0.2598688     \n",
       "REACTOME_G2_M_DNA_DAMAGE_CHECKPOINT              -0.3640363     \n",
       "                                                 X3597_20_2739_S ⋯\n",
       "REACTOME_CELL_EXTRACELLULAR_MATRIX_INTERACTIONS  -0.44440389     ⋯\n",
       "REACTOME_DEGRADATION_OF_THE_EXTRACELLULAR_MATRIX -0.06622613     ⋯\n",
       "REACTOME_EXTRACELLULAR_MATRIX_ORGANIZATION       -0.05618364     ⋯\n",
       "REACTOME_G2_M_DNA_DAMAGE_CHECKPOINT              -0.13373505     ⋯\n",
       "                                                 X3597_21_2789_B\n",
       "REACTOME_CELL_EXTRACELLULAR_MATRIX_INTERACTIONS  0.45011870     \n",
       "REACTOME_DEGRADATION_OF_THE_EXTRACELLULAR_MATRIX 0.05817562     \n",
       "REACTOME_EXTRACELLULAR_MATRIX_ORGANIZATION       0.03599715     \n",
       "REACTOME_G2_M_DNA_DAMAGE_CHECKPOINT              0.38432732     \n",
       "                                                 X3597_23_2817_B\n",
       "REACTOME_CELL_EXTRACELLULAR_MATRIX_INTERACTIONS  -0.05409981    \n",
       "REACTOME_DEGRADATION_OF_THE_EXTRACELLULAR_MATRIX -0.29481613    \n",
       "REACTOME_EXTRACELLULAR_MATRIX_ORGANIZATION       -0.31759922    \n",
       "REACTOME_G2_M_DNA_DAMAGE_CHECKPOINT               0.57601166    \n",
       "                                                 X3597_25_2852_B\n",
       "REACTOME_CELL_EXTRACELLULAR_MATRIX_INTERACTIONS  -0.25132325    \n",
       "REACTOME_DEGRADATION_OF_THE_EXTRACELLULAR_MATRIX -0.22932096    \n",
       "REACTOME_EXTRACELLULAR_MATRIX_ORGANIZATION       -0.25072789    \n",
       "REACTOME_G2_M_DNA_DAMAGE_CHECKPOINT               0.04963402    \n",
       "                                                 X3597_27_2976_B\n",
       "REACTOME_CELL_EXTRACELLULAR_MATRIX_INTERACTIONS  -0.2900371     \n",
       "REACTOME_DEGRADATION_OF_THE_EXTRACELLULAR_MATRIX -0.1682744     \n",
       "REACTOME_EXTRACELLULAR_MATRIX_ORGANIZATION       -0.1536543     \n",
       "REACTOME_G2_M_DNA_DAMAGE_CHECKPOINT               0.1484686     \n",
       "                                                 X3597_29_3001_B\n",
       "REACTOME_CELL_EXTRACELLULAR_MATRIX_INTERACTIONS  -0.2732223     \n",
       "REACTOME_DEGRADATION_OF_THE_EXTRACELLULAR_MATRIX -0.3438934     \n",
       "REACTOME_EXTRACELLULAR_MATRIX_ORGANIZATION       -0.3210405     \n",
       "REACTOME_G2_M_DNA_DAMAGE_CHECKPOINT              -0.1715996     \n",
       "                                                 X3597_31_3036_B\n",
       "REACTOME_CELL_EXTRACELLULAR_MATRIX_INTERACTIONS   0.4210058     \n",
       "REACTOME_DEGRADATION_OF_THE_EXTRACELLULAR_MATRIX  0.3152753     \n",
       "REACTOME_EXTRACELLULAR_MATRIX_ORGANIZATION        0.3023203     \n",
       "REACTOME_G2_M_DNA_DAMAGE_CHECKPOINT              -0.4330428     \n",
       "                                                 X3597_33_3065_B\n",
       "REACTOME_CELL_EXTRACELLULAR_MATRIX_INTERACTIONS  -0.42438136    \n",
       "REACTOME_DEGRADATION_OF_THE_EXTRACELLULAR_MATRIX -0.02901786    \n",
       "REACTOME_EXTRACELLULAR_MATRIX_ORGANIZATION       -0.11284129    \n",
       "REACTOME_G2_M_DNA_DAMAGE_CHECKPOINT               0.40078306    \n",
       "                                                 X3597_35_3067_B\n",
       "REACTOME_CELL_EXTRACELLULAR_MATRIX_INTERACTIONS  -0.57624520    \n",
       "REACTOME_DEGRADATION_OF_THE_EXTRACELLULAR_MATRIX -0.34078093    \n",
       "REACTOME_EXTRACELLULAR_MATRIX_ORGANIZATION       -0.35775110    \n",
       "REACTOME_G2_M_DNA_DAMAGE_CHECKPOINT               0.06015924    \n",
       "                                                 X3597_37_3130_B\n",
       "REACTOME_CELL_EXTRACELLULAR_MATRIX_INTERACTIONS   0.3772187     \n",
       "REACTOME_DEGRADATION_OF_THE_EXTRACELLULAR_MATRIX  0.2570418     \n",
       "REACTOME_EXTRACELLULAR_MATRIX_ORGANIZATION        0.2121377     \n",
       "REACTOME_G2_M_DNA_DAMAGE_CHECKPOINT              -0.3067213     \n",
       "                                                 X3597_39_3161_B\n",
       "REACTOME_CELL_EXTRACELLULAR_MATRIX_INTERACTIONS   0.6332308     \n",
       "REACTOME_DEGRADATION_OF_THE_EXTRACELLULAR_MATRIX  0.4204742     \n",
       "REACTOME_EXTRACELLULAR_MATRIX_ORGANIZATION        0.4348582     \n",
       "REACTOME_G2_M_DNA_DAMAGE_CHECKPOINT              -0.4870813     "
      ]
     },
     "metadata": {},
     "output_type": "display_data"
    }
   ],
   "source": [
    "# Find rows with 'COLLAGEN' in the row names of gsva_es\n",
    "collagen_rows <- grepl(\"EXTRACELLULAR_MATRIX|G2_M_DNA_DAMAGE_CHECKPOINT\", rownames(gsva_es))\n",
    "\n",
    "# Subset the GSVA results for collagen-related pathways\n",
    "collagen_gsva_es <- gsva_es[collagen_rows, ]\n",
    "\n",
    "# View the subsetted GSVA enrichment scores for collagen-related pathways\n",
    "collagen_gsva_es"
   ]
  },
  {
   "cell_type": "code",
   "execution_count": 57,
   "id": "7dc81ecf",
   "metadata": {
    "vscode": {
     "languageId": "r"
    }
   },
   "outputs": [],
   "source": [
    "S=seq(1, by = 1, 20)\n",
    "B=seq(21, by = 1, 40)"
   ]
  },
  {
   "cell_type": "code",
   "execution_count": null,
   "id": "300ff0cf",
   "metadata": {
    "vscode": {
     "languageId": "r"
    }
   },
   "outputs": [],
   "source": [
    "col_ord=list()\n",
    "for(i in 1:length(S)){\n",
    "   col_ord = c(col_ord, B[i], S[i])\n",
    "}\n",
    "col_ord = unlist(col_ord)"
   ]
  },
  {
   "cell_type": "code",
   "execution_count": 61,
   "id": "0de20e47",
   "metadata": {
    "vscode": {
     "languageId": "r"
    }
   },
   "outputs": [],
   "source": [
    "collagen_gsva_es_sorted <- collagen_gsva_es[, col_ord]"
   ]
  },
  {
   "cell_type": "code",
   "execution_count": 62,
   "id": "e24bd963",
   "metadata": {
    "vscode": {
     "languageId": "r"
    }
   },
   "outputs": [
    {
     "data": {
      "text/html": [
       "<table class=\"dataframe\">\n",
       "<caption>A matrix: 4 × 40 of type dbl</caption>\n",
       "<thead>\n",
       "\t<tr><th></th><th scope=col>X3597_1_97_B</th><th scope=col>X3597_2_97_S</th><th scope=col>X3597_3_2046_B</th><th scope=col>X3597_4_2046_S</th><th scope=col>X3597_5_2271_B</th><th scope=col>X3597_6_2271_S</th><th scope=col>X3597_7_2472_B</th><th scope=col>X3597_8_2472_S</th><th scope=col>X3597_9_2492_B</th><th scope=col>X3597_10_2492_S</th><th scope=col>⋯</th><th scope=col>X3597_31_3036_B</th><th scope=col>X3597_32_3036_S</th><th scope=col>X3597_33_3065_B</th><th scope=col>X3597_34_3065_S</th><th scope=col>X3597_35_3067_B</th><th scope=col>X3597_36_3067_S</th><th scope=col>X3597_37_3130_B</th><th scope=col>X3597_38_3130_S</th><th scope=col>X3597_39_3161_B</th><th scope=col>X3597_40_3161_S</th></tr>\n",
       "</thead>\n",
       "<tbody>\n",
       "\t<tr><th scope=row>REACTOME_CELL_EXTRACELLULAR_MATRIX_INTERACTIONS</th><td>-0.5176007856</td><td>-0.5215454</td><td>-0.5205747</td><td>-0.1031509</td><td>-0.2505560</td><td>0.6898906</td><td>-0.3003649</td><td>0.4976958</td><td>-0.4623107</td><td>0.4563816</td><td>⋯</td><td> 0.4210058</td><td>-0.02712484</td><td>-0.42438136</td><td> 0.07290979</td><td>-0.57624520</td><td> 0.4580340</td><td> 0.3772187</td><td> 0.4192951</td><td> 0.6332308</td><td> 0.1108744</td></tr>\n",
       "\t<tr><th scope=row>REACTOME_DEGRADATION_OF_THE_EXTRACELLULAR_MATRIX</th><td>-0.3633521918</td><td>-0.2357643</td><td>-0.4443887</td><td>-0.4326297</td><td>-0.3459912</td><td>0.4773521</td><td>-0.4282088</td><td>0.1178707</td><td>-0.2283874</td><td>0.3463723</td><td>⋯</td><td> 0.3152753</td><td> 0.31348333</td><td>-0.02901786</td><td> 0.30167685</td><td>-0.34078093</td><td> 0.1120319</td><td> 0.2570418</td><td> 0.4533847</td><td> 0.4204742</td><td> 0.1874370</td></tr>\n",
       "\t<tr><th scope=row>REACTOME_EXTRACELLULAR_MATRIX_ORGANIZATION</th><td>-0.3837655147</td><td>-0.2343902</td><td>-0.4487205</td><td>-0.4156378</td><td>-0.3414642</td><td>0.5263458</td><td>-0.4327711</td><td>0.1369973</td><td>-0.1713189</td><td>0.3742120</td><td>⋯</td><td> 0.3023203</td><td> 0.33351396</td><td>-0.11284129</td><td> 0.36181780</td><td>-0.35775110</td><td> 0.1572269</td><td> 0.2121377</td><td> 0.4645665</td><td> 0.4348582</td><td> 0.2439172</td></tr>\n",
       "\t<tr><th scope=row>REACTOME_G2_M_DNA_DAMAGE_CHECKPOINT</th><td>-0.0002818419</td><td>-0.4641091</td><td> 0.2376114</td><td> 0.5161503</td><td> 0.3399549</td><td>0.2030031</td><td> 0.3849637</td><td>0.4451059</td><td>-0.1600677</td><td>0.1446979</td><td>⋯</td><td>-0.4330428</td><td>-0.48062573</td><td> 0.40078306</td><td>-0.51740082</td><td> 0.06015924</td><td>-0.5778528</td><td>-0.3067213</td><td>-0.3894660</td><td>-0.4870813</td><td>-0.3376266</td></tr>\n",
       "</tbody>\n",
       "</table>\n"
      ],
      "text/latex": [
       "A matrix: 4 × 40 of type dbl\n",
       "\\begin{tabular}{r|lllllllllllllllllllll}\n",
       "  & X3597\\_1\\_97\\_B & X3597\\_2\\_97\\_S & X3597\\_3\\_2046\\_B & X3597\\_4\\_2046\\_S & X3597\\_5\\_2271\\_B & X3597\\_6\\_2271\\_S & X3597\\_7\\_2472\\_B & X3597\\_8\\_2472\\_S & X3597\\_9\\_2492\\_B & X3597\\_10\\_2492\\_S & ⋯ & X3597\\_31\\_3036\\_B & X3597\\_32\\_3036\\_S & X3597\\_33\\_3065\\_B & X3597\\_34\\_3065\\_S & X3597\\_35\\_3067\\_B & X3597\\_36\\_3067\\_S & X3597\\_37\\_3130\\_B & X3597\\_38\\_3130\\_S & X3597\\_39\\_3161\\_B & X3597\\_40\\_3161\\_S\\\\\n",
       "\\hline\n",
       "\tREACTOME\\_CELL\\_EXTRACELLULAR\\_MATRIX\\_INTERACTIONS & -0.5176007856 & -0.5215454 & -0.5205747 & -0.1031509 & -0.2505560 & 0.6898906 & -0.3003649 & 0.4976958 & -0.4623107 & 0.4563816 & ⋯ &  0.4210058 & -0.02712484 & -0.42438136 &  0.07290979 & -0.57624520 &  0.4580340 &  0.3772187 &  0.4192951 &  0.6332308 &  0.1108744\\\\\n",
       "\tREACTOME\\_DEGRADATION\\_OF\\_THE\\_EXTRACELLULAR\\_MATRIX & -0.3633521918 & -0.2357643 & -0.4443887 & -0.4326297 & -0.3459912 & 0.4773521 & -0.4282088 & 0.1178707 & -0.2283874 & 0.3463723 & ⋯ &  0.3152753 &  0.31348333 & -0.02901786 &  0.30167685 & -0.34078093 &  0.1120319 &  0.2570418 &  0.4533847 &  0.4204742 &  0.1874370\\\\\n",
       "\tREACTOME\\_EXTRACELLULAR\\_MATRIX\\_ORGANIZATION & -0.3837655147 & -0.2343902 & -0.4487205 & -0.4156378 & -0.3414642 & 0.5263458 & -0.4327711 & 0.1369973 & -0.1713189 & 0.3742120 & ⋯ &  0.3023203 &  0.33351396 & -0.11284129 &  0.36181780 & -0.35775110 &  0.1572269 &  0.2121377 &  0.4645665 &  0.4348582 &  0.2439172\\\\\n",
       "\tREACTOME\\_G2\\_M\\_DNA\\_DAMAGE\\_CHECKPOINT & -0.0002818419 & -0.4641091 &  0.2376114 &  0.5161503 &  0.3399549 & 0.2030031 &  0.3849637 & 0.4451059 & -0.1600677 & 0.1446979 & ⋯ & -0.4330428 & -0.48062573 &  0.40078306 & -0.51740082 &  0.06015924 & -0.5778528 & -0.3067213 & -0.3894660 & -0.4870813 & -0.3376266\\\\\n",
       "\\end{tabular}\n"
      ],
      "text/markdown": [
       "\n",
       "A matrix: 4 × 40 of type dbl\n",
       "\n",
       "| <!--/--> | X3597_1_97_B | X3597_2_97_S | X3597_3_2046_B | X3597_4_2046_S | X3597_5_2271_B | X3597_6_2271_S | X3597_7_2472_B | X3597_8_2472_S | X3597_9_2492_B | X3597_10_2492_S | ⋯ | X3597_31_3036_B | X3597_32_3036_S | X3597_33_3065_B | X3597_34_3065_S | X3597_35_3067_B | X3597_36_3067_S | X3597_37_3130_B | X3597_38_3130_S | X3597_39_3161_B | X3597_40_3161_S |\n",
       "|---|---|---|---|---|---|---|---|---|---|---|---|---|---|---|---|---|---|---|---|---|---|\n",
       "| REACTOME_CELL_EXTRACELLULAR_MATRIX_INTERACTIONS | -0.5176007856 | -0.5215454 | -0.5205747 | -0.1031509 | -0.2505560 | 0.6898906 | -0.3003649 | 0.4976958 | -0.4623107 | 0.4563816 | ⋯ |  0.4210058 | -0.02712484 | -0.42438136 |  0.07290979 | -0.57624520 |  0.4580340 |  0.3772187 |  0.4192951 |  0.6332308 |  0.1108744 |\n",
       "| REACTOME_DEGRADATION_OF_THE_EXTRACELLULAR_MATRIX | -0.3633521918 | -0.2357643 | -0.4443887 | -0.4326297 | -0.3459912 | 0.4773521 | -0.4282088 | 0.1178707 | -0.2283874 | 0.3463723 | ⋯ |  0.3152753 |  0.31348333 | -0.02901786 |  0.30167685 | -0.34078093 |  0.1120319 |  0.2570418 |  0.4533847 |  0.4204742 |  0.1874370 |\n",
       "| REACTOME_EXTRACELLULAR_MATRIX_ORGANIZATION | -0.3837655147 | -0.2343902 | -0.4487205 | -0.4156378 | -0.3414642 | 0.5263458 | -0.4327711 | 0.1369973 | -0.1713189 | 0.3742120 | ⋯ |  0.3023203 |  0.33351396 | -0.11284129 |  0.36181780 | -0.35775110 |  0.1572269 |  0.2121377 |  0.4645665 |  0.4348582 |  0.2439172 |\n",
       "| REACTOME_G2_M_DNA_DAMAGE_CHECKPOINT | -0.0002818419 | -0.4641091 |  0.2376114 |  0.5161503 |  0.3399549 | 0.2030031 |  0.3849637 | 0.4451059 | -0.1600677 | 0.1446979 | ⋯ | -0.4330428 | -0.48062573 |  0.40078306 | -0.51740082 |  0.06015924 | -0.5778528 | -0.3067213 | -0.3894660 | -0.4870813 | -0.3376266 |\n",
       "\n"
      ],
      "text/plain": [
       "                                                 X3597_1_97_B  X3597_2_97_S\n",
       "REACTOME_CELL_EXTRACELLULAR_MATRIX_INTERACTIONS  -0.5176007856 -0.5215454  \n",
       "REACTOME_DEGRADATION_OF_THE_EXTRACELLULAR_MATRIX -0.3633521918 -0.2357643  \n",
       "REACTOME_EXTRACELLULAR_MATRIX_ORGANIZATION       -0.3837655147 -0.2343902  \n",
       "REACTOME_G2_M_DNA_DAMAGE_CHECKPOINT              -0.0002818419 -0.4641091  \n",
       "                                                 X3597_3_2046_B X3597_4_2046_S\n",
       "REACTOME_CELL_EXTRACELLULAR_MATRIX_INTERACTIONS  -0.5205747     -0.1031509    \n",
       "REACTOME_DEGRADATION_OF_THE_EXTRACELLULAR_MATRIX -0.4443887     -0.4326297    \n",
       "REACTOME_EXTRACELLULAR_MATRIX_ORGANIZATION       -0.4487205     -0.4156378    \n",
       "REACTOME_G2_M_DNA_DAMAGE_CHECKPOINT               0.2376114      0.5161503    \n",
       "                                                 X3597_5_2271_B X3597_6_2271_S\n",
       "REACTOME_CELL_EXTRACELLULAR_MATRIX_INTERACTIONS  -0.2505560     0.6898906     \n",
       "REACTOME_DEGRADATION_OF_THE_EXTRACELLULAR_MATRIX -0.3459912     0.4773521     \n",
       "REACTOME_EXTRACELLULAR_MATRIX_ORGANIZATION       -0.3414642     0.5263458     \n",
       "REACTOME_G2_M_DNA_DAMAGE_CHECKPOINT               0.3399549     0.2030031     \n",
       "                                                 X3597_7_2472_B X3597_8_2472_S\n",
       "REACTOME_CELL_EXTRACELLULAR_MATRIX_INTERACTIONS  -0.3003649     0.4976958     \n",
       "REACTOME_DEGRADATION_OF_THE_EXTRACELLULAR_MATRIX -0.4282088     0.1178707     \n",
       "REACTOME_EXTRACELLULAR_MATRIX_ORGANIZATION       -0.4327711     0.1369973     \n",
       "REACTOME_G2_M_DNA_DAMAGE_CHECKPOINT               0.3849637     0.4451059     \n",
       "                                                 X3597_9_2492_B X3597_10_2492_S\n",
       "REACTOME_CELL_EXTRACELLULAR_MATRIX_INTERACTIONS  -0.4623107     0.4563816      \n",
       "REACTOME_DEGRADATION_OF_THE_EXTRACELLULAR_MATRIX -0.2283874     0.3463723      \n",
       "REACTOME_EXTRACELLULAR_MATRIX_ORGANIZATION       -0.1713189     0.3742120      \n",
       "REACTOME_G2_M_DNA_DAMAGE_CHECKPOINT              -0.1600677     0.1446979      \n",
       "                                                 ⋯ X3597_31_3036_B\n",
       "REACTOME_CELL_EXTRACELLULAR_MATRIX_INTERACTIONS  ⋯  0.4210058     \n",
       "REACTOME_DEGRADATION_OF_THE_EXTRACELLULAR_MATRIX ⋯  0.3152753     \n",
       "REACTOME_EXTRACELLULAR_MATRIX_ORGANIZATION       ⋯  0.3023203     \n",
       "REACTOME_G2_M_DNA_DAMAGE_CHECKPOINT              ⋯ -0.4330428     \n",
       "                                                 X3597_32_3036_S\n",
       "REACTOME_CELL_EXTRACELLULAR_MATRIX_INTERACTIONS  -0.02712484    \n",
       "REACTOME_DEGRADATION_OF_THE_EXTRACELLULAR_MATRIX  0.31348333    \n",
       "REACTOME_EXTRACELLULAR_MATRIX_ORGANIZATION        0.33351396    \n",
       "REACTOME_G2_M_DNA_DAMAGE_CHECKPOINT              -0.48062573    \n",
       "                                                 X3597_33_3065_B\n",
       "REACTOME_CELL_EXTRACELLULAR_MATRIX_INTERACTIONS  -0.42438136    \n",
       "REACTOME_DEGRADATION_OF_THE_EXTRACELLULAR_MATRIX -0.02901786    \n",
       "REACTOME_EXTRACELLULAR_MATRIX_ORGANIZATION       -0.11284129    \n",
       "REACTOME_G2_M_DNA_DAMAGE_CHECKPOINT               0.40078306    \n",
       "                                                 X3597_34_3065_S\n",
       "REACTOME_CELL_EXTRACELLULAR_MATRIX_INTERACTIONS   0.07290979    \n",
       "REACTOME_DEGRADATION_OF_THE_EXTRACELLULAR_MATRIX  0.30167685    \n",
       "REACTOME_EXTRACELLULAR_MATRIX_ORGANIZATION        0.36181780    \n",
       "REACTOME_G2_M_DNA_DAMAGE_CHECKPOINT              -0.51740082    \n",
       "                                                 X3597_35_3067_B\n",
       "REACTOME_CELL_EXTRACELLULAR_MATRIX_INTERACTIONS  -0.57624520    \n",
       "REACTOME_DEGRADATION_OF_THE_EXTRACELLULAR_MATRIX -0.34078093    \n",
       "REACTOME_EXTRACELLULAR_MATRIX_ORGANIZATION       -0.35775110    \n",
       "REACTOME_G2_M_DNA_DAMAGE_CHECKPOINT               0.06015924    \n",
       "                                                 X3597_36_3067_S\n",
       "REACTOME_CELL_EXTRACELLULAR_MATRIX_INTERACTIONS   0.4580340     \n",
       "REACTOME_DEGRADATION_OF_THE_EXTRACELLULAR_MATRIX  0.1120319     \n",
       "REACTOME_EXTRACELLULAR_MATRIX_ORGANIZATION        0.1572269     \n",
       "REACTOME_G2_M_DNA_DAMAGE_CHECKPOINT              -0.5778528     \n",
       "                                                 X3597_37_3130_B\n",
       "REACTOME_CELL_EXTRACELLULAR_MATRIX_INTERACTIONS   0.3772187     \n",
       "REACTOME_DEGRADATION_OF_THE_EXTRACELLULAR_MATRIX  0.2570418     \n",
       "REACTOME_EXTRACELLULAR_MATRIX_ORGANIZATION        0.2121377     \n",
       "REACTOME_G2_M_DNA_DAMAGE_CHECKPOINT              -0.3067213     \n",
       "                                                 X3597_38_3130_S\n",
       "REACTOME_CELL_EXTRACELLULAR_MATRIX_INTERACTIONS   0.4192951     \n",
       "REACTOME_DEGRADATION_OF_THE_EXTRACELLULAR_MATRIX  0.4533847     \n",
       "REACTOME_EXTRACELLULAR_MATRIX_ORGANIZATION        0.4645665     \n",
       "REACTOME_G2_M_DNA_DAMAGE_CHECKPOINT              -0.3894660     \n",
       "                                                 X3597_39_3161_B\n",
       "REACTOME_CELL_EXTRACELLULAR_MATRIX_INTERACTIONS   0.6332308     \n",
       "REACTOME_DEGRADATION_OF_THE_EXTRACELLULAR_MATRIX  0.4204742     \n",
       "REACTOME_EXTRACELLULAR_MATRIX_ORGANIZATION        0.4348582     \n",
       "REACTOME_G2_M_DNA_DAMAGE_CHECKPOINT              -0.4870813     \n",
       "                                                 X3597_40_3161_S\n",
       "REACTOME_CELL_EXTRACELLULAR_MATRIX_INTERACTIONS   0.1108744     \n",
       "REACTOME_DEGRADATION_OF_THE_EXTRACELLULAR_MATRIX  0.1874370     \n",
       "REACTOME_EXTRACELLULAR_MATRIX_ORGANIZATION        0.2439172     \n",
       "REACTOME_G2_M_DNA_DAMAGE_CHECKPOINT              -0.3376266     "
      ]
     },
     "metadata": {},
     "output_type": "display_data"
    }
   ],
   "source": [
    "collagen_gsva_es_sorted"
   ]
  },
  {
   "cell_type": "code",
   "execution_count": null,
   "id": "98ed67fb",
   "metadata": {
    "vscode": {
     "languageId": "r"
    }
   },
   "outputs": [],
   "source": [
    "# Reshape the data for ggplot: convert to long format where each row is a patient-pathway pair\n",
    "long_data <- melt(collagen_gsva_es_sorted, varnames = c(\"Pathway\", \"Patient\"), value.name = \"GSVA_Score\")"
   ]
  },
  {
   "cell_type": "code",
   "execution_count": 64,
   "id": "9f0035ea",
   "metadata": {
    "vscode": {
     "languageId": "r"
    }
   },
   "outputs": [],
   "source": [
    "# Add a new column for coloring by 'B' or 'S'\n",
    "long_data$Patient_Type <- ifelse(grepl(\"S$\", long_data$Patient), \"S\", \"B\")"
   ]
  },
  {
   "cell_type": "code",
   "execution_count": 65,
   "id": "1f7be37c",
   "metadata": {
    "vscode": {
     "languageId": "r"
    }
   },
   "outputs": [],
   "source": [
    "long_data$Patient_Type <- factor(long_data$Patient_Type, levels = c(\"B\", \"S\"))"
   ]
  },
  {
   "cell_type": "code",
   "execution_count": 66,
   "id": "776d91e6",
   "metadata": {
    "vscode": {
     "languageId": "r"
    }
   },
   "outputs": [
    {
     "data": {
      "text/html": [
       "<style>\n",
       ".list-inline {list-style: none; margin:0; padding: 0}\n",
       ".list-inline>li {display: inline-block}\n",
       ".list-inline>li:not(:last-child)::after {content: \"\\00b7\"; padding: 0 .5ex}\n",
       "</style>\n",
       "<ol class=list-inline><li>REACTOME_CELL_EXTRACELLULAR_MATRIX_INTERACTIONS</li><li>REACTOME_DEGRADATION_OF_THE_EXTRACELLULAR_MATRIX</li><li>REACTOME_EXTRACELLULAR_MATRIX_ORGANIZATION</li><li>REACTOME_G2_M_DNA_DAMAGE_CHECKPOINT</li></ol>\n",
       "\n",
       "<details>\n",
       "\t<summary style=display:list-item;cursor:pointer>\n",
       "\t\t<strong>Levels</strong>:\n",
       "\t</summary>\n",
       "\t<style>\n",
       "\t.list-inline {list-style: none; margin:0; padding: 0}\n",
       "\t.list-inline>li {display: inline-block}\n",
       "\t.list-inline>li:not(:last-child)::after {content: \"\\00b7\"; padding: 0 .5ex}\n",
       "\t</style>\n",
       "\t<ol class=list-inline><li>'REACTOME_CELL_EXTRACELLULAR_MATRIX_INTERACTIONS'</li><li>'REACTOME_DEGRADATION_OF_THE_EXTRACELLULAR_MATRIX'</li><li>'REACTOME_EXTRACELLULAR_MATRIX_ORGANIZATION'</li><li>'REACTOME_G2_M_DNA_DAMAGE_CHECKPOINT'</li></ol>\n",
       "</details>"
      ],
      "text/latex": [
       "\\begin{enumerate*}\n",
       "\\item REACTOME\\_CELL\\_EXTRACELLULAR\\_MATRIX\\_INTERACTIONS\n",
       "\\item REACTOME\\_DEGRADATION\\_OF\\_THE\\_EXTRACELLULAR\\_MATRIX\n",
       "\\item REACTOME\\_EXTRACELLULAR\\_MATRIX\\_ORGANIZATION\n",
       "\\item REACTOME\\_G2\\_M\\_DNA\\_DAMAGE\\_CHECKPOINT\n",
       "\\end{enumerate*}\n",
       "\n",
       "\\emph{Levels}: \\begin{enumerate*}\n",
       "\\item 'REACTOME\\_CELL\\_EXTRACELLULAR\\_MATRIX\\_INTERACTIONS'\n",
       "\\item 'REACTOME\\_DEGRADATION\\_OF\\_THE\\_EXTRACELLULAR\\_MATRIX'\n",
       "\\item 'REACTOME\\_EXTRACELLULAR\\_MATRIX\\_ORGANIZATION'\n",
       "\\item 'REACTOME\\_G2\\_M\\_DNA\\_DAMAGE\\_CHECKPOINT'\n",
       "\\end{enumerate*}\n"
      ],
      "text/markdown": [
       "1. REACTOME_CELL_EXTRACELLULAR_MATRIX_INTERACTIONS\n",
       "2. REACTOME_DEGRADATION_OF_THE_EXTRACELLULAR_MATRIX\n",
       "3. REACTOME_EXTRACELLULAR_MATRIX_ORGANIZATION\n",
       "4. REACTOME_G2_M_DNA_DAMAGE_CHECKPOINT\n",
       "\n",
       "\n",
       "\n",
       "**Levels**: 1. 'REACTOME_CELL_EXTRACELLULAR_MATRIX_INTERACTIONS'\n",
       "2. 'REACTOME_DEGRADATION_OF_THE_EXTRACELLULAR_MATRIX'\n",
       "3. 'REACTOME_EXTRACELLULAR_MATRIX_ORGANIZATION'\n",
       "4. 'REACTOME_G2_M_DNA_DAMAGE_CHECKPOINT'\n",
       "\n",
       "\n"
      ],
      "text/plain": [
       "[1] REACTOME_CELL_EXTRACELLULAR_MATRIX_INTERACTIONS \n",
       "[2] REACTOME_DEGRADATION_OF_THE_EXTRACELLULAR_MATRIX\n",
       "[3] REACTOME_EXTRACELLULAR_MATRIX_ORGANIZATION      \n",
       "[4] REACTOME_G2_M_DNA_DAMAGE_CHECKPOINT             \n",
       "4 Levels: REACTOME_CELL_EXTRACELLULAR_MATRIX_INTERACTIONS ..."
      ]
     },
     "metadata": {},
     "output_type": "display_data"
    }
   ],
   "source": [
    "unique(long_data$Pathway)"
   ]
  },
  {
   "cell_type": "code",
   "execution_count": 67,
   "id": "5cbc62aa",
   "metadata": {
    "vscode": {
     "languageId": "r"
    }
   },
   "outputs": [],
   "source": [
    "path = \"REACTOME_G2_M_DNA_DAMAGE_CHECKPOINT\""
   ]
  },
  {
   "cell_type": "code",
   "execution_count": 223,
   "id": "d6ef3ade",
   "metadata": {
    "vscode": {
     "languageId": "r"
    }
   },
   "outputs": [
    {
     "data": {
      "text/html": [
       "<strong>pdf:</strong> 2"
      ],
      "text/latex": [
       "\\textbf{pdf:} 2"
      ],
      "text/markdown": [
       "**pdf:** 2"
      ],
      "text/plain": [
       "pdf \n",
       "  2 "
      ]
     },
     "metadata": {},
     "output_type": "display_data"
    }
   ],
   "source": [
    "pdf(paste0(fold, \"REACTOME_G2_M_DNA_DAMAGE_CHECKPOINT.pdf\"), width =5 , height=5)\n",
    "# Create the bar plot for each pathway\n",
    "coll = ggplot(long_data  %>% filter(Pathway==path), aes(x = GSVA_Score, y = Patient, fill = Patient_Type)) +\n",
    "  geom_bar(stat = \"identity\", position = \"dodge\") +\n",
    "  facet_wrap(~ Pathway, scales = \"free_y\") +  # Facet by pathway\n",
    "  coord_flip() +  # Flip coordinates to make pathway names readable\n",
    "  labs(\n",
    "       x = \"GSVA Score\",\n",
    "       y = \"Patient\") +\n",
    "  scale_fill_manual(values = c(\"S\" = \"orange\", \"B\" = \"lightblue\"),labels = c(\"S\" = \"post\", \"B\" = \"pre\")) +\n",
    "  theme_minimal() +\n",
    "  theme(axis.text.x = element_text(angle = 45, hjust = 1 , size = 5))\n",
    "coll\n",
    "dev.off()"
   ]
  },
  {
   "cell_type": "code",
   "execution_count": 70,
   "id": "6774fd1c",
   "metadata": {
    "vscode": {
     "languageId": "r"
    }
   },
   "outputs": [
    {
     "data": {
      "image/png": "[encoded data removed]",
      "text/plain": [
       "plot without title"
      ]
     },
     "metadata": {
      "image/png": {
       "height": 420,
       "width": 420
      }
     },
     "output_type": "display_data"
    }
   ],
   "source": [
    "drawline(long_data, path, fold, FALSE)"
   ]
  },
  {
   "cell_type": "code",
   "execution_count": 71,
   "id": "5d7a52c0",
   "metadata": {
    "vscode": {
     "languageId": "r"
    }
   },
   "outputs": [],
   "source": [
    "path2 =\"REACTOME_EXTRACELLULAR_MATRIX_ORGANIZATION\""
   ]
  },
  {
   "cell_type": "code",
   "execution_count": 225,
   "id": "3bc88c65",
   "metadata": {
    "vscode": {
     "languageId": "r"
    }
   },
   "outputs": [
    {
     "data": {
      "text/html": [
       "<strong>pdf:</strong> 2"
      ],
      "text/latex": [
       "\\textbf{pdf:} 2"
      ],
      "text/markdown": [
       "**pdf:** 2"
      ],
      "text/plain": [
       "pdf \n",
       "  2 "
      ]
     },
     "metadata": {},
     "output_type": "display_data"
    }
   ],
   "source": [
    "pdf(paste0(fold, path2, \".pdf\"), width =5 , height=5)\n",
    "# Create the bar plot for each pathway\n",
    "coll = ggplot(long_data  %>% filter(Pathway==path2), aes(x = GSVA_Score, y = Patient, fill = Patient_Type)) +\n",
    "  geom_bar(stat = \"identity\", position = \"dodge\") +\n",
    "  facet_wrap(~ Pathway, scales = \"free_y\") +  # Facet by pathway\n",
    "  coord_flip() +  # Flip coordinates to make pathway names readable\n",
    "  labs(\n",
    "       x = \"GSVA Score\",\n",
    "       y = \"Patient\") +\n",
    "  scale_fill_manual(values = c(\"S\" = \"orange\", \"B\" = \"lightblue\"),labels = c(\"S\" = \"post\", \"B\" = \"pre\")) +\n",
    "  theme_minimal() +\n",
    "  theme(axis.text.x = element_text(angle = 45, hjust = 1 , size = 5))\n",
    "coll\n",
    "dev.off()\n"
   ]
  },
  {
   "cell_type": "code",
   "execution_count": 73,
   "id": "66a7d83e",
   "metadata": {
    "vscode": {
     "languageId": "r"
    }
   },
   "outputs": [
    {
     "data": {
      "text/html": [
       "<strong>pdf:</strong> 2"
      ],
      "text/latex": [
       "\\textbf{pdf:} 2"
      ],
      "text/markdown": [
       "**pdf:** 2"
      ],
      "text/plain": [
       "pdf \n",
       "  2 "
      ]
     },
     "metadata": {},
     "output_type": "display_data"
    }
   ],
   "source": [
    "drawline(long_data, path2, fold, TRUE)"
   ]
  },
  {
   "cell_type": "code",
   "execution_count": 226,
   "id": "85cd21cf",
   "metadata": {
    "vscode": {
     "languageId": "r"
    }
   },
   "outputs": [],
   "source": [
    "dna_dam = hallmark_genesets$REACTOME_G2_M_DNA_DAMAGE_CHECKPOINT"
   ]
  },
  {
   "cell_type": "code",
   "execution_count": 227,
   "id": "6b969dfe",
   "metadata": {
    "scrolled": true,
    "vscode": {
     "languageId": "r"
    }
   },
   "outputs": [],
   "source": [
    "ecm =hallmark_genesets$REACTOME_EXTRACELLULAR_MATRIX_ORGANIZATION"
   ]
  },
  {
   "cell_type": "code",
   "execution_count": 228,
   "id": "945971a3",
   "metadata": {
    "vscode": {
     "languageId": "r"
    }
   },
   "outputs": [
    {
     "data": {
      "text/html": [
       "<table class=\"dataframe\">\n",
       "<caption>A data.frame: 6 × 4</caption>\n",
       "<thead>\n",
       "\t<tr><th></th><th scope=col>external_gene_id</th><th scope=col>Gene</th><th scope=col>log2FoldChange</th><th scope=col>padj</th></tr>\n",
       "\t<tr><th></th><th scope=col>&lt;chr&gt;</th><th scope=col>&lt;chr&gt;</th><th scope=col>&lt;dbl&gt;</th><th scope=col>&lt;dbl&gt;</th></tr>\n",
       "</thead>\n",
       "<tbody>\n",
       "\t<tr><th scope=row>1</th><td>MDC1   </td><td>ENSG00000137337</td><td>0.2507828</td><td>0.04051492</td></tr>\n",
       "\t<tr><th scope=row>2</th><td>TP53BP1</td><td>ENSG00000067369</td><td>0.1952905</td><td>0.04241806</td></tr>\n",
       "\t<tr><th scope=row>3</th><td>BRE    </td><td>ENSG00000158019</td><td>0.1426574</td><td>0.04384529</td></tr>\n",
       "\t<tr><th scope=row>4</th><td>RNF168 </td><td>ENSG00000163961</td><td>0.1309328</td><td>0.16166562</td></tr>\n",
       "\t<tr><th scope=row>5</th><td>HIST4H4</td><td>ENSG00000197837</td><td>0.3369742</td><td>0.27975152</td></tr>\n",
       "\t<tr><th scope=row>6</th><td>WRN    </td><td>ENSG00000165392</td><td>0.1256384</td><td>0.40755089</td></tr>\n",
       "</tbody>\n",
       "</table>\n"
      ],
      "text/latex": [
       "A data.frame: 6 × 4\n",
       "\\begin{tabular}{r|llll}\n",
       "  & external\\_gene\\_id & Gene & log2FoldChange & padj\\\\\n",
       "  & <chr> & <chr> & <dbl> & <dbl>\\\\\n",
       "\\hline\n",
       "\t1 & MDC1    & ENSG00000137337 & 0.2507828 & 0.04051492\\\\\n",
       "\t2 & TP53BP1 & ENSG00000067369 & 0.1952905 & 0.04241806\\\\\n",
       "\t3 & BRE     & ENSG00000158019 & 0.1426574 & 0.04384529\\\\\n",
       "\t4 & RNF168  & ENSG00000163961 & 0.1309328 & 0.16166562\\\\\n",
       "\t5 & HIST4H4 & ENSG00000197837 & 0.3369742 & 0.27975152\\\\\n",
       "\t6 & WRN     & ENSG00000165392 & 0.1256384 & 0.40755089\\\\\n",
       "\\end{tabular}\n"
      ],
      "text/markdown": [
       "\n",
       "A data.frame: 6 × 4\n",
       "\n",
       "| <!--/--> | external_gene_id &lt;chr&gt; | Gene &lt;chr&gt; | log2FoldChange &lt;dbl&gt; | padj &lt;dbl&gt; |\n",
       "|---|---|---|---|---|\n",
       "| 1 | MDC1    | ENSG00000137337 | 0.2507828 | 0.04051492 |\n",
       "| 2 | TP53BP1 | ENSG00000067369 | 0.1952905 | 0.04241806 |\n",
       "| 3 | BRE     | ENSG00000158019 | 0.1426574 | 0.04384529 |\n",
       "| 4 | RNF168  | ENSG00000163961 | 0.1309328 | 0.16166562 |\n",
       "| 5 | HIST4H4 | ENSG00000197837 | 0.3369742 | 0.27975152 |\n",
       "| 6 | WRN     | ENSG00000165392 | 0.1256384 | 0.40755089 |\n",
       "\n"
      ],
      "text/plain": [
       "  external_gene_id Gene            log2FoldChange padj      \n",
       "1 MDC1             ENSG00000137337 0.2507828      0.04051492\n",
       "2 TP53BP1          ENSG00000067369 0.1952905      0.04241806\n",
       "3 BRE              ENSG00000158019 0.1426574      0.04384529\n",
       "4 RNF168           ENSG00000163961 0.1309328      0.16166562\n",
       "5 HIST4H4          ENSG00000197837 0.3369742      0.27975152\n",
       "6 WRN              ENSG00000165392 0.1256384      0.40755089"
      ]
     },
     "metadata": {},
     "output_type": "display_data"
    }
   ],
   "source": [
    "resdata  %>% filter(Gene %in% dna_dam)  %>% dplyr::select(external_gene_id,Gene,log2FoldChange,padj)  %>%  head"
   ]
  },
  {
   "cell_type": "markdown",
   "id": "4818b8d0",
   "metadata": {},
   "source": [
    "# check correlation among pathways\n",
    "collagen and DNA damage"
   ]
  },
  {
   "cell_type": "code",
   "execution_count": 229,
   "id": "f0697469",
   "metadata": {
    "vscode": {
     "languageId": "r"
    }
   },
   "outputs": [
    {
     "name": "stdout",
     "output_type": "stream",
     "text": [
      "[1] \"Pearson Correlation: -0.523231332898372\"\n",
      "[1] \"Spearman Correlation: -0.533583489681051\"\n"
     ]
    }
   ],
   "source": [
    "# Extract enrichment scores\n",
    "scores1 <- gsva_es[path, ]\n",
    "scores2 <- gsva_es[path2, ]\n",
    "\n",
    "# Pearson correlation (linear relationship)\n",
    "correlation_pearson <- cor(scores1, scores2, method = \"pearson\")\n",
    "\n",
    "# Spearman correlation (monotonic relationship, useful for non-linear trends)\n",
    "correlation_spearman <- cor(scores1, scores2, method = \"spearman\")\n",
    "\n",
    "# Print results\n",
    "print(paste(\"Pearson Correlation:\", correlation_pearson))\n",
    "print(paste(\"Spearman Correlation:\", correlation_spearman))"
   ]
  },
  {
   "cell_type": "markdown",
   "id": "cdb5192b",
   "metadata": {},
   "source": [
    "# heatmap"
   ]
  },
  {
   "cell_type": "code",
   "execution_count": 246,
   "id": "ca502c58",
   "metadata": {
    "vscode": {
     "languageId": "r"
    }
   },
   "outputs": [
    {
     "data": {
      "text/html": [
       "<table class=\"dataframe\">\n",
       "<caption>A data.frame: 6 × 40</caption>\n",
       "<thead>\n",
       "\t<tr><th></th><th scope=col>X3597_2_97_S</th><th scope=col>X3597_4_2046_S</th><th scope=col>X3597_6_2271_S</th><th scope=col>X3597_8_2472_S</th><th scope=col>X3597_10_2492_S</th><th scope=col>X3597_12_2653_S</th><th scope=col>X3597_14_2661_S</th><th scope=col>X3597_16_2677_S</th><th scope=col>X3597_18_2691_S</th><th scope=col>X3597_20_2739_S</th><th scope=col>⋯</th><th scope=col>X3597_21_2789_B</th><th scope=col>X3597_23_2817_B</th><th scope=col>X3597_25_2852_B</th><th scope=col>X3597_27_2976_B</th><th scope=col>X3597_29_3001_B</th><th scope=col>X3597_31_3036_B</th><th scope=col>X3597_33_3065_B</th><th scope=col>X3597_35_3067_B</th><th scope=col>X3597_37_3130_B</th><th scope=col>X3597_39_3161_B</th></tr>\n",
       "\t<tr><th></th><th scope=col>&lt;dbl&gt;</th><th scope=col>&lt;dbl&gt;</th><th scope=col>&lt;dbl&gt;</th><th scope=col>&lt;dbl&gt;</th><th scope=col>&lt;dbl&gt;</th><th scope=col>&lt;dbl&gt;</th><th scope=col>&lt;dbl&gt;</th><th scope=col>&lt;dbl&gt;</th><th scope=col>&lt;dbl&gt;</th><th scope=col>&lt;dbl&gt;</th><th scope=col>⋯</th><th scope=col>&lt;dbl&gt;</th><th scope=col>&lt;dbl&gt;</th><th scope=col>&lt;dbl&gt;</th><th scope=col>&lt;dbl&gt;</th><th scope=col>&lt;dbl&gt;</th><th scope=col>&lt;dbl&gt;</th><th scope=col>&lt;dbl&gt;</th><th scope=col>&lt;dbl&gt;</th><th scope=col>&lt;dbl&gt;</th><th scope=col>&lt;dbl&gt;</th></tr>\n",
       "</thead>\n",
       "<tbody>\n",
       "\t<tr><th scope=row>ENSG00000164949</th><td> 9.168395</td><td> 8.849803</td><td> 9.530329</td><td> 8.171570</td><td> 9.176491</td><td>11.355208</td><td> 6.218716</td><td>10.932301</td><td>11.070078</td><td>11.056272</td><td>⋯</td><td> 7.231387</td><td> 7.699127</td><td> 8.701686</td><td> 7.022850</td><td> 9.111882</td><td> 8.563593</td><td> 7.515392</td><td> 8.975628</td><td> 8.356567</td><td> 8.766219</td></tr>\n",
       "\t<tr><th scope=row>ENSG00000187955</th><td>11.238839</td><td> 8.034663</td><td>12.931976</td><td> 9.965706</td><td>10.918069</td><td>13.645608</td><td> 8.627887</td><td>12.287379</td><td>13.605361</td><td>12.961169</td><td>⋯</td><td>11.175164</td><td>10.207283</td><td>11.062473</td><td> 9.260613</td><td>12.107005</td><td>12.672696</td><td>10.983025</td><td>11.004422</td><td>12.588926</td><td>12.969050</td></tr>\n",
       "\t<tr><th scope=row>ENSG00000102189</th><td> 9.844588</td><td> 9.706567</td><td> 9.739232</td><td> 9.166664</td><td> 9.388258</td><td>10.130978</td><td> 9.425613</td><td>10.463255</td><td> 9.924661</td><td> 9.960543</td><td>⋯</td><td> 8.727662</td><td> 9.306294</td><td> 9.148220</td><td> 9.333254</td><td> 8.821311</td><td> 9.417875</td><td> 9.405110</td><td> 9.376607</td><td> 9.421961</td><td> 9.534922</td></tr>\n",
       "\t<tr><th scope=row>ENSG00000240184</th><td> 8.736594</td><td> 8.325755</td><td> 9.177136</td><td> 8.754864</td><td> 8.692591</td><td> 9.869641</td><td> 7.931375</td><td> 9.618033</td><td>10.304547</td><td> 9.331465</td><td>⋯</td><td> 8.776843</td><td> 8.187069</td><td> 7.733864</td><td> 7.851324</td><td> 7.962078</td><td> 9.187522</td><td> 8.100697</td><td> 7.767398</td><td> 9.217337</td><td> 9.441439</td></tr>\n",
       "\t<tr><th scope=row>ENSG00000017427</th><td> 9.997021</td><td> 7.438176</td><td>12.098524</td><td> 8.250822</td><td> 9.747292</td><td>11.608262</td><td> 7.525427</td><td>10.043887</td><td>12.101241</td><td>11.165963</td><td>⋯</td><td> 8.356694</td><td> 8.827084</td><td> 7.914057</td><td> 8.049590</td><td>10.647960</td><td>10.301846</td><td> 9.012255</td><td> 9.293855</td><td> 9.687089</td><td> 9.138019</td></tr>\n",
       "\t<tr><th scope=row>ENSG00000142871</th><td>11.990669</td><td>11.246514</td><td>13.633466</td><td>11.287044</td><td>12.015461</td><td>13.862418</td><td>10.128610</td><td>13.588027</td><td>13.944497</td><td>13.638009</td><td>⋯</td><td>12.357544</td><td> 8.968225</td><td> 8.907917</td><td>10.914096</td><td> 9.203534</td><td>10.226600</td><td> 9.796577</td><td> 8.134902</td><td> 9.888140</td><td>11.053380</td></tr>\n",
       "</tbody>\n",
       "</table>\n"
      ],
      "text/latex": [
       "A data.frame: 6 × 40\n",
       "\\begin{tabular}{r|lllllllllllllllllllll}\n",
       "  & X3597\\_2\\_97\\_S & X3597\\_4\\_2046\\_S & X3597\\_6\\_2271\\_S & X3597\\_8\\_2472\\_S & X3597\\_10\\_2492\\_S & X3597\\_12\\_2653\\_S & X3597\\_14\\_2661\\_S & X3597\\_16\\_2677\\_S & X3597\\_18\\_2691\\_S & X3597\\_20\\_2739\\_S & ⋯ & X3597\\_21\\_2789\\_B & X3597\\_23\\_2817\\_B & X3597\\_25\\_2852\\_B & X3597\\_27\\_2976\\_B & X3597\\_29\\_3001\\_B & X3597\\_31\\_3036\\_B & X3597\\_33\\_3065\\_B & X3597\\_35\\_3067\\_B & X3597\\_37\\_3130\\_B & X3597\\_39\\_3161\\_B\\\\\n",
       "  & <dbl> & <dbl> & <dbl> & <dbl> & <dbl> & <dbl> & <dbl> & <dbl> & <dbl> & <dbl> & ⋯ & <dbl> & <dbl> & <dbl> & <dbl> & <dbl> & <dbl> & <dbl> & <dbl> & <dbl> & <dbl>\\\\\n",
       "\\hline\n",
       "\tENSG00000164949 &  9.168395 &  8.849803 &  9.530329 &  8.171570 &  9.176491 & 11.355208 &  6.218716 & 10.932301 & 11.070078 & 11.056272 & ⋯ &  7.231387 &  7.699127 &  8.701686 &  7.022850 &  9.111882 &  8.563593 &  7.515392 &  8.975628 &  8.356567 &  8.766219\\\\\n",
       "\tENSG00000187955 & 11.238839 &  8.034663 & 12.931976 &  9.965706 & 10.918069 & 13.645608 &  8.627887 & 12.287379 & 13.605361 & 12.961169 & ⋯ & 11.175164 & 10.207283 & 11.062473 &  9.260613 & 12.107005 & 12.672696 & 10.983025 & 11.004422 & 12.588926 & 12.969050\\\\\n",
       "\tENSG00000102189 &  9.844588 &  9.706567 &  9.739232 &  9.166664 &  9.388258 & 10.130978 &  9.425613 & 10.463255 &  9.924661 &  9.960543 & ⋯ &  8.727662 &  9.306294 &  9.148220 &  9.333254 &  8.821311 &  9.417875 &  9.405110 &  9.376607 &  9.421961 &  9.534922\\\\\n",
       "\tENSG00000240184 &  8.736594 &  8.325755 &  9.177136 &  8.754864 &  8.692591 &  9.869641 &  7.931375 &  9.618033 & 10.304547 &  9.331465 & ⋯ &  8.776843 &  8.187069 &  7.733864 &  7.851324 &  7.962078 &  9.187522 &  8.100697 &  7.767398 &  9.217337 &  9.441439\\\\\n",
       "\tENSG00000017427 &  9.997021 &  7.438176 & 12.098524 &  8.250822 &  9.747292 & 11.608262 &  7.525427 & 10.043887 & 12.101241 & 11.165963 & ⋯ &  8.356694 &  8.827084 &  7.914057 &  8.049590 & 10.647960 & 10.301846 &  9.012255 &  9.293855 &  9.687089 &  9.138019\\\\\n",
       "\tENSG00000142871 & 11.990669 & 11.246514 & 13.633466 & 11.287044 & 12.015461 & 13.862418 & 10.128610 & 13.588027 & 13.944497 & 13.638009 & ⋯ & 12.357544 &  8.968225 &  8.907917 & 10.914096 &  9.203534 & 10.226600 &  9.796577 &  8.134902 &  9.888140 & 11.053380\\\\\n",
       "\\end{tabular}\n"
      ],
      "text/markdown": [
       "\n",
       "A data.frame: 6 × 40\n",
       "\n",
       "| <!--/--> | X3597_2_97_S &lt;dbl&gt; | X3597_4_2046_S &lt;dbl&gt; | X3597_6_2271_S &lt;dbl&gt; | X3597_8_2472_S &lt;dbl&gt; | X3597_10_2492_S &lt;dbl&gt; | X3597_12_2653_S &lt;dbl&gt; | X3597_14_2661_S &lt;dbl&gt; | X3597_16_2677_S &lt;dbl&gt; | X3597_18_2691_S &lt;dbl&gt; | X3597_20_2739_S &lt;dbl&gt; | ⋯ ⋯ | X3597_21_2789_B &lt;dbl&gt; | X3597_23_2817_B &lt;dbl&gt; | X3597_25_2852_B &lt;dbl&gt; | X3597_27_2976_B &lt;dbl&gt; | X3597_29_3001_B &lt;dbl&gt; | X3597_31_3036_B &lt;dbl&gt; | X3597_33_3065_B &lt;dbl&gt; | X3597_35_3067_B &lt;dbl&gt; | X3597_37_3130_B &lt;dbl&gt; | X3597_39_3161_B &lt;dbl&gt; |\n",
       "|---|---|---|---|---|---|---|---|---|---|---|---|---|---|---|---|---|---|---|---|---|---|\n",
       "| ENSG00000164949 |  9.168395 |  8.849803 |  9.530329 |  8.171570 |  9.176491 | 11.355208 |  6.218716 | 10.932301 | 11.070078 | 11.056272 | ⋯ |  7.231387 |  7.699127 |  8.701686 |  7.022850 |  9.111882 |  8.563593 |  7.515392 |  8.975628 |  8.356567 |  8.766219 |\n",
       "| ENSG00000187955 | 11.238839 |  8.034663 | 12.931976 |  9.965706 | 10.918069 | 13.645608 |  8.627887 | 12.287379 | 13.605361 | 12.961169 | ⋯ | 11.175164 | 10.207283 | 11.062473 |  9.260613 | 12.107005 | 12.672696 | 10.983025 | 11.004422 | 12.588926 | 12.969050 |\n",
       "| ENSG00000102189 |  9.844588 |  9.706567 |  9.739232 |  9.166664 |  9.388258 | 10.130978 |  9.425613 | 10.463255 |  9.924661 |  9.960543 | ⋯ |  8.727662 |  9.306294 |  9.148220 |  9.333254 |  8.821311 |  9.417875 |  9.405110 |  9.376607 |  9.421961 |  9.534922 |\n",
       "| ENSG00000240184 |  8.736594 |  8.325755 |  9.177136 |  8.754864 |  8.692591 |  9.869641 |  7.931375 |  9.618033 | 10.304547 |  9.331465 | ⋯ |  8.776843 |  8.187069 |  7.733864 |  7.851324 |  7.962078 |  9.187522 |  8.100697 |  7.767398 |  9.217337 |  9.441439 |\n",
       "| ENSG00000017427 |  9.997021 |  7.438176 | 12.098524 |  8.250822 |  9.747292 | 11.608262 |  7.525427 | 10.043887 | 12.101241 | 11.165963 | ⋯ |  8.356694 |  8.827084 |  7.914057 |  8.049590 | 10.647960 | 10.301846 |  9.012255 |  9.293855 |  9.687089 |  9.138019 |\n",
       "| ENSG00000142871 | 11.990669 | 11.246514 | 13.633466 | 11.287044 | 12.015461 | 13.862418 | 10.128610 | 13.588027 | 13.944497 | 13.638009 | ⋯ | 12.357544 |  8.968225 |  8.907917 | 10.914096 |  9.203534 | 10.226600 |  9.796577 |  8.134902 |  9.888140 | 11.053380 |\n",
       "\n"
      ],
      "text/plain": [
       "                X3597_2_97_S X3597_4_2046_S X3597_6_2271_S X3597_8_2472_S\n",
       "ENSG00000164949  9.168395     8.849803       9.530329       8.171570     \n",
       "ENSG00000187955 11.238839     8.034663      12.931976       9.965706     \n",
       "ENSG00000102189  9.844588     9.706567       9.739232       9.166664     \n",
       "ENSG00000240184  8.736594     8.325755       9.177136       8.754864     \n",
       "ENSG00000017427  9.997021     7.438176      12.098524       8.250822     \n",
       "ENSG00000142871 11.990669    11.246514      13.633466      11.287044     \n",
       "                X3597_10_2492_S X3597_12_2653_S X3597_14_2661_S X3597_16_2677_S\n",
       "ENSG00000164949  9.176491       11.355208        6.218716       10.932301      \n",
       "ENSG00000187955 10.918069       13.645608        8.627887       12.287379      \n",
       "ENSG00000102189  9.388258       10.130978        9.425613       10.463255      \n",
       "ENSG00000240184  8.692591        9.869641        7.931375        9.618033      \n",
       "ENSG00000017427  9.747292       11.608262        7.525427       10.043887      \n",
       "ENSG00000142871 12.015461       13.862418       10.128610       13.588027      \n",
       "                X3597_18_2691_S X3597_20_2739_S ⋯ X3597_21_2789_B\n",
       "ENSG00000164949 11.070078       11.056272       ⋯  7.231387      \n",
       "ENSG00000187955 13.605361       12.961169       ⋯ 11.175164      \n",
       "ENSG00000102189  9.924661        9.960543       ⋯  8.727662      \n",
       "ENSG00000240184 10.304547        9.331465       ⋯  8.776843      \n",
       "ENSG00000017427 12.101241       11.165963       ⋯  8.356694      \n",
       "ENSG00000142871 13.944497       13.638009       ⋯ 12.357544      \n",
       "                X3597_23_2817_B X3597_25_2852_B X3597_27_2976_B X3597_29_3001_B\n",
       "ENSG00000164949  7.699127        8.701686        7.022850        9.111882      \n",
       "ENSG00000187955 10.207283       11.062473        9.260613       12.107005      \n",
       "ENSG00000102189  9.306294        9.148220        9.333254        8.821311      \n",
       "ENSG00000240184  8.187069        7.733864        7.851324        7.962078      \n",
       "ENSG00000017427  8.827084        7.914057        8.049590       10.647960      \n",
       "ENSG00000142871  8.968225        8.907917       10.914096        9.203534      \n",
       "                X3597_31_3036_B X3597_33_3065_B X3597_35_3067_B X3597_37_3130_B\n",
       "ENSG00000164949  8.563593        7.515392        8.975628        8.356567      \n",
       "ENSG00000187955 12.672696       10.983025       11.004422       12.588926      \n",
       "ENSG00000102189  9.417875        9.405110        9.376607        9.421961      \n",
       "ENSG00000240184  9.187522        8.100697        7.767398        9.217337      \n",
       "ENSG00000017427 10.301846        9.012255        9.293855        9.687089      \n",
       "ENSG00000142871 10.226600        9.796577        8.134902        9.888140      \n",
       "                X3597_39_3161_B\n",
       "ENSG00000164949  8.766219      \n",
       "ENSG00000187955 12.969050      \n",
       "ENSG00000102189  9.534922      \n",
       "ENSG00000240184  9.441439      \n",
       "ENSG00000017427  9.138019      \n",
       "ENSG00000142871 11.053380      "
      ]
     },
     "metadata": {},
     "output_type": "display_data"
    }
   ],
   "source": [
    "tpm_log2  %>% head"
   ]
  },
  {
   "cell_type": "code",
   "execution_count": 233,
   "id": "48c3c635",
   "metadata": {
    "vscode": {
     "languageId": "r"
    }
   },
   "outputs": [],
   "source": [
    "# Reorder columns by the extracted numeric values without modifying the column names\n",
    "tpm_log2_sorted <- tpm_log2[, col_ord]"
   ]
  },
  {
   "cell_type": "code",
   "execution_count": 247,
   "id": "ed1605c7",
   "metadata": {
    "vscode": {
     "languageId": "r"
    }
   },
   "outputs": [],
   "source": [
    "# Reorder columns by the extracted numeric values without modifying the column names\n",
    "tpm_log2_sorted <- tpm_log2[, c(21:40,1:20)]"
   ]
  },
  {
   "cell_type": "code",
   "execution_count": 248,
   "id": "d9c10c80",
   "metadata": {
    "vscode": {
     "languageId": "r"
    }
   },
   "outputs": [
    {
     "data": {
      "text/html": [
       "<table class=\"dataframe\">\n",
       "<caption>A data.frame: 6 × 40</caption>\n",
       "<thead>\n",
       "\t<tr><th></th><th scope=col>X3597_1_97_B</th><th scope=col>X3597_3_2046_B</th><th scope=col>X3597_5_2271_B</th><th scope=col>X3597_7_2472_B</th><th scope=col>X3597_9_2492_B</th><th scope=col>X3597_11_2653_B</th><th scope=col>X3597_13_2661_B</th><th scope=col>X3597_15_2677_B</th><th scope=col>X3597_17_2691_B</th><th scope=col>X3597_19_2739_B</th><th scope=col>⋯</th><th scope=col>X3597_22_2789_S</th><th scope=col>X3597_24_2817_S</th><th scope=col>X3597_26_2852_S</th><th scope=col>X3597_28_2976_S</th><th scope=col>X3597_30_3001_S</th><th scope=col>X3597_32_3036_S</th><th scope=col>X3597_34_3065_S</th><th scope=col>X3597_36_3067_S</th><th scope=col>X3597_38_3130_S</th><th scope=col>X3597_40_3161_S</th></tr>\n",
       "\t<tr><th></th><th scope=col>&lt;dbl&gt;</th><th scope=col>&lt;dbl&gt;</th><th scope=col>&lt;dbl&gt;</th><th scope=col>&lt;dbl&gt;</th><th scope=col>&lt;dbl&gt;</th><th scope=col>&lt;dbl&gt;</th><th scope=col>&lt;dbl&gt;</th><th scope=col>&lt;dbl&gt;</th><th scope=col>&lt;dbl&gt;</th><th scope=col>&lt;dbl&gt;</th><th scope=col>⋯</th><th scope=col>&lt;dbl&gt;</th><th scope=col>&lt;dbl&gt;</th><th scope=col>&lt;dbl&gt;</th><th scope=col>&lt;dbl&gt;</th><th scope=col>&lt;dbl&gt;</th><th scope=col>&lt;dbl&gt;</th><th scope=col>&lt;dbl&gt;</th><th scope=col>&lt;dbl&gt;</th><th scope=col>&lt;dbl&gt;</th><th scope=col>&lt;dbl&gt;</th></tr>\n",
       "</thead>\n",
       "<tbody>\n",
       "\t<tr><th scope=row>ENSG00000164949</th><td>6.515084</td><td>7.228568</td><td>6.538101</td><td>7.051898</td><td> 7.716265</td><td> 8.825656</td><td> 4.373750</td><td> 9.209811</td><td> 7.824492</td><td> 8.805613</td><td>⋯</td><td> 9.476721</td><td>10.703532</td><td> 9.720567</td><td>11.368445</td><td>10.754239</td><td>11.499824</td><td>11.55768</td><td>11.40059</td><td>10.34917</td><td> 9.995081</td></tr>\n",
       "\t<tr><th scope=row>ENSG00000187955</th><td>9.066046</td><td>6.288123</td><td>9.308665</td><td>7.392895</td><td> 8.248476</td><td>11.198182</td><td> 3.823169</td><td>11.729267</td><td>11.200845</td><td>10.463096</td><td>⋯</td><td>13.833971</td><td>12.696812</td><td>12.164783</td><td>13.312712</td><td>13.396449</td><td>14.002049</td><td>14.76874</td><td>13.99748</td><td>14.51737</td><td>13.742201</td></tr>\n",
       "\t<tr><th scope=row>ENSG00000102189</th><td>9.193751</td><td>8.894377</td><td>9.573007</td><td>8.629593</td><td> 8.808824</td><td> 9.112040</td><td> 9.158781</td><td> 9.954423</td><td> 9.323370</td><td> 9.229897</td><td>⋯</td><td> 9.029803</td><td>10.060481</td><td> 9.578242</td><td>10.359473</td><td> 9.483440</td><td>10.280064</td><td>10.11452</td><td>10.17206</td><td>10.48930</td><td>10.060932</td></tr>\n",
       "\t<tr><th scope=row>ENSG00000240184</th><td>7.715139</td><td>6.428410</td><td>7.264212</td><td>7.164892</td><td> 6.752376</td><td> 8.537890</td><td> 7.637615</td><td> 8.675573</td><td> 8.427056</td><td> 7.802629</td><td>⋯</td><td>10.066012</td><td> 9.583533</td><td> 8.035961</td><td> 9.466143</td><td> 9.209062</td><td> 9.717316</td><td>10.14299</td><td>10.15109</td><td>10.56308</td><td> 9.838454</td></tr>\n",
       "\t<tr><th scope=row>ENSG00000017427</th><td>7.499441</td><td>6.493749</td><td>8.494144</td><td>5.590121</td><td> 7.000224</td><td>10.716774</td><td> 5.605386</td><td>10.003714</td><td> 9.859657</td><td> 8.777418</td><td>⋯</td><td> 9.313208</td><td>10.290057</td><td>10.600339</td><td>11.365554</td><td>10.973325</td><td>12.009541</td><td>12.20971</td><td>11.75939</td><td>11.38519</td><td>11.152011</td></tr>\n",
       "\t<tr><th scope=row>ENSG00000142871</th><td>8.681259</td><td>9.717057</td><td>8.854505</td><td>9.990334</td><td>10.786504</td><td> 9.730129</td><td>10.659403</td><td>10.592357</td><td>10.386979</td><td>10.528464</td><td>⋯</td><td>11.806456</td><td>13.486261</td><td>11.732091</td><td>14.147829</td><td>13.732454</td><td>13.833656</td><td>14.69656</td><td>13.46781</td><td>13.36950</td><td>12.728644</td></tr>\n",
       "</tbody>\n",
       "</table>\n"
      ],
      "text/latex": [
       "A data.frame: 6 × 40\n",
       "\\begin{tabular}{r|lllllllllllllllllllll}\n",
       "  & X3597\\_1\\_97\\_B & X3597\\_3\\_2046\\_B & X3597\\_5\\_2271\\_B & X3597\\_7\\_2472\\_B & X3597\\_9\\_2492\\_B & X3597\\_11\\_2653\\_B & X3597\\_13\\_2661\\_B & X3597\\_15\\_2677\\_B & X3597\\_17\\_2691\\_B & X3597\\_19\\_2739\\_B & ⋯ & X3597\\_22\\_2789\\_S & X3597\\_24\\_2817\\_S & X3597\\_26\\_2852\\_S & X3597\\_28\\_2976\\_S & X3597\\_30\\_3001\\_S & X3597\\_32\\_3036\\_S & X3597\\_34\\_3065\\_S & X3597\\_36\\_3067\\_S & X3597\\_38\\_3130\\_S & X3597\\_40\\_3161\\_S\\\\\n",
       "  & <dbl> & <dbl> & <dbl> & <dbl> & <dbl> & <dbl> & <dbl> & <dbl> & <dbl> & <dbl> & ⋯ & <dbl> & <dbl> & <dbl> & <dbl> & <dbl> & <dbl> & <dbl> & <dbl> & <dbl> & <dbl>\\\\\n",
       "\\hline\n",
       "\tENSG00000164949 & 6.515084 & 7.228568 & 6.538101 & 7.051898 &  7.716265 &  8.825656 &  4.373750 &  9.209811 &  7.824492 &  8.805613 & ⋯ &  9.476721 & 10.703532 &  9.720567 & 11.368445 & 10.754239 & 11.499824 & 11.55768 & 11.40059 & 10.34917 &  9.995081\\\\\n",
       "\tENSG00000187955 & 9.066046 & 6.288123 & 9.308665 & 7.392895 &  8.248476 & 11.198182 &  3.823169 & 11.729267 & 11.200845 & 10.463096 & ⋯ & 13.833971 & 12.696812 & 12.164783 & 13.312712 & 13.396449 & 14.002049 & 14.76874 & 13.99748 & 14.51737 & 13.742201\\\\\n",
       "\tENSG00000102189 & 9.193751 & 8.894377 & 9.573007 & 8.629593 &  8.808824 &  9.112040 &  9.158781 &  9.954423 &  9.323370 &  9.229897 & ⋯ &  9.029803 & 10.060481 &  9.578242 & 10.359473 &  9.483440 & 10.280064 & 10.11452 & 10.17206 & 10.48930 & 10.060932\\\\\n",
       "\tENSG00000240184 & 7.715139 & 6.428410 & 7.264212 & 7.164892 &  6.752376 &  8.537890 &  7.637615 &  8.675573 &  8.427056 &  7.802629 & ⋯ & 10.066012 &  9.583533 &  8.035961 &  9.466143 &  9.209062 &  9.717316 & 10.14299 & 10.15109 & 10.56308 &  9.838454\\\\\n",
       "\tENSG00000017427 & 7.499441 & 6.493749 & 8.494144 & 5.590121 &  7.000224 & 10.716774 &  5.605386 & 10.003714 &  9.859657 &  8.777418 & ⋯ &  9.313208 & 10.290057 & 10.600339 & 11.365554 & 10.973325 & 12.009541 & 12.20971 & 11.75939 & 11.38519 & 11.152011\\\\\n",
       "\tENSG00000142871 & 8.681259 & 9.717057 & 8.854505 & 9.990334 & 10.786504 &  9.730129 & 10.659403 & 10.592357 & 10.386979 & 10.528464 & ⋯ & 11.806456 & 13.486261 & 11.732091 & 14.147829 & 13.732454 & 13.833656 & 14.69656 & 13.46781 & 13.36950 & 12.728644\\\\\n",
       "\\end{tabular}\n"
      ],
      "text/markdown": [
       "\n",
       "A data.frame: 6 × 40\n",
       "\n",
       "| <!--/--> | X3597_1_97_B &lt;dbl&gt; | X3597_3_2046_B &lt;dbl&gt; | X3597_5_2271_B &lt;dbl&gt; | X3597_7_2472_B &lt;dbl&gt; | X3597_9_2492_B &lt;dbl&gt; | X3597_11_2653_B &lt;dbl&gt; | X3597_13_2661_B &lt;dbl&gt; | X3597_15_2677_B &lt;dbl&gt; | X3597_17_2691_B &lt;dbl&gt; | X3597_19_2739_B &lt;dbl&gt; | ⋯ ⋯ | X3597_22_2789_S &lt;dbl&gt; | X3597_24_2817_S &lt;dbl&gt; | X3597_26_2852_S &lt;dbl&gt; | X3597_28_2976_S &lt;dbl&gt; | X3597_30_3001_S &lt;dbl&gt; | X3597_32_3036_S &lt;dbl&gt; | X3597_34_3065_S &lt;dbl&gt; | X3597_36_3067_S &lt;dbl&gt; | X3597_38_3130_S &lt;dbl&gt; | X3597_40_3161_S &lt;dbl&gt; |\n",
       "|---|---|---|---|---|---|---|---|---|---|---|---|---|---|---|---|---|---|---|---|---|---|\n",
       "| ENSG00000164949 | 6.515084 | 7.228568 | 6.538101 | 7.051898 |  7.716265 |  8.825656 |  4.373750 |  9.209811 |  7.824492 |  8.805613 | ⋯ |  9.476721 | 10.703532 |  9.720567 | 11.368445 | 10.754239 | 11.499824 | 11.55768 | 11.40059 | 10.34917 |  9.995081 |\n",
       "| ENSG00000187955 | 9.066046 | 6.288123 | 9.308665 | 7.392895 |  8.248476 | 11.198182 |  3.823169 | 11.729267 | 11.200845 | 10.463096 | ⋯ | 13.833971 | 12.696812 | 12.164783 | 13.312712 | 13.396449 | 14.002049 | 14.76874 | 13.99748 | 14.51737 | 13.742201 |\n",
       "| ENSG00000102189 | 9.193751 | 8.894377 | 9.573007 | 8.629593 |  8.808824 |  9.112040 |  9.158781 |  9.954423 |  9.323370 |  9.229897 | ⋯ |  9.029803 | 10.060481 |  9.578242 | 10.359473 |  9.483440 | 10.280064 | 10.11452 | 10.17206 | 10.48930 | 10.060932 |\n",
       "| ENSG00000240184 | 7.715139 | 6.428410 | 7.264212 | 7.164892 |  6.752376 |  8.537890 |  7.637615 |  8.675573 |  8.427056 |  7.802629 | ⋯ | 10.066012 |  9.583533 |  8.035961 |  9.466143 |  9.209062 |  9.717316 | 10.14299 | 10.15109 | 10.56308 |  9.838454 |\n",
       "| ENSG00000017427 | 7.499441 | 6.493749 | 8.494144 | 5.590121 |  7.000224 | 10.716774 |  5.605386 | 10.003714 |  9.859657 |  8.777418 | ⋯ |  9.313208 | 10.290057 | 10.600339 | 11.365554 | 10.973325 | 12.009541 | 12.20971 | 11.75939 | 11.38519 | 11.152011 |\n",
       "| ENSG00000142871 | 8.681259 | 9.717057 | 8.854505 | 9.990334 | 10.786504 |  9.730129 | 10.659403 | 10.592357 | 10.386979 | 10.528464 | ⋯ | 11.806456 | 13.486261 | 11.732091 | 14.147829 | 13.732454 | 13.833656 | 14.69656 | 13.46781 | 13.36950 | 12.728644 |\n",
       "\n"
      ],
      "text/plain": [
       "                X3597_1_97_B X3597_3_2046_B X3597_5_2271_B X3597_7_2472_B\n",
       "ENSG00000164949 6.515084     7.228568       6.538101       7.051898      \n",
       "ENSG00000187955 9.066046     6.288123       9.308665       7.392895      \n",
       "ENSG00000102189 9.193751     8.894377       9.573007       8.629593      \n",
       "ENSG00000240184 7.715139     6.428410       7.264212       7.164892      \n",
       "ENSG00000017427 7.499441     6.493749       8.494144       5.590121      \n",
       "ENSG00000142871 8.681259     9.717057       8.854505       9.990334      \n",
       "                X3597_9_2492_B X3597_11_2653_B X3597_13_2661_B X3597_15_2677_B\n",
       "ENSG00000164949  7.716265       8.825656        4.373750        9.209811      \n",
       "ENSG00000187955  8.248476      11.198182        3.823169       11.729267      \n",
       "ENSG00000102189  8.808824       9.112040        9.158781        9.954423      \n",
       "ENSG00000240184  6.752376       8.537890        7.637615        8.675573      \n",
       "ENSG00000017427  7.000224      10.716774        5.605386       10.003714      \n",
       "ENSG00000142871 10.786504       9.730129       10.659403       10.592357      \n",
       "                X3597_17_2691_B X3597_19_2739_B ⋯ X3597_22_2789_S\n",
       "ENSG00000164949  7.824492        8.805613       ⋯  9.476721      \n",
       "ENSG00000187955 11.200845       10.463096       ⋯ 13.833971      \n",
       "ENSG00000102189  9.323370        9.229897       ⋯  9.029803      \n",
       "ENSG00000240184  8.427056        7.802629       ⋯ 10.066012      \n",
       "ENSG00000017427  9.859657        8.777418       ⋯  9.313208      \n",
       "ENSG00000142871 10.386979       10.528464       ⋯ 11.806456      \n",
       "                X3597_24_2817_S X3597_26_2852_S X3597_28_2976_S X3597_30_3001_S\n",
       "ENSG00000164949 10.703532        9.720567       11.368445       10.754239      \n",
       "ENSG00000187955 12.696812       12.164783       13.312712       13.396449      \n",
       "ENSG00000102189 10.060481        9.578242       10.359473        9.483440      \n",
       "ENSG00000240184  9.583533        8.035961        9.466143        9.209062      \n",
       "ENSG00000017427 10.290057       10.600339       11.365554       10.973325      \n",
       "ENSG00000142871 13.486261       11.732091       14.147829       13.732454      \n",
       "                X3597_32_3036_S X3597_34_3065_S X3597_36_3067_S X3597_38_3130_S\n",
       "ENSG00000164949 11.499824       11.55768        11.40059        10.34917       \n",
       "ENSG00000187955 14.002049       14.76874        13.99748        14.51737       \n",
       "ENSG00000102189 10.280064       10.11452        10.17206        10.48930       \n",
       "ENSG00000240184  9.717316       10.14299        10.15109        10.56308       \n",
       "ENSG00000017427 12.009541       12.20971        11.75939        11.38519       \n",
       "ENSG00000142871 13.833656       14.69656        13.46781        13.36950       \n",
       "                X3597_40_3161_S\n",
       "ENSG00000164949  9.995081      \n",
       "ENSG00000187955 13.742201      \n",
       "ENSG00000102189 10.060932      \n",
       "ENSG00000240184  9.838454      \n",
       "ENSG00000017427 11.152011      \n",
       "ENSG00000142871 12.728644      "
      ]
     },
     "metadata": {},
     "output_type": "display_data"
    }
   ],
   "source": [
    "tpm_log2_sorted  %>%  head"
   ]
  },
  {
   "cell_type": "code",
   "execution_count": 249,
   "id": "28614c75",
   "metadata": {
    "vscode": {
     "languageId": "r"
    }
   },
   "outputs": [],
   "source": [
    "ecm_df = tpm_log2_sorted  %>% filter(rownames(tpm_log2_sorted) %in% ecm)"
   ]
  },
  {
   "cell_type": "code",
   "execution_count": 250,
   "id": "31edecdb",
   "metadata": {
    "vscode": {
     "languageId": "r"
    }
   },
   "outputs": [],
   "source": [
    "rownames(ecm_df) <- resdata$external_gene_id[match(rownames(ecm_df), resdata$Gene )]"
   ]
  },
  {
   "cell_type": "code",
   "execution_count": 251,
   "id": "cb4143db",
   "metadata": {
    "vscode": {
     "languageId": "r"
    }
   },
   "outputs": [],
   "source": [
    "col_df=ecm_df %>%\n",
    "      rownames_to_column(\"gene\") %>%  # Convert row names to a column\n",
    "      filter(grepl(\"^COL|^FN\", gene)) %>%  # Use grepl for pattern matching\n",
    "      column_to_rownames(\"gene\")  # Restore row names"
   ]
  },
  {
   "cell_type": "code",
   "execution_count": 252,
   "id": "c795077a",
   "metadata": {
    "vscode": {
     "languageId": "r"
    }
   },
   "outputs": [
    {
     "data": {
      "text/html": [
       "<table class=\"dataframe\">\n",
       "<caption>A data.frame: 6 × 40</caption>\n",
       "<thead>\n",
       "\t<tr><th></th><th scope=col>X3597_1_97_B</th><th scope=col>X3597_3_2046_B</th><th scope=col>X3597_5_2271_B</th><th scope=col>X3597_7_2472_B</th><th scope=col>X3597_9_2492_B</th><th scope=col>X3597_11_2653_B</th><th scope=col>X3597_13_2661_B</th><th scope=col>X3597_15_2677_B</th><th scope=col>X3597_17_2691_B</th><th scope=col>X3597_19_2739_B</th><th scope=col>⋯</th><th scope=col>X3597_22_2789_S</th><th scope=col>X3597_24_2817_S</th><th scope=col>X3597_26_2852_S</th><th scope=col>X3597_28_2976_S</th><th scope=col>X3597_30_3001_S</th><th scope=col>X3597_32_3036_S</th><th scope=col>X3597_34_3065_S</th><th scope=col>X3597_36_3067_S</th><th scope=col>X3597_38_3130_S</th><th scope=col>X3597_40_3161_S</th></tr>\n",
       "\t<tr><th></th><th scope=col>&lt;dbl&gt;</th><th scope=col>&lt;dbl&gt;</th><th scope=col>&lt;dbl&gt;</th><th scope=col>&lt;dbl&gt;</th><th scope=col>&lt;dbl&gt;</th><th scope=col>&lt;dbl&gt;</th><th scope=col>&lt;dbl&gt;</th><th scope=col>&lt;dbl&gt;</th><th scope=col>&lt;dbl&gt;</th><th scope=col>&lt;dbl&gt;</th><th scope=col>⋯</th><th scope=col>&lt;dbl&gt;</th><th scope=col>&lt;dbl&gt;</th><th scope=col>&lt;dbl&gt;</th><th scope=col>&lt;dbl&gt;</th><th scope=col>&lt;dbl&gt;</th><th scope=col>&lt;dbl&gt;</th><th scope=col>&lt;dbl&gt;</th><th scope=col>&lt;dbl&gt;</th><th scope=col>&lt;dbl&gt;</th><th scope=col>&lt;dbl&gt;</th></tr>\n",
       "</thead>\n",
       "<tbody>\n",
       "\t<tr><th scope=row>COL14A1</th><td> 9.066046</td><td> 6.288123</td><td> 9.308665</td><td> 7.392895</td><td> 8.248476</td><td>11.198182</td><td>3.823169</td><td>11.72927</td><td>11.200845</td><td>10.463096</td><td>⋯</td><td>13.83397</td><td>12.696812</td><td>12.164783</td><td>13.312712</td><td>13.396449</td><td>14.002049</td><td>14.768736</td><td>13.997478</td><td>14.517372</td><td>13.742201</td></tr>\n",
       "\t<tr><th scope=row>COL6A3</th><td>14.029684</td><td>11.811775</td><td>12.941753</td><td>12.773775</td><td>13.665139</td><td>12.517401</td><td>7.942508</td><td>14.74037</td><td>15.016900</td><td>12.832965</td><td>⋯</td><td>15.74354</td><td>14.477185</td><td>15.426539</td><td>15.597336</td><td>15.204293</td><td>15.883994</td><td>16.711578</td><td>15.748134</td><td>17.179769</td><td>16.063580</td></tr>\n",
       "\t<tr><th scope=row>COL16A1</th><td>10.957969</td><td> 8.836785</td><td>10.798526</td><td>10.074265</td><td>12.108650</td><td>10.205077</td><td>8.591573</td><td>10.84893</td><td>11.211446</td><td> 9.944459</td><td>⋯</td><td>13.52720</td><td>10.638340</td><td>11.436398</td><td>12.732904</td><td>12.160701</td><td>12.160147</td><td>13.066326</td><td>11.927258</td><td>13.817368</td><td>12.714332</td></tr>\n",
       "\t<tr><th scope=row>COL6A1</th><td>13.775350</td><td>12.689939</td><td>12.651335</td><td>12.853523</td><td>13.754037</td><td>12.782136</td><td>7.506777</td><td>13.83177</td><td>14.195183</td><td>12.753979</td><td>⋯</td><td>16.02672</td><td>13.853714</td><td>14.835208</td><td>14.642852</td><td>14.240368</td><td>15.036044</td><td>16.163813</td><td>14.727160</td><td>16.810106</td><td>15.089827</td></tr>\n",
       "\t<tr><th scope=row>COL6A2</th><td>13.779847</td><td>12.936042</td><td>12.645170</td><td>13.111568</td><td>14.544867</td><td>13.150384</td><td>8.026786</td><td>14.12679</td><td>14.686415</td><td>13.144236</td><td>⋯</td><td>15.97141</td><td>14.173266</td><td>14.850593</td><td>14.878439</td><td>14.530621</td><td>15.058968</td><td>16.218125</td><td>15.130933</td><td>16.436742</td><td>15.128982</td></tr>\n",
       "\t<tr><th scope=row>COL25A1</th><td> 1.558462</td><td> 3.697231</td><td> 3.306937</td><td> 3.299353</td><td> 3.272090</td><td> 3.492593</td><td>0.000000</td><td> 4.78668</td><td> 1.223648</td><td> 3.649197</td><td>⋯</td><td> 6.14939</td><td> 3.975939</td><td> 3.051045</td><td> 4.077244</td><td> 5.976985</td><td> 4.282766</td><td> 4.529461</td><td> 6.656804</td><td> 5.351585</td><td> 3.671563</td></tr>\n",
       "</tbody>\n",
       "</table>\n"
      ],
      "text/latex": [
       "A data.frame: 6 × 40\n",
       "\\begin{tabular}{r|lllllllllllllllllllll}\n",
       "  & X3597\\_1\\_97\\_B & X3597\\_3\\_2046\\_B & X3597\\_5\\_2271\\_B & X3597\\_7\\_2472\\_B & X3597\\_9\\_2492\\_B & X3597\\_11\\_2653\\_B & X3597\\_13\\_2661\\_B & X3597\\_15\\_2677\\_B & X3597\\_17\\_2691\\_B & X3597\\_19\\_2739\\_B & ⋯ & X3597\\_22\\_2789\\_S & X3597\\_24\\_2817\\_S & X3597\\_26\\_2852\\_S & X3597\\_28\\_2976\\_S & X3597\\_30\\_3001\\_S & X3597\\_32\\_3036\\_S & X3597\\_34\\_3065\\_S & X3597\\_36\\_3067\\_S & X3597\\_38\\_3130\\_S & X3597\\_40\\_3161\\_S\\\\\n",
       "  & <dbl> & <dbl> & <dbl> & <dbl> & <dbl> & <dbl> & <dbl> & <dbl> & <dbl> & <dbl> & ⋯ & <dbl> & <dbl> & <dbl> & <dbl> & <dbl> & <dbl> & <dbl> & <dbl> & <dbl> & <dbl>\\\\\n",
       "\\hline\n",
       "\tCOL14A1 &  9.066046 &  6.288123 &  9.308665 &  7.392895 &  8.248476 & 11.198182 & 3.823169 & 11.72927 & 11.200845 & 10.463096 & ⋯ & 13.83397 & 12.696812 & 12.164783 & 13.312712 & 13.396449 & 14.002049 & 14.768736 & 13.997478 & 14.517372 & 13.742201\\\\\n",
       "\tCOL6A3 & 14.029684 & 11.811775 & 12.941753 & 12.773775 & 13.665139 & 12.517401 & 7.942508 & 14.74037 & 15.016900 & 12.832965 & ⋯ & 15.74354 & 14.477185 & 15.426539 & 15.597336 & 15.204293 & 15.883994 & 16.711578 & 15.748134 & 17.179769 & 16.063580\\\\\n",
       "\tCOL16A1 & 10.957969 &  8.836785 & 10.798526 & 10.074265 & 12.108650 & 10.205077 & 8.591573 & 10.84893 & 11.211446 &  9.944459 & ⋯ & 13.52720 & 10.638340 & 11.436398 & 12.732904 & 12.160701 & 12.160147 & 13.066326 & 11.927258 & 13.817368 & 12.714332\\\\\n",
       "\tCOL6A1 & 13.775350 & 12.689939 & 12.651335 & 12.853523 & 13.754037 & 12.782136 & 7.506777 & 13.83177 & 14.195183 & 12.753979 & ⋯ & 16.02672 & 13.853714 & 14.835208 & 14.642852 & 14.240368 & 15.036044 & 16.163813 & 14.727160 & 16.810106 & 15.089827\\\\\n",
       "\tCOL6A2 & 13.779847 & 12.936042 & 12.645170 & 13.111568 & 14.544867 & 13.150384 & 8.026786 & 14.12679 & 14.686415 & 13.144236 & ⋯ & 15.97141 & 14.173266 & 14.850593 & 14.878439 & 14.530621 & 15.058968 & 16.218125 & 15.130933 & 16.436742 & 15.128982\\\\\n",
       "\tCOL25A1 &  1.558462 &  3.697231 &  3.306937 &  3.299353 &  3.272090 &  3.492593 & 0.000000 &  4.78668 &  1.223648 &  3.649197 & ⋯ &  6.14939 &  3.975939 &  3.051045 &  4.077244 &  5.976985 &  4.282766 &  4.529461 &  6.656804 &  5.351585 &  3.671563\\\\\n",
       "\\end{tabular}\n"
      ],
      "text/markdown": [
       "\n",
       "A data.frame: 6 × 40\n",
       "\n",
       "| <!--/--> | X3597_1_97_B &lt;dbl&gt; | X3597_3_2046_B &lt;dbl&gt; | X3597_5_2271_B &lt;dbl&gt; | X3597_7_2472_B &lt;dbl&gt; | X3597_9_2492_B &lt;dbl&gt; | X3597_11_2653_B &lt;dbl&gt; | X3597_13_2661_B &lt;dbl&gt; | X3597_15_2677_B &lt;dbl&gt; | X3597_17_2691_B &lt;dbl&gt; | X3597_19_2739_B &lt;dbl&gt; | ⋯ ⋯ | X3597_22_2789_S &lt;dbl&gt; | X3597_24_2817_S &lt;dbl&gt; | X3597_26_2852_S &lt;dbl&gt; | X3597_28_2976_S &lt;dbl&gt; | X3597_30_3001_S &lt;dbl&gt; | X3597_32_3036_S &lt;dbl&gt; | X3597_34_3065_S &lt;dbl&gt; | X3597_36_3067_S &lt;dbl&gt; | X3597_38_3130_S &lt;dbl&gt; | X3597_40_3161_S &lt;dbl&gt; |\n",
       "|---|---|---|---|---|---|---|---|---|---|---|---|---|---|---|---|---|---|---|---|---|---|\n",
       "| COL14A1 |  9.066046 |  6.288123 |  9.308665 |  7.392895 |  8.248476 | 11.198182 | 3.823169 | 11.72927 | 11.200845 | 10.463096 | ⋯ | 13.83397 | 12.696812 | 12.164783 | 13.312712 | 13.396449 | 14.002049 | 14.768736 | 13.997478 | 14.517372 | 13.742201 |\n",
       "| COL6A3 | 14.029684 | 11.811775 | 12.941753 | 12.773775 | 13.665139 | 12.517401 | 7.942508 | 14.74037 | 15.016900 | 12.832965 | ⋯ | 15.74354 | 14.477185 | 15.426539 | 15.597336 | 15.204293 | 15.883994 | 16.711578 | 15.748134 | 17.179769 | 16.063580 |\n",
       "| COL16A1 | 10.957969 |  8.836785 | 10.798526 | 10.074265 | 12.108650 | 10.205077 | 8.591573 | 10.84893 | 11.211446 |  9.944459 | ⋯ | 13.52720 | 10.638340 | 11.436398 | 12.732904 | 12.160701 | 12.160147 | 13.066326 | 11.927258 | 13.817368 | 12.714332 |\n",
       "| COL6A1 | 13.775350 | 12.689939 | 12.651335 | 12.853523 | 13.754037 | 12.782136 | 7.506777 | 13.83177 | 14.195183 | 12.753979 | ⋯ | 16.02672 | 13.853714 | 14.835208 | 14.642852 | 14.240368 | 15.036044 | 16.163813 | 14.727160 | 16.810106 | 15.089827 |\n",
       "| COL6A2 | 13.779847 | 12.936042 | 12.645170 | 13.111568 | 14.544867 | 13.150384 | 8.026786 | 14.12679 | 14.686415 | 13.144236 | ⋯ | 15.97141 | 14.173266 | 14.850593 | 14.878439 | 14.530621 | 15.058968 | 16.218125 | 15.130933 | 16.436742 | 15.128982 |\n",
       "| COL25A1 |  1.558462 |  3.697231 |  3.306937 |  3.299353 |  3.272090 |  3.492593 | 0.000000 |  4.78668 |  1.223648 |  3.649197 | ⋯ |  6.14939 |  3.975939 |  3.051045 |  4.077244 |  5.976985 |  4.282766 |  4.529461 |  6.656804 |  5.351585 |  3.671563 |\n",
       "\n"
      ],
      "text/plain": [
       "        X3597_1_97_B X3597_3_2046_B X3597_5_2271_B X3597_7_2472_B\n",
       "COL14A1  9.066046     6.288123       9.308665       7.392895     \n",
       "COL6A3  14.029684    11.811775      12.941753      12.773775     \n",
       "COL16A1 10.957969     8.836785      10.798526      10.074265     \n",
       "COL6A1  13.775350    12.689939      12.651335      12.853523     \n",
       "COL6A2  13.779847    12.936042      12.645170      13.111568     \n",
       "COL25A1  1.558462     3.697231       3.306937       3.299353     \n",
       "        X3597_9_2492_B X3597_11_2653_B X3597_13_2661_B X3597_15_2677_B\n",
       "COL14A1  8.248476      11.198182       3.823169        11.72927       \n",
       "COL6A3  13.665139      12.517401       7.942508        14.74037       \n",
       "COL16A1 12.108650      10.205077       8.591573        10.84893       \n",
       "COL6A1  13.754037      12.782136       7.506777        13.83177       \n",
       "COL6A2  14.544867      13.150384       8.026786        14.12679       \n",
       "COL25A1  3.272090       3.492593       0.000000         4.78668       \n",
       "        X3597_17_2691_B X3597_19_2739_B ⋯ X3597_22_2789_S X3597_24_2817_S\n",
       "COL14A1 11.200845       10.463096       ⋯ 13.83397        12.696812      \n",
       "COL6A3  15.016900       12.832965       ⋯ 15.74354        14.477185      \n",
       "COL16A1 11.211446        9.944459       ⋯ 13.52720        10.638340      \n",
       "COL6A1  14.195183       12.753979       ⋯ 16.02672        13.853714      \n",
       "COL6A2  14.686415       13.144236       ⋯ 15.97141        14.173266      \n",
       "COL25A1  1.223648        3.649197       ⋯  6.14939         3.975939      \n",
       "        X3597_26_2852_S X3597_28_2976_S X3597_30_3001_S X3597_32_3036_S\n",
       "COL14A1 12.164783       13.312712       13.396449       14.002049      \n",
       "COL6A3  15.426539       15.597336       15.204293       15.883994      \n",
       "COL16A1 11.436398       12.732904       12.160701       12.160147      \n",
       "COL6A1  14.835208       14.642852       14.240368       15.036044      \n",
       "COL6A2  14.850593       14.878439       14.530621       15.058968      \n",
       "COL25A1  3.051045        4.077244        5.976985        4.282766      \n",
       "        X3597_34_3065_S X3597_36_3067_S X3597_38_3130_S X3597_40_3161_S\n",
       "COL14A1 14.768736       13.997478       14.517372       13.742201      \n",
       "COL6A3  16.711578       15.748134       17.179769       16.063580      \n",
       "COL16A1 13.066326       11.927258       13.817368       12.714332      \n",
       "COL6A1  16.163813       14.727160       16.810106       15.089827      \n",
       "COL6A2  16.218125       15.130933       16.436742       15.128982      \n",
       "COL25A1  4.529461        6.656804        5.351585        3.671563      "
      ]
     },
     "metadata": {},
     "output_type": "display_data"
    }
   ],
   "source": [
    "col_df  %>% head"
   ]
  },
  {
   "cell_type": "code",
   "execution_count": 253,
   "id": "c41d5ec6",
   "metadata": {
    "vscode": {
     "languageId": "r"
    }
   },
   "outputs": [],
   "source": [
    "res <- t(scale(t(col_df)))"
   ]
  },
  {
   "cell_type": "code",
   "execution_count": 254,
   "id": "a84a0adb",
   "metadata": {
    "vscode": {
     "languageId": "r"
    }
   },
   "outputs": [
    {
     "data": {
      "text/html": [
       "<table class=\"dataframe\">\n",
       "<caption>A matrix: 6 × 40 of type dbl</caption>\n",
       "<thead>\n",
       "\t<tr><th></th><th scope=col>X3597_1_97_B</th><th scope=col>X3597_3_2046_B</th><th scope=col>X3597_5_2271_B</th><th scope=col>X3597_7_2472_B</th><th scope=col>X3597_9_2492_B</th><th scope=col>X3597_11_2653_B</th><th scope=col>X3597_13_2661_B</th><th scope=col>X3597_15_2677_B</th><th scope=col>X3597_17_2691_B</th><th scope=col>X3597_19_2739_B</th><th scope=col>⋯</th><th scope=col>X3597_22_2789_S</th><th scope=col>X3597_24_2817_S</th><th scope=col>X3597_26_2852_S</th><th scope=col>X3597_28_2976_S</th><th scope=col>X3597_30_3001_S</th><th scope=col>X3597_32_3036_S</th><th scope=col>X3597_34_3065_S</th><th scope=col>X3597_36_3067_S</th><th scope=col>X3597_38_3130_S</th><th scope=col>X3597_40_3161_S</th></tr>\n",
       "</thead>\n",
       "<tbody>\n",
       "\t<tr><th scope=row>COL14A1</th><td>-0.9436938</td><td>-2.0990934</td><td>-0.8427832</td><td>-1.6395943</td><td>-1.2837393</td><td>-0.05689130</td><td>-3.124322</td><td> 0.1639983</td><td>-0.05578381</td><td>-0.36263003</td><td>⋯</td><td>1.0393912</td><td> 0.566421834</td><td> 0.3451391203</td><td>0.8225882</td><td>0.85741626</td><td>1.1092986</td><td>1.428181</td><td>1.1073977</td><td>1.323633</td><td>1.00122225</td></tr>\n",
       "\t<tr><th scope=row>COL6A3</th><td>-0.2543204</td><td>-1.4662912</td><td>-0.8488178</td><td>-0.9406089</td><td>-0.4535253</td><td>-1.08070382</td><td>-3.580642</td><td> 0.1340294</td><td> 0.28514110</td><td>-0.90826470</td><td>⋯</td><td>0.6822145</td><td>-0.009784728</td><td> 0.5089875586</td><td>0.6023190</td><td>0.38754174</td><td>0.7589624</td><td>1.211194</td><td>0.6847223</td><td>1.467035</td><td>0.85709659</td></tr>\n",
       "\t<tr><th scope=row>COL16A1</th><td>-0.3546100</td><td>-1.9299027</td><td>-0.4730199</td><td>-1.0108907</td><td> 0.4999406</td><td>-0.91374340</td><td>-2.112009</td><td>-0.4355878</td><td>-0.16636600</td><td>-1.10729069</td><td>⋯</td><td>1.5534262</td><td>-0.591982060</td><td> 0.0006939817</td><td>0.9635419</td><td>0.53859606</td><td>0.5381852</td><td>1.211157</td><td>0.3652307</td><td>1.768917</td><td>0.94974915</td></tr>\n",
       "\t<tr><th scope=row>COL6A1</th><td>-0.2259647</td><td>-0.9159897</td><td>-0.9405314</td><td>-0.8119946</td><td>-0.2395140</td><td>-0.85737786</td><td>-4.211064</td><td>-0.1900991</td><td> 0.04093398</td><td>-0.87527761</td><td>⋯</td><td>1.2052905</td><td>-0.176146479</td><td> 0.4478149860</td><td>0.3255294</td><td>0.06965958</td><td>0.5754923</td><td>1.292445</td><td>0.3791262</td><td>1.703311</td><td>0.60968328</td></tr>\n",
       "\t<tr><th scope=row>COL6A2</th><td>-0.3770882</td><td>-0.9571143</td><td>-1.1570582</td><td>-0.8364591</td><td> 0.1487820</td><td>-0.80977733</td><td>-4.331707</td><td>-0.1385997</td><td> 0.24608145</td><td>-0.81400342</td><td>⋯</td><td>1.1293805</td><td>-0.106654275</td><td> 0.3589358998</td><td>0.3780770</td><td>0.13898954</td><td>0.5021720</td><td>1.298970</td><td>0.5516401</td><td>1.449245</td><td>0.55029895</td></tr>\n",
       "\t<tr><th scope=row>COL25A1</th><td>-1.4225030</td><td> 0.1088571</td><td>-0.1705938</td><td>-0.1760242</td><td>-0.1955446</td><td>-0.03766379</td><td>-2.538362</td><td> 0.8889027</td><td>-1.66222987</td><td> 0.07446468</td><td>⋯</td><td>1.8646035</td><td> 0.308412108</td><td>-0.3538126623</td><td>0.3809464</td><td>1.74116178</td><td>0.5281005</td><td>0.704734</td><td>2.2279125</td><td>1.293375</td><td>0.09047817</td></tr>\n",
       "</tbody>\n",
       "</table>\n"
      ],
      "text/latex": [
       "A matrix: 6 × 40 of type dbl\n",
       "\\begin{tabular}{r|lllllllllllllllllllll}\n",
       "  & X3597\\_1\\_97\\_B & X3597\\_3\\_2046\\_B & X3597\\_5\\_2271\\_B & X3597\\_7\\_2472\\_B & X3597\\_9\\_2492\\_B & X3597\\_11\\_2653\\_B & X3597\\_13\\_2661\\_B & X3597\\_15\\_2677\\_B & X3597\\_17\\_2691\\_B & X3597\\_19\\_2739\\_B & ⋯ & X3597\\_22\\_2789\\_S & X3597\\_24\\_2817\\_S & X3597\\_26\\_2852\\_S & X3597\\_28\\_2976\\_S & X3597\\_30\\_3001\\_S & X3597\\_32\\_3036\\_S & X3597\\_34\\_3065\\_S & X3597\\_36\\_3067\\_S & X3597\\_38\\_3130\\_S & X3597\\_40\\_3161\\_S\\\\\n",
       "\\hline\n",
       "\tCOL14A1 & -0.9436938 & -2.0990934 & -0.8427832 & -1.6395943 & -1.2837393 & -0.05689130 & -3.124322 &  0.1639983 & -0.05578381 & -0.36263003 & ⋯ & 1.0393912 &  0.566421834 &  0.3451391203 & 0.8225882 & 0.85741626 & 1.1092986 & 1.428181 & 1.1073977 & 1.323633 & 1.00122225\\\\\n",
       "\tCOL6A3 & -0.2543204 & -1.4662912 & -0.8488178 & -0.9406089 & -0.4535253 & -1.08070382 & -3.580642 &  0.1340294 &  0.28514110 & -0.90826470 & ⋯ & 0.6822145 & -0.009784728 &  0.5089875586 & 0.6023190 & 0.38754174 & 0.7589624 & 1.211194 & 0.6847223 & 1.467035 & 0.85709659\\\\\n",
       "\tCOL16A1 & -0.3546100 & -1.9299027 & -0.4730199 & -1.0108907 &  0.4999406 & -0.91374340 & -2.112009 & -0.4355878 & -0.16636600 & -1.10729069 & ⋯ & 1.5534262 & -0.591982060 &  0.0006939817 & 0.9635419 & 0.53859606 & 0.5381852 & 1.211157 & 0.3652307 & 1.768917 & 0.94974915\\\\\n",
       "\tCOL6A1 & -0.2259647 & -0.9159897 & -0.9405314 & -0.8119946 & -0.2395140 & -0.85737786 & -4.211064 & -0.1900991 &  0.04093398 & -0.87527761 & ⋯ & 1.2052905 & -0.176146479 &  0.4478149860 & 0.3255294 & 0.06965958 & 0.5754923 & 1.292445 & 0.3791262 & 1.703311 & 0.60968328\\\\\n",
       "\tCOL6A2 & -0.3770882 & -0.9571143 & -1.1570582 & -0.8364591 &  0.1487820 & -0.80977733 & -4.331707 & -0.1385997 &  0.24608145 & -0.81400342 & ⋯ & 1.1293805 & -0.106654275 &  0.3589358998 & 0.3780770 & 0.13898954 & 0.5021720 & 1.298970 & 0.5516401 & 1.449245 & 0.55029895\\\\\n",
       "\tCOL25A1 & -1.4225030 &  0.1088571 & -0.1705938 & -0.1760242 & -0.1955446 & -0.03766379 & -2.538362 &  0.8889027 & -1.66222987 &  0.07446468 & ⋯ & 1.8646035 &  0.308412108 & -0.3538126623 & 0.3809464 & 1.74116178 & 0.5281005 & 0.704734 & 2.2279125 & 1.293375 & 0.09047817\\\\\n",
       "\\end{tabular}\n"
      ],
      "text/markdown": [
       "\n",
       "A matrix: 6 × 40 of type dbl\n",
       "\n",
       "| <!--/--> | X3597_1_97_B | X3597_3_2046_B | X3597_5_2271_B | X3597_7_2472_B | X3597_9_2492_B | X3597_11_2653_B | X3597_13_2661_B | X3597_15_2677_B | X3597_17_2691_B | X3597_19_2739_B | ⋯ | X3597_22_2789_S | X3597_24_2817_S | X3597_26_2852_S | X3597_28_2976_S | X3597_30_3001_S | X3597_32_3036_S | X3597_34_3065_S | X3597_36_3067_S | X3597_38_3130_S | X3597_40_3161_S |\n",
       "|---|---|---|---|---|---|---|---|---|---|---|---|---|---|---|---|---|---|---|---|---|---|\n",
       "| COL14A1 | -0.9436938 | -2.0990934 | -0.8427832 | -1.6395943 | -1.2837393 | -0.05689130 | -3.124322 |  0.1639983 | -0.05578381 | -0.36263003 | ⋯ | 1.0393912 |  0.566421834 |  0.3451391203 | 0.8225882 | 0.85741626 | 1.1092986 | 1.428181 | 1.1073977 | 1.323633 | 1.00122225 |\n",
       "| COL6A3 | -0.2543204 | -1.4662912 | -0.8488178 | -0.9406089 | -0.4535253 | -1.08070382 | -3.580642 |  0.1340294 |  0.28514110 | -0.90826470 | ⋯ | 0.6822145 | -0.009784728 |  0.5089875586 | 0.6023190 | 0.38754174 | 0.7589624 | 1.211194 | 0.6847223 | 1.467035 | 0.85709659 |\n",
       "| COL16A1 | -0.3546100 | -1.9299027 | -0.4730199 | -1.0108907 |  0.4999406 | -0.91374340 | -2.112009 | -0.4355878 | -0.16636600 | -1.10729069 | ⋯ | 1.5534262 | -0.591982060 |  0.0006939817 | 0.9635419 | 0.53859606 | 0.5381852 | 1.211157 | 0.3652307 | 1.768917 | 0.94974915 |\n",
       "| COL6A1 | -0.2259647 | -0.9159897 | -0.9405314 | -0.8119946 | -0.2395140 | -0.85737786 | -4.211064 | -0.1900991 |  0.04093398 | -0.87527761 | ⋯ | 1.2052905 | -0.176146479 |  0.4478149860 | 0.3255294 | 0.06965958 | 0.5754923 | 1.292445 | 0.3791262 | 1.703311 | 0.60968328 |\n",
       "| COL6A2 | -0.3770882 | -0.9571143 | -1.1570582 | -0.8364591 |  0.1487820 | -0.80977733 | -4.331707 | -0.1385997 |  0.24608145 | -0.81400342 | ⋯ | 1.1293805 | -0.106654275 |  0.3589358998 | 0.3780770 | 0.13898954 | 0.5021720 | 1.298970 | 0.5516401 | 1.449245 | 0.55029895 |\n",
       "| COL25A1 | -1.4225030 |  0.1088571 | -0.1705938 | -0.1760242 | -0.1955446 | -0.03766379 | -2.538362 |  0.8889027 | -1.66222987 |  0.07446468 | ⋯ | 1.8646035 |  0.308412108 | -0.3538126623 | 0.3809464 | 1.74116178 | 0.5281005 | 0.704734 | 2.2279125 | 1.293375 | 0.09047817 |\n",
       "\n"
      ],
      "text/plain": [
       "        X3597_1_97_B X3597_3_2046_B X3597_5_2271_B X3597_7_2472_B\n",
       "COL14A1 -0.9436938   -2.0990934     -0.8427832     -1.6395943    \n",
       "COL6A3  -0.2543204   -1.4662912     -0.8488178     -0.9406089    \n",
       "COL16A1 -0.3546100   -1.9299027     -0.4730199     -1.0108907    \n",
       "COL6A1  -0.2259647   -0.9159897     -0.9405314     -0.8119946    \n",
       "COL6A2  -0.3770882   -0.9571143     -1.1570582     -0.8364591    \n",
       "COL25A1 -1.4225030    0.1088571     -0.1705938     -0.1760242    \n",
       "        X3597_9_2492_B X3597_11_2653_B X3597_13_2661_B X3597_15_2677_B\n",
       "COL14A1 -1.2837393     -0.05689130     -3.124322        0.1639983     \n",
       "COL6A3  -0.4535253     -1.08070382     -3.580642        0.1340294     \n",
       "COL16A1  0.4999406     -0.91374340     -2.112009       -0.4355878     \n",
       "COL6A1  -0.2395140     -0.85737786     -4.211064       -0.1900991     \n",
       "COL6A2   0.1487820     -0.80977733     -4.331707       -0.1385997     \n",
       "COL25A1 -0.1955446     -0.03766379     -2.538362        0.8889027     \n",
       "        X3597_17_2691_B X3597_19_2739_B ⋯ X3597_22_2789_S X3597_24_2817_S\n",
       "COL14A1 -0.05578381     -0.36263003     ⋯ 1.0393912        0.566421834   \n",
       "COL6A3   0.28514110     -0.90826470     ⋯ 0.6822145       -0.009784728   \n",
       "COL16A1 -0.16636600     -1.10729069     ⋯ 1.5534262       -0.591982060   \n",
       "COL6A1   0.04093398     -0.87527761     ⋯ 1.2052905       -0.176146479   \n",
       "COL6A2   0.24608145     -0.81400342     ⋯ 1.1293805       -0.106654275   \n",
       "COL25A1 -1.66222987      0.07446468     ⋯ 1.8646035        0.308412108   \n",
       "        X3597_26_2852_S X3597_28_2976_S X3597_30_3001_S X3597_32_3036_S\n",
       "COL14A1  0.3451391203   0.8225882       0.85741626      1.1092986      \n",
       "COL6A3   0.5089875586   0.6023190       0.38754174      0.7589624      \n",
       "COL16A1  0.0006939817   0.9635419       0.53859606      0.5381852      \n",
       "COL6A1   0.4478149860   0.3255294       0.06965958      0.5754923      \n",
       "COL6A2   0.3589358998   0.3780770       0.13898954      0.5021720      \n",
       "COL25A1 -0.3538126623   0.3809464       1.74116178      0.5281005      \n",
       "        X3597_34_3065_S X3597_36_3067_S X3597_38_3130_S X3597_40_3161_S\n",
       "COL14A1 1.428181        1.1073977       1.323633        1.00122225     \n",
       "COL6A3  1.211194        0.6847223       1.467035        0.85709659     \n",
       "COL16A1 1.211157        0.3652307       1.768917        0.94974915     \n",
       "COL6A1  1.292445        0.3791262       1.703311        0.60968328     \n",
       "COL6A2  1.298970        0.5516401       1.449245        0.55029895     \n",
       "COL25A1 0.704734        2.2279125       1.293375        0.09047817     "
      ]
     },
     "metadata": {},
     "output_type": "display_data"
    }
   ],
   "source": [
    "res %>%  head"
   ]
  },
  {
   "cell_type": "code",
   "execution_count": null,
   "id": "bc634ae3",
   "metadata": {
    "vscode": {
     "languageId": "r"
    }
   },
   "outputs": [
    {
     "data": {
      "text/html": [
       "<strong>pdf:</strong> 2"
      ],
      "text/latex": [
       "\\textbf{pdf:} 2"
      ],
      "text/markdown": [
       "**pdf:** 2"
      ],
      "text/plain": [
       "pdf \n",
       "  2 "
      ]
     },
     "metadata": {},
     "output_type": "display_data"
    }
   ],
   "source": [
    "# Convert ecm_df to a numeric matrix\n",
    "ecm_matrix <- as.matrix(res)\n",
    "\n",
    "pdf(paste0(fold,\"coll_heat_2.pdf\"))\n",
    "# Create heatmap\n",
    "Heatmap(ecm_matrix, \n",
    "        name = \"Expression\",\n",
    "        col = colorRampPalette(c(\"blue\", \"white\", \"red\"))(100),\n",
    "        cluster_rows = TRUE,\n",
    "        cluster_columns = FALSE,\n",
    "        row_names_gp = gpar(fontsize = 6),   # Reduce row labels\n",
    "        column_names_gp = gpar(fontsize = 6) # Reduce column labels\n",
    "       )\n",
    "dev.off()"
   ]
  },
  {
   "cell_type": "code",
   "execution_count": 256,
   "id": "c44936da",
   "metadata": {
    "vscode": {
     "languageId": "r"
    }
   },
   "outputs": [],
   "source": [
    "dna_df = tpm_log2_sorted  %>% filter(rownames(tpm_log2_sorted) %in% dna_dam)\n",
    "rownames(dna_df) <- resdata$external_gene_id[match(rownames(dna_df), resdata$Gene )]"
   ]
  },
  {
   "cell_type": "code",
   "execution_count": 257,
   "id": "8133a008",
   "metadata": {
    "vscode": {
     "languageId": "r"
    }
   },
   "outputs": [],
   "source": [
    "res2 = t(scale(t(dna_df)))"
   ]
  },
  {
   "cell_type": "code",
   "execution_count": 258,
   "id": "a7e0dd12",
   "metadata": {
    "vscode": {
     "languageId": "r"
    }
   },
   "outputs": [
    {
     "data": {
      "text/html": [
       "<strong>pdf:</strong> 2"
      ],
      "text/latex": [
       "\\textbf{pdf:} 2"
      ],
      "text/markdown": [
       "**pdf:** 2"
      ],
      "text/plain": [
       "pdf \n",
       "  2 "
      ]
     },
     "metadata": {},
     "output_type": "display_data"
    }
   ],
   "source": [
    "# Convert ecm_df to a numeric matrix\n",
    "dna_matrix <- as.matrix(res2)\n",
    "\n",
    "pdf(paste0(fold,\"dna_df_heat_2.pdf\"))\n",
    "# Create heatmap\n",
    "Heatmap(dna_matrix, \n",
    "        name = \"Expression\",\n",
    "        col = colorRampPalette(c(\"blue\", \"white\", \"red\"))(100),\n",
    "        cluster_rows = TRUE,\n",
    "        cluster_columns = FALSE,\n",
    "        row_names_gp = gpar(fontsize = 4),   # Reduce row labels\n",
    "        column_names_gp = gpar(fontsize = 6) # Reduce column labels\n",
    "       )\n",
    "dev.off()"
   ]
  }
 ],
 "metadata": {
  "kernelspec": {
   "display_name": "R",
   "language": "R",
   "name": "ir"
  },
  "language_info": {
   "codemirror_mode": "r",
   "file_extension": ".r",
   "mimetype": "text/x-r-source",
   "name": "R",
   "pygments_lexer": "r",
   "version": "4.4.1"
  }
 },
 "nbformat": 4,
 "nbformat_minor": 5
}
